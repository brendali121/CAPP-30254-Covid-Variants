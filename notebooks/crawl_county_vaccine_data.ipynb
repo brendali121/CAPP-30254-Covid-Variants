{
 "cells": [
  {
   "cell_type": "markdown",
   "metadata": {},
   "source": [
    "The goal of this notebook is to build a webscraper that, given a url, downloads all necessary csv files (containing county vaccination data)."
   ]
  },
  {
   "cell_type": "code",
   "execution_count": 50,
   "metadata": {},
   "outputs": [],
   "source": [
    "import pandas as pd"
   ]
  },
  {
   "cell_type": "markdown",
   "metadata": {},
   "source": [
    "Illinois\n",
    "Indiana\n",
    "Iowa\n",
    "Kansas\n",
    "Michigan\n",
    "Minnesota\n",
    "Missouri\n",
    "Nebraska\n",
    "North Dakota\n",
    "Ohio\n",
    "South Dakota\n",
    "Wisconsin"
   ]
  },
  {
   "cell_type": "code",
   "execution_count": 22,
   "metadata": {},
   "outputs": [],
   "source": [
    "#import queue\n",
    "#import json\n",
    "#import sys\n",
    "#import csv\n",
    "import bs4\n",
    "import requests\n",
    "import csv\n",
    "#import util"
   ]
  },
  {
   "cell_type": "code",
   "execution_count": 21,
   "metadata": {},
   "outputs": [],
   "source": [
    "# urls\n",
    "# https://www.dph.illinois.gov/content/covid-19-vaccine-administration-data"
   ]
  },
  {
   "cell_type": "code",
   "execution_count": 16,
   "metadata": {},
   "outputs": [],
   "source": [
    "def get_request(url):\n",
    "    '''\n",
    "    Open a connection to the specified URL and if successful\n",
    "    read the data.\n",
    "\n",
    "    Inputs:\n",
    "        url: must be an absolute URL\n",
    "\n",
    "    Outputs:\n",
    "        request object or None\n",
    "\n",
    "    Examples:\n",
    "        get_request(\"http://www.cs.uchicago.edu\")\n",
    "    '''\n",
    "\n",
    "    #if is_absolute_url(url):\n",
    "    try:\n",
    "        r = requests.get(url)\n",
    "        if r.status_code == 404 or r.status_code == 403:\n",
    "            r = None\n",
    "    except Exception:\n",
    "        # fail on any kind of error\n",
    "        r = None\n",
    "   # else:\n",
    "   #     r = None\n",
    "\n",
    "    return r"
   ]
  },
  {
   "cell_type": "code",
   "execution_count": 36,
   "metadata": {},
   "outputs": [],
   "source": [
    "def read_request(request):\n",
    "    '''\n",
    "    Return data from request object.  Returns result or \"\" if the read\n",
    "    fails..\n",
    "    '''\n",
    "\n",
    "    try:\n",
    "        return request.text.encode('cp1252')\n",
    "        #return request.text.encode('iso-8859-1')\n",
    "    except Exception:\n",
    "        print(\"read failed: \" + request.url)\n",
    "        return \"\""
   ]
  },
  {
   "cell_type": "code",
   "execution_count": 37,
   "metadata": {},
   "outputs": [],
   "source": [
    "def download_csvs(url_to_visit):\n",
    "    '''\n",
    "    '''\n",
    "    r = get_request(url_to_visit)\n",
    "    if r is not None:\n",
    "        html = read_request(r)\n",
    "        if len(html) > 0:\n",
    "            soup = bs4.BeautifulSoup(html, features=\"html5lib\")\n",
    "        else:\n",
    "            print(\"html length is zero\")\n",
    "            #break\n",
    "    else:\n",
    "        print(\"r is None\")\n",
    "    return soup"
   ]
  },
  {
   "cell_type": "code",
   "execution_count": 40,
   "metadata": {},
   "outputs": [],
   "source": [
    "soup = download_csvs(\"https://www.dph.illinois.gov/content/covid-19-vaccine-administration-data\")"
   ]
  },
  {
   "cell_type": "code",
   "execution_count": 56,
   "metadata": {},
   "outputs": [],
   "source": [
    "county_list = soup.find_all('ul', attrs={'id':'historicalCountyList'})"
   ]
  },
  {
   "cell_type": "code",
   "execution_count": null,
   "metadata": {},
   "outputs": [],
   "source": [
    "soup.find_all('li')"
   ]
  },
  {
   "cell_type": "code",
   "execution_count": 84,
   "metadata": {},
   "outputs": [
    {
     "name": "stdout",
     "output_type": "stream",
     "text": [
      "<ul id=\"historicalCountyList\"></ul>\n"
     ]
    }
   ],
   "source": [
    "for c in county_list:\n",
    "    print(c)"
   ]
  },
  {
   "cell_type": "markdown",
   "metadata": {},
   "source": [
    "----"
   ]
  },
  {
   "cell_type": "markdown",
   "metadata": {},
   "source": [
    "Illinois"
   ]
  },
  {
   "cell_type": "code",
   "execution_count": 24,
   "metadata": {},
   "outputs": [],
   "source": [
    "il_counties = [\"Adams\",\n",
    "\"Alexander\",\n",
    "\"Bond\",\n",
    "\"Boone\",\n",
    "\"Brown\",\n",
    "\"Bureau\",\n",
    "\"Calhoun\",\n",
    "\"Carroll\",\n",
    "\"Cass\",\n",
    "\"Champaign\",\n",
    "\"Christian\",\n",
    "\"Clark\",\n",
    "\"Clay\",\n",
    "\"Clinton\",\n",
    "\"Coles\",\n",
    "\"Cook\",\n",
    "\"Crawford\",\n",
    "\"Cumberland\",\n",
    "\"De+Witt\",\n",
    "\"DeKalb\",\n",
    "\"Douglas\",\n",
    "\"DuPage\",\n",
    "\"Edgar\",\n",
    "\"Edwards\",\n",
    "\"Effingham\",\n",
    "\"Fayette\",\n",
    "\"Ford\",\n",
    "\"Franklin\",\n",
    "\"Fulton\",\n",
    "\"Gallatin\",\n",
    "\"Greene\",\n",
    "\"Grundy\",\n",
    "\"Hamilton\",\n",
    "\"Hancock\",\n",
    "\"Hardin\",\n",
    "\"Henderson\",\n",
    "\"Henry\",\n",
    "\"Iroquois\",\n",
    "\"Jackson\",\n",
    "\"Jasper\",\n",
    "\"Jefferson\",\n",
    "\"Jersey\",\n",
    "\"Jo+Daviess\",\n",
    "\"Johnson\",\n",
    "\"Kane\",\n",
    "\"Kankakee\",\n",
    "\"Kendall\",\n",
    "\"Knox\",\n",
    "\"Lake\",\n",
    "\"LaSalle\",\n",
    "\"Lawrence\",\n",
    "\"Lee\",\n",
    "\"Livingston\",\n",
    "\"Logan\",\n",
    "\"Macon\",\n",
    "\"Macoupin\",\n",
    "\"Madison\",\n",
    "\"Marion\",\n",
    "\"Marshall\",\n",
    "\"Mason\",\n",
    "\"Massac\",\n",
    "\"McDonough\",\n",
    "\"McHenry\",\n",
    "\"McLean\",\n",
    "\"Menard\",\n",
    "\"Mercer\",\n",
    "\"Monroe\",\n",
    "\"Montgomery\",\n",
    "\"Morgan\",\n",
    "\"Moultrie\",\n",
    "\"Ogle\",\n",
    "\"Peoria\",\n",
    "\"Perry\",\n",
    "\"Piatt\",\n",
    "\"Pike\",\n",
    "\"Pope\",\n",
    "\"Pulaski\",\n",
    "\"Putnam\",\n",
    "\"Randolph\",\n",
    "\"Richland\",\n",
    "\"Rock+Island\",\n",
    "\"Saline\",\n",
    "\"Sangamon\",\n",
    "\"Schuyler\",\n",
    "\"Scott\",\n",
    "\"Shelby\",\n",
    "\"St.+Clair\",\n",
    "\"Stark\",\n",
    "\"Stephenson\",\n",
    "\"Tazewell\",\n",
    "\"Union\",\n",
    "\"Vermilion\",\n",
    "\"Wabash\",\n",
    "\"Warren\",\n",
    "\"Washington\",\n",
    "\"Wayne\",\n",
    "\"White\",\n",
    "\"Whiteside\",\n",
    "\"Will\",\n",
    "\"Williamson\",\n",
    "\"Winnebago\",\n",
    "\"Woodford\",\n",
    "\"Unknown\"]"
   ]
  },
  {
   "cell_type": "code",
   "execution_count": 61,
   "metadata": {},
   "outputs": [],
   "source": [
    "import requests"
   ]
  },
  {
   "cell_type": "code",
   "execution_count": 25,
   "metadata": {},
   "outputs": [
    {
     "data": {
      "text/plain": [
       "103"
      ]
     },
     "execution_count": 25,
     "metadata": {},
     "output_type": "execute_result"
    }
   ],
   "source": [
    "len(il_counties)"
   ]
  },
  {
   "cell_type": "code",
   "execution_count": 21,
   "metadata": {},
   "outputs": [],
   "source": [
    "url = \"https://idph.illinois.gov/DPHPublicInformation/api/COVIDExport/GetVaccineAdministration?countyname=\""
   ]
  },
  {
   "cell_type": "code",
   "execution_count": 48,
   "metadata": {
    "scrolled": true
   },
   "outputs": [],
   "source": [
    "for county in il_counties:\n",
    "    url_county = url+county\n",
    "    r = requests.get(url_county)\n",
    "    with open('../Raw Data/vaccines/Illinois/' + county, 'wb') as f:\n",
    "        f.write(r.content)"
   ]
  },
  {
   "cell_type": "markdown",
   "metadata": {},
   "source": [
    "___"
   ]
  },
  {
   "cell_type": "markdown",
   "metadata": {},
   "source": [
    "Michigan"
   ]
  },
  {
   "cell_type": "code",
   "execution_count": 67,
   "metadata": {},
   "outputs": [],
   "source": [
    "url_mi1 = \"https://www.michigan.gov/documents/coronavirus/Covid_Coverage_State_Level_Metrics_718470_7.xlsx\""
   ]
  },
  {
   "cell_type": "code",
   "execution_count": 66,
   "metadata": {},
   "outputs": [],
   "source": [
    "url_mi2 = \"https://www.michigan.gov/documents/coronavirus/Covid_Vaccine_Doses_Administered_718468_7.xlsx\""
   ]
  },
  {
   "cell_type": "code",
   "execution_count": 68,
   "metadata": {},
   "outputs": [],
   "source": [
    "r = requests.get(url_mi1)"
   ]
  },
  {
   "cell_type": "code",
   "execution_count": 65,
   "metadata": {},
   "outputs": [
    {
     "ename": "IsADirectoryError",
     "evalue": "[Errno 21] Is a directory: '../Raw Data/vaccines/Michigan/'",
     "output_type": "error",
     "traceback": [
      "\u001b[0;31m---------------------------------------------------------------------------\u001b[0m",
      "\u001b[0;31mIsADirectoryError\u001b[0m                         Traceback (most recent call last)",
      "\u001b[0;32m<ipython-input-65-9674071d30f5>\u001b[0m in \u001b[0;36m<module>\u001b[0;34m\u001b[0m\n\u001b[0;32m----> 1\u001b[0;31m \u001b[0;32mwith\u001b[0m \u001b[0mopen\u001b[0m\u001b[0;34m(\u001b[0m\u001b[0;34m\"../Raw Data/vaccines/Michigan/\"\u001b[0m\u001b[0;34m,\u001b[0m \u001b[0;34m'wb'\u001b[0m\u001b[0;34m)\u001b[0m \u001b[0;32mas\u001b[0m \u001b[0mf\u001b[0m\u001b[0;34m:\u001b[0m\u001b[0;34m\u001b[0m\u001b[0;34m\u001b[0m\u001b[0m\n\u001b[0m\u001b[1;32m      2\u001b[0m     \u001b[0mf\u001b[0m\u001b[0;34m.\u001b[0m\u001b[0mwrite\u001b[0m\u001b[0;34m(\u001b[0m\u001b[0mr\u001b[0m\u001b[0;34m.\u001b[0m\u001b[0mcontent\u001b[0m\u001b[0;34m)\u001b[0m\u001b[0;34m\u001b[0m\u001b[0;34m\u001b[0m\u001b[0m\n",
      "\u001b[0;31mIsADirectoryError\u001b[0m: [Errno 21] Is a directory: '../Raw Data/vaccines/Michigan/'"
     ]
    }
   ],
   "source": [
    "with open(\"../Raw Data/vacc\", 'wb') as f:\n",
    "    f.write(r.content)"
   ]
  },
  {
   "cell_type": "code",
   "execution_count": 55,
   "metadata": {},
   "outputs": [],
   "source": [
    "df_mi1 = pd.read_excel(\"../../../Desktop/Covid_Coverage_State_Level_Metrics_718470_7.xlsx\")"
   ]
  },
  {
   "cell_type": "code",
   "execution_count": 59,
   "metadata": {},
   "outputs": [
    {
     "name": "stdout",
     "output_type": "stream",
     "text": [
      "<class 'pandas.core.frame.DataFrame'>\n",
      "RangeIndex: 13 entries, 0 to 12\n",
      "Data columns (total 1 columns):\n",
      " #   Column                                                       Non-Null Count  Dtype \n",
      "---  ------                                                       --------------  ----- \n",
      " 0   IMPORTANT NOTE REGARDING COVERAGE DATA FOR ARAB INDIVIDUALS  13 non-null     object\n",
      "dtypes: object(1)\n",
      "memory usage: 232.0+ bytes\n"
     ]
    }
   ],
   "source": [
    "df_mi1.info()"
   ]
  },
  {
   "cell_type": "code",
   "execution_count": null,
   "metadata": {},
   "outputs": [],
   "source": []
  }
 ],
 "metadata": {
  "kernelspec": {
   "display_name": "Python 3",
   "language": "python",
   "name": "python3"
  },
  "language_info": {
   "codemirror_mode": {
    "name": "ipython",
    "version": 3
   },
   "file_extension": ".py",
   "mimetype": "text/x-python",
   "name": "python",
   "nbconvert_exporter": "python",
   "pygments_lexer": "ipython3",
   "version": "3.8.5"
  }
 },
 "nbformat": 4,
 "nbformat_minor": 4
}
