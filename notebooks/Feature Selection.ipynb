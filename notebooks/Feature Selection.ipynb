{
 "cells": [
  {
   "cell_type": "markdown",
   "metadata": {},
   "source": [
    "# Feature Selection"
   ]
  },
  {
   "cell_type": "markdown",
   "metadata": {},
   "source": [
    "## Import Packages"
   ]
  },
  {
   "cell_type": "code",
   "execution_count": 83,
   "metadata": {},
   "outputs": [],
   "source": [
    "import pandas as pd\n",
    "import numpy as np\n",
    "\n",
    "from sklearn.model_selection import train_test_split\n",
    "from sklearn.feature_selection import VarianceThreshold\n",
    "from sklearn.feature_selection import SelectKBest, mutual_info_regression\n",
    "\n",
    "# import our pipeline file [TO DO: NEEDS TO BE UPDATED TO USE OURS]\n",
    "import pipeline as pline"
   ]
  },
  {
   "cell_type": "markdown",
   "metadata": {},
   "source": [
    "## Import cleaned data on a Fips-date level"
   ]
  },
  {
   "cell_type": "code",
   "execution_count": 84,
   "metadata": {},
   "outputs": [
    {
     "data": {
      "text/html": [
       "<div>\n",
       "<style scoped>\n",
       "    .dataframe tbody tr th:only-of-type {\n",
       "        vertical-align: middle;\n",
       "    }\n",
       "\n",
       "    .dataframe tbody tr th {\n",
       "        vertical-align: top;\n",
       "    }\n",
       "\n",
       "    .dataframe thead th {\n",
       "        text-align: right;\n",
       "    }\n",
       "</style>\n",
       "<table border=\"1\" class=\"dataframe\">\n",
       "  <thead>\n",
       "    <tr style=\"text-align: right;\">\n",
       "      <th></th>\n",
       "      <th>state</th>\n",
       "      <th>fips</th>\n",
       "      <th>county</th>\n",
       "      <th>date</th>\n",
       "      <th>cumulative_cases</th>\n",
       "      <th>cumulative_deaths</th>\n",
       "      <th>new_cases</th>\n",
       "      <th>new_deaths</th>\n",
       "      <th>new_cases_7avg</th>\n",
       "      <th>new_deaths_7avg</th>\n",
       "      <th>...</th>\n",
       "      <th>mask_mandate</th>\n",
       "      <th>retail_rec</th>\n",
       "      <th>grocery_pharm</th>\n",
       "      <th>parks</th>\n",
       "      <th>transit</th>\n",
       "      <th>workplace</th>\n",
       "      <th>residential</th>\n",
       "      <th>new doses</th>\n",
       "      <th>cumulative doses</th>\n",
       "      <th>cases_next_week</th>\n",
       "    </tr>\n",
       "  </thead>\n",
       "  <tbody>\n",
       "    <tr>\n",
       "      <th>0</th>\n",
       "      <td>IL</td>\n",
       "      <td>17001</td>\n",
       "      <td>Adams</td>\n",
       "      <td>2020-03-20</td>\n",
       "      <td>1.0</td>\n",
       "      <td>0.0</td>\n",
       "      <td>1.0</td>\n",
       "      <td>0.0</td>\n",
       "      <td>1.0</td>\n",
       "      <td>0.0</td>\n",
       "      <td>...</td>\n",
       "      <td>NaN</td>\n",
       "      <td>-33.0</td>\n",
       "      <td>11.0</td>\n",
       "      <td>NaN</td>\n",
       "      <td>-7.0</td>\n",
       "      <td>-22.0</td>\n",
       "      <td>13.0</td>\n",
       "      <td>0.0</td>\n",
       "      <td>0.0</td>\n",
       "      <td>0.0</td>\n",
       "    </tr>\n",
       "    <tr>\n",
       "      <th>1</th>\n",
       "      <td>IL</td>\n",
       "      <td>17001</td>\n",
       "      <td>Adams</td>\n",
       "      <td>2020-03-21</td>\n",
       "      <td>1.0</td>\n",
       "      <td>0.0</td>\n",
       "      <td>0.0</td>\n",
       "      <td>0.0</td>\n",
       "      <td>0.0</td>\n",
       "      <td>0.0</td>\n",
       "      <td>...</td>\n",
       "      <td>NaN</td>\n",
       "      <td>-55.0</td>\n",
       "      <td>-14.0</td>\n",
       "      <td>NaN</td>\n",
       "      <td>-30.0</td>\n",
       "      <td>-15.0</td>\n",
       "      <td>NaN</td>\n",
       "      <td>0.0</td>\n",
       "      <td>0.0</td>\n",
       "      <td>0.0</td>\n",
       "    </tr>\n",
       "    <tr>\n",
       "      <th>2</th>\n",
       "      <td>IL</td>\n",
       "      <td>17001</td>\n",
       "      <td>Adams</td>\n",
       "      <td>2020-03-22</td>\n",
       "      <td>1.0</td>\n",
       "      <td>0.0</td>\n",
       "      <td>0.0</td>\n",
       "      <td>0.0</td>\n",
       "      <td>0.0</td>\n",
       "      <td>0.0</td>\n",
       "      <td>...</td>\n",
       "      <td>NaN</td>\n",
       "      <td>-63.0</td>\n",
       "      <td>-42.0</td>\n",
       "      <td>NaN</td>\n",
       "      <td>NaN</td>\n",
       "      <td>-25.0</td>\n",
       "      <td>NaN</td>\n",
       "      <td>0.0</td>\n",
       "      <td>0.0</td>\n",
       "      <td>0.0</td>\n",
       "    </tr>\n",
       "    <tr>\n",
       "      <th>3</th>\n",
       "      <td>IL</td>\n",
       "      <td>17001</td>\n",
       "      <td>Adams</td>\n",
       "      <td>2020-03-23</td>\n",
       "      <td>1.0</td>\n",
       "      <td>0.0</td>\n",
       "      <td>0.0</td>\n",
       "      <td>0.0</td>\n",
       "      <td>0.0</td>\n",
       "      <td>0.0</td>\n",
       "      <td>...</td>\n",
       "      <td>NaN</td>\n",
       "      <td>-49.0</td>\n",
       "      <td>-20.0</td>\n",
       "      <td>NaN</td>\n",
       "      <td>-21.0</td>\n",
       "      <td>-29.0</td>\n",
       "      <td>14.0</td>\n",
       "      <td>0.0</td>\n",
       "      <td>0.0</td>\n",
       "      <td>0.0</td>\n",
       "    </tr>\n",
       "    <tr>\n",
       "      <th>4</th>\n",
       "      <td>IL</td>\n",
       "      <td>17001</td>\n",
       "      <td>Adams</td>\n",
       "      <td>2020-03-24</td>\n",
       "      <td>1.0</td>\n",
       "      <td>0.0</td>\n",
       "      <td>0.0</td>\n",
       "      <td>0.0</td>\n",
       "      <td>0.0</td>\n",
       "      <td>0.0</td>\n",
       "      <td>...</td>\n",
       "      <td>NaN</td>\n",
       "      <td>-46.0</td>\n",
       "      <td>-20.0</td>\n",
       "      <td>NaN</td>\n",
       "      <td>NaN</td>\n",
       "      <td>-31.0</td>\n",
       "      <td>15.0</td>\n",
       "      <td>0.0</td>\n",
       "      <td>0.0</td>\n",
       "      <td>0.0</td>\n",
       "    </tr>\n",
       "  </tbody>\n",
       "</table>\n",
       "<p>5 rows × 88 columns</p>\n",
       "</div>"
      ],
      "text/plain": [
       "  state   fips county       date  cumulative_cases  cumulative_deaths  \\\n",
       "0    IL  17001  Adams 2020-03-20               1.0                0.0   \n",
       "1    IL  17001  Adams 2020-03-21               1.0                0.0   \n",
       "2    IL  17001  Adams 2020-03-22               1.0                0.0   \n",
       "3    IL  17001  Adams 2020-03-23               1.0                0.0   \n",
       "4    IL  17001  Adams 2020-03-24               1.0                0.0   \n",
       "\n",
       "   new_cases  new_deaths  new_cases_7avg  new_deaths_7avg  ...  mask_mandate  \\\n",
       "0        1.0         0.0             1.0              0.0  ...           NaN   \n",
       "1        0.0         0.0             0.0              0.0  ...           NaN   \n",
       "2        0.0         0.0             0.0              0.0  ...           NaN   \n",
       "3        0.0         0.0             0.0              0.0  ...           NaN   \n",
       "4        0.0         0.0             0.0              0.0  ...           NaN   \n",
       "\n",
       "   retail_rec  grocery_pharm  parks  transit  workplace  residential  \\\n",
       "0       -33.0           11.0    NaN     -7.0      -22.0         13.0   \n",
       "1       -55.0          -14.0    NaN    -30.0      -15.0          NaN   \n",
       "2       -63.0          -42.0    NaN      NaN      -25.0          NaN   \n",
       "3       -49.0          -20.0    NaN    -21.0      -29.0         14.0   \n",
       "4       -46.0          -20.0    NaN      NaN      -31.0         15.0   \n",
       "\n",
       "   new doses  cumulative doses  cases_next_week  \n",
       "0        0.0               0.0              0.0  \n",
       "1        0.0               0.0              0.0  \n",
       "2        0.0               0.0              0.0  \n",
       "3        0.0               0.0              0.0  \n",
       "4        0.0               0.0              0.0  \n",
       "\n",
       "[5 rows x 88 columns]"
      ]
     },
     "execution_count": 84,
     "metadata": {},
     "output_type": "execute_result"
    }
   ],
   "source": [
    "df = pd.read_csv(\"../Data/merged.csv\", parse_dates=[\"date\"], dtype={'fips': str})\n",
    "df.head()"
   ]
  },
  {
   "cell_type": "markdown",
   "metadata": {},
   "source": [
    "## Some gentle data processing to get rid of any remaining NAs"
   ]
  },
  {
   "cell_type": "code",
   "execution_count": 85,
   "metadata": {},
   "outputs": [
    {
     "data": {
      "text/html": [
       "<div>\n",
       "<style scoped>\n",
       "    .dataframe tbody tr th:only-of-type {\n",
       "        vertical-align: middle;\n",
       "    }\n",
       "\n",
       "    .dataframe tbody tr th {\n",
       "        vertical-align: top;\n",
       "    }\n",
       "\n",
       "    .dataframe thead th {\n",
       "        text-align: right;\n",
       "    }\n",
       "</style>\n",
       "<table border=\"1\" class=\"dataframe\">\n",
       "  <thead>\n",
       "    <tr style=\"text-align: right;\">\n",
       "      <th></th>\n",
       "      <th>cumulative_cases</th>\n",
       "      <th>cumulative_deaths</th>\n",
       "      <th>new_cases</th>\n",
       "      <th>new_deaths</th>\n",
       "      <th>new_cases_7avg</th>\n",
       "      <th>new_deaths_7avg</th>\n",
       "      <th>2weeksago_cases_7avg</th>\n",
       "      <th>2weeksago_deaths_7avg</th>\n",
       "      <th>total_pop</th>\n",
       "      <th>male</th>\n",
       "      <th>...</th>\n",
       "      <th>prev_day_adult_admit_60-69_7daysum</th>\n",
       "      <th>prev_day_adult_admit_70-79_7daysum</th>\n",
       "      <th>prev_day_adult_admit_80+_7daysum</th>\n",
       "      <th>prev_day_adult_admit_unknown_7daysum</th>\n",
       "      <th>mask_mandate</th>\n",
       "      <th>retail_rec</th>\n",
       "      <th>workplace</th>\n",
       "      <th>new doses</th>\n",
       "      <th>cumulative doses</th>\n",
       "      <th>cases_next_week</th>\n",
       "    </tr>\n",
       "  </thead>\n",
       "  <tbody>\n",
       "    <tr>\n",
       "      <th>count</th>\n",
       "      <td>75868.000000</td>\n",
       "      <td>75868.000000</td>\n",
       "      <td>75868.000000</td>\n",
       "      <td>75868.000000</td>\n",
       "      <td>75868.000000</td>\n",
       "      <td>75868.000000</td>\n",
       "      <td>75868.000000</td>\n",
       "      <td>75868.000000</td>\n",
       "      <td>7.586800e+04</td>\n",
       "      <td>7.586800e+04</td>\n",
       "      <td>...</td>\n",
       "      <td>75868.000000</td>\n",
       "      <td>75868.000000</td>\n",
       "      <td>75868.000000</td>\n",
       "      <td>75868.000000</td>\n",
       "      <td>75868.000000</td>\n",
       "      <td>75868.000000</td>\n",
       "      <td>75868.000000</td>\n",
       "      <td>75868.000000</td>\n",
       "      <td>7.586800e+04</td>\n",
       "      <td>75868.000000</td>\n",
       "    </tr>\n",
       "    <tr>\n",
       "      <th>mean</th>\n",
       "      <td>5157.038956</td>\n",
       "      <td>93.936726</td>\n",
       "      <td>33.259596</td>\n",
       "      <td>0.545718</td>\n",
       "      <td>33.252610</td>\n",
       "      <td>0.490431</td>\n",
       "      <td>33.163060</td>\n",
       "      <td>0.488717</td>\n",
       "      <td>1.010649e+05</td>\n",
       "      <td>4.957821e+04</td>\n",
       "      <td>...</td>\n",
       "      <td>4.017741</td>\n",
       "      <td>4.449913</td>\n",
       "      <td>4.197409</td>\n",
       "      <td>0.431789</td>\n",
       "      <td>0.621079</td>\n",
       "      <td>-5.193752</td>\n",
       "      <td>-19.133926</td>\n",
       "      <td>164.652027</td>\n",
       "      <td>6.151541e+03</td>\n",
       "      <td>33.395213</td>\n",
       "    </tr>\n",
       "    <tr>\n",
       "      <th>std</th>\n",
       "      <td>21473.510024</td>\n",
       "      <td>455.881761</td>\n",
       "      <td>139.108506</td>\n",
       "      <td>3.389662</td>\n",
       "      <td>132.495562</td>\n",
       "      <td>2.312191</td>\n",
       "      <td>132.189254</td>\n",
       "      <td>2.311772</td>\n",
       "      <td>3.366181e+05</td>\n",
       "      <td>1.633324e+05</td>\n",
       "      <td>...</td>\n",
       "      <td>14.216432</td>\n",
       "      <td>14.628187</td>\n",
       "      <td>13.881740</td>\n",
       "      <td>6.612432</td>\n",
       "      <td>0.485122</td>\n",
       "      <td>15.376650</td>\n",
       "      <td>13.507123</td>\n",
       "      <td>854.820695</td>\n",
       "      <td>3.284197e+04</td>\n",
       "      <td>132.947069</td>\n",
       "    </tr>\n",
       "    <tr>\n",
       "      <th>min</th>\n",
       "      <td>6.000000</td>\n",
       "      <td>0.000000</td>\n",
       "      <td>0.000000</td>\n",
       "      <td>0.000000</td>\n",
       "      <td>0.000000</td>\n",
       "      <td>0.000000</td>\n",
       "      <td>0.000000</td>\n",
       "      <td>0.000000</td>\n",
       "      <td>2.027000e+03</td>\n",
       "      <td>9.760000e+02</td>\n",
       "      <td>...</td>\n",
       "      <td>0.000000</td>\n",
       "      <td>0.000000</td>\n",
       "      <td>0.000000</td>\n",
       "      <td>0.000000</td>\n",
       "      <td>0.000000</td>\n",
       "      <td>-97.000000</td>\n",
       "      <td>-90.000000</td>\n",
       "      <td>0.000000</td>\n",
       "      <td>0.000000e+00</td>\n",
       "      <td>0.000000</td>\n",
       "    </tr>\n",
       "    <tr>\n",
       "      <th>25%</th>\n",
       "      <td>380.000000</td>\n",
       "      <td>5.000000</td>\n",
       "      <td>2.000000</td>\n",
       "      <td>0.000000</td>\n",
       "      <td>3.000000</td>\n",
       "      <td>0.000000</td>\n",
       "      <td>3.000000</td>\n",
       "      <td>0.000000</td>\n",
       "      <td>1.464000e+04</td>\n",
       "      <td>7.388000e+03</td>\n",
       "      <td>...</td>\n",
       "      <td>0.000000</td>\n",
       "      <td>0.000000</td>\n",
       "      <td>0.000000</td>\n",
       "      <td>0.000000</td>\n",
       "      <td>0.000000</td>\n",
       "      <td>-12.530612</td>\n",
       "      <td>-26.000000</td>\n",
       "      <td>0.000000</td>\n",
       "      <td>0.000000e+00</td>\n",
       "      <td>3.000000</td>\n",
       "    </tr>\n",
       "    <tr>\n",
       "      <th>50%</th>\n",
       "      <td>1231.000000</td>\n",
       "      <td>21.000000</td>\n",
       "      <td>7.000000</td>\n",
       "      <td>0.000000</td>\n",
       "      <td>8.000000</td>\n",
       "      <td>0.000000</td>\n",
       "      <td>8.000000</td>\n",
       "      <td>0.000000</td>\n",
       "      <td>3.229500e+04</td>\n",
       "      <td>1.572300e+04</td>\n",
       "      <td>...</td>\n",
       "      <td>0.000000</td>\n",
       "      <td>0.000000</td>\n",
       "      <td>0.000000</td>\n",
       "      <td>0.000000</td>\n",
       "      <td>1.000000</td>\n",
       "      <td>-5.000000</td>\n",
       "      <td>-17.000000</td>\n",
       "      <td>0.000000</td>\n",
       "      <td>0.000000e+00</td>\n",
       "      <td>8.000000</td>\n",
       "    </tr>\n",
       "    <tr>\n",
       "      <th>75%</th>\n",
       "      <td>3351.000000</td>\n",
       "      <td>60.000000</td>\n",
       "      <td>22.000000</td>\n",
       "      <td>0.000000</td>\n",
       "      <td>23.000000</td>\n",
       "      <td>0.000000</td>\n",
       "      <td>23.000000</td>\n",
       "      <td>0.000000</td>\n",
       "      <td>6.637100e+04</td>\n",
       "      <td>3.347400e+04</td>\n",
       "      <td>...</td>\n",
       "      <td>3.000000</td>\n",
       "      <td>3.000000</td>\n",
       "      <td>3.000000</td>\n",
       "      <td>0.000000</td>\n",
       "      <td>1.000000</td>\n",
       "      <td>2.833333</td>\n",
       "      <td>-10.057143</td>\n",
       "      <td>40.000000</td>\n",
       "      <td>2.062000e+03</td>\n",
       "      <td>23.000000</td>\n",
       "    </tr>\n",
       "    <tr>\n",
       "      <th>max</th>\n",
       "      <td>503169.000000</td>\n",
       "      <td>10257.000000</td>\n",
       "      <td>6697.000000</td>\n",
       "      <td>277.000000</td>\n",
       "      <td>4654.000000</td>\n",
       "      <td>70.000000</td>\n",
       "      <td>4654.000000</td>\n",
       "      <td>70.000000</td>\n",
       "      <td>5.198275e+06</td>\n",
       "      <td>2.522949e+06</td>\n",
       "      <td>...</td>\n",
       "      <td>369.000000</td>\n",
       "      <td>326.000000</td>\n",
       "      <td>300.000000</td>\n",
       "      <td>634.000000</td>\n",
       "      <td>1.000000</td>\n",
       "      <td>213.000000</td>\n",
       "      <td>33.000000</td>\n",
       "      <td>31335.000000</td>\n",
       "      <td>1.257623e+06</td>\n",
       "      <td>4654.000000</td>\n",
       "    </tr>\n",
       "  </tbody>\n",
       "</table>\n",
       "<p>8 rows × 80 columns</p>\n",
       "</div>"
      ],
      "text/plain": [
       "       cumulative_cases  cumulative_deaths     new_cases    new_deaths  \\\n",
       "count      75868.000000       75868.000000  75868.000000  75868.000000   \n",
       "mean        5157.038956          93.936726     33.259596      0.545718   \n",
       "std        21473.510024         455.881761    139.108506      3.389662   \n",
       "min            6.000000           0.000000      0.000000      0.000000   \n",
       "25%          380.000000           5.000000      2.000000      0.000000   \n",
       "50%         1231.000000          21.000000      7.000000      0.000000   \n",
       "75%         3351.000000          60.000000     22.000000      0.000000   \n",
       "max       503169.000000       10257.000000   6697.000000    277.000000   \n",
       "\n",
       "       new_cases_7avg  new_deaths_7avg  2weeksago_cases_7avg  \\\n",
       "count    75868.000000     75868.000000          75868.000000   \n",
       "mean        33.252610         0.490431             33.163060   \n",
       "std        132.495562         2.312191            132.189254   \n",
       "min          0.000000         0.000000              0.000000   \n",
       "25%          3.000000         0.000000              3.000000   \n",
       "50%          8.000000         0.000000              8.000000   \n",
       "75%         23.000000         0.000000             23.000000   \n",
       "max       4654.000000        70.000000           4654.000000   \n",
       "\n",
       "       2weeksago_deaths_7avg     total_pop          male  ...  \\\n",
       "count           75868.000000  7.586800e+04  7.586800e+04  ...   \n",
       "mean                0.488717  1.010649e+05  4.957821e+04  ...   \n",
       "std                 2.311772  3.366181e+05  1.633324e+05  ...   \n",
       "min                 0.000000  2.027000e+03  9.760000e+02  ...   \n",
       "25%                 0.000000  1.464000e+04  7.388000e+03  ...   \n",
       "50%                 0.000000  3.229500e+04  1.572300e+04  ...   \n",
       "75%                 0.000000  6.637100e+04  3.347400e+04  ...   \n",
       "max                70.000000  5.198275e+06  2.522949e+06  ...   \n",
       "\n",
       "       prev_day_adult_admit_60-69_7daysum  prev_day_adult_admit_70-79_7daysum  \\\n",
       "count                        75868.000000                        75868.000000   \n",
       "mean                             4.017741                            4.449913   \n",
       "std                             14.216432                           14.628187   \n",
       "min                              0.000000                            0.000000   \n",
       "25%                              0.000000                            0.000000   \n",
       "50%                              0.000000                            0.000000   \n",
       "75%                              3.000000                            3.000000   \n",
       "max                            369.000000                          326.000000   \n",
       "\n",
       "       prev_day_adult_admit_80+_7daysum  prev_day_adult_admit_unknown_7daysum  \\\n",
       "count                      75868.000000                          75868.000000   \n",
       "mean                           4.197409                              0.431789   \n",
       "std                           13.881740                              6.612432   \n",
       "min                            0.000000                              0.000000   \n",
       "25%                            0.000000                              0.000000   \n",
       "50%                            0.000000                              0.000000   \n",
       "75%                            3.000000                              0.000000   \n",
       "max                          300.000000                            634.000000   \n",
       "\n",
       "       mask_mandate    retail_rec     workplace     new doses  \\\n",
       "count  75868.000000  75868.000000  75868.000000  75868.000000   \n",
       "mean       0.621079     -5.193752    -19.133926    164.652027   \n",
       "std        0.485122     15.376650     13.507123    854.820695   \n",
       "min        0.000000    -97.000000    -90.000000      0.000000   \n",
       "25%        0.000000    -12.530612    -26.000000      0.000000   \n",
       "50%        1.000000     -5.000000    -17.000000      0.000000   \n",
       "75%        1.000000      2.833333    -10.057143     40.000000   \n",
       "max        1.000000    213.000000     33.000000  31335.000000   \n",
       "\n",
       "       cumulative doses  cases_next_week  \n",
       "count      7.586800e+04     75868.000000  \n",
       "mean       6.151541e+03        33.395213  \n",
       "std        3.284197e+04       132.947069  \n",
       "min        0.000000e+00         0.000000  \n",
       "25%        0.000000e+00         3.000000  \n",
       "50%        0.000000e+00         8.000000  \n",
       "75%        2.062000e+03        23.000000  \n",
       "max        1.257623e+06      4654.000000  \n",
       "\n",
       "[8 rows x 80 columns]"
      ]
     },
     "execution_count": 85,
     "metadata": {},
     "output_type": "execute_result"
    }
   ],
   "source": [
    "# filter down to dates with hospital\n",
    "date_mask = (df[\"date\"]>='7-31-2020')\n",
    "df = df[date_mask]\n",
    "\n",
    "# drop grocery_pharm, parks, transit because they have too much missingness\n",
    "df.drop(columns=[\"grocery_pharm\", \"parks\", \"transit\", \"residential\"], inplace = True)\n",
    "\n",
    "# fill na's with mean for that state that date for retail_rec, workplace [TO DO: IS THIS REASONABLE?]\n",
    "for var in [\"retail_rec\", \"workplace\"]:\n",
    "    df[var] = df[[\"state\", \"date\", var]].groupby([\"state\", \"date\"]).transform(lambda x: x.fillna(x.mean()))\n",
    "\n",
    "# fill missing masks with 0 because the missings are from MO, who doesn't have a mask mandate\n",
    "df[\"mask_mandate\"] = df[\"mask_mandate\"].fillna(0)\n",
    "\n",
    "# drop na's (should just be the last week for each fips)\n",
    "df = df.dropna()\n",
    "\n",
    "df.describe()"
   ]
  },
  {
   "cell_type": "markdown",
   "metadata": {},
   "source": [
    "## Split Train Test"
   ]
  },
  {
   "cell_type": "code",
   "execution_count": 86,
   "metadata": {},
   "outputs": [],
   "source": [
    "# split df into features and labels\n",
    "X = df.drop(columns=[\"cases_next_week\"])\n",
    "y = df[\"cases_next_week\"]\n",
    "\n",
    "# split df into train and test\n",
    "X_train, X_test, y_train, y_test = train_test_split(X, y, random_state=0, test_size=0.2)\n",
    "\n",
    "# df that's just training\n",
    "df_train = pd.concat([X_train, y_train], axis=1)"
   ]
  },
  {
   "cell_type": "markdown",
   "metadata": {},
   "source": [
    "## Pre-process data"
   ]
  },
  {
   "cell_type": "code",
   "execution_count": 88,
   "metadata": {},
   "outputs": [],
   "source": [
    "# get list of numerical features for normalization\n",
    "numerical_features = X_train.columns.tolist()[4:]\n",
    "numerical_features.remove('mask_mandate')\n",
    "numerical_features\n",
    "\n",
    "# normalize numerical features\n",
    "X_train, X_test = pline.normalize(X_train, X_test, numerical_features)\n",
    "\n",
    "# one hot encode categorical variables\n",
    "X_train = pline.one_hot_encode(X_train, [\"state\", \"fips\"])\n",
    "X_test = pline.one_hot_encode(X_test, [\"state\", \"fips\"])\n",
    "\n",
    "# drop county cause that's the same as fips\n",
    "X_train = X_train.drop(columns=[\"county\"])\n",
    "X_test = X_test.drop(columns=[\"county\"])"
   ]
  },
  {
   "cell_type": "markdown",
   "metadata": {},
   "source": [
    "## Feature Selection"
   ]
  },
  {
   "cell_type": "markdown",
   "metadata": {},
   "source": [
    "### Use Variance threshold to weed out features with zero variance\n",
    "\"This is one of the most simple approaches to feature selection. The scikit-learn library has a method called VarianceThreshold . This method takes a threshold value and when fitted to a feature set will remove any features below this threshold. The default value for the threshold is 0 and this will remove any features with zero variance, or in other words where all values are the same.\"\n"
   ]
  },
  {
   "cell_type": "code",
   "execution_count": 90,
   "metadata": {},
   "outputs": [
    {
     "name": "stdout",
     "output_type": "stream",
     "text": [
      "Original feature shape: (60694, 387)\n",
      "Transformed feature shape: (60694, 387)\n"
     ]
    }
   ],
   "source": [
    "X = X_train\n",
    "selector = VarianceThreshold()\n",
    "print(\"Original feature shape:\", X.iloc[:, 1:].shape)\n",
    "new_X = selector.fit_transform(X.iloc[:, 1:])\n",
    "print(\"Transformed feature shape:\", new_X.shape)"
   ]
  },
  {
   "cell_type": "markdown",
   "metadata": {},
   "source": [
    "Looks like there are no variables with zero variance, which is good!"
   ]
  },
  {
   "cell_type": "markdown",
   "metadata": {},
   "source": [
    "### Narrow down to the top 50 features with SelectKBest"
   ]
  },
  {
   "cell_type": "code",
   "execution_count": 91,
   "metadata": {},
   "outputs": [
    {
     "data": {
      "text/plain": [
       "SelectKBest(k='all',\n",
       "            score_func=<function mutual_info_regression at 0x123292158>)"
      ]
     },
     "execution_count": 91,
     "metadata": {},
     "output_type": "execute_result"
    }
   ],
   "source": [
    "# get k highest scoring variables\n",
    "fs = SelectKBest(score_func=mutual_info_regression, k=\"all\")\n",
    "\n",
    "# learn relationship from training data (drop non-numerical data)\n",
    "fs.fit(X_train.drop(columns=[\"date\"]), y_train.drop(columns=[\"date\"]))"
   ]
  },
  {
   "cell_type": "code",
   "execution_count": 102,
   "metadata": {},
   "outputs": [],
   "source": [
    "feature_scores = pd.DataFrame({'variables': X_train.drop(columns=[\"date\"]).columns.tolist(), \n",
    "                               'score': fs.scores_})\n"
   ]
  },
  {
   "cell_type": "code",
   "execution_count": 103,
   "metadata": {},
   "outputs": [],
   "source": [
    "# top 50 variables\n",
    "top50 = feature_scores.sort_values(by=\"score\", ascending=False).head(50)[\"variables\"].tolist()"
   ]
  },
  {
   "cell_type": "code",
   "execution_count": 105,
   "metadata": {},
   "outputs": [],
   "source": [
    "X_train = X_train[[\"date\"] + top50]\n",
    "X_test = X_test[[\"date\"] + top50]"
   ]
  },
  {
   "cell_type": "code",
   "execution_count": 106,
   "metadata": {},
   "outputs": [
    {
     "data": {
      "text/plain": [
       "Index(['date', 'new_cases_7avg', 'new_cases', '2weeksago_cases_7avg',\n",
       "       'total_pop', 'white', 'female', 'male', 'age_35_44', 'below_500_pov',\n",
       "       'age_62over', 'age_45_54', 'below_400_pov', 'housing_units',\n",
       "       'age_55_59', 'age_60_64', 'age_20_24', 'age_under14', 'age_25_34',\n",
       "       'age_15_19', 'age_65over', 'below_300_pov', 'below_200_pov',\n",
       "       'below_185_pov', 'below_150_pov', 'below_125_pov', 'non_white',\n",
       "       'below_pov', 'female_below_pov', 'male_below_pov', 'below_50_pov',\n",
       "       'hispanic', 'black', 'cumulative_cases', 'asian',\n",
       "       'total_adult_hospitalizations', 'other_race', 'native',\n",
       "       'prev_day_adult_admit_7daysum', 'p_white', 'p_non_white',\n",
       "       'cumulative_deaths', 'p_age_62over',\n",
       "       'prev_day_adult_admit_70-79_7daysum',\n",
       "       'prev_day_adult_admit_60-69_7daysum', 'p_black',\n",
       "       'prev_day_adult_admit_80+_7daysum', 'retail_rec', 'age_median',\n",
       "       'p_age_65over', 'prev_day_adult_admit_50-59_7daysum'],\n",
       "      dtype='object')"
      ]
     },
     "execution_count": 106,
     "metadata": {},
     "output_type": "execute_result"
    }
   ],
   "source": [
    "X_train.columns"
   ]
  },
  {
   "cell_type": "code",
   "execution_count": 107,
   "metadata": {},
   "outputs": [
    {
     "data": {
      "text/plain": [
       "(60694, 51)"
      ]
     },
     "execution_count": 107,
     "metadata": {},
     "output_type": "execute_result"
    }
   ],
   "source": [
    "X_train.shape"
   ]
  },
  {
   "cell_type": "markdown",
   "metadata": {},
   "source": [
    "### Perform some additional feature selection via Lasso regularization"
   ]
  },
  {
   "cell_type": "code",
   "execution_count": 138,
   "metadata": {},
   "outputs": [],
   "source": [
    "from sklearn.linear_model import Lasso\n",
    "from sklearn.feature_selection import SelectFromModel"
   ]
  },
  {
   "cell_type": "code",
   "execution_count": 139,
   "metadata": {},
   "outputs": [
    {
     "data": {
      "text/plain": [
       "SelectFromModel(estimator=Lasso(alpha=0.2))"
      ]
     },
     "execution_count": 139,
     "metadata": {},
     "output_type": "execute_result"
    }
   ],
   "source": [
    "sel_ = SelectFromModel(Lasso(alpha=0.2))\n",
    "sel_.fit(X_train.drop(columns=[\"date\"]), y_train.drop(columns=[\"date\"]))"
   ]
  },
  {
   "cell_type": "code",
   "execution_count": 140,
   "metadata": {},
   "outputs": [
    {
     "name": "stdout",
     "output_type": "stream",
     "text": [
      "total features: 51\n",
      "selected features: 15\n",
      "features with coefficients shrank to zero: 34\n"
     ]
    }
   ],
   "source": [
    "selected_feat = X_train.drop(columns=[\"date\"]).columns[(sel_.get_support())]\n",
    "print('total features: {}'.format((X_train.shape[1])))\n",
    "print('selected features: {}'.format(len(selected_feat)))\n",
    "print('features with coefficients shrank to zero: {}'.format(\n",
    "      np.sum(sel_.estimator_.coef_ == 0)))"
   ]
  },
  {
   "cell_type": "code",
   "execution_count": 141,
   "metadata": {},
   "outputs": [
    {
     "data": {
      "text/plain": [
       "Index(['new_cases_7avg', 'new_cases', '2weeksago_cases_7avg', 'white',\n",
       "       'age_35_44', 'age_45_54', 'cumulative_cases', 'asian',\n",
       "       'total_adult_hospitalizations', 'other_race',\n",
       "       'prev_day_adult_admit_7daysum', 'p_white', 'retail_rec', 'p_age_65over',\n",
       "       'prev_day_adult_admit_50-59_7daysum'],\n",
       "      dtype='object')"
      ]
     },
     "execution_count": 141,
     "metadata": {},
     "output_type": "execute_result"
    }
   ],
   "source": [
    "selected_feat"
   ]
  },
  {
   "cell_type": "code",
   "execution_count": 153,
   "metadata": {},
   "outputs": [],
   "source": [
    "final_features = [\"date\"] + selected_feat.tolist() \n",
    "X_train_final = X_train[final_features]\n",
    "X_test_final = X_test[final_features]"
   ]
  },
  {
   "cell_type": "markdown",
   "metadata": {},
   "source": [
    "## Export final train and test sets"
   ]
  },
  {
   "cell_type": "code",
   "execution_count": 163,
   "metadata": {},
   "outputs": [],
   "source": [
    "X_train_final.to_csv(\"../Data/Train-Test Set/X_train.csv\", index=False)\n",
    "y_train.to_csv(\"../Data/Train-Test Set/y_train.csv\", index=False)\n",
    "\n",
    "X_test_final.to_csv(\"../Data/Train-Test Set/X_test.csv\", index=False)\n",
    "y_test.to_csv(\"../Data/Train-Test Set/y_test.csv\", index=False)"
   ]
  },
  {
   "cell_type": "code",
   "execution_count": null,
   "metadata": {},
   "outputs": [],
   "source": []
  }
 ],
 "metadata": {
  "kernelspec": {
   "display_name": "Python 3",
   "language": "python",
   "name": "python3"
  },
  "language_info": {
   "codemirror_mode": {
    "name": "ipython",
    "version": 3
   },
   "file_extension": ".py",
   "mimetype": "text/x-python",
   "name": "python",
   "nbconvert_exporter": "python",
   "pygments_lexer": "ipython3",
   "version": "3.7.1"
  }
 },
 "nbformat": 4,
 "nbformat_minor": 2
}
