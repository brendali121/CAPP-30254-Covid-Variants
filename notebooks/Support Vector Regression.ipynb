{
 "cells": [
  {
   "cell_type": "markdown",
   "metadata": {},
   "source": [
    "# Support Vector Regression"
   ]
  },
  {
   "cell_type": "markdown",
   "metadata": {},
   "source": [
    "## Import Packages"
   ]
  },
  {
   "cell_type": "code",
   "execution_count": 1,
   "metadata": {},
   "outputs": [],
   "source": [
    "import pandas as pd\n",
    "import numpy as np\n",
    "import datetime\n",
    "from sklearn import svm\n",
    "from sklearn.model_selection import GridSearchCV\n",
    "\n",
    "# From: https://towardsdatascience.com/time-based-cross-validation-d259b13d42b8\n",
    "import timesplit as ts"
   ]
  },
  {
   "cell_type": "markdown",
   "metadata": {},
   "source": [
    "## Set up helper functions"
   ]
  },
  {
   "cell_type": "code",
   "execution_count": 2,
   "metadata": {},
   "outputs": [],
   "source": [
    "def GridSearchSummary(search, hyperparams, metrics, file):\n",
    "    \"\"\"\n",
    "    Creates a dataframe with summary results from GridSearchCV\n",
    "    search - the final GridSearchCV object\n",
    "    hyperparams - the list of parameters you were tuning for (aka keys in the param_grid dictionary)\n",
    "    metrics - the list of scoring metrics you used\n",
    "    file - filename of where you want to save your results\n",
    "    \"\"\"\n",
    "    \n",
    "    summary = pd.DataFrame()\n",
    "    \n",
    "    for hyperparam in hyperparams:\n",
    "        col = [dct[hyperparam] for dct in search.cv_results_[\"params\"]]\n",
    "        summary[hyperparam] = col\n",
    "    \n",
    "    for metric in metrics:\n",
    "        col = search.cv_results_[\"mean_test_\" + metric]\n",
    "        summary[metric] = col\n",
    "    \n",
    "    summary.to_csv(file)\n",
    "    \n",
    "    return summary"
   ]
  },
  {
   "cell_type": "markdown",
   "metadata": {},
   "source": [
    "## Import data"
   ]
  },
  {
   "cell_type": "code",
   "execution_count": 3,
   "metadata": {},
   "outputs": [],
   "source": [
    "X_train = pd.read_csv(\"../Data/Train-Test Set/X_train.csv\", parse_dates=[\"date\"])\n",
    "y_train = pd.read_csv(\"../Data/Train-Test Set/y_train.csv\")\n",
    "\n",
    "X_test = pd.read_csv(\"../Data/Train-Test Set/X_test.csv\", parse_dates=[\"date\"])\n",
    "y_test = pd.read_csv(\"../Data/Train-Test Set/y_test.csv\")"
   ]
  },
  {
   "cell_type": "markdown",
   "metadata": {},
   "source": [
    "## Get indices for time-based cross validation"
   ]
  },
  {
   "cell_type": "code",
   "execution_count": 4,
   "metadata": {},
   "outputs": [],
   "source": [
    "# set up time-based CV indices\n",
    "tscv = ts.TimeBasedCV(train_period=21,\n",
    "                      test_period=7,\n",
    "                      freq='days')\n",
    "\n",
    "tscv_indices = []\n",
    "\n",
    "for train_index, test_index in tscv.split(X_train, date_column='date'):\n",
    "    tscv_indices.append((train_index, test_index))"
   ]
  },
  {
   "cell_type": "markdown",
   "metadata": {},
   "source": [
    "## Run GridSearchCV using Support Vector Regression"
   ]
  },
  {
   "cell_type": "code",
   "execution_count": 5,
   "metadata": {},
   "outputs": [],
   "source": [
    "# define scoring metrics\n",
    "scoring_metrics = [\"neg_mean_squared_error\", \"r2\", \"neg_mean_absolute_error\"]"
   ]
  },
  {
   "cell_type": "code",
   "execution_count": 10,
   "metadata": {},
   "outputs": [
    {
     "name": "stdout",
     "output_type": "stream",
     "text": [
      "Start:  28/05/2021 13:53:01\n",
      "Fitting 32 folds for each of 36 candidates, totalling 1152 fits\n",
      "End:  28/05/2021 14:23:30\n"
     ]
    }
   ],
   "source": [
    "param_grid = {\n",
    "    'kernel': [\"linear\", \"poly\", \"rbf\"],\n",
    "    'degree': [2, 3],\n",
    "    'gamma': [\"scale\", \"auto\"],\n",
    "    'C': [0.5, 1, 5]\n",
    "}\n",
    "\n",
    "print(\"Start: \", datetime.datetime.now().strftime(\"%d/%m/%Y %H:%M:%S\"))\n",
    "\n",
    "SVR_search = GridSearchCV(svm.SVR(), param_grid, cv=tscv_indices, scoring=scoring_metrics, refit = False, verbose=1)\n",
    "SVR_search.fit(X_train.drop(columns=[\"date\"]), np.array(y_train).ravel())\n",
    "\n",
    "print(\"End: \", datetime.datetime.now().strftime(\"%d/%m/%Y %H:%M:%S\"))"
   ]
  },
  {
   "cell_type": "code",
   "execution_count": 13,
   "metadata": {},
   "outputs": [
    {
     "data": {
      "text/html": [
       "<div>\n",
       "<style scoped>\n",
       "    .dataframe tbody tr th:only-of-type {\n",
       "        vertical-align: middle;\n",
       "    }\n",
       "\n",
       "    .dataframe tbody tr th {\n",
       "        vertical-align: top;\n",
       "    }\n",
       "\n",
       "    .dataframe thead th {\n",
       "        text-align: right;\n",
       "    }\n",
       "</style>\n",
       "<table border=\"1\" class=\"dataframe\">\n",
       "  <thead>\n",
       "    <tr style=\"text-align: right;\">\n",
       "      <th></th>\n",
       "      <th>kernel</th>\n",
       "      <th>gamma</th>\n",
       "      <th>degree</th>\n",
       "      <th>C</th>\n",
       "      <th>neg_mean_squared_error</th>\n",
       "      <th>r2</th>\n",
       "      <th>neg_mean_absolute_error</th>\n",
       "    </tr>\n",
       "  </thead>\n",
       "  <tbody>\n",
       "    <tr>\n",
       "      <th>34</th>\n",
       "      <td>poly</td>\n",
       "      <td>auto</td>\n",
       "      <td>3</td>\n",
       "      <td>5.0</td>\n",
       "      <td>-372130.043208</td>\n",
       "      <td>-4.544312</td>\n",
       "      <td>-25.753540</td>\n",
       "    </tr>\n",
       "    <tr>\n",
       "      <th>31</th>\n",
       "      <td>poly</td>\n",
       "      <td>scale</td>\n",
       "      <td>3</td>\n",
       "      <td>5.0</td>\n",
       "      <td>-279705.777552</td>\n",
       "      <td>-3.383910</td>\n",
       "      <td>-25.500490</td>\n",
       "    </tr>\n",
       "    <tr>\n",
       "      <th>22</th>\n",
       "      <td>poly</td>\n",
       "      <td>auto</td>\n",
       "      <td>3</td>\n",
       "      <td>1.0</td>\n",
       "      <td>-71377.401155</td>\n",
       "      <td>-0.379803</td>\n",
       "      <td>-22.511241</td>\n",
       "    </tr>\n",
       "    <tr>\n",
       "      <th>19</th>\n",
       "      <td>poly</td>\n",
       "      <td>scale</td>\n",
       "      <td>3</td>\n",
       "      <td>1.0</td>\n",
       "      <td>-48720.511491</td>\n",
       "      <td>-0.139300</td>\n",
       "      <td>-22.081667</td>\n",
       "    </tr>\n",
       "    <tr>\n",
       "      <th>7</th>\n",
       "      <td>poly</td>\n",
       "      <td>scale</td>\n",
       "      <td>3</td>\n",
       "      <td>0.5</td>\n",
       "      <td>-17681.237018</td>\n",
       "      <td>0.303685</td>\n",
       "      <td>-21.381395</td>\n",
       "    </tr>\n",
       "    <tr>\n",
       "      <th>10</th>\n",
       "      <td>poly</td>\n",
       "      <td>auto</td>\n",
       "      <td>3</td>\n",
       "      <td>0.5</td>\n",
       "      <td>-24453.974115</td>\n",
       "      <td>0.298678</td>\n",
       "      <td>-21.260610</td>\n",
       "    </tr>\n",
       "    <tr>\n",
       "      <th>5</th>\n",
       "      <td>rbf</td>\n",
       "      <td>auto</td>\n",
       "      <td>2</td>\n",
       "      <td>0.5</td>\n",
       "      <td>-17793.667766</td>\n",
       "      <td>0.186484</td>\n",
       "      <td>-20.584071</td>\n",
       "    </tr>\n",
       "    <tr>\n",
       "      <th>11</th>\n",
       "      <td>rbf</td>\n",
       "      <td>auto</td>\n",
       "      <td>3</td>\n",
       "      <td>0.5</td>\n",
       "      <td>-17793.667766</td>\n",
       "      <td>0.186484</td>\n",
       "      <td>-20.584071</td>\n",
       "    </tr>\n",
       "    <tr>\n",
       "      <th>2</th>\n",
       "      <td>rbf</td>\n",
       "      <td>scale</td>\n",
       "      <td>2</td>\n",
       "      <td>0.5</td>\n",
       "      <td>-17609.165529</td>\n",
       "      <td>0.186599</td>\n",
       "      <td>-20.346555</td>\n",
       "    </tr>\n",
       "    <tr>\n",
       "      <th>8</th>\n",
       "      <td>rbf</td>\n",
       "      <td>scale</td>\n",
       "      <td>3</td>\n",
       "      <td>0.5</td>\n",
       "      <td>-17609.165529</td>\n",
       "      <td>0.186599</td>\n",
       "      <td>-20.346555</td>\n",
       "    </tr>\n",
       "    <tr>\n",
       "      <th>1</th>\n",
       "      <td>poly</td>\n",
       "      <td>scale</td>\n",
       "      <td>2</td>\n",
       "      <td>0.5</td>\n",
       "      <td>-3407.855587</td>\n",
       "      <td>0.844426</td>\n",
       "      <td>-19.100510</td>\n",
       "    </tr>\n",
       "    <tr>\n",
       "      <th>23</th>\n",
       "      <td>rbf</td>\n",
       "      <td>auto</td>\n",
       "      <td>3</td>\n",
       "      <td>1.0</td>\n",
       "      <td>-17054.184499</td>\n",
       "      <td>0.232853</td>\n",
       "      <td>-18.808657</td>\n",
       "    </tr>\n",
       "    <tr>\n",
       "      <th>17</th>\n",
       "      <td>rbf</td>\n",
       "      <td>auto</td>\n",
       "      <td>2</td>\n",
       "      <td>1.0</td>\n",
       "      <td>-17054.184499</td>\n",
       "      <td>0.232853</td>\n",
       "      <td>-18.808657</td>\n",
       "    </tr>\n",
       "    <tr>\n",
       "      <th>4</th>\n",
       "      <td>poly</td>\n",
       "      <td>auto</td>\n",
       "      <td>2</td>\n",
       "      <td>0.5</td>\n",
       "      <td>-3260.833470</td>\n",
       "      <td>0.853287</td>\n",
       "      <td>-18.765522</td>\n",
       "    </tr>\n",
       "    <tr>\n",
       "      <th>13</th>\n",
       "      <td>poly</td>\n",
       "      <td>scale</td>\n",
       "      <td>2</td>\n",
       "      <td>1.0</td>\n",
       "      <td>-3466.721195</td>\n",
       "      <td>0.834025</td>\n",
       "      <td>-18.525464</td>\n",
       "    </tr>\n",
       "    <tr>\n",
       "      <th>14</th>\n",
       "      <td>rbf</td>\n",
       "      <td>scale</td>\n",
       "      <td>2</td>\n",
       "      <td>1.0</td>\n",
       "      <td>-16822.141141</td>\n",
       "      <td>0.234756</td>\n",
       "      <td>-18.456471</td>\n",
       "    </tr>\n",
       "    <tr>\n",
       "      <th>20</th>\n",
       "      <td>rbf</td>\n",
       "      <td>scale</td>\n",
       "      <td>3</td>\n",
       "      <td>1.0</td>\n",
       "      <td>-16822.141141</td>\n",
       "      <td>0.234756</td>\n",
       "      <td>-18.456471</td>\n",
       "    </tr>\n",
       "    <tr>\n",
       "      <th>16</th>\n",
       "      <td>poly</td>\n",
       "      <td>auto</td>\n",
       "      <td>2</td>\n",
       "      <td>1.0</td>\n",
       "      <td>-3445.480482</td>\n",
       "      <td>0.837871</td>\n",
       "      <td>-18.375566</td>\n",
       "    </tr>\n",
       "    <tr>\n",
       "      <th>25</th>\n",
       "      <td>poly</td>\n",
       "      <td>scale</td>\n",
       "      <td>2</td>\n",
       "      <td>5.0</td>\n",
       "      <td>-5182.573899</td>\n",
       "      <td>0.797933</td>\n",
       "      <td>-17.519471</td>\n",
       "    </tr>\n",
       "    <tr>\n",
       "      <th>28</th>\n",
       "      <td>poly</td>\n",
       "      <td>auto</td>\n",
       "      <td>2</td>\n",
       "      <td>5.0</td>\n",
       "      <td>-5336.390636</td>\n",
       "      <td>0.787824</td>\n",
       "      <td>-17.355768</td>\n",
       "    </tr>\n",
       "    <tr>\n",
       "      <th>29</th>\n",
       "      <td>rbf</td>\n",
       "      <td>auto</td>\n",
       "      <td>2</td>\n",
       "      <td>5.0</td>\n",
       "      <td>-15238.574207</td>\n",
       "      <td>0.350953</td>\n",
       "      <td>-15.434017</td>\n",
       "    </tr>\n",
       "    <tr>\n",
       "      <th>35</th>\n",
       "      <td>rbf</td>\n",
       "      <td>auto</td>\n",
       "      <td>3</td>\n",
       "      <td>5.0</td>\n",
       "      <td>-15238.574207</td>\n",
       "      <td>0.350953</td>\n",
       "      <td>-15.434017</td>\n",
       "    </tr>\n",
       "    <tr>\n",
       "      <th>26</th>\n",
       "      <td>rbf</td>\n",
       "      <td>scale</td>\n",
       "      <td>2</td>\n",
       "      <td>5.0</td>\n",
       "      <td>-15038.996082</td>\n",
       "      <td>0.348828</td>\n",
       "      <td>-15.024189</td>\n",
       "    </tr>\n",
       "    <tr>\n",
       "      <th>32</th>\n",
       "      <td>rbf</td>\n",
       "      <td>scale</td>\n",
       "      <td>3</td>\n",
       "      <td>5.0</td>\n",
       "      <td>-15038.996082</td>\n",
       "      <td>0.348828</td>\n",
       "      <td>-15.024189</td>\n",
       "    </tr>\n",
       "    <tr>\n",
       "      <th>9</th>\n",
       "      <td>linear</td>\n",
       "      <td>auto</td>\n",
       "      <td>3</td>\n",
       "      <td>0.5</td>\n",
       "      <td>-1254.418712</td>\n",
       "      <td>0.935876</td>\n",
       "      <td>-8.078719</td>\n",
       "    </tr>\n",
       "    <tr>\n",
       "      <th>6</th>\n",
       "      <td>linear</td>\n",
       "      <td>scale</td>\n",
       "      <td>3</td>\n",
       "      <td>0.5</td>\n",
       "      <td>-1254.418712</td>\n",
       "      <td>0.935876</td>\n",
       "      <td>-8.078719</td>\n",
       "    </tr>\n",
       "    <tr>\n",
       "      <th>3</th>\n",
       "      <td>linear</td>\n",
       "      <td>auto</td>\n",
       "      <td>2</td>\n",
       "      <td>0.5</td>\n",
       "      <td>-1254.418712</td>\n",
       "      <td>0.935876</td>\n",
       "      <td>-8.078719</td>\n",
       "    </tr>\n",
       "    <tr>\n",
       "      <th>0</th>\n",
       "      <td>linear</td>\n",
       "      <td>scale</td>\n",
       "      <td>2</td>\n",
       "      <td>0.5</td>\n",
       "      <td>-1254.418712</td>\n",
       "      <td>0.935876</td>\n",
       "      <td>-8.078719</td>\n",
       "    </tr>\n",
       "    <tr>\n",
       "      <th>18</th>\n",
       "      <td>linear</td>\n",
       "      <td>scale</td>\n",
       "      <td>3</td>\n",
       "      <td>1.0</td>\n",
       "      <td>-1286.997938</td>\n",
       "      <td>0.938124</td>\n",
       "      <td>-7.984688</td>\n",
       "    </tr>\n",
       "    <tr>\n",
       "      <th>15</th>\n",
       "      <td>linear</td>\n",
       "      <td>auto</td>\n",
       "      <td>2</td>\n",
       "      <td>1.0</td>\n",
       "      <td>-1286.997938</td>\n",
       "      <td>0.938124</td>\n",
       "      <td>-7.984688</td>\n",
       "    </tr>\n",
       "    <tr>\n",
       "      <th>12</th>\n",
       "      <td>linear</td>\n",
       "      <td>scale</td>\n",
       "      <td>2</td>\n",
       "      <td>1.0</td>\n",
       "      <td>-1286.997938</td>\n",
       "      <td>0.938124</td>\n",
       "      <td>-7.984688</td>\n",
       "    </tr>\n",
       "    <tr>\n",
       "      <th>21</th>\n",
       "      <td>linear</td>\n",
       "      <td>auto</td>\n",
       "      <td>3</td>\n",
       "      <td>1.0</td>\n",
       "      <td>-1286.997938</td>\n",
       "      <td>0.938124</td>\n",
       "      <td>-7.984688</td>\n",
       "    </tr>\n",
       "    <tr>\n",
       "      <th>24</th>\n",
       "      <td>linear</td>\n",
       "      <td>scale</td>\n",
       "      <td>2</td>\n",
       "      <td>5.0</td>\n",
       "      <td>-1302.641987</td>\n",
       "      <td>0.941341</td>\n",
       "      <td>-7.871603</td>\n",
       "    </tr>\n",
       "    <tr>\n",
       "      <th>27</th>\n",
       "      <td>linear</td>\n",
       "      <td>auto</td>\n",
       "      <td>2</td>\n",
       "      <td>5.0</td>\n",
       "      <td>-1302.641987</td>\n",
       "      <td>0.941341</td>\n",
       "      <td>-7.871603</td>\n",
       "    </tr>\n",
       "    <tr>\n",
       "      <th>30</th>\n",
       "      <td>linear</td>\n",
       "      <td>scale</td>\n",
       "      <td>3</td>\n",
       "      <td>5.0</td>\n",
       "      <td>-1302.641987</td>\n",
       "      <td>0.941341</td>\n",
       "      <td>-7.871603</td>\n",
       "    </tr>\n",
       "    <tr>\n",
       "      <th>33</th>\n",
       "      <td>linear</td>\n",
       "      <td>auto</td>\n",
       "      <td>3</td>\n",
       "      <td>5.0</td>\n",
       "      <td>-1302.641987</td>\n",
       "      <td>0.941341</td>\n",
       "      <td>-7.871603</td>\n",
       "    </tr>\n",
       "  </tbody>\n",
       "</table>\n",
       "</div>"
      ],
      "text/plain": [
       "    kernel  gamma  degree    C  neg_mean_squared_error        r2  \\\n",
       "34    poly   auto       3  5.0          -372130.043208 -4.544312   \n",
       "31    poly  scale       3  5.0          -279705.777552 -3.383910   \n",
       "22    poly   auto       3  1.0           -71377.401155 -0.379803   \n",
       "19    poly  scale       3  1.0           -48720.511491 -0.139300   \n",
       "7     poly  scale       3  0.5           -17681.237018  0.303685   \n",
       "10    poly   auto       3  0.5           -24453.974115  0.298678   \n",
       "5      rbf   auto       2  0.5           -17793.667766  0.186484   \n",
       "11     rbf   auto       3  0.5           -17793.667766  0.186484   \n",
       "2      rbf  scale       2  0.5           -17609.165529  0.186599   \n",
       "8      rbf  scale       3  0.5           -17609.165529  0.186599   \n",
       "1     poly  scale       2  0.5            -3407.855587  0.844426   \n",
       "23     rbf   auto       3  1.0           -17054.184499  0.232853   \n",
       "17     rbf   auto       2  1.0           -17054.184499  0.232853   \n",
       "4     poly   auto       2  0.5            -3260.833470  0.853287   \n",
       "13    poly  scale       2  1.0            -3466.721195  0.834025   \n",
       "14     rbf  scale       2  1.0           -16822.141141  0.234756   \n",
       "20     rbf  scale       3  1.0           -16822.141141  0.234756   \n",
       "16    poly   auto       2  1.0            -3445.480482  0.837871   \n",
       "25    poly  scale       2  5.0            -5182.573899  0.797933   \n",
       "28    poly   auto       2  5.0            -5336.390636  0.787824   \n",
       "29     rbf   auto       2  5.0           -15238.574207  0.350953   \n",
       "35     rbf   auto       3  5.0           -15238.574207  0.350953   \n",
       "26     rbf  scale       2  5.0           -15038.996082  0.348828   \n",
       "32     rbf  scale       3  5.0           -15038.996082  0.348828   \n",
       "9   linear   auto       3  0.5            -1254.418712  0.935876   \n",
       "6   linear  scale       3  0.5            -1254.418712  0.935876   \n",
       "3   linear   auto       2  0.5            -1254.418712  0.935876   \n",
       "0   linear  scale       2  0.5            -1254.418712  0.935876   \n",
       "18  linear  scale       3  1.0            -1286.997938  0.938124   \n",
       "15  linear   auto       2  1.0            -1286.997938  0.938124   \n",
       "12  linear  scale       2  1.0            -1286.997938  0.938124   \n",
       "21  linear   auto       3  1.0            -1286.997938  0.938124   \n",
       "24  linear  scale       2  5.0            -1302.641987  0.941341   \n",
       "27  linear   auto       2  5.0            -1302.641987  0.941341   \n",
       "30  linear  scale       3  5.0            -1302.641987  0.941341   \n",
       "33  linear   auto       3  5.0            -1302.641987  0.941341   \n",
       "\n",
       "    neg_mean_absolute_error  \n",
       "34               -25.753540  \n",
       "31               -25.500490  \n",
       "22               -22.511241  \n",
       "19               -22.081667  \n",
       "7                -21.381395  \n",
       "10               -21.260610  \n",
       "5                -20.584071  \n",
       "11               -20.584071  \n",
       "2                -20.346555  \n",
       "8                -20.346555  \n",
       "1                -19.100510  \n",
       "23               -18.808657  \n",
       "17               -18.808657  \n",
       "4                -18.765522  \n",
       "13               -18.525464  \n",
       "14               -18.456471  \n",
       "20               -18.456471  \n",
       "16               -18.375566  \n",
       "25               -17.519471  \n",
       "28               -17.355768  \n",
       "29               -15.434017  \n",
       "35               -15.434017  \n",
       "26               -15.024189  \n",
       "32               -15.024189  \n",
       "9                 -8.078719  \n",
       "6                 -8.078719  \n",
       "3                 -8.078719  \n",
       "0                 -8.078719  \n",
       "18                -7.984688  \n",
       "15                -7.984688  \n",
       "12                -7.984688  \n",
       "21                -7.984688  \n",
       "24                -7.871603  \n",
       "27                -7.871603  \n",
       "30                -7.871603  \n",
       "33                -7.871603  "
      ]
     },
     "execution_count": 13,
     "metadata": {},
     "output_type": "execute_result"
    }
   ],
   "source": [
    "SVR_summary = GridSearchSummary(SVR_search, \n",
    "                  [\"kernel\", \"gamma\", \"degree\", \"C\"],\n",
    "                  scoring_metrics,\n",
    "                  \"../Data/Model Results/SVR_search.csv\")\n",
    "\n",
    "SVR_summary.sort_values(by=[\"neg_mean_absolute_error\"])"
   ]
  },
  {
   "cell_type": "markdown",
   "metadata": {},
   "source": [
    "## Run GridSearchCV using LinearSVR"
   ]
  },
  {
   "cell_type": "code",
   "execution_count": 19,
   "metadata": {},
   "outputs": [],
   "source": [
    "# define scoring metrics\n",
    "scoring_metrics = [\"neg_mean_squared_error\", \"r2\", \"neg_mean_absolute_error\"]"
   ]
  },
  {
   "cell_type": "code",
   "execution_count": 21,
   "metadata": {
    "scrolled": false
   },
   "outputs": [
    {
     "name": "stdout",
     "output_type": "stream",
     "text": [
      "Start:  28/05/2021 20:05:41\n",
      "Fitting 32 folds for each of 12 candidates, totalling 384 fits\n",
      "[CV] END ....................C=0.1, loss=epsilon_insensitive; total time=   0.0s\n",
      "[CV] END ....................C=0.1, loss=epsilon_insensitive; total time=   0.1s\n",
      "[CV] END ....................C=0.1, loss=epsilon_insensitive; total time=   0.0s\n",
      "[CV] END ....................C=0.1, loss=epsilon_insensitive; total time=   0.0s\n",
      "[CV] END ....................C=0.1, loss=epsilon_insensitive; total time=   0.0s\n",
      "[CV] END ....................C=0.1, loss=epsilon_insensitive; total time=   0.0s\n",
      "[CV] END ....................C=0.1, loss=epsilon_insensitive; total time=   0.0s\n",
      "[CV] END ....................C=0.1, loss=epsilon_insensitive; total time=   0.0s\n",
      "[CV] END ....................C=0.1, loss=epsilon_insensitive; total time=   0.0s\n",
      "[CV] END ....................C=0.1, loss=epsilon_insensitive; total time=   0.0s\n",
      "[CV] END ....................C=0.1, loss=epsilon_insensitive; total time=   0.0s\n",
      "[CV] END ....................C=0.1, loss=epsilon_insensitive; total time=   0.0s\n",
      "[CV] END ....................C=0.1, loss=epsilon_insensitive; total time=   0.0s\n",
      "[CV] END ....................C=0.1, loss=epsilon_insensitive; total time=   0.0s\n",
      "[CV] END ....................C=0.1, loss=epsilon_insensitive; total time=   0.0s\n",
      "[CV] END ....................C=0.1, loss=epsilon_insensitive; total time=   0.0s\n",
      "[CV] END ....................C=0.1, loss=epsilon_insensitive; total time=   0.0s\n",
      "[CV] END ....................C=0.1, loss=epsilon_insensitive; total time=   0.0s\n",
      "[CV] END ....................C=0.1, loss=epsilon_insensitive; total time=   0.1s\n",
      "[CV] END ....................C=0.1, loss=epsilon_insensitive; total time=   0.0s\n",
      "[CV] END ....................C=0.1, loss=epsilon_insensitive; total time=   0.0s\n",
      "[CV] END ....................C=0.1, loss=epsilon_insensitive; total time=   0.0s\n",
      "[CV] END ....................C=0.1, loss=epsilon_insensitive; total time=   0.0s\n",
      "[CV] END ....................C=0.1, loss=epsilon_insensitive; total time=   0.0s\n",
      "[CV] END ....................C=0.1, loss=epsilon_insensitive; total time=   0.0s\n",
      "[CV] END ....................C=0.1, loss=epsilon_insensitive; total time=   0.0s\n",
      "[CV] END ....................C=0.1, loss=epsilon_insensitive; total time=   0.0s\n",
      "[CV] END ....................C=0.1, loss=epsilon_insensitive; total time=   0.0s\n",
      "[CV] END ....................C=0.1, loss=epsilon_insensitive; total time=   0.0s\n",
      "[CV] END ....................C=0.1, loss=epsilon_insensitive; total time=   0.1s\n",
      "[CV] END ....................C=0.1, loss=epsilon_insensitive; total time=   0.1s\n",
      "[CV] END ....................C=0.1, loss=epsilon_insensitive; total time=   0.0s\n",
      "[CV] END ............C=0.1, loss=squared_epsilon_insensitive; total time=   0.9s\n",
      "[CV] END ............C=0.1, loss=squared_epsilon_insensitive; total time=   1.1s\n",
      "[CV] END ............C=0.1, loss=squared_epsilon_insensitive; total time=   1.0s\n",
      "[CV] END ............C=0.1, loss=squared_epsilon_insensitive; total time=   1.0s\n",
      "[CV] END ............C=0.1, loss=squared_epsilon_insensitive; total time=   0.9s\n",
      "[CV] END ............C=0.1, loss=squared_epsilon_insensitive; total time=   0.7s\n",
      "[CV] END ............C=0.1, loss=squared_epsilon_insensitive; total time=   0.9s\n",
      "[CV] END ............C=0.1, loss=squared_epsilon_insensitive; total time=   1.3s\n",
      "[CV] END ............C=0.1, loss=squared_epsilon_insensitive; total time=   1.1s\n",
      "[CV] END ............C=0.1, loss=squared_epsilon_insensitive; total time=   1.0s\n",
      "[CV] END ............C=0.1, loss=squared_epsilon_insensitive; total time=   1.5s\n",
      "[CV] END ............C=0.1, loss=squared_epsilon_insensitive; total time=   1.6s\n",
      "[CV] END ............C=0.1, loss=squared_epsilon_insensitive; total time=   2.9s\n",
      "[CV] END ............C=0.1, loss=squared_epsilon_insensitive; total time=   3.8s\n",
      "[CV] END ............C=0.1, loss=squared_epsilon_insensitive; total time=   2.7s\n",
      "[CV] END ............C=0.1, loss=squared_epsilon_insensitive; total time=   3.0s\n",
      "[CV] END ............C=0.1, loss=squared_epsilon_insensitive; total time=   2.8s\n",
      "[CV] END ............C=0.1, loss=squared_epsilon_insensitive; total time=   2.5s\n",
      "[CV] END ............C=0.1, loss=squared_epsilon_insensitive; total time=   2.1s\n",
      "[CV] END ............C=0.1, loss=squared_epsilon_insensitive; total time=   2.3s\n",
      "[CV] END ............C=0.1, loss=squared_epsilon_insensitive; total time=   1.9s\n",
      "[CV] END ............C=0.1, loss=squared_epsilon_insensitive; total time=   2.0s\n",
      "[CV] END ............C=0.1, loss=squared_epsilon_insensitive; total time=   1.6s\n",
      "[CV] END ............C=0.1, loss=squared_epsilon_insensitive; total time=   1.6s\n",
      "[CV] END ............C=0.1, loss=squared_epsilon_insensitive; total time=   1.7s\n",
      "[CV] END ............C=0.1, loss=squared_epsilon_insensitive; total time=   1.5s\n",
      "[CV] END ............C=0.1, loss=squared_epsilon_insensitive; total time=   1.3s\n",
      "[CV] END ............C=0.1, loss=squared_epsilon_insensitive; total time=   1.2s\n",
      "[CV] END ............C=0.1, loss=squared_epsilon_insensitive; total time=   0.9s\n",
      "[CV] END ............C=0.1, loss=squared_epsilon_insensitive; total time=   0.9s\n",
      "[CV] END ............C=0.1, loss=squared_epsilon_insensitive; total time=   1.0s\n",
      "[CV] END ............C=0.1, loss=squared_epsilon_insensitive; total time=   1.1s\n",
      "[CV] END ....................C=0.5, loss=epsilon_insensitive; total time=   0.1s\n",
      "[CV] END ....................C=0.5, loss=epsilon_insensitive; total time=   0.1s\n",
      "[CV] END ....................C=0.5, loss=epsilon_insensitive; total time=   0.0s\n",
      "[CV] END ....................C=0.5, loss=epsilon_insensitive; total time=   0.0s\n",
      "[CV] END ....................C=0.5, loss=epsilon_insensitive; total time=   0.1s\n",
      "[CV] END ....................C=0.5, loss=epsilon_insensitive; total time=   0.0s\n",
      "[CV] END ....................C=0.5, loss=epsilon_insensitive; total time=   0.1s\n",
      "[CV] END ....................C=0.5, loss=epsilon_insensitive; total time=   0.1s\n",
      "[CV] END ....................C=0.5, loss=epsilon_insensitive; total time=   0.0s\n",
      "[CV] END ....................C=0.5, loss=epsilon_insensitive; total time=   0.1s\n",
      "[CV] END ....................C=0.5, loss=epsilon_insensitive; total time=   0.1s\n",
      "[CV] END ....................C=0.5, loss=epsilon_insensitive; total time=   0.0s\n",
      "[CV] END ....................C=0.5, loss=epsilon_insensitive; total time=   0.0s\n",
      "[CV] END ....................C=0.5, loss=epsilon_insensitive; total time=   0.0s\n",
      "[CV] END ....................C=0.5, loss=epsilon_insensitive; total time=   0.1s\n",
      "[CV] END ....................C=0.5, loss=epsilon_insensitive; total time=   0.0s\n",
      "[CV] END ....................C=0.5, loss=epsilon_insensitive; total time=   0.0s\n",
      "[CV] END ....................C=0.5, loss=epsilon_insensitive; total time=   0.1s\n",
      "[CV] END ....................C=0.5, loss=epsilon_insensitive; total time=   0.0s\n",
      "[CV] END ....................C=0.5, loss=epsilon_insensitive; total time=   0.1s\n",
      "[CV] END ....................C=0.5, loss=epsilon_insensitive; total time=   0.1s\n",
      "[CV] END ....................C=0.5, loss=epsilon_insensitive; total time=   0.1s\n",
      "[CV] END ....................C=0.5, loss=epsilon_insensitive; total time=   0.1s\n",
      "[CV] END ....................C=0.5, loss=epsilon_insensitive; total time=   0.1s\n",
      "[CV] END ....................C=0.5, loss=epsilon_insensitive; total time=   0.1s\n",
      "[CV] END ....................C=0.5, loss=epsilon_insensitive; total time=   0.1s\n",
      "[CV] END ....................C=0.5, loss=epsilon_insensitive; total time=   0.1s\n",
      "[CV] END ....................C=0.5, loss=epsilon_insensitive; total time=   0.1s\n",
      "[CV] END ....................C=0.5, loss=epsilon_insensitive; total time=   0.1s\n",
      "[CV] END ....................C=0.5, loss=epsilon_insensitive; total time=   0.2s\n",
      "[CV] END ....................C=0.5, loss=epsilon_insensitive; total time=   0.1s\n",
      "[CV] END ....................C=0.5, loss=epsilon_insensitive; total time=   0.1s\n",
      "[CV] END ............C=0.5, loss=squared_epsilon_insensitive; total time=   3.2s\n",
      "[CV] END ............C=0.5, loss=squared_epsilon_insensitive; total time=   3.4s\n",
      "[CV] END ............C=0.5, loss=squared_epsilon_insensitive; total time=   3.4s\n",
      "[CV] END ............C=0.5, loss=squared_epsilon_insensitive; total time=   3.4s\n",
      "[CV] END ............C=0.5, loss=squared_epsilon_insensitive; total time=   3.3s\n"
     ]
    },
    {
     "name": "stdout",
     "output_type": "stream",
     "text": [
      "[CV] END ............C=0.5, loss=squared_epsilon_insensitive; total time=   2.9s\n",
      "[CV] END ............C=0.5, loss=squared_epsilon_insensitive; total time=   3.0s\n",
      "[CV] END ............C=0.5, loss=squared_epsilon_insensitive; total time=   3.6s\n",
      "[CV] END ............C=0.5, loss=squared_epsilon_insensitive; total time=   4.4s\n",
      "[CV] END ............C=0.5, loss=squared_epsilon_insensitive; total time=   4.0s\n",
      "[CV] END ............C=0.5, loss=squared_epsilon_insensitive; total time=   4.7s\n",
      "[CV] END ............C=0.5, loss=squared_epsilon_insensitive; total time=   8.8s\n",
      "[CV] END ............C=0.5, loss=squared_epsilon_insensitive; total time=  12.5s\n",
      "[CV] END ............C=0.5, loss=squared_epsilon_insensitive; total time=  12.3s\n",
      "[CV] END ............C=0.5, loss=squared_epsilon_insensitive; total time=  12.6s\n",
      "[CV] END ............C=0.5, loss=squared_epsilon_insensitive; total time=  14.1s\n",
      "[CV] END ............C=0.5, loss=squared_epsilon_insensitive; total time=  13.1s\n",
      "[CV] END ............C=0.5, loss=squared_epsilon_insensitive; total time=  13.8s\n",
      "[CV] END ............C=0.5, loss=squared_epsilon_insensitive; total time=   9.4s\n",
      "[CV] END ............C=0.5, loss=squared_epsilon_insensitive; total time=  11.0s\n",
      "[CV] END ............C=0.5, loss=squared_epsilon_insensitive; total time=   9.4s\n",
      "[CV] END ............C=0.5, loss=squared_epsilon_insensitive; total time=  11.1s\n",
      "[CV] END ............C=0.5, loss=squared_epsilon_insensitive; total time=  12.9s\n",
      "[CV] END ............C=0.5, loss=squared_epsilon_insensitive; total time=   7.8s\n",
      "[CV] END ............C=0.5, loss=squared_epsilon_insensitive; total time=   7.1s\n",
      "[CV] END ............C=0.5, loss=squared_epsilon_insensitive; total time=  11.8s\n",
      "[CV] END ............C=0.5, loss=squared_epsilon_insensitive; total time=   5.6s\n",
      "[CV] END ............C=0.5, loss=squared_epsilon_insensitive; total time=  12.8s\n",
      "[CV] END ............C=0.5, loss=squared_epsilon_insensitive; total time=   9.5s\n",
      "[CV] END ............C=0.5, loss=squared_epsilon_insensitive; total time=   9.1s\n",
      "[CV] END ............C=0.5, loss=squared_epsilon_insensitive; total time=   7.7s\n",
      "[CV] END ............C=0.5, loss=squared_epsilon_insensitive; total time=  12.2s\n",
      "[CV] END ......................C=1, loss=epsilon_insensitive; total time=   0.4s\n",
      "[CV] END ......................C=1, loss=epsilon_insensitive; total time=   0.2s\n",
      "[CV] END ......................C=1, loss=epsilon_insensitive; total time=   0.1s\n",
      "[CV] END ......................C=1, loss=epsilon_insensitive; total time=   0.2s\n",
      "[CV] END ......................C=1, loss=epsilon_insensitive; total time=   0.1s\n",
      "[CV] END ......................C=1, loss=epsilon_insensitive; total time=   0.1s\n",
      "[CV] END ......................C=1, loss=epsilon_insensitive; total time=   0.2s\n",
      "[CV] END ......................C=1, loss=epsilon_insensitive; total time=   0.1s\n",
      "[CV] END ......................C=1, loss=epsilon_insensitive; total time=   0.1s\n",
      "[CV] END ......................C=1, loss=epsilon_insensitive; total time=   0.1s\n",
      "[CV] END ......................C=1, loss=epsilon_insensitive; total time=   0.1s\n",
      "[CV] END ......................C=1, loss=epsilon_insensitive; total time=   0.1s\n",
      "[CV] END ......................C=1, loss=epsilon_insensitive; total time=   0.1s\n",
      "[CV] END ......................C=1, loss=epsilon_insensitive; total time=   0.1s\n",
      "[CV] END ......................C=1, loss=epsilon_insensitive; total time=   0.1s\n",
      "[CV] END ......................C=1, loss=epsilon_insensitive; total time=   0.2s\n",
      "[CV] END ......................C=1, loss=epsilon_insensitive; total time=   0.4s\n",
      "[CV] END ......................C=1, loss=epsilon_insensitive; total time=   0.1s\n",
      "[CV] END ......................C=1, loss=epsilon_insensitive; total time=   0.2s\n",
      "[CV] END ......................C=1, loss=epsilon_insensitive; total time=   0.2s\n",
      "[CV] END ......................C=1, loss=epsilon_insensitive; total time=   0.2s\n",
      "[CV] END ......................C=1, loss=epsilon_insensitive; total time=   0.2s\n",
      "[CV] END ......................C=1, loss=epsilon_insensitive; total time=   0.1s\n",
      "[CV] END ......................C=1, loss=epsilon_insensitive; total time=   0.3s\n",
      "[CV] END ......................C=1, loss=epsilon_insensitive; total time=   0.3s\n",
      "[CV] END ......................C=1, loss=epsilon_insensitive; total time=   0.3s\n",
      "[CV] END ......................C=1, loss=epsilon_insensitive; total time=   0.3s\n",
      "[CV] END ......................C=1, loss=epsilon_insensitive; total time=   0.3s\n",
      "[CV] END ......................C=1, loss=epsilon_insensitive; total time=   0.2s\n",
      "[CV] END ......................C=1, loss=epsilon_insensitive; total time=   0.5s\n",
      "[CV] END ......................C=1, loss=epsilon_insensitive; total time=   0.5s\n",
      "[CV] END ......................C=1, loss=epsilon_insensitive; total time=   0.3s\n",
      "[CV] END ..............C=1, loss=squared_epsilon_insensitive; total time=  14.8s\n",
      "[CV] END ..............C=1, loss=squared_epsilon_insensitive; total time=  11.7s\n",
      "[CV] END ..............C=1, loss=squared_epsilon_insensitive; total time=  21.9s\n",
      "[CV] END ..............C=1, loss=squared_epsilon_insensitive; total time=  21.9s\n",
      "[CV] END ..............C=1, loss=squared_epsilon_insensitive; total time=  18.0s\n",
      "[CV] END ..............C=1, loss=squared_epsilon_insensitive; total time=  13.6s\n",
      "[CV] END ..............C=1, loss=squared_epsilon_insensitive; total time=  16.1s\n",
      "[CV] END ..............C=1, loss=squared_epsilon_insensitive; total time=  21.2s\n",
      "[CV] END ..............C=1, loss=squared_epsilon_insensitive; total time=  18.2s\n",
      "[CV] END ..............C=1, loss=squared_epsilon_insensitive; total time=  17.5s\n",
      "[CV] END ..............C=1, loss=squared_epsilon_insensitive; total time=  20.3s\n",
      "[CV] END ..............C=1, loss=squared_epsilon_insensitive; total time=  32.1s\n",
      "[CV] END ..............C=1, loss=squared_epsilon_insensitive; total time=  49.7s\n",
      "[CV] END ..............C=1, loss=squared_epsilon_insensitive; total time=  49.1s\n",
      "[CV] END ..............C=1, loss=squared_epsilon_insensitive; total time=  51.6s\n",
      "[CV] END ..............C=1, loss=squared_epsilon_insensitive; total time= 1.1min\n",
      "[CV] END ..............C=1, loss=squared_epsilon_insensitive; total time=  57.0s\n",
      "[CV] END ..............C=1, loss=squared_epsilon_insensitive; total time=  29.7s\n",
      "[CV] END ..............C=1, loss=squared_epsilon_insensitive; total time=  37.4s\n",
      "[CV] END ..............C=1, loss=squared_epsilon_insensitive; total time=  42.7s\n",
      "[CV] END ..............C=1, loss=squared_epsilon_insensitive; total time=  46.8s\n",
      "[CV] END ..............C=1, loss=squared_epsilon_insensitive; total time=  36.0s\n",
      "[CV] END ..............C=1, loss=squared_epsilon_insensitive; total time=  26.7s\n",
      "[CV] END ..............C=1, loss=squared_epsilon_insensitive; total time=  30.1s\n",
      "[CV] END ..............C=1, loss=squared_epsilon_insensitive; total time=  27.1s\n",
      "[CV] END ..............C=1, loss=squared_epsilon_insensitive; total time=  27.8s\n",
      "[CV] END ..............C=1, loss=squared_epsilon_insensitive; total time=  30.0s\n",
      "[CV] END ..............C=1, loss=squared_epsilon_insensitive; total time=  25.7s\n",
      "[CV] END ..............C=1, loss=squared_epsilon_insensitive; total time=  15.4s\n",
      "[CV] END ..............C=1, loss=squared_epsilon_insensitive; total time=  11.7s\n",
      "[CV] END ..............C=1, loss=squared_epsilon_insensitive; total time=  14.0s\n",
      "[CV] END ..............C=1, loss=squared_epsilon_insensitive; total time=  13.8s\n",
      "[CV] END ......................C=5, loss=epsilon_insensitive; total time=   0.5s\n",
      "[CV] END ......................C=5, loss=epsilon_insensitive; total time=   0.3s\n",
      "[CV] END ......................C=5, loss=epsilon_insensitive; total time=   0.3s\n",
      "[CV] END ......................C=5, loss=epsilon_insensitive; total time=   0.4s\n",
      "[CV] END ......................C=5, loss=epsilon_insensitive; total time=   0.4s\n",
      "[CV] END ......................C=5, loss=epsilon_insensitive; total time=   0.3s\n",
      "[CV] END ......................C=5, loss=epsilon_insensitive; total time=   0.7s\n",
      "[CV] END ......................C=5, loss=epsilon_insensitive; total time=   0.3s\n",
      "[CV] END ......................C=5, loss=epsilon_insensitive; total time=   0.2s\n",
      "[CV] END ......................C=5, loss=epsilon_insensitive; total time=   0.3s\n",
      "[CV] END ......................C=5, loss=epsilon_insensitive; total time=   0.5s\n",
      "[CV] END ......................C=5, loss=epsilon_insensitive; total time=   0.1s\n"
     ]
    },
    {
     "name": "stdout",
     "output_type": "stream",
     "text": [
      "[CV] END ......................C=5, loss=epsilon_insensitive; total time=   0.4s\n",
      "[CV] END ......................C=5, loss=epsilon_insensitive; total time=   0.3s\n",
      "[CV] END ......................C=5, loss=epsilon_insensitive; total time=   0.4s\n",
      "[CV] END ......................C=5, loss=epsilon_insensitive; total time=   0.4s\n",
      "[CV] END ......................C=5, loss=epsilon_insensitive; total time=   0.6s\n",
      "[CV] END ......................C=5, loss=epsilon_insensitive; total time=   0.2s\n",
      "[CV] END ......................C=5, loss=epsilon_insensitive; total time=   0.4s\n",
      "[CV] END ......................C=5, loss=epsilon_insensitive; total time=   0.3s\n",
      "[CV] END ......................C=5, loss=epsilon_insensitive; total time=   0.3s\n",
      "[CV] END ......................C=5, loss=epsilon_insensitive; total time=   0.4s\n",
      "[CV] END ......................C=5, loss=epsilon_insensitive; total time=   0.2s\n",
      "[CV] END ......................C=5, loss=epsilon_insensitive; total time=   0.5s\n",
      "[CV] END ......................C=5, loss=epsilon_insensitive; total time=   0.4s\n",
      "[CV] END ......................C=5, loss=epsilon_insensitive; total time=   0.6s\n",
      "[CV] END ......................C=5, loss=epsilon_insensitive; total time=   0.7s\n",
      "[CV] END ......................C=5, loss=epsilon_insensitive; total time=   0.6s\n",
      "[CV] END ......................C=5, loss=epsilon_insensitive; total time=   0.7s\n",
      "[CV] END ......................C=5, loss=epsilon_insensitive; total time=   0.7s\n",
      "[CV] END ......................C=5, loss=epsilon_insensitive; total time=   1.0s\n",
      "[CV] END ......................C=5, loss=epsilon_insensitive; total time=   0.6s\n",
      "[CV] END ..............C=5, loss=squared_epsilon_insensitive; total time=  45.6s\n",
      "[CV] END ..............C=5, loss=squared_epsilon_insensitive; total time=  46.0s\n",
      "[CV] END ..............C=5, loss=squared_epsilon_insensitive; total time=  45.1s\n",
      "[CV] END ..............C=5, loss=squared_epsilon_insensitive; total time=  44.7s\n",
      "[CV] END ..............C=5, loss=squared_epsilon_insensitive; total time=  46.3s\n",
      "[CV] END ..............C=5, loss=squared_epsilon_insensitive; total time=  43.5s\n",
      "[CV] END ..............C=5, loss=squared_epsilon_insensitive; total time=  38.2s\n",
      "[CV] END ..............C=5, loss=squared_epsilon_insensitive; total time=  53.6s\n",
      "[CV] END ..............C=5, loss=squared_epsilon_insensitive; total time= 1.1min\n",
      "[CV] END ..............C=5, loss=squared_epsilon_insensitive; total time=  49.3s\n"
     ]
    },
    {
     "name": "stderr",
     "output_type": "stream",
     "text": [
      "/anaconda3/lib/python3.7/site-packages/sklearn/svm/_base.py:986: ConvergenceWarning: Liblinear failed to converge, increase the number of iterations.\n",
      "  \"the number of iterations.\", ConvergenceWarning)\n"
     ]
    },
    {
     "name": "stdout",
     "output_type": "stream",
     "text": [
      "[CV] END ..............C=5, loss=squared_epsilon_insensitive; total time= 1.2min\n"
     ]
    },
    {
     "name": "stderr",
     "output_type": "stream",
     "text": [
      "/anaconda3/lib/python3.7/site-packages/sklearn/svm/_base.py:986: ConvergenceWarning: Liblinear failed to converge, increase the number of iterations.\n",
      "  \"the number of iterations.\", ConvergenceWarning)\n"
     ]
    },
    {
     "name": "stdout",
     "output_type": "stream",
     "text": [
      "[CV] END ..............C=5, loss=squared_epsilon_insensitive; total time= 1.0min\n"
     ]
    },
    {
     "name": "stderr",
     "output_type": "stream",
     "text": [
      "/anaconda3/lib/python3.7/site-packages/sklearn/svm/_base.py:986: ConvergenceWarning: Liblinear failed to converge, increase the number of iterations.\n",
      "  \"the number of iterations.\", ConvergenceWarning)\n"
     ]
    },
    {
     "name": "stdout",
     "output_type": "stream",
     "text": [
      "[CV] END ..............C=5, loss=squared_epsilon_insensitive; total time= 1.5min\n"
     ]
    },
    {
     "name": "stderr",
     "output_type": "stream",
     "text": [
      "/anaconda3/lib/python3.7/site-packages/sklearn/svm/_base.py:986: ConvergenceWarning: Liblinear failed to converge, increase the number of iterations.\n",
      "  \"the number of iterations.\", ConvergenceWarning)\n"
     ]
    },
    {
     "name": "stdout",
     "output_type": "stream",
     "text": [
      "[CV] END ..............C=5, loss=squared_epsilon_insensitive; total time=  48.4s\n"
     ]
    },
    {
     "name": "stderr",
     "output_type": "stream",
     "text": [
      "/anaconda3/lib/python3.7/site-packages/sklearn/svm/_base.py:986: ConvergenceWarning: Liblinear failed to converge, increase the number of iterations.\n",
      "  \"the number of iterations.\", ConvergenceWarning)\n"
     ]
    },
    {
     "name": "stdout",
     "output_type": "stream",
     "text": [
      "[CV] END ..............C=5, loss=squared_epsilon_insensitive; total time= 1.1min\n"
     ]
    },
    {
     "name": "stderr",
     "output_type": "stream",
     "text": [
      "/anaconda3/lib/python3.7/site-packages/sklearn/svm/_base.py:986: ConvergenceWarning: Liblinear failed to converge, increase the number of iterations.\n",
      "  \"the number of iterations.\", ConvergenceWarning)\n"
     ]
    },
    {
     "name": "stdout",
     "output_type": "stream",
     "text": [
      "[CV] END ..............C=5, loss=squared_epsilon_insensitive; total time=  47.7s\n"
     ]
    },
    {
     "name": "stderr",
     "output_type": "stream",
     "text": [
      "/anaconda3/lib/python3.7/site-packages/sklearn/svm/_base.py:986: ConvergenceWarning: Liblinear failed to converge, increase the number of iterations.\n",
      "  \"the number of iterations.\", ConvergenceWarning)\n"
     ]
    },
    {
     "name": "stdout",
     "output_type": "stream",
     "text": [
      "[CV] END ..............C=5, loss=squared_epsilon_insensitive; total time=  44.9s\n"
     ]
    },
    {
     "name": "stderr",
     "output_type": "stream",
     "text": [
      "/anaconda3/lib/python3.7/site-packages/sklearn/svm/_base.py:986: ConvergenceWarning: Liblinear failed to converge, increase the number of iterations.\n",
      "  \"the number of iterations.\", ConvergenceWarning)\n"
     ]
    },
    {
     "name": "stdout",
     "output_type": "stream",
     "text": [
      "[CV] END ..............C=5, loss=squared_epsilon_insensitive; total time=  50.4s\n"
     ]
    },
    {
     "name": "stderr",
     "output_type": "stream",
     "text": [
      "/anaconda3/lib/python3.7/site-packages/sklearn/svm/_base.py:986: ConvergenceWarning: Liblinear failed to converge, increase the number of iterations.\n",
      "  \"the number of iterations.\", ConvergenceWarning)\n"
     ]
    },
    {
     "name": "stdout",
     "output_type": "stream",
     "text": [
      "[CV] END ..............C=5, loss=squared_epsilon_insensitive; total time=  41.1s\n"
     ]
    },
    {
     "name": "stderr",
     "output_type": "stream",
     "text": [
      "/anaconda3/lib/python3.7/site-packages/sklearn/svm/_base.py:986: ConvergenceWarning: Liblinear failed to converge, increase the number of iterations.\n",
      "  \"the number of iterations.\", ConvergenceWarning)\n"
     ]
    },
    {
     "name": "stdout",
     "output_type": "stream",
     "text": [
      "[CV] END ..............C=5, loss=squared_epsilon_insensitive; total time=  41.6s\n"
     ]
    },
    {
     "name": "stderr",
     "output_type": "stream",
     "text": [
      "/anaconda3/lib/python3.7/site-packages/sklearn/svm/_base.py:986: ConvergenceWarning: Liblinear failed to converge, increase the number of iterations.\n",
      "  \"the number of iterations.\", ConvergenceWarning)\n"
     ]
    },
    {
     "name": "stdout",
     "output_type": "stream",
     "text": [
      "[CV] END ..............C=5, loss=squared_epsilon_insensitive; total time=  41.9s\n"
     ]
    },
    {
     "name": "stderr",
     "output_type": "stream",
     "text": [
      "/anaconda3/lib/python3.7/site-packages/sklearn/svm/_base.py:986: ConvergenceWarning: Liblinear failed to converge, increase the number of iterations.\n",
      "  \"the number of iterations.\", ConvergenceWarning)\n"
     ]
    },
    {
     "name": "stdout",
     "output_type": "stream",
     "text": [
      "[CV] END ..............C=5, loss=squared_epsilon_insensitive; total time=  47.0s\n"
     ]
    },
    {
     "name": "stderr",
     "output_type": "stream",
     "text": [
      "/anaconda3/lib/python3.7/site-packages/sklearn/svm/_base.py:986: ConvergenceWarning: Liblinear failed to converge, increase the number of iterations.\n",
      "  \"the number of iterations.\", ConvergenceWarning)\n"
     ]
    },
    {
     "name": "stdout",
     "output_type": "stream",
     "text": [
      "[CV] END ..............C=5, loss=squared_epsilon_insensitive; total time=  42.2s\n"
     ]
    },
    {
     "name": "stderr",
     "output_type": "stream",
     "text": [
      "/anaconda3/lib/python3.7/site-packages/sklearn/svm/_base.py:986: ConvergenceWarning: Liblinear failed to converge, increase the number of iterations.\n",
      "  \"the number of iterations.\", ConvergenceWarning)\n"
     ]
    },
    {
     "name": "stdout",
     "output_type": "stream",
     "text": [
      "[CV] END ..............C=5, loss=squared_epsilon_insensitive; total time=  42.6s\n"
     ]
    },
    {
     "name": "stderr",
     "output_type": "stream",
     "text": [
      "/anaconda3/lib/python3.7/site-packages/sklearn/svm/_base.py:986: ConvergenceWarning: Liblinear failed to converge, increase the number of iterations.\n",
      "  \"the number of iterations.\", ConvergenceWarning)\n"
     ]
    },
    {
     "name": "stdout",
     "output_type": "stream",
     "text": [
      "[CV] END ..............C=5, loss=squared_epsilon_insensitive; total time=  32.7s\n"
     ]
    },
    {
     "name": "stderr",
     "output_type": "stream",
     "text": [
      "/anaconda3/lib/python3.7/site-packages/sklearn/svm/_base.py:986: ConvergenceWarning: Liblinear failed to converge, increase the number of iterations.\n",
      "  \"the number of iterations.\", ConvergenceWarning)\n"
     ]
    },
    {
     "name": "stdout",
     "output_type": "stream",
     "text": [
      "[CV] END ..............C=5, loss=squared_epsilon_insensitive; total time=  32.6s\n"
     ]
    },
    {
     "name": "stderr",
     "output_type": "stream",
     "text": [
      "/anaconda3/lib/python3.7/site-packages/sklearn/svm/_base.py:986: ConvergenceWarning: Liblinear failed to converge, increase the number of iterations.\n",
      "  \"the number of iterations.\", ConvergenceWarning)\n"
     ]
    },
    {
     "name": "stdout",
     "output_type": "stream",
     "text": [
      "[CV] END ..............C=5, loss=squared_epsilon_insensitive; total time=  32.4s\n"
     ]
    },
    {
     "name": "stderr",
     "output_type": "stream",
     "text": [
      "/anaconda3/lib/python3.7/site-packages/sklearn/svm/_base.py:986: ConvergenceWarning: Liblinear failed to converge, increase the number of iterations.\n",
      "  \"the number of iterations.\", ConvergenceWarning)\n"
     ]
    },
    {
     "name": "stdout",
     "output_type": "stream",
     "text": [
      "[CV] END ..............C=5, loss=squared_epsilon_insensitive; total time=  33.0s\n",
      "[CV] END ..............C=5, loss=squared_epsilon_insensitive; total time=  31.2s\n",
      "[CV] END ..............C=5, loss=squared_epsilon_insensitive; total time=  30.9s\n"
     ]
    },
    {
     "name": "stderr",
     "output_type": "stream",
     "text": [
      "/anaconda3/lib/python3.7/site-packages/sklearn/svm/_base.py:986: ConvergenceWarning: Liblinear failed to converge, increase the number of iterations.\n",
      "  \"the number of iterations.\", ConvergenceWarning)\n"
     ]
    },
    {
     "name": "stdout",
     "output_type": "stream",
     "text": [
      "[CV] END ..............C=5, loss=squared_epsilon_insensitive; total time=  32.8s\n"
     ]
    },
    {
     "name": "stderr",
     "output_type": "stream",
     "text": [
      "/anaconda3/lib/python3.7/site-packages/sklearn/svm/_base.py:986: ConvergenceWarning: Liblinear failed to converge, increase the number of iterations.\n",
      "  \"the number of iterations.\", ConvergenceWarning)\n"
     ]
    },
    {
     "name": "stdout",
     "output_type": "stream",
     "text": [
      "[CV] END ..............C=5, loss=squared_epsilon_insensitive; total time=  32.8s\n",
      "[CV] END .....................C=10, loss=epsilon_insensitive; total time=   1.1s\n",
      "[CV] END .....................C=10, loss=epsilon_insensitive; total time=   0.5s\n",
      "[CV] END .....................C=10, loss=epsilon_insensitive; total time=   0.7s\n",
      "[CV] END .....................C=10, loss=epsilon_insensitive; total time=   0.4s\n",
      "[CV] END .....................C=10, loss=epsilon_insensitive; total time=   0.7s\n",
      "[CV] END .....................C=10, loss=epsilon_insensitive; total time=   0.3s\n",
      "[CV] END .....................C=10, loss=epsilon_insensitive; total time=   0.6s\n",
      "[CV] END .....................C=10, loss=epsilon_insensitive; total time=   0.7s\n",
      "[CV] END .....................C=10, loss=epsilon_insensitive; total time=   0.2s\n",
      "[CV] END .....................C=10, loss=epsilon_insensitive; total time=   0.3s\n",
      "[CV] END .....................C=10, loss=epsilon_insensitive; total time=   0.4s\n",
      "[CV] END .....................C=10, loss=epsilon_insensitive; total time=   0.2s\n",
      "[CV] END .....................C=10, loss=epsilon_insensitive; total time=   0.4s\n",
      "[CV] END .....................C=10, loss=epsilon_insensitive; total time=   0.3s\n",
      "[CV] END .....................C=10, loss=epsilon_insensitive; total time=   0.5s\n",
      "[CV] END .....................C=10, loss=epsilon_insensitive; total time=   0.7s\n",
      "[CV] END .....................C=10, loss=epsilon_insensitive; total time=   0.9s\n",
      "[CV] END .....................C=10, loss=epsilon_insensitive; total time=   0.3s\n",
      "[CV] END .....................C=10, loss=epsilon_insensitive; total time=   0.5s\n",
      "[CV] END .....................C=10, loss=epsilon_insensitive; total time=   0.3s\n",
      "[CV] END .....................C=10, loss=epsilon_insensitive; total time=   0.2s\n",
      "[CV] END .....................C=10, loss=epsilon_insensitive; total time=   0.4s\n",
      "[CV] END .....................C=10, loss=epsilon_insensitive; total time=   0.3s\n",
      "[CV] END .....................C=10, loss=epsilon_insensitive; total time=   0.8s\n",
      "[CV] END .....................C=10, loss=epsilon_insensitive; total time=   0.4s\n",
      "[CV] END .....................C=10, loss=epsilon_insensitive; total time=   0.8s\n",
      "[CV] END .....................C=10, loss=epsilon_insensitive; total time=   0.9s\n",
      "[CV] END .....................C=10, loss=epsilon_insensitive; total time=   0.9s\n",
      "[CV] END .....................C=10, loss=epsilon_insensitive; total time=   1.0s\n",
      "[CV] END .....................C=10, loss=epsilon_insensitive; total time=   0.7s\n",
      "[CV] END .....................C=10, loss=epsilon_insensitive; total time=   1.0s\n",
      "[CV] END .....................C=10, loss=epsilon_insensitive; total time=   1.2s\n"
     ]
    },
    {
     "name": "stderr",
     "output_type": "stream",
     "text": [
      "/anaconda3/lib/python3.7/site-packages/sklearn/svm/_base.py:986: ConvergenceWarning: Liblinear failed to converge, increase the number of iterations.\n",
      "  \"the number of iterations.\", ConvergenceWarning)\n"
     ]
    },
    {
     "name": "stdout",
     "output_type": "stream",
     "text": [
      "[CV] END .............C=10, loss=squared_epsilon_insensitive; total time=  32.3s\n"
     ]
    },
    {
     "name": "stderr",
     "output_type": "stream",
     "text": [
      "/anaconda3/lib/python3.7/site-packages/sklearn/svm/_base.py:986: ConvergenceWarning: Liblinear failed to converge, increase the number of iterations.\n",
      "  \"the number of iterations.\", ConvergenceWarning)\n"
     ]
    },
    {
     "name": "stdout",
     "output_type": "stream",
     "text": [
      "[CV] END .............C=10, loss=squared_epsilon_insensitive; total time=  32.2s\n"
     ]
    },
    {
     "name": "stderr",
     "output_type": "stream",
     "text": [
      "/anaconda3/lib/python3.7/site-packages/sklearn/svm/_base.py:986: ConvergenceWarning: Liblinear failed to converge, increase the number of iterations.\n",
      "  \"the number of iterations.\", ConvergenceWarning)\n"
     ]
    },
    {
     "name": "stdout",
     "output_type": "stream",
     "text": [
      "[CV] END .............C=10, loss=squared_epsilon_insensitive; total time=  32.3s\n"
     ]
    },
    {
     "name": "stderr",
     "output_type": "stream",
     "text": [
      "/anaconda3/lib/python3.7/site-packages/sklearn/svm/_base.py:986: ConvergenceWarning: Liblinear failed to converge, increase the number of iterations.\n",
      "  \"the number of iterations.\", ConvergenceWarning)\n"
     ]
    },
    {
     "name": "stdout",
     "output_type": "stream",
     "text": [
      "[CV] END .............C=10, loss=squared_epsilon_insensitive; total time=  32.2s\n"
     ]
    },
    {
     "name": "stderr",
     "output_type": "stream",
     "text": [
      "/anaconda3/lib/python3.7/site-packages/sklearn/svm/_base.py:986: ConvergenceWarning: Liblinear failed to converge, increase the number of iterations.\n",
      "  \"the number of iterations.\", ConvergenceWarning)\n"
     ]
    },
    {
     "name": "stdout",
     "output_type": "stream",
     "text": [
      "[CV] END .............C=10, loss=squared_epsilon_insensitive; total time=  32.8s\n"
     ]
    },
    {
     "name": "stderr",
     "output_type": "stream",
     "text": [
      "/anaconda3/lib/python3.7/site-packages/sklearn/svm/_base.py:986: ConvergenceWarning: Liblinear failed to converge, increase the number of iterations.\n",
      "  \"the number of iterations.\", ConvergenceWarning)\n"
     ]
    },
    {
     "name": "stdout",
     "output_type": "stream",
     "text": [
      "[CV] END .............C=10, loss=squared_epsilon_insensitive; total time=  45.2s\n"
     ]
    },
    {
     "name": "stderr",
     "output_type": "stream",
     "text": [
      "/anaconda3/lib/python3.7/site-packages/sklearn/svm/_base.py:986: ConvergenceWarning: Liblinear failed to converge, increase the number of iterations.\n",
      "  \"the number of iterations.\", ConvergenceWarning)\n"
     ]
    },
    {
     "name": "stdout",
     "output_type": "stream",
     "text": [
      "[CV] END .............C=10, loss=squared_epsilon_insensitive; total time=  39.1s\n"
     ]
    },
    {
     "name": "stderr",
     "output_type": "stream",
     "text": [
      "/anaconda3/lib/python3.7/site-packages/sklearn/svm/_base.py:986: ConvergenceWarning: Liblinear failed to converge, increase the number of iterations.\n",
      "  \"the number of iterations.\", ConvergenceWarning)\n"
     ]
    },
    {
     "name": "stdout",
     "output_type": "stream",
     "text": [
      "[CV] END .............C=10, loss=squared_epsilon_insensitive; total time=  48.5s\n"
     ]
    },
    {
     "name": "stderr",
     "output_type": "stream",
     "text": [
      "/anaconda3/lib/python3.7/site-packages/sklearn/svm/_base.py:986: ConvergenceWarning: Liblinear failed to converge, increase the number of iterations.\n",
      "  \"the number of iterations.\", ConvergenceWarning)\n"
     ]
    },
    {
     "name": "stdout",
     "output_type": "stream",
     "text": [
      "[CV] END .............C=10, loss=squared_epsilon_insensitive; total time=  40.3s\n"
     ]
    },
    {
     "name": "stderr",
     "output_type": "stream",
     "text": [
      "/anaconda3/lib/python3.7/site-packages/sklearn/svm/_base.py:986: ConvergenceWarning: Liblinear failed to converge, increase the number of iterations.\n",
      "  \"the number of iterations.\", ConvergenceWarning)\n"
     ]
    },
    {
     "name": "stdout",
     "output_type": "stream",
     "text": [
      "[CV] END .............C=10, loss=squared_epsilon_insensitive; total time=  45.0s\n"
     ]
    },
    {
     "name": "stderr",
     "output_type": "stream",
     "text": [
      "/anaconda3/lib/python3.7/site-packages/sklearn/svm/_base.py:986: ConvergenceWarning: Liblinear failed to converge, increase the number of iterations.\n",
      "  \"the number of iterations.\", ConvergenceWarning)\n"
     ]
    },
    {
     "name": "stdout",
     "output_type": "stream",
     "text": [
      "[CV] END .............C=10, loss=squared_epsilon_insensitive; total time=  40.1s\n"
     ]
    },
    {
     "name": "stderr",
     "output_type": "stream",
     "text": [
      "/anaconda3/lib/python3.7/site-packages/sklearn/svm/_base.py:986: ConvergenceWarning: Liblinear failed to converge, increase the number of iterations.\n",
      "  \"the number of iterations.\", ConvergenceWarning)\n"
     ]
    },
    {
     "name": "stdout",
     "output_type": "stream",
     "text": [
      "[CV] END .............C=10, loss=squared_epsilon_insensitive; total time=  41.4s\n"
     ]
    },
    {
     "name": "stderr",
     "output_type": "stream",
     "text": [
      "/anaconda3/lib/python3.7/site-packages/sklearn/svm/_base.py:986: ConvergenceWarning: Liblinear failed to converge, increase the number of iterations.\n",
      "  \"the number of iterations.\", ConvergenceWarning)\n"
     ]
    },
    {
     "name": "stdout",
     "output_type": "stream",
     "text": [
      "[CV] END .............C=10, loss=squared_epsilon_insensitive; total time=  56.8s\n"
     ]
    },
    {
     "name": "stderr",
     "output_type": "stream",
     "text": [
      "/anaconda3/lib/python3.7/site-packages/sklearn/svm/_base.py:986: ConvergenceWarning: Liblinear failed to converge, increase the number of iterations.\n",
      "  \"the number of iterations.\", ConvergenceWarning)\n"
     ]
    },
    {
     "name": "stdout",
     "output_type": "stream",
     "text": [
      "[CV] END .............C=10, loss=squared_epsilon_insensitive; total time=  41.0s\n"
     ]
    },
    {
     "name": "stderr",
     "output_type": "stream",
     "text": [
      "/anaconda3/lib/python3.7/site-packages/sklearn/svm/_base.py:986: ConvergenceWarning: Liblinear failed to converge, increase the number of iterations.\n",
      "  \"the number of iterations.\", ConvergenceWarning)\n"
     ]
    },
    {
     "name": "stdout",
     "output_type": "stream",
     "text": [
      "[CV] END .............C=10, loss=squared_epsilon_insensitive; total time=  34.5s\n"
     ]
    },
    {
     "name": "stderr",
     "output_type": "stream",
     "text": [
      "/anaconda3/lib/python3.7/site-packages/sklearn/svm/_base.py:986: ConvergenceWarning: Liblinear failed to converge, increase the number of iterations.\n",
      "  \"the number of iterations.\", ConvergenceWarning)\n"
     ]
    },
    {
     "name": "stdout",
     "output_type": "stream",
     "text": [
      "[CV] END .............C=10, loss=squared_epsilon_insensitive; total time=  37.3s\n"
     ]
    },
    {
     "name": "stderr",
     "output_type": "stream",
     "text": [
      "/anaconda3/lib/python3.7/site-packages/sklearn/svm/_base.py:986: ConvergenceWarning: Liblinear failed to converge, increase the number of iterations.\n",
      "  \"the number of iterations.\", ConvergenceWarning)\n"
     ]
    },
    {
     "name": "stdout",
     "output_type": "stream",
     "text": [
      "[CV] END .............C=10, loss=squared_epsilon_insensitive; total time=  36.5s\n"
     ]
    },
    {
     "name": "stderr",
     "output_type": "stream",
     "text": [
      "/anaconda3/lib/python3.7/site-packages/sklearn/svm/_base.py:986: ConvergenceWarning: Liblinear failed to converge, increase the number of iterations.\n",
      "  \"the number of iterations.\", ConvergenceWarning)\n"
     ]
    },
    {
     "name": "stdout",
     "output_type": "stream",
     "text": [
      "[CV] END .............C=10, loss=squared_epsilon_insensitive; total time=  37.2s\n"
     ]
    },
    {
     "name": "stderr",
     "output_type": "stream",
     "text": [
      "/anaconda3/lib/python3.7/site-packages/sklearn/svm/_base.py:986: ConvergenceWarning: Liblinear failed to converge, increase the number of iterations.\n",
      "  \"the number of iterations.\", ConvergenceWarning)\n"
     ]
    },
    {
     "name": "stdout",
     "output_type": "stream",
     "text": [
      "[CV] END .............C=10, loss=squared_epsilon_insensitive; total time=  37.1s\n"
     ]
    },
    {
     "name": "stderr",
     "output_type": "stream",
     "text": [
      "/anaconda3/lib/python3.7/site-packages/sklearn/svm/_base.py:986: ConvergenceWarning: Liblinear failed to converge, increase the number of iterations.\n",
      "  \"the number of iterations.\", ConvergenceWarning)\n"
     ]
    },
    {
     "name": "stdout",
     "output_type": "stream",
     "text": [
      "[CV] END .............C=10, loss=squared_epsilon_insensitive; total time=  34.4s\n"
     ]
    },
    {
     "name": "stderr",
     "output_type": "stream",
     "text": [
      "/anaconda3/lib/python3.7/site-packages/sklearn/svm/_base.py:986: ConvergenceWarning: Liblinear failed to converge, increase the number of iterations.\n",
      "  \"the number of iterations.\", ConvergenceWarning)\n"
     ]
    },
    {
     "name": "stdout",
     "output_type": "stream",
     "text": [
      "[CV] END .............C=10, loss=squared_epsilon_insensitive; total time=  39.6s\n"
     ]
    },
    {
     "name": "stderr",
     "output_type": "stream",
     "text": [
      "/anaconda3/lib/python3.7/site-packages/sklearn/svm/_base.py:986: ConvergenceWarning: Liblinear failed to converge, increase the number of iterations.\n",
      "  \"the number of iterations.\", ConvergenceWarning)\n"
     ]
    },
    {
     "name": "stdout",
     "output_type": "stream",
     "text": [
      "[CV] END .............C=10, loss=squared_epsilon_insensitive; total time=  36.2s\n"
     ]
    },
    {
     "name": "stderr",
     "output_type": "stream",
     "text": [
      "/anaconda3/lib/python3.7/site-packages/sklearn/svm/_base.py:986: ConvergenceWarning: Liblinear failed to converge, increase the number of iterations.\n",
      "  \"the number of iterations.\", ConvergenceWarning)\n"
     ]
    },
    {
     "name": "stdout",
     "output_type": "stream",
     "text": [
      "[CV] END .............C=10, loss=squared_epsilon_insensitive; total time=  33.8s\n"
     ]
    },
    {
     "name": "stderr",
     "output_type": "stream",
     "text": [
      "/anaconda3/lib/python3.7/site-packages/sklearn/svm/_base.py:986: ConvergenceWarning: Liblinear failed to converge, increase the number of iterations.\n",
      "  \"the number of iterations.\", ConvergenceWarning)\n"
     ]
    },
    {
     "name": "stdout",
     "output_type": "stream",
     "text": [
      "[CV] END .............C=10, loss=squared_epsilon_insensitive; total time=  33.6s\n"
     ]
    },
    {
     "name": "stderr",
     "output_type": "stream",
     "text": [
      "/anaconda3/lib/python3.7/site-packages/sklearn/svm/_base.py:986: ConvergenceWarning: Liblinear failed to converge, increase the number of iterations.\n",
      "  \"the number of iterations.\", ConvergenceWarning)\n"
     ]
    },
    {
     "name": "stdout",
     "output_type": "stream",
     "text": [
      "[CV] END .............C=10, loss=squared_epsilon_insensitive; total time=  34.9s\n"
     ]
    },
    {
     "name": "stderr",
     "output_type": "stream",
     "text": [
      "/anaconda3/lib/python3.7/site-packages/sklearn/svm/_base.py:986: ConvergenceWarning: Liblinear failed to converge, increase the number of iterations.\n",
      "  \"the number of iterations.\", ConvergenceWarning)\n"
     ]
    },
    {
     "name": "stdout",
     "output_type": "stream",
     "text": [
      "[CV] END .............C=10, loss=squared_epsilon_insensitive; total time=  34.6s\n"
     ]
    },
    {
     "name": "stderr",
     "output_type": "stream",
     "text": [
      "/anaconda3/lib/python3.7/site-packages/sklearn/svm/_base.py:986: ConvergenceWarning: Liblinear failed to converge, increase the number of iterations.\n",
      "  \"the number of iterations.\", ConvergenceWarning)\n"
     ]
    },
    {
     "name": "stdout",
     "output_type": "stream",
     "text": [
      "[CV] END .............C=10, loss=squared_epsilon_insensitive; total time=  41.6s\n"
     ]
    },
    {
     "name": "stderr",
     "output_type": "stream",
     "text": [
      "/anaconda3/lib/python3.7/site-packages/sklearn/svm/_base.py:986: ConvergenceWarning: Liblinear failed to converge, increase the number of iterations.\n",
      "  \"the number of iterations.\", ConvergenceWarning)\n"
     ]
    },
    {
     "name": "stdout",
     "output_type": "stream",
     "text": [
      "[CV] END .............C=10, loss=squared_epsilon_insensitive; total time=  38.6s\n"
     ]
    },
    {
     "name": "stderr",
     "output_type": "stream",
     "text": [
      "/anaconda3/lib/python3.7/site-packages/sklearn/svm/_base.py:986: ConvergenceWarning: Liblinear failed to converge, increase the number of iterations.\n",
      "  \"the number of iterations.\", ConvergenceWarning)\n"
     ]
    },
    {
     "name": "stdout",
     "output_type": "stream",
     "text": [
      "[CV] END .............C=10, loss=squared_epsilon_insensitive; total time=  38.6s\n"
     ]
    },
    {
     "name": "stderr",
     "output_type": "stream",
     "text": [
      "/anaconda3/lib/python3.7/site-packages/sklearn/svm/_base.py:986: ConvergenceWarning: Liblinear failed to converge, increase the number of iterations.\n",
      "  \"the number of iterations.\", ConvergenceWarning)\n"
     ]
    },
    {
     "name": "stdout",
     "output_type": "stream",
     "text": [
      "[CV] END .............C=10, loss=squared_epsilon_insensitive; total time=  37.2s\n"
     ]
    },
    {
     "name": "stderr",
     "output_type": "stream",
     "text": [
      "/anaconda3/lib/python3.7/site-packages/sklearn/svm/_base.py:986: ConvergenceWarning: Liblinear failed to converge, increase the number of iterations.\n",
      "  \"the number of iterations.\", ConvergenceWarning)\n"
     ]
    },
    {
     "name": "stdout",
     "output_type": "stream",
     "text": [
      "[CV] END .............C=10, loss=squared_epsilon_insensitive; total time=  34.6s\n"
     ]
    },
    {
     "name": "stderr",
     "output_type": "stream",
     "text": [
      "/anaconda3/lib/python3.7/site-packages/sklearn/svm/_base.py:986: ConvergenceWarning: Liblinear failed to converge, increase the number of iterations.\n",
      "  \"the number of iterations.\", ConvergenceWarning)\n"
     ]
    },
    {
     "name": "stdout",
     "output_type": "stream",
     "text": [
      "[CV] END .............C=10, loss=squared_epsilon_insensitive; total time=  35.8s\n",
      "[CV] END .....................C=20, loss=epsilon_insensitive; total time=   1.6s\n",
      "[CV] END .....................C=20, loss=epsilon_insensitive; total time=   1.1s\n",
      "[CV] END .....................C=20, loss=epsilon_insensitive; total time=   0.7s\n",
      "[CV] END .....................C=20, loss=epsilon_insensitive; total time=   0.7s\n",
      "[CV] END .....................C=20, loss=epsilon_insensitive; total time=   1.4s\n",
      "[CV] END .....................C=20, loss=epsilon_insensitive; total time=   0.7s\n",
      "[CV] END .....................C=20, loss=epsilon_insensitive; total time=   1.0s\n",
      "[CV] END .....................C=20, loss=epsilon_insensitive; total time=   0.9s\n",
      "[CV] END .....................C=20, loss=epsilon_insensitive; total time=   0.3s\n",
      "[CV] END .....................C=20, loss=epsilon_insensitive; total time=   0.5s\n",
      "[CV] END .....................C=20, loss=epsilon_insensitive; total time=   0.6s\n",
      "[CV] END .....................C=20, loss=epsilon_insensitive; total time=   0.4s\n",
      "[CV] END .....................C=20, loss=epsilon_insensitive; total time=   1.0s\n",
      "[CV] END .....................C=20, loss=epsilon_insensitive; total time=   0.5s\n",
      "[CV] END .....................C=20, loss=epsilon_insensitive; total time=   0.7s\n",
      "[CV] END .....................C=20, loss=epsilon_insensitive; total time=   1.5s\n",
      "[CV] END .....................C=20, loss=epsilon_insensitive; total time=   1.3s\n",
      "[CV] END .....................C=20, loss=epsilon_insensitive; total time=   0.6s\n",
      "[CV] END .....................C=20, loss=epsilon_insensitive; total time=   1.5s\n",
      "[CV] END .....................C=20, loss=epsilon_insensitive; total time=   0.6s\n",
      "[CV] END .....................C=20, loss=epsilon_insensitive; total time=   0.4s\n",
      "[CV] END .....................C=20, loss=epsilon_insensitive; total time=   0.9s\n",
      "[CV] END .....................C=20, loss=epsilon_insensitive; total time=   0.5s\n",
      "[CV] END .....................C=20, loss=epsilon_insensitive; total time=   1.4s\n",
      "[CV] END .....................C=20, loss=epsilon_insensitive; total time=   0.9s\n",
      "[CV] END .....................C=20, loss=epsilon_insensitive; total time=   1.3s\n",
      "[CV] END .....................C=20, loss=epsilon_insensitive; total time=   3.0s\n",
      "[CV] END .....................C=20, loss=epsilon_insensitive; total time=   2.0s\n",
      "[CV] END .....................C=20, loss=epsilon_insensitive; total time=   2.1s\n",
      "[CV] END .....................C=20, loss=epsilon_insensitive; total time=   2.3s\n",
      "[CV] END .....................C=20, loss=epsilon_insensitive; total time=   2.4s\n",
      "[CV] END .....................C=20, loss=epsilon_insensitive; total time=   1.4s\n"
     ]
    },
    {
     "name": "stderr",
     "output_type": "stream",
     "text": [
      "/anaconda3/lib/python3.7/site-packages/sklearn/svm/_base.py:986: ConvergenceWarning: Liblinear failed to converge, increase the number of iterations.\n",
      "  \"the number of iterations.\", ConvergenceWarning)\n"
     ]
    },
    {
     "name": "stdout",
     "output_type": "stream",
     "text": [
      "[CV] END .............C=20, loss=squared_epsilon_insensitive; total time=  33.9s\n"
     ]
    },
    {
     "name": "stderr",
     "output_type": "stream",
     "text": [
      "/anaconda3/lib/python3.7/site-packages/sklearn/svm/_base.py:986: ConvergenceWarning: Liblinear failed to converge, increase the number of iterations.\n",
      "  \"the number of iterations.\", ConvergenceWarning)\n"
     ]
    },
    {
     "name": "stdout",
     "output_type": "stream",
     "text": [
      "[CV] END .............C=20, loss=squared_epsilon_insensitive; total time=  35.9s\n"
     ]
    },
    {
     "name": "stderr",
     "output_type": "stream",
     "text": [
      "/anaconda3/lib/python3.7/site-packages/sklearn/svm/_base.py:986: ConvergenceWarning: Liblinear failed to converge, increase the number of iterations.\n",
      "  \"the number of iterations.\", ConvergenceWarning)\n"
     ]
    },
    {
     "name": "stdout",
     "output_type": "stream",
     "text": [
      "[CV] END .............C=20, loss=squared_epsilon_insensitive; total time=  40.5s\n"
     ]
    },
    {
     "name": "stderr",
     "output_type": "stream",
     "text": [
      "/anaconda3/lib/python3.7/site-packages/sklearn/svm/_base.py:986: ConvergenceWarning: Liblinear failed to converge, increase the number of iterations.\n",
      "  \"the number of iterations.\", ConvergenceWarning)\n"
     ]
    },
    {
     "name": "stdout",
     "output_type": "stream",
     "text": [
      "[CV] END .............C=20, loss=squared_epsilon_insensitive; total time=  40.9s\n"
     ]
    },
    {
     "name": "stderr",
     "output_type": "stream",
     "text": [
      "/anaconda3/lib/python3.7/site-packages/sklearn/svm/_base.py:986: ConvergenceWarning: Liblinear failed to converge, increase the number of iterations.\n",
      "  \"the number of iterations.\", ConvergenceWarning)\n"
     ]
    },
    {
     "name": "stdout",
     "output_type": "stream",
     "text": [
      "[CV] END .............C=20, loss=squared_epsilon_insensitive; total time=  41.3s\n"
     ]
    },
    {
     "name": "stderr",
     "output_type": "stream",
     "text": [
      "/anaconda3/lib/python3.7/site-packages/sklearn/svm/_base.py:986: ConvergenceWarning: Liblinear failed to converge, increase the number of iterations.\n",
      "  \"the number of iterations.\", ConvergenceWarning)\n"
     ]
    },
    {
     "name": "stdout",
     "output_type": "stream",
     "text": [
      "[CV] END .............C=20, loss=squared_epsilon_insensitive; total time=  38.8s\n"
     ]
    },
    {
     "name": "stderr",
     "output_type": "stream",
     "text": [
      "/anaconda3/lib/python3.7/site-packages/sklearn/svm/_base.py:986: ConvergenceWarning: Liblinear failed to converge, increase the number of iterations.\n",
      "  \"the number of iterations.\", ConvergenceWarning)\n"
     ]
    },
    {
     "name": "stdout",
     "output_type": "stream",
     "text": [
      "[CV] END .............C=20, loss=squared_epsilon_insensitive; total time=  36.4s\n"
     ]
    },
    {
     "name": "stderr",
     "output_type": "stream",
     "text": [
      "/anaconda3/lib/python3.7/site-packages/sklearn/svm/_base.py:986: ConvergenceWarning: Liblinear failed to converge, increase the number of iterations.\n",
      "  \"the number of iterations.\", ConvergenceWarning)\n"
     ]
    },
    {
     "name": "stdout",
     "output_type": "stream",
     "text": [
      "[CV] END .............C=20, loss=squared_epsilon_insensitive; total time=  36.9s\n"
     ]
    },
    {
     "name": "stderr",
     "output_type": "stream",
     "text": [
      "/anaconda3/lib/python3.7/site-packages/sklearn/svm/_base.py:986: ConvergenceWarning: Liblinear failed to converge, increase the number of iterations.\n",
      "  \"the number of iterations.\", ConvergenceWarning)\n"
     ]
    },
    {
     "name": "stdout",
     "output_type": "stream",
     "text": [
      "[CV] END .............C=20, loss=squared_epsilon_insensitive; total time=  43.9s\n"
     ]
    },
    {
     "name": "stderr",
     "output_type": "stream",
     "text": [
      "/anaconda3/lib/python3.7/site-packages/sklearn/svm/_base.py:986: ConvergenceWarning: Liblinear failed to converge, increase the number of iterations.\n",
      "  \"the number of iterations.\", ConvergenceWarning)\n"
     ]
    },
    {
     "name": "stdout",
     "output_type": "stream",
     "text": [
      "[CV] END .............C=20, loss=squared_epsilon_insensitive; total time=  37.0s\n"
     ]
    },
    {
     "name": "stderr",
     "output_type": "stream",
     "text": [
      "/anaconda3/lib/python3.7/site-packages/sklearn/svm/_base.py:986: ConvergenceWarning: Liblinear failed to converge, increase the number of iterations.\n",
      "  \"the number of iterations.\", ConvergenceWarning)\n"
     ]
    },
    {
     "name": "stdout",
     "output_type": "stream",
     "text": [
      "[CV] END .............C=20, loss=squared_epsilon_insensitive; total time=  38.3s\n"
     ]
    },
    {
     "name": "stderr",
     "output_type": "stream",
     "text": [
      "/anaconda3/lib/python3.7/site-packages/sklearn/svm/_base.py:986: ConvergenceWarning: Liblinear failed to converge, increase the number of iterations.\n",
      "  \"the number of iterations.\", ConvergenceWarning)\n"
     ]
    },
    {
     "name": "stdout",
     "output_type": "stream",
     "text": [
      "[CV] END .............C=20, loss=squared_epsilon_insensitive; total time=  38.0s\n"
     ]
    },
    {
     "name": "stderr",
     "output_type": "stream",
     "text": [
      "/anaconda3/lib/python3.7/site-packages/sklearn/svm/_base.py:986: ConvergenceWarning: Liblinear failed to converge, increase the number of iterations.\n",
      "  \"the number of iterations.\", ConvergenceWarning)\n"
     ]
    },
    {
     "name": "stdout",
     "output_type": "stream",
     "text": [
      "[CV] END .............C=20, loss=squared_epsilon_insensitive; total time=  43.4s\n"
     ]
    },
    {
     "name": "stderr",
     "output_type": "stream",
     "text": [
      "/anaconda3/lib/python3.7/site-packages/sklearn/svm/_base.py:986: ConvergenceWarning: Liblinear failed to converge, increase the number of iterations.\n",
      "  \"the number of iterations.\", ConvergenceWarning)\n"
     ]
    },
    {
     "name": "stdout",
     "output_type": "stream",
     "text": [
      "[CV] END .............C=20, loss=squared_epsilon_insensitive; total time=  38.2s\n"
     ]
    },
    {
     "name": "stderr",
     "output_type": "stream",
     "text": [
      "/anaconda3/lib/python3.7/site-packages/sklearn/svm/_base.py:986: ConvergenceWarning: Liblinear failed to converge, increase the number of iterations.\n",
      "  \"the number of iterations.\", ConvergenceWarning)\n"
     ]
    },
    {
     "name": "stdout",
     "output_type": "stream",
     "text": [
      "[CV] END .............C=20, loss=squared_epsilon_insensitive; total time=  38.1s\n"
     ]
    },
    {
     "name": "stderr",
     "output_type": "stream",
     "text": [
      "/anaconda3/lib/python3.7/site-packages/sklearn/svm/_base.py:986: ConvergenceWarning: Liblinear failed to converge, increase the number of iterations.\n",
      "  \"the number of iterations.\", ConvergenceWarning)\n"
     ]
    },
    {
     "name": "stdout",
     "output_type": "stream",
     "text": [
      "[CV] END .............C=20, loss=squared_epsilon_insensitive; total time=  39.7s\n"
     ]
    },
    {
     "name": "stderr",
     "output_type": "stream",
     "text": [
      "/anaconda3/lib/python3.7/site-packages/sklearn/svm/_base.py:986: ConvergenceWarning: Liblinear failed to converge, increase the number of iterations.\n",
      "  \"the number of iterations.\", ConvergenceWarning)\n"
     ]
    },
    {
     "name": "stdout",
     "output_type": "stream",
     "text": [
      "[CV] END .............C=20, loss=squared_epsilon_insensitive; total time=  41.2s\n"
     ]
    },
    {
     "name": "stderr",
     "output_type": "stream",
     "text": [
      "/anaconda3/lib/python3.7/site-packages/sklearn/svm/_base.py:986: ConvergenceWarning: Liblinear failed to converge, increase the number of iterations.\n",
      "  \"the number of iterations.\", ConvergenceWarning)\n"
     ]
    },
    {
     "name": "stdout",
     "output_type": "stream",
     "text": [
      "[CV] END .............C=20, loss=squared_epsilon_insensitive; total time=  39.7s\n"
     ]
    },
    {
     "name": "stderr",
     "output_type": "stream",
     "text": [
      "/anaconda3/lib/python3.7/site-packages/sklearn/svm/_base.py:986: ConvergenceWarning: Liblinear failed to converge, increase the number of iterations.\n",
      "  \"the number of iterations.\", ConvergenceWarning)\n"
     ]
    },
    {
     "name": "stdout",
     "output_type": "stream",
     "text": [
      "[CV] END .............C=20, loss=squared_epsilon_insensitive; total time=  36.5s\n"
     ]
    },
    {
     "name": "stderr",
     "output_type": "stream",
     "text": [
      "/anaconda3/lib/python3.7/site-packages/sklearn/svm/_base.py:986: ConvergenceWarning: Liblinear failed to converge, increase the number of iterations.\n",
      "  \"the number of iterations.\", ConvergenceWarning)\n"
     ]
    },
    {
     "name": "stdout",
     "output_type": "stream",
     "text": [
      "[CV] END .............C=20, loss=squared_epsilon_insensitive; total time=  37.9s\n"
     ]
    },
    {
     "name": "stderr",
     "output_type": "stream",
     "text": [
      "/anaconda3/lib/python3.7/site-packages/sklearn/svm/_base.py:986: ConvergenceWarning: Liblinear failed to converge, increase the number of iterations.\n",
      "  \"the number of iterations.\", ConvergenceWarning)\n"
     ]
    },
    {
     "name": "stdout",
     "output_type": "stream",
     "text": [
      "[CV] END .............C=20, loss=squared_epsilon_insensitive; total time=  38.8s\n"
     ]
    },
    {
     "name": "stderr",
     "output_type": "stream",
     "text": [
      "/anaconda3/lib/python3.7/site-packages/sklearn/svm/_base.py:986: ConvergenceWarning: Liblinear failed to converge, increase the number of iterations.\n",
      "  \"the number of iterations.\", ConvergenceWarning)\n"
     ]
    },
    {
     "name": "stdout",
     "output_type": "stream",
     "text": [
      "[CV] END .............C=20, loss=squared_epsilon_insensitive; total time=  37.9s\n"
     ]
    },
    {
     "name": "stderr",
     "output_type": "stream",
     "text": [
      "/anaconda3/lib/python3.7/site-packages/sklearn/svm/_base.py:986: ConvergenceWarning: Liblinear failed to converge, increase the number of iterations.\n",
      "  \"the number of iterations.\", ConvergenceWarning)\n"
     ]
    },
    {
     "name": "stdout",
     "output_type": "stream",
     "text": [
      "[CV] END .............C=20, loss=squared_epsilon_insensitive; total time=  34.9s\n"
     ]
    },
    {
     "name": "stderr",
     "output_type": "stream",
     "text": [
      "/anaconda3/lib/python3.7/site-packages/sklearn/svm/_base.py:986: ConvergenceWarning: Liblinear failed to converge, increase the number of iterations.\n",
      "  \"the number of iterations.\", ConvergenceWarning)\n"
     ]
    },
    {
     "name": "stdout",
     "output_type": "stream",
     "text": [
      "[CV] END .............C=20, loss=squared_epsilon_insensitive; total time=  41.0s\n"
     ]
    },
    {
     "name": "stderr",
     "output_type": "stream",
     "text": [
      "/anaconda3/lib/python3.7/site-packages/sklearn/svm/_base.py:986: ConvergenceWarning: Liblinear failed to converge, increase the number of iterations.\n",
      "  \"the number of iterations.\", ConvergenceWarning)\n"
     ]
    },
    {
     "name": "stdout",
     "output_type": "stream",
     "text": [
      "[CV] END .............C=20, loss=squared_epsilon_insensitive; total time=  35.5s\n"
     ]
    },
    {
     "name": "stderr",
     "output_type": "stream",
     "text": [
      "/anaconda3/lib/python3.7/site-packages/sklearn/svm/_base.py:986: ConvergenceWarning: Liblinear failed to converge, increase the number of iterations.\n",
      "  \"the number of iterations.\", ConvergenceWarning)\n"
     ]
    },
    {
     "name": "stdout",
     "output_type": "stream",
     "text": [
      "[CV] END .............C=20, loss=squared_epsilon_insensitive; total time=  38.4s\n"
     ]
    },
    {
     "name": "stderr",
     "output_type": "stream",
     "text": [
      "/anaconda3/lib/python3.7/site-packages/sklearn/svm/_base.py:986: ConvergenceWarning: Liblinear failed to converge, increase the number of iterations.\n",
      "  \"the number of iterations.\", ConvergenceWarning)\n"
     ]
    },
    {
     "name": "stdout",
     "output_type": "stream",
     "text": [
      "[CV] END .............C=20, loss=squared_epsilon_insensitive; total time=  33.4s\n"
     ]
    },
    {
     "name": "stderr",
     "output_type": "stream",
     "text": [
      "/anaconda3/lib/python3.7/site-packages/sklearn/svm/_base.py:986: ConvergenceWarning: Liblinear failed to converge, increase the number of iterations.\n",
      "  \"the number of iterations.\", ConvergenceWarning)\n"
     ]
    },
    {
     "name": "stdout",
     "output_type": "stream",
     "text": [
      "[CV] END .............C=20, loss=squared_epsilon_insensitive; total time=  36.8s\n"
     ]
    },
    {
     "name": "stderr",
     "output_type": "stream",
     "text": [
      "/anaconda3/lib/python3.7/site-packages/sklearn/svm/_base.py:986: ConvergenceWarning: Liblinear failed to converge, increase the number of iterations.\n",
      "  \"the number of iterations.\", ConvergenceWarning)\n"
     ]
    },
    {
     "name": "stdout",
     "output_type": "stream",
     "text": [
      "[CV] END .............C=20, loss=squared_epsilon_insensitive; total time=  36.6s\n"
     ]
    },
    {
     "name": "stderr",
     "output_type": "stream",
     "text": [
      "/anaconda3/lib/python3.7/site-packages/sklearn/svm/_base.py:986: ConvergenceWarning: Liblinear failed to converge, increase the number of iterations.\n",
      "  \"the number of iterations.\", ConvergenceWarning)\n"
     ]
    },
    {
     "name": "stdout",
     "output_type": "stream",
     "text": [
      "[CV] END .............C=20, loss=squared_epsilon_insensitive; total time=  41.0s\n"
     ]
    },
    {
     "name": "stderr",
     "output_type": "stream",
     "text": [
      "/anaconda3/lib/python3.7/site-packages/sklearn/svm/_base.py:986: ConvergenceWarning: Liblinear failed to converge, increase the number of iterations.\n",
      "  \"the number of iterations.\", ConvergenceWarning)\n"
     ]
    },
    {
     "name": "stdout",
     "output_type": "stream",
     "text": [
      "[CV] END .............C=20, loss=squared_epsilon_insensitive; total time=  37.5s\n",
      "[CV] END .............C=20, loss=squared_epsilon_insensitive; total time=  38.1s\n",
      "End:  28/05/2021 21:32:56\n"
     ]
    },
    {
     "name": "stderr",
     "output_type": "stream",
     "text": [
      "/anaconda3/lib/python3.7/site-packages/sklearn/svm/_base.py:986: ConvergenceWarning: Liblinear failed to converge, increase the number of iterations.\n",
      "  \"the number of iterations.\", ConvergenceWarning)\n"
     ]
    }
   ],
   "source": [
    "from sklearn.pipeline import make_pipeline\n",
    "from sklearn.feature_selection import PolynomialFeatures\n",
    "\n",
    "final_svm = make_pipeline(PolynomialFeatures(), \n",
    "                          svm.SVR(kernel=\"linear\", C=5, gamma='scale', degree=3))\n",
    "param_grid = {\n",
    "    'loss': [\"epsilon_insensitive\", \"squared_epsilon_insensitive\"],\n",
    "    'C': [0.1, 0.5, 1, 5, 10, 20]\n",
    "}\n",
    "\n",
    "print(\"Start: \", datetime.datetime.now().strftime(\"%d/%m/%Y %H:%M:%S\"))\n",
    "\n",
    "linSVR_search = GridSearchCV(svm.LinearSVR(max_iter=100000), param_grid, cv=tscv_indices, \n",
    "                             scoring=scoring_metrics, refit = False, verbose=2)\n",
    "linSVR_search.fit(X_train.drop(columns=[\"date\"]), np.array(y_train).ravel())\n",
    "\n",
    "print(\"End: \", datetime.datetime.now().strftime(\"%d/%m/%Y %H:%M:%S\"))"
   ]
  },
  {
   "cell_type": "markdown",
   "metadata": {},
   "source": [
    "Some of the above specifications do not converge well..."
   ]
  },
  {
   "cell_type": "code",
   "execution_count": 22,
   "metadata": {},
   "outputs": [
    {
     "data": {
      "text/html": [
       "<div>\n",
       "<style scoped>\n",
       "    .dataframe tbody tr th:only-of-type {\n",
       "        vertical-align: middle;\n",
       "    }\n",
       "\n",
       "    .dataframe tbody tr th {\n",
       "        vertical-align: top;\n",
       "    }\n",
       "\n",
       "    .dataframe thead th {\n",
       "        text-align: right;\n",
       "    }\n",
       "</style>\n",
       "<table border=\"1\" class=\"dataframe\">\n",
       "  <thead>\n",
       "    <tr style=\"text-align: right;\">\n",
       "      <th></th>\n",
       "      <th>loss</th>\n",
       "      <th>C</th>\n",
       "      <th>neg_mean_squared_error</th>\n",
       "      <th>r2</th>\n",
       "      <th>neg_mean_absolute_error</th>\n",
       "    </tr>\n",
       "  </thead>\n",
       "  <tbody>\n",
       "    <tr>\n",
       "      <th>0</th>\n",
       "      <td>epsilon_insensitive</td>\n",
       "      <td>0.1</td>\n",
       "      <td>-1568.694805</td>\n",
       "      <td>0.918079</td>\n",
       "      <td>-9.065565</td>\n",
       "    </tr>\n",
       "    <tr>\n",
       "      <th>7</th>\n",
       "      <td>squared_epsilon_insensitive</td>\n",
       "      <td>5.0</td>\n",
       "      <td>-1499.993081</td>\n",
       "      <td>0.936499</td>\n",
       "      <td>-8.829391</td>\n",
       "    </tr>\n",
       "    <tr>\n",
       "      <th>5</th>\n",
       "      <td>squared_epsilon_insensitive</td>\n",
       "      <td>1.0</td>\n",
       "      <td>-1494.501560</td>\n",
       "      <td>0.936631</td>\n",
       "      <td>-8.810542</td>\n",
       "    </tr>\n",
       "    <tr>\n",
       "      <th>3</th>\n",
       "      <td>squared_epsilon_insensitive</td>\n",
       "      <td>0.5</td>\n",
       "      <td>-1488.801797</td>\n",
       "      <td>0.936708</td>\n",
       "      <td>-8.786762</td>\n",
       "    </tr>\n",
       "    <tr>\n",
       "      <th>9</th>\n",
       "      <td>squared_epsilon_insensitive</td>\n",
       "      <td>10.0</td>\n",
       "      <td>-1488.542567</td>\n",
       "      <td>0.936787</td>\n",
       "      <td>-8.779140</td>\n",
       "    </tr>\n",
       "    <tr>\n",
       "      <th>1</th>\n",
       "      <td>squared_epsilon_insensitive</td>\n",
       "      <td>0.1</td>\n",
       "      <td>-1461.388707</td>\n",
       "      <td>0.936282</td>\n",
       "      <td>-8.729371</td>\n",
       "    </tr>\n",
       "    <tr>\n",
       "      <th>11</th>\n",
       "      <td>squared_epsilon_insensitive</td>\n",
       "      <td>20.0</td>\n",
       "      <td>-1462.405021</td>\n",
       "      <td>0.937897</td>\n",
       "      <td>-8.648529</td>\n",
       "    </tr>\n",
       "    <tr>\n",
       "      <th>2</th>\n",
       "      <td>epsilon_insensitive</td>\n",
       "      <td>0.5</td>\n",
       "      <td>-1225.799027</td>\n",
       "      <td>0.936531</td>\n",
       "      <td>-8.056295</td>\n",
       "    </tr>\n",
       "    <tr>\n",
       "      <th>4</th>\n",
       "      <td>epsilon_insensitive</td>\n",
       "      <td>1.0</td>\n",
       "      <td>-1285.690041</td>\n",
       "      <td>0.938027</td>\n",
       "      <td>-7.988969</td>\n",
       "    </tr>\n",
       "    <tr>\n",
       "      <th>6</th>\n",
       "      <td>epsilon_insensitive</td>\n",
       "      <td>5.0</td>\n",
       "      <td>-1298.109046</td>\n",
       "      <td>0.941365</td>\n",
       "      <td>-7.866373</td>\n",
       "    </tr>\n",
       "    <tr>\n",
       "      <th>10</th>\n",
       "      <td>epsilon_insensitive</td>\n",
       "      <td>20.0</td>\n",
       "      <td>-1303.506160</td>\n",
       "      <td>0.942020</td>\n",
       "      <td>-7.854964</td>\n",
       "    </tr>\n",
       "    <tr>\n",
       "      <th>8</th>\n",
       "      <td>epsilon_insensitive</td>\n",
       "      <td>10.0</td>\n",
       "      <td>-1298.833745</td>\n",
       "      <td>0.942038</td>\n",
       "      <td>-7.852372</td>\n",
       "    </tr>\n",
       "  </tbody>\n",
       "</table>\n",
       "</div>"
      ],
      "text/plain": [
       "                           loss     C  neg_mean_squared_error        r2  \\\n",
       "0           epsilon_insensitive   0.1            -1568.694805  0.918079   \n",
       "7   squared_epsilon_insensitive   5.0            -1499.993081  0.936499   \n",
       "5   squared_epsilon_insensitive   1.0            -1494.501560  0.936631   \n",
       "3   squared_epsilon_insensitive   0.5            -1488.801797  0.936708   \n",
       "9   squared_epsilon_insensitive  10.0            -1488.542567  0.936787   \n",
       "1   squared_epsilon_insensitive   0.1            -1461.388707  0.936282   \n",
       "11  squared_epsilon_insensitive  20.0            -1462.405021  0.937897   \n",
       "2           epsilon_insensitive   0.5            -1225.799027  0.936531   \n",
       "4           epsilon_insensitive   1.0            -1285.690041  0.938027   \n",
       "6           epsilon_insensitive   5.0            -1298.109046  0.941365   \n",
       "10          epsilon_insensitive  20.0            -1303.506160  0.942020   \n",
       "8           epsilon_insensitive  10.0            -1298.833745  0.942038   \n",
       "\n",
       "    neg_mean_absolute_error  \n",
       "0                 -9.065565  \n",
       "7                 -8.829391  \n",
       "5                 -8.810542  \n",
       "3                 -8.786762  \n",
       "9                 -8.779140  \n",
       "1                 -8.729371  \n",
       "11                -8.648529  \n",
       "2                 -8.056295  \n",
       "4                 -7.988969  \n",
       "6                 -7.866373  \n",
       "10                -7.854964  \n",
       "8                 -7.852372  "
      ]
     },
     "execution_count": 22,
     "metadata": {},
     "output_type": "execute_result"
    }
   ],
   "source": [
    "linSVR_summary = GridSearchSummary(linSVR_search, \n",
    "                  [\"loss\", \"C\"],\n",
    "                  scoring_metrics,\n",
    "                  \"../Data/Model Results/linSVR_search.csv\")\n",
    "\n",
    "linSVR_summary.sort_values(by=[\"neg_mean_absolute_error\"])"
   ]
  },
  {
   "cell_type": "code",
   "execution_count": null,
   "metadata": {},
   "outputs": [],
   "source": []
  }
 ],
 "metadata": {
  "kernelspec": {
   "display_name": "Python 3",
   "language": "python",
   "name": "python3"
  },
  "language_info": {
   "codemirror_mode": {
    "name": "ipython",
    "version": 3
   },
   "file_extension": ".py",
   "mimetype": "text/x-python",
   "name": "python",
   "nbconvert_exporter": "python",
   "pygments_lexer": "ipython3",
   "version": "3.7.1"
  }
 },
 "nbformat": 4,
 "nbformat_minor": 2
}
