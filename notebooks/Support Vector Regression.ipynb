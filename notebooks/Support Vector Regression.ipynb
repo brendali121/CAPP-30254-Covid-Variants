{
 "cells": [
  {
   "cell_type": "markdown",
   "metadata": {},
   "source": [
    "# Support Vector Regression"
   ]
  },
  {
   "cell_type": "markdown",
   "metadata": {},
   "source": [
    "## Import Packages"
   ]
  },
  {
   "cell_type": "code",
   "execution_count": 1,
   "metadata": {},
   "outputs": [],
   "source": [
    "import pandas as pd\n",
    "import numpy as np\n",
    "import datetime\n",
    "from sklearn import svm\n",
    "from sklearn.model_selection import GridSearchCV\n",
    "\n",
    "# From: https://towardsdatascience.com/time-based-cross-validation-d259b13d42b8\n",
    "import timesplit as ts"
   ]
  },
  {
   "cell_type": "markdown",
   "metadata": {},
   "source": [
    "## Set up helper functions"
   ]
  },
  {
   "cell_type": "code",
   "execution_count": 2,
   "metadata": {},
   "outputs": [],
   "source": [
    "def GridSearchSummary(search, hyperparams, metrics, file):\n",
    "    \"\"\"\n",
    "    Creates a dataframe with summary results from GridSearchCV\n",
    "    search - the final GridSearchCV object\n",
    "    hyperparams - the list of parameters you were tuning for (aka keys in the param_grid dictionary)\n",
    "    metrics - the list of scoring metrics you used\n",
    "    file - filename of where you want to save your results\n",
    "    \"\"\"\n",
    "    \n",
    "    summary = pd.DataFrame()\n",
    "    \n",
    "    for hyperparam in hyperparams:\n",
    "        col = [dct[hyperparam] for dct in search.cv_results_[\"params\"]]\n",
    "        summary[hyperparam] = col\n",
    "    \n",
    "    for metric in metrics:\n",
    "        col = search.cv_results_[\"mean_test_\" + metric]\n",
    "        summary[metric] = col\n",
    "    \n",
    "    summary.to_csv(file)\n",
    "    \n",
    "    return summary"
   ]
  },
  {
   "cell_type": "markdown",
   "metadata": {},
   "source": [
    "## Import data"
   ]
  },
  {
   "cell_type": "code",
   "execution_count": 3,
   "metadata": {},
   "outputs": [],
   "source": [
    "X_train = pd.read_csv(\"../Data/Train-Test Set/X_train.csv\", parse_dates=[\"date\"])\n",
    "y_train = pd.read_csv(\"../Data/Train-Test Set/y_train.csv\")\n",
    "\n",
    "X_test = pd.read_csv(\"../Data/Train-Test Set/X_test.csv\", parse_dates=[\"date\"])\n",
    "y_test = pd.read_csv(\"../Data/Train-Test Set/y_test.csv\")"
   ]
  },
  {
   "cell_type": "markdown",
   "metadata": {},
   "source": [
    "## Get indices for time-based cross validation"
   ]
  },
  {
   "cell_type": "code",
   "execution_count": 4,
   "metadata": {},
   "outputs": [],
   "source": [
    "# set up time-based CV indices\n",
    "tscv = ts.TimeBasedCV(train_period=21,\n",
    "                      test_period=7,\n",
    "                      freq='days')\n",
    "\n",
    "tscv_indices = []\n",
    "\n",
    "for train_index, test_index in tscv.split(X_train, date_column='date'):\n",
    "    tscv_indices.append((train_index, test_index))"
   ]
  },
  {
   "cell_type": "markdown",
   "metadata": {},
   "source": [
    "## Try adding some polynomial features"
   ]
  },
  {
   "cell_type": "code",
   "execution_count": 5,
   "metadata": {},
   "outputs": [],
   "source": [
    "from sklearn.preprocessing import PolynomialFeatures\n",
    "\n",
    "poly_vars = [\"new_cases_7avg\", \"2weeksago_cases_7avg\", \"new_cases\", \"cumulative_cases\", \n",
    "             \"prev_day_adult_admit_7daysum\", \"prev_day_adult_admit_80+_7daysum\", \n",
    "             \"prev_day_adult_admit_50-59_7daysum\"]\n",
    "\n",
    "for var in poly_vars:\n",
    "    X_train[var + \"_2\"] = X_train[var]**2\n",
    "    X_test[var + \"_2\"] = X_test[var]**2"
   ]
  },
  {
   "cell_type": "markdown",
   "metadata": {},
   "source": [
    "## Run GridSearchCV using Support Vector Regression"
   ]
  },
  {
   "cell_type": "code",
   "execution_count": 6,
   "metadata": {},
   "outputs": [],
   "source": [
    "# define scoring metrics\n",
    "scoring_metrics = [\"neg_mean_squared_error\", \"r2\", \"neg_mean_absolute_error\"]"
   ]
  },
  {
   "cell_type": "code",
   "execution_count": 8,
   "metadata": {
    "scrolled": true
   },
   "outputs": [
    {
     "name": "stdout",
     "output_type": "stream",
     "text": [
      "Start:  29/05/2021 22:48:27\n",
      "Fitting 39 folds for each of 30 candidates, totalling 1170 fits\n",
      "[CV] END ....................C=0.5, epsilon=0, kernel=linear; total time=   1.3s\n",
      "[CV] END ....................C=0.5, epsilon=0, kernel=linear; total time=   1.4s\n",
      "[CV] END ....................C=0.5, epsilon=0, kernel=linear; total time=   1.2s\n",
      "[CV] END ....................C=0.5, epsilon=0, kernel=linear; total time=   1.2s\n",
      "[CV] END ....................C=0.5, epsilon=0, kernel=linear; total time=   1.3s\n",
      "[CV] END ....................C=0.5, epsilon=0, kernel=linear; total time=   1.3s\n",
      "[CV] END ....................C=0.5, epsilon=0, kernel=linear; total time=   1.2s\n",
      "[CV] END ....................C=0.5, epsilon=0, kernel=linear; total time=   1.2s\n",
      "[CV] END ....................C=0.5, epsilon=0, kernel=linear; total time=   1.2s\n",
      "[CV] END ....................C=0.5, epsilon=0, kernel=linear; total time=   1.2s\n",
      "[CV] END ....................C=0.5, epsilon=0, kernel=linear; total time=   1.4s\n",
      "[CV] END ....................C=0.5, epsilon=0, kernel=linear; total time=   1.4s\n",
      "[CV] END ....................C=0.5, epsilon=0, kernel=linear; total time=   1.6s\n",
      "[CV] END ....................C=0.5, epsilon=0, kernel=linear; total time=   1.9s\n",
      "[CV] END ....................C=0.5, epsilon=0, kernel=linear; total time=   1.8s\n",
      "[CV] END ....................C=0.5, epsilon=0, kernel=linear; total time=   1.9s\n",
      "[CV] END ....................C=0.5, epsilon=0, kernel=linear; total time=   1.8s\n",
      "[CV] END ....................C=0.5, epsilon=0, kernel=linear; total time=   1.8s\n",
      "[CV] END ....................C=0.5, epsilon=0, kernel=linear; total time=   1.9s\n",
      "[CV] END ....................C=0.5, epsilon=0, kernel=linear; total time=   1.9s\n",
      "[CV] END ....................C=0.5, epsilon=0, kernel=linear; total time=   1.8s\n",
      "[CV] END ....................C=0.5, epsilon=0, kernel=linear; total time=   1.9s\n",
      "[CV] END ....................C=0.5, epsilon=0, kernel=linear; total time=   1.8s\n",
      "[CV] END ....................C=0.5, epsilon=0, kernel=linear; total time=   1.8s\n",
      "[CV] END ....................C=0.5, epsilon=0, kernel=linear; total time=   1.5s\n",
      "[CV] END ....................C=0.5, epsilon=0, kernel=linear; total time=   1.7s\n",
      "[CV] END ....................C=0.5, epsilon=0, kernel=linear; total time=   1.6s\n",
      "[CV] END ....................C=0.5, epsilon=0, kernel=linear; total time=   1.6s\n",
      "[CV] END ....................C=0.5, epsilon=0, kernel=linear; total time=   1.4s\n",
      "[CV] END ....................C=0.5, epsilon=0, kernel=linear; total time=   1.3s\n",
      "[CV] END ....................C=0.5, epsilon=0, kernel=linear; total time=   1.5s\n",
      "[CV] END ....................C=0.5, epsilon=0, kernel=linear; total time=   1.5s\n",
      "[CV] END ....................C=0.5, epsilon=0, kernel=linear; total time=   1.3s\n",
      "[CV] END ....................C=0.5, epsilon=0, kernel=linear; total time=   1.5s\n",
      "[CV] END ....................C=0.5, epsilon=0, kernel=linear; total time=   1.7s\n",
      "[CV] END ....................C=0.5, epsilon=0, kernel=linear; total time=   1.5s\n",
      "[CV] END ....................C=0.5, epsilon=0, kernel=linear; total time=   1.7s\n",
      "[CV] END ....................C=0.5, epsilon=0, kernel=linear; total time=   1.7s\n",
      "[CV] END ....................C=0.5, epsilon=0, kernel=linear; total time=   1.4s\n",
      "[CV] END .......................C=0.5, epsilon=0, kernel=rbf; total time=   2.1s\n",
      "[CV] END .......................C=0.5, epsilon=0, kernel=rbf; total time=   2.1s\n",
      "[CV] END .......................C=0.5, epsilon=0, kernel=rbf; total time=   2.1s\n",
      "[CV] END .......................C=0.5, epsilon=0, kernel=rbf; total time=   2.1s\n",
      "[CV] END .......................C=0.5, epsilon=0, kernel=rbf; total time=   2.1s\n",
      "[CV] END .......................C=0.5, epsilon=0, kernel=rbf; total time=   2.1s\n",
      "[CV] END .......................C=0.5, epsilon=0, kernel=rbf; total time=   2.1s\n",
      "[CV] END .......................C=0.5, epsilon=0, kernel=rbf; total time=   2.1s\n",
      "[CV] END .......................C=0.5, epsilon=0, kernel=rbf; total time=   2.1s\n",
      "[CV] END .......................C=0.5, epsilon=0, kernel=rbf; total time=   2.1s\n",
      "[CV] END .......................C=0.5, epsilon=0, kernel=rbf; total time=   2.1s\n",
      "[CV] END .......................C=0.5, epsilon=0, kernel=rbf; total time=   2.1s\n",
      "[CV] END .......................C=0.5, epsilon=0, kernel=rbf; total time=   2.1s\n",
      "[CV] END .......................C=0.5, epsilon=0, kernel=rbf; total time=   2.1s\n",
      "[CV] END .......................C=0.5, epsilon=0, kernel=rbf; total time=   2.1s\n",
      "[CV] END .......................C=0.5, epsilon=0, kernel=rbf; total time=   2.1s\n",
      "[CV] END .......................C=0.5, epsilon=0, kernel=rbf; total time=   2.1s\n",
      "[CV] END .......................C=0.5, epsilon=0, kernel=rbf; total time=   2.1s\n",
      "[CV] END .......................C=0.5, epsilon=0, kernel=rbf; total time=   2.1s\n",
      "[CV] END .......................C=0.5, epsilon=0, kernel=rbf; total time=   2.1s\n",
      "[CV] END .......................C=0.5, epsilon=0, kernel=rbf; total time=   2.2s\n",
      "[CV] END .......................C=0.5, epsilon=0, kernel=rbf; total time=   2.2s\n",
      "[CV] END .......................C=0.5, epsilon=0, kernel=rbf; total time=   2.4s\n",
      "[CV] END .......................C=0.5, epsilon=0, kernel=rbf; total time=   2.3s\n",
      "[CV] END .......................C=0.5, epsilon=0, kernel=rbf; total time=   2.1s\n",
      "[CV] END .......................C=0.5, epsilon=0, kernel=rbf; total time=   2.1s\n",
      "[CV] END .......................C=0.5, epsilon=0, kernel=rbf; total time=   2.2s\n",
      "[CV] END .......................C=0.5, epsilon=0, kernel=rbf; total time=   2.1s\n",
      "[CV] END .......................C=0.5, epsilon=0, kernel=rbf; total time=   2.1s\n",
      "[CV] END .......................C=0.5, epsilon=0, kernel=rbf; total time=   2.3s\n",
      "[CV] END .......................C=0.5, epsilon=0, kernel=rbf; total time=   2.4s\n",
      "[CV] END .......................C=0.5, epsilon=0, kernel=rbf; total time=   2.3s\n",
      "[CV] END .......................C=0.5, epsilon=0, kernel=rbf; total time=   2.2s\n",
      "[CV] END .......................C=0.5, epsilon=0, kernel=rbf; total time=   2.2s\n",
      "[CV] END .......................C=0.5, epsilon=0, kernel=rbf; total time=   2.2s\n",
      "[CV] END .......................C=0.5, epsilon=0, kernel=rbf; total time=   2.4s\n",
      "[CV] END .......................C=0.5, epsilon=0, kernel=rbf; total time=   2.2s\n",
      "[CV] END .......................C=0.5, epsilon=0, kernel=rbf; total time=   2.1s\n",
      "[CV] END .......................C=0.5, epsilon=0, kernel=rbf; total time=   2.1s\n",
      "[CV] END ....................C=0.5, epsilon=5, kernel=linear; total time=   0.2s\n",
      "[CV] END ....................C=0.5, epsilon=5, kernel=linear; total time=   0.2s\n",
      "[CV] END ....................C=0.5, epsilon=5, kernel=linear; total time=   0.2s\n",
      "[CV] END ....................C=0.5, epsilon=5, kernel=linear; total time=   0.3s\n",
      "[CV] END ....................C=0.5, epsilon=5, kernel=linear; total time=   0.3s\n",
      "[CV] END ....................C=0.5, epsilon=5, kernel=linear; total time=   0.3s\n",
      "[CV] END ....................C=0.5, epsilon=5, kernel=linear; total time=   0.3s\n",
      "[CV] END ....................C=0.5, epsilon=5, kernel=linear; total time=   0.3s\n",
      "[CV] END ....................C=0.5, epsilon=5, kernel=linear; total time=   0.3s\n",
      "[CV] END ....................C=0.5, epsilon=5, kernel=linear; total time=   0.4s\n",
      "[CV] END ....................C=0.5, epsilon=5, kernel=linear; total time=   0.5s\n",
      "[CV] END ....................C=0.5, epsilon=5, kernel=linear; total time=   0.6s\n",
      "[CV] END ....................C=0.5, epsilon=5, kernel=linear; total time=   0.9s\n",
      "[CV] END ....................C=0.5, epsilon=5, kernel=linear; total time=   0.9s\n",
      "[CV] END ....................C=0.5, epsilon=5, kernel=linear; total time=   1.1s\n",
      "[CV] END ....................C=0.5, epsilon=5, kernel=linear; total time=   0.8s\n",
      "[CV] END ....................C=0.5, epsilon=5, kernel=linear; total time=   0.9s\n",
      "[CV] END ....................C=0.5, epsilon=5, kernel=linear; total time=   0.9s\n",
      "[CV] END ....................C=0.5, epsilon=5, kernel=linear; total time=   0.7s\n",
      "[CV] END ....................C=0.5, epsilon=5, kernel=linear; total time=   0.7s\n",
      "[CV] END ....................C=0.5, epsilon=5, kernel=linear; total time=   0.8s\n",
      "[CV] END ....................C=0.5, epsilon=5, kernel=linear; total time=   0.8s\n",
      "[CV] END ....................C=0.5, epsilon=5, kernel=linear; total time=   1.0s\n"
     ]
    },
    {
     "name": "stdout",
     "output_type": "stream",
     "text": [
      "[CV] END ....................C=0.5, epsilon=5, kernel=linear; total time=   0.7s\n",
      "[CV] END ....................C=0.5, epsilon=5, kernel=linear; total time=   0.4s\n",
      "[CV] END ....................C=0.5, epsilon=5, kernel=linear; total time=   0.5s\n",
      "[CV] END ....................C=0.5, epsilon=5, kernel=linear; total time=   0.4s\n",
      "[CV] END ....................C=0.5, epsilon=5, kernel=linear; total time=   0.2s\n",
      "[CV] END ....................C=0.5, epsilon=5, kernel=linear; total time=   0.2s\n",
      "[CV] END ....................C=0.5, epsilon=5, kernel=linear; total time=   0.2s\n",
      "[CV] END ....................C=0.5, epsilon=5, kernel=linear; total time=   0.2s\n",
      "[CV] END ....................C=0.5, epsilon=5, kernel=linear; total time=   0.2s\n",
      "[CV] END ....................C=0.5, epsilon=5, kernel=linear; total time=   0.3s\n",
      "[CV] END ....................C=0.5, epsilon=5, kernel=linear; total time=   0.3s\n",
      "[CV] END ....................C=0.5, epsilon=5, kernel=linear; total time=   0.3s\n",
      "[CV] END ....................C=0.5, epsilon=5, kernel=linear; total time=   0.3s\n",
      "[CV] END ....................C=0.5, epsilon=5, kernel=linear; total time=   0.2s\n",
      "[CV] END ....................C=0.5, epsilon=5, kernel=linear; total time=   0.3s\n",
      "[CV] END ....................C=0.5, epsilon=5, kernel=linear; total time=   0.2s\n",
      "[CV] END .......................C=0.5, epsilon=5, kernel=rbf; total time=   0.6s\n",
      "[CV] END .......................C=0.5, epsilon=5, kernel=rbf; total time=   0.6s\n",
      "[CV] END .......................C=0.5, epsilon=5, kernel=rbf; total time=   0.6s\n",
      "[CV] END .......................C=0.5, epsilon=5, kernel=rbf; total time=   0.7s\n",
      "[CV] END .......................C=0.5, epsilon=5, kernel=rbf; total time=   0.7s\n",
      "[CV] END .......................C=0.5, epsilon=5, kernel=rbf; total time=   0.7s\n",
      "[CV] END .......................C=0.5, epsilon=5, kernel=rbf; total time=   0.7s\n",
      "[CV] END .......................C=0.5, epsilon=5, kernel=rbf; total time=   0.7s\n",
      "[CV] END .......................C=0.5, epsilon=5, kernel=rbf; total time=   0.9s\n",
      "[CV] END .......................C=0.5, epsilon=5, kernel=rbf; total time=   1.3s\n",
      "[CV] END .......................C=0.5, epsilon=5, kernel=rbf; total time=   1.5s\n",
      "[CV] END .......................C=0.5, epsilon=5, kernel=rbf; total time=   1.7s\n",
      "[CV] END .......................C=0.5, epsilon=5, kernel=rbf; total time=   1.8s\n",
      "[CV] END .......................C=0.5, epsilon=5, kernel=rbf; total time=   1.8s\n",
      "[CV] END .......................C=0.5, epsilon=5, kernel=rbf; total time=   1.9s\n",
      "[CV] END .......................C=0.5, epsilon=5, kernel=rbf; total time=   1.9s\n",
      "[CV] END .......................C=0.5, epsilon=5, kernel=rbf; total time=   1.9s\n",
      "[CV] END .......................C=0.5, epsilon=5, kernel=rbf; total time=   1.9s\n",
      "[CV] END .......................C=0.5, epsilon=5, kernel=rbf; total time=   1.8s\n",
      "[CV] END .......................C=0.5, epsilon=5, kernel=rbf; total time=   1.8s\n",
      "[CV] END .......................C=0.5, epsilon=5, kernel=rbf; total time=   1.8s\n",
      "[CV] END .......................C=0.5, epsilon=5, kernel=rbf; total time=   1.8s\n",
      "[CV] END .......................C=0.5, epsilon=5, kernel=rbf; total time=   1.7s\n",
      "[CV] END .......................C=0.5, epsilon=5, kernel=rbf; total time=   1.6s\n",
      "[CV] END .......................C=0.5, epsilon=5, kernel=rbf; total time=   1.5s\n",
      "[CV] END .......................C=0.5, epsilon=5, kernel=rbf; total time=   1.3s\n",
      "[CV] END .......................C=0.5, epsilon=5, kernel=rbf; total time=   1.1s\n",
      "[CV] END .......................C=0.5, epsilon=5, kernel=rbf; total time=   0.9s\n",
      "[CV] END .......................C=0.5, epsilon=5, kernel=rbf; total time=   0.8s\n",
      "[CV] END .......................C=0.5, epsilon=5, kernel=rbf; total time=   0.8s\n",
      "[CV] END .......................C=0.5, epsilon=5, kernel=rbf; total time=   0.7s\n",
      "[CV] END .......................C=0.5, epsilon=5, kernel=rbf; total time=   0.8s\n",
      "[CV] END .......................C=0.5, epsilon=5, kernel=rbf; total time=   0.9s\n",
      "[CV] END .......................C=0.5, epsilon=5, kernel=rbf; total time=   1.0s\n",
      "[CV] END .......................C=0.5, epsilon=5, kernel=rbf; total time=   1.0s\n",
      "[CV] END .......................C=0.5, epsilon=5, kernel=rbf; total time=   1.0s\n",
      "[CV] END .......................C=0.5, epsilon=5, kernel=rbf; total time=   1.0s\n",
      "[CV] END .......................C=0.5, epsilon=5, kernel=rbf; total time=   0.9s\n",
      "[CV] END .......................C=0.5, epsilon=5, kernel=rbf; total time=   0.8s\n",
      "[CV] END ...................C=0.5, epsilon=10, kernel=linear; total time=   0.1s\n",
      "[CV] END ...................C=0.5, epsilon=10, kernel=linear; total time=   0.2s\n",
      "[CV] END ...................C=0.5, epsilon=10, kernel=linear; total time=   0.2s\n",
      "[CV] END ...................C=0.5, epsilon=10, kernel=linear; total time=   0.2s\n",
      "[CV] END ...................C=0.5, epsilon=10, kernel=linear; total time=   0.2s\n",
      "[CV] END ...................C=0.5, epsilon=10, kernel=linear; total time=   0.1s\n",
      "[CV] END ...................C=0.5, epsilon=10, kernel=linear; total time=   0.2s\n",
      "[CV] END ...................C=0.5, epsilon=10, kernel=linear; total time=   0.2s\n",
      "[CV] END ...................C=0.5, epsilon=10, kernel=linear; total time=   0.2s\n",
      "[CV] END ...................C=0.5, epsilon=10, kernel=linear; total time=   0.2s\n",
      "[CV] END ...................C=0.5, epsilon=10, kernel=linear; total time=   0.3s\n",
      "[CV] END ...................C=0.5, epsilon=10, kernel=linear; total time=   0.4s\n",
      "[CV] END ...................C=0.5, epsilon=10, kernel=linear; total time=   0.5s\n",
      "[CV] END ...................C=0.5, epsilon=10, kernel=linear; total time=   0.8s\n",
      "[CV] END ...................C=0.5, epsilon=10, kernel=linear; total time=   1.2s\n",
      "[CV] END ...................C=0.5, epsilon=10, kernel=linear; total time=   0.9s\n",
      "[CV] END ...................C=0.5, epsilon=10, kernel=linear; total time=   0.6s\n",
      "[CV] END ...................C=0.5, epsilon=10, kernel=linear; total time=   0.6s\n",
      "[CV] END ...................C=0.5, epsilon=10, kernel=linear; total time=   0.5s\n",
      "[CV] END ...................C=0.5, epsilon=10, kernel=linear; total time=   0.6s\n",
      "[CV] END ...................C=0.5, epsilon=10, kernel=linear; total time=   0.6s\n",
      "[CV] END ...................C=0.5, epsilon=10, kernel=linear; total time=   0.6s\n",
      "[CV] END ...................C=0.5, epsilon=10, kernel=linear; total time=   0.7s\n",
      "[CV] END ...................C=0.5, epsilon=10, kernel=linear; total time=   0.4s\n",
      "[CV] END ...................C=0.5, epsilon=10, kernel=linear; total time=   0.3s\n",
      "[CV] END ...................C=0.5, epsilon=10, kernel=linear; total time=   0.2s\n",
      "[CV] END ...................C=0.5, epsilon=10, kernel=linear; total time=   0.2s\n",
      "[CV] END ...................C=0.5, epsilon=10, kernel=linear; total time=   0.2s\n",
      "[CV] END ...................C=0.5, epsilon=10, kernel=linear; total time=   0.1s\n",
      "[CV] END ...................C=0.5, epsilon=10, kernel=linear; total time=   0.1s\n",
      "[CV] END ...................C=0.5, epsilon=10, kernel=linear; total time=   0.1s\n",
      "[CV] END ...................C=0.5, epsilon=10, kernel=linear; total time=   0.2s\n",
      "[CV] END ...................C=0.5, epsilon=10, kernel=linear; total time=   0.1s\n",
      "[CV] END ...................C=0.5, epsilon=10, kernel=linear; total time=   0.2s\n",
      "[CV] END ...................C=0.5, epsilon=10, kernel=linear; total time=   0.2s\n",
      "[CV] END ...................C=0.5, epsilon=10, kernel=linear; total time=   0.2s\n",
      "[CV] END ...................C=0.5, epsilon=10, kernel=linear; total time=   0.2s\n",
      "[CV] END ...................C=0.5, epsilon=10, kernel=linear; total time=   0.2s\n",
      "[CV] END ...................C=0.5, epsilon=10, kernel=linear; total time=   0.1s\n",
      "[CV] END ......................C=0.5, epsilon=10, kernel=rbf; total time=   0.3s\n",
      "[CV] END ......................C=0.5, epsilon=10, kernel=rbf; total time=   0.3s\n",
      "[CV] END ......................C=0.5, epsilon=10, kernel=rbf; total time=   0.3s\n",
      "[CV] END ......................C=0.5, epsilon=10, kernel=rbf; total time=   0.4s\n",
      "[CV] END ......................C=0.5, epsilon=10, kernel=rbf; total time=   0.4s\n",
      "[CV] END ......................C=0.5, epsilon=10, kernel=rbf; total time=   0.4s\n",
      "[CV] END ......................C=0.5, epsilon=10, kernel=rbf; total time=   0.4s\n",
      "[CV] END ......................C=0.5, epsilon=10, kernel=rbf; total time=   0.4s\n"
     ]
    },
    {
     "name": "stdout",
     "output_type": "stream",
     "text": [
      "[CV] END ......................C=0.5, epsilon=10, kernel=rbf; total time=   0.5s\n",
      "[CV] END ......................C=0.5, epsilon=10, kernel=rbf; total time=   0.7s\n",
      "[CV] END ......................C=0.5, epsilon=10, kernel=rbf; total time=   0.9s\n",
      "[CV] END ......................C=0.5, epsilon=10, kernel=rbf; total time=   1.3s\n",
      "[CV] END ......................C=0.5, epsilon=10, kernel=rbf; total time=   1.5s\n",
      "[CV] END ......................C=0.5, epsilon=10, kernel=rbf; total time=   1.5s\n",
      "[CV] END ......................C=0.5, epsilon=10, kernel=rbf; total time=   1.7s\n",
      "[CV] END ......................C=0.5, epsilon=10, kernel=rbf; total time=   1.8s\n",
      "[CV] END ......................C=0.5, epsilon=10, kernel=rbf; total time=   1.7s\n",
      "[CV] END ......................C=0.5, epsilon=10, kernel=rbf; total time=   1.7s\n",
      "[CV] END ......................C=0.5, epsilon=10, kernel=rbf; total time=   1.5s\n",
      "[CV] END ......................C=0.5, epsilon=10, kernel=rbf; total time=   1.5s\n",
      "[CV] END ......................C=0.5, epsilon=10, kernel=rbf; total time=   1.5s\n",
      "[CV] END ......................C=0.5, epsilon=10, kernel=rbf; total time=   1.8s\n",
      "[CV] END ......................C=0.5, epsilon=10, kernel=rbf; total time=   1.5s\n",
      "[CV] END ......................C=0.5, epsilon=10, kernel=rbf; total time=   1.2s\n",
      "[CV] END ......................C=0.5, epsilon=10, kernel=rbf; total time=   1.1s\n",
      "[CV] END ......................C=0.5, epsilon=10, kernel=rbf; total time=   0.9s\n",
      "[CV] END ......................C=0.5, epsilon=10, kernel=rbf; total time=   0.8s\n",
      "[CV] END ......................C=0.5, epsilon=10, kernel=rbf; total time=   0.6s\n",
      "[CV] END ......................C=0.5, epsilon=10, kernel=rbf; total time=   0.6s\n",
      "[CV] END ......................C=0.5, epsilon=10, kernel=rbf; total time=   0.5s\n",
      "[CV] END ......................C=0.5, epsilon=10, kernel=rbf; total time=   0.5s\n",
      "[CV] END ......................C=0.5, epsilon=10, kernel=rbf; total time=   0.5s\n",
      "[CV] END ......................C=0.5, epsilon=10, kernel=rbf; total time=   0.6s\n",
      "[CV] END ......................C=0.5, epsilon=10, kernel=rbf; total time=   0.7s\n",
      "[CV] END ......................C=0.5, epsilon=10, kernel=rbf; total time=   0.7s\n",
      "[CV] END ......................C=0.5, epsilon=10, kernel=rbf; total time=   0.7s\n",
      "[CV] END ......................C=0.5, epsilon=10, kernel=rbf; total time=   0.6s\n",
      "[CV] END ......................C=0.5, epsilon=10, kernel=rbf; total time=   0.5s\n",
      "[CV] END ......................C=0.5, epsilon=10, kernel=rbf; total time=   0.5s\n",
      "[CV] END ......................C=1, epsilon=0, kernel=linear; total time=   1.4s\n",
      "[CV] END ......................C=1, epsilon=0, kernel=linear; total time=   1.3s\n",
      "[CV] END ......................C=1, epsilon=0, kernel=linear; total time=   1.3s\n",
      "[CV] END ......................C=1, epsilon=0, kernel=linear; total time=   1.4s\n",
      "[CV] END ......................C=1, epsilon=0, kernel=linear; total time=   1.3s\n",
      "[CV] END ......................C=1, epsilon=0, kernel=linear; total time=   1.4s\n",
      "[CV] END ......................C=1, epsilon=0, kernel=linear; total time=   1.4s\n",
      "[CV] END ......................C=1, epsilon=0, kernel=linear; total time=   1.3s\n",
      "[CV] END ......................C=1, epsilon=0, kernel=linear; total time=   1.3s\n",
      "[CV] END ......................C=1, epsilon=0, kernel=linear; total time=   1.3s\n",
      "[CV] END ......................C=1, epsilon=0, kernel=linear; total time=   1.4s\n",
      "[CV] END ......................C=1, epsilon=0, kernel=linear; total time=   1.7s\n",
      "[CV] END ......................C=1, epsilon=0, kernel=linear; total time=   2.3s\n",
      "[CV] END ......................C=1, epsilon=0, kernel=linear; total time=   2.7s\n",
      "[CV] END ......................C=1, epsilon=0, kernel=linear; total time=   2.3s\n",
      "[CV] END ......................C=1, epsilon=0, kernel=linear; total time=   2.3s\n",
      "[CV] END ......................C=1, epsilon=0, kernel=linear; total time=   2.1s\n",
      "[CV] END ......................C=1, epsilon=0, kernel=linear; total time=   2.0s\n",
      "[CV] END ......................C=1, epsilon=0, kernel=linear; total time=   1.8s\n",
      "[CV] END ......................C=1, epsilon=0, kernel=linear; total time=   2.8s\n",
      "[CV] END ......................C=1, epsilon=0, kernel=linear; total time=   2.5s\n",
      "[CV] END ......................C=1, epsilon=0, kernel=linear; total time=   2.0s\n",
      "[CV] END ......................C=1, epsilon=0, kernel=linear; total time=   2.6s\n",
      "[CV] END ......................C=1, epsilon=0, kernel=linear; total time=   3.4s\n",
      "[CV] END ......................C=1, epsilon=0, kernel=linear; total time=   2.0s\n",
      "[CV] END ......................C=1, epsilon=0, kernel=linear; total time=   2.0s\n",
      "[CV] END ......................C=1, epsilon=0, kernel=linear; total time=   2.2s\n",
      "[CV] END ......................C=1, epsilon=0, kernel=linear; total time=   1.8s\n",
      "[CV] END ......................C=1, epsilon=0, kernel=linear; total time=   1.9s\n",
      "[CV] END ......................C=1, epsilon=0, kernel=linear; total time=   1.7s\n",
      "[CV] END ......................C=1, epsilon=0, kernel=linear; total time=   1.6s\n",
      "[CV] END ......................C=1, epsilon=0, kernel=linear; total time=   1.6s\n",
      "[CV] END ......................C=1, epsilon=0, kernel=linear; total time=   1.7s\n",
      "[CV] END ......................C=1, epsilon=0, kernel=linear; total time=   1.7s\n",
      "[CV] END ......................C=1, epsilon=0, kernel=linear; total time=   1.7s\n",
      "[CV] END ......................C=1, epsilon=0, kernel=linear; total time=   1.8s\n",
      "[CV] END ......................C=1, epsilon=0, kernel=linear; total time=   1.8s\n",
      "[CV] END ......................C=1, epsilon=0, kernel=linear; total time=   1.9s\n",
      "[CV] END ......................C=1, epsilon=0, kernel=linear; total time=   1.7s\n",
      "[CV] END .........................C=1, epsilon=0, kernel=rbf; total time=   2.1s\n",
      "[CV] END .........................C=1, epsilon=0, kernel=rbf; total time=   2.1s\n",
      "[CV] END .........................C=1, epsilon=0, kernel=rbf; total time=   2.1s\n",
      "[CV] END .........................C=1, epsilon=0, kernel=rbf; total time=   2.1s\n",
      "[CV] END .........................C=1, epsilon=0, kernel=rbf; total time=   2.1s\n",
      "[CV] END .........................C=1, epsilon=0, kernel=rbf; total time=   2.1s\n",
      "[CV] END .........................C=1, epsilon=0, kernel=rbf; total time=   2.1s\n",
      "[CV] END .........................C=1, epsilon=0, kernel=rbf; total time=   2.1s\n",
      "[CV] END .........................C=1, epsilon=0, kernel=rbf; total time=   2.1s\n",
      "[CV] END .........................C=1, epsilon=0, kernel=rbf; total time=   2.1s\n",
      "[CV] END .........................C=1, epsilon=0, kernel=rbf; total time=   2.1s\n",
      "[CV] END .........................C=1, epsilon=0, kernel=rbf; total time=   2.1s\n",
      "[CV] END .........................C=1, epsilon=0, kernel=rbf; total time=   2.1s\n",
      "[CV] END .........................C=1, epsilon=0, kernel=rbf; total time=   2.1s\n",
      "[CV] END .........................C=1, epsilon=0, kernel=rbf; total time=   2.2s\n",
      "[CV] END .........................C=1, epsilon=0, kernel=rbf; total time=   2.2s\n",
      "[CV] END .........................C=1, epsilon=0, kernel=rbf; total time=   2.1s\n",
      "[CV] END .........................C=1, epsilon=0, kernel=rbf; total time=   2.2s\n",
      "[CV] END .........................C=1, epsilon=0, kernel=rbf; total time=   2.3s\n",
      "[CV] END .........................C=1, epsilon=0, kernel=rbf; total time=   2.4s\n",
      "[CV] END .........................C=1, epsilon=0, kernel=rbf; total time=   2.2s\n",
      "[CV] END .........................C=1, epsilon=0, kernel=rbf; total time=   2.1s\n",
      "[CV] END .........................C=1, epsilon=0, kernel=rbf; total time=   2.1s\n",
      "[CV] END .........................C=1, epsilon=0, kernel=rbf; total time=   2.1s\n",
      "[CV] END .........................C=1, epsilon=0, kernel=rbf; total time=   2.1s\n",
      "[CV] END .........................C=1, epsilon=0, kernel=rbf; total time=   2.1s\n",
      "[CV] END .........................C=1, epsilon=0, kernel=rbf; total time=   2.1s\n",
      "[CV] END .........................C=1, epsilon=0, kernel=rbf; total time=   2.1s\n",
      "[CV] END .........................C=1, epsilon=0, kernel=rbf; total time=   2.1s\n",
      "[CV] END .........................C=1, epsilon=0, kernel=rbf; total time=   2.1s\n",
      "[CV] END .........................C=1, epsilon=0, kernel=rbf; total time=   2.1s\n",
      "[CV] END .........................C=1, epsilon=0, kernel=rbf; total time=   2.1s\n"
     ]
    },
    {
     "name": "stdout",
     "output_type": "stream",
     "text": [
      "[CV] END .........................C=1, epsilon=0, kernel=rbf; total time=   2.1s\n",
      "[CV] END .........................C=1, epsilon=0, kernel=rbf; total time=   2.1s\n",
      "[CV] END .........................C=1, epsilon=0, kernel=rbf; total time=   2.1s\n",
      "[CV] END .........................C=1, epsilon=0, kernel=rbf; total time=   2.1s\n",
      "[CV] END .........................C=1, epsilon=0, kernel=rbf; total time=   2.1s\n",
      "[CV] END .........................C=1, epsilon=0, kernel=rbf; total time=   2.1s\n",
      "[CV] END .........................C=1, epsilon=0, kernel=rbf; total time=   2.1s\n",
      "[CV] END ......................C=1, epsilon=5, kernel=linear; total time=   0.2s\n",
      "[CV] END ......................C=1, epsilon=5, kernel=linear; total time=   0.2s\n",
      "[CV] END ......................C=1, epsilon=5, kernel=linear; total time=   0.2s\n",
      "[CV] END ......................C=1, epsilon=5, kernel=linear; total time=   0.3s\n",
      "[CV] END ......................C=1, epsilon=5, kernel=linear; total time=   0.3s\n",
      "[CV] END ......................C=1, epsilon=5, kernel=linear; total time=   0.3s\n",
      "[CV] END ......................C=1, epsilon=5, kernel=linear; total time=   0.3s\n",
      "[CV] END ......................C=1, epsilon=5, kernel=linear; total time=   0.3s\n",
      "[CV] END ......................C=1, epsilon=5, kernel=linear; total time=   0.3s\n",
      "[CV] END ......................C=1, epsilon=5, kernel=linear; total time=   0.4s\n",
      "[CV] END ......................C=1, epsilon=5, kernel=linear; total time=   0.5s\n",
      "[CV] END ......................C=1, epsilon=5, kernel=linear; total time=   0.8s\n",
      "[CV] END ......................C=1, epsilon=5, kernel=linear; total time=   0.9s\n",
      "[CV] END ......................C=1, epsilon=5, kernel=linear; total time=   1.5s\n",
      "[CV] END ......................C=1, epsilon=5, kernel=linear; total time=   1.2s\n",
      "[CV] END ......................C=1, epsilon=5, kernel=linear; total time=   1.9s\n",
      "[CV] END ......................C=1, epsilon=5, kernel=linear; total time=   1.2s\n",
      "[CV] END ......................C=1, epsilon=5, kernel=linear; total time=   1.3s\n",
      "[CV] END ......................C=1, epsilon=5, kernel=linear; total time=   1.3s\n",
      "[CV] END ......................C=1, epsilon=5, kernel=linear; total time=   1.0s\n",
      "[CV] END ......................C=1, epsilon=5, kernel=linear; total time=   1.2s\n",
      "[CV] END ......................C=1, epsilon=5, kernel=linear; total time=   1.2s\n",
      "[CV] END ......................C=1, epsilon=5, kernel=linear; total time=   1.3s\n",
      "[CV] END ......................C=1, epsilon=5, kernel=linear; total time=   0.9s\n",
      "[CV] END ......................C=1, epsilon=5, kernel=linear; total time=   0.5s\n",
      "[CV] END ......................C=1, epsilon=5, kernel=linear; total time=   0.5s\n",
      "[CV] END ......................C=1, epsilon=5, kernel=linear; total time=   0.4s\n",
      "[CV] END ......................C=1, epsilon=5, kernel=linear; total time=   0.3s\n",
      "[CV] END ......................C=1, epsilon=5, kernel=linear; total time=   0.2s\n",
      "[CV] END ......................C=1, epsilon=5, kernel=linear; total time=   0.2s\n",
      "[CV] END ......................C=1, epsilon=5, kernel=linear; total time=   0.3s\n",
      "[CV] END ......................C=1, epsilon=5, kernel=linear; total time=   0.3s\n",
      "[CV] END ......................C=1, epsilon=5, kernel=linear; total time=   0.3s\n",
      "[CV] END ......................C=1, epsilon=5, kernel=linear; total time=   0.3s\n",
      "[CV] END ......................C=1, epsilon=5, kernel=linear; total time=   0.4s\n",
      "[CV] END ......................C=1, epsilon=5, kernel=linear; total time=   0.3s\n",
      "[CV] END ......................C=1, epsilon=5, kernel=linear; total time=   0.3s\n",
      "[CV] END ......................C=1, epsilon=5, kernel=linear; total time=   0.3s\n",
      "[CV] END ......................C=1, epsilon=5, kernel=linear; total time=   0.3s\n",
      "[CV] END .........................C=1, epsilon=5, kernel=rbf; total time=   0.5s\n",
      "[CV] END .........................C=1, epsilon=5, kernel=rbf; total time=   0.5s\n",
      "[CV] END .........................C=1, epsilon=5, kernel=rbf; total time=   0.5s\n",
      "[CV] END .........................C=1, epsilon=5, kernel=rbf; total time=   0.6s\n",
      "[CV] END .........................C=1, epsilon=5, kernel=rbf; total time=   0.6s\n",
      "[CV] END .........................C=1, epsilon=5, kernel=rbf; total time=   0.6s\n",
      "[CV] END .........................C=1, epsilon=5, kernel=rbf; total time=   0.7s\n",
      "[CV] END .........................C=1, epsilon=5, kernel=rbf; total time=   0.7s\n",
      "[CV] END .........................C=1, epsilon=5, kernel=rbf; total time=   0.8s\n",
      "[CV] END .........................C=1, epsilon=5, kernel=rbf; total time=   1.0s\n",
      "[CV] END .........................C=1, epsilon=5, kernel=rbf; total time=   1.3s\n",
      "[CV] END .........................C=1, epsilon=5, kernel=rbf; total time=   1.6s\n",
      "[CV] END .........................C=1, epsilon=5, kernel=rbf; total time=   1.8s\n",
      "[CV] END .........................C=1, epsilon=5, kernel=rbf; total time=   1.8s\n",
      "[CV] END .........................C=1, epsilon=5, kernel=rbf; total time=   1.9s\n",
      "[CV] END .........................C=1, epsilon=5, kernel=rbf; total time=   1.9s\n",
      "[CV] END .........................C=1, epsilon=5, kernel=rbf; total time=   1.9s\n",
      "[CV] END .........................C=1, epsilon=5, kernel=rbf; total time=   1.9s\n",
      "[CV] END .........................C=1, epsilon=5, kernel=rbf; total time=   1.8s\n",
      "[CV] END .........................C=1, epsilon=5, kernel=rbf; total time=   1.8s\n",
      "[CV] END .........................C=1, epsilon=5, kernel=rbf; total time=   1.8s\n",
      "[CV] END .........................C=1, epsilon=5, kernel=rbf; total time=   1.8s\n",
      "[CV] END .........................C=1, epsilon=5, kernel=rbf; total time=   1.7s\n",
      "[CV] END .........................C=1, epsilon=5, kernel=rbf; total time=   1.6s\n",
      "[CV] END .........................C=1, epsilon=5, kernel=rbf; total time=   1.4s\n",
      "[CV] END .........................C=1, epsilon=5, kernel=rbf; total time=   1.2s\n",
      "[CV] END .........................C=1, epsilon=5, kernel=rbf; total time=   1.0s\n",
      "[CV] END .........................C=1, epsilon=5, kernel=rbf; total time=   0.8s\n",
      "[CV] END .........................C=1, epsilon=5, kernel=rbf; total time=   0.7s\n",
      "[CV] END .........................C=1, epsilon=5, kernel=rbf; total time=   0.7s\n",
      "[CV] END .........................C=1, epsilon=5, kernel=rbf; total time=   0.6s\n",
      "[CV] END .........................C=1, epsilon=5, kernel=rbf; total time=   0.7s\n",
      "[CV] END .........................C=1, epsilon=5, kernel=rbf; total time=   0.8s\n",
      "[CV] END .........................C=1, epsilon=5, kernel=rbf; total time=   0.8s\n",
      "[CV] END .........................C=1, epsilon=5, kernel=rbf; total time=   0.9s\n",
      "[CV] END .........................C=1, epsilon=5, kernel=rbf; total time=   0.9s\n",
      "[CV] END .........................C=1, epsilon=5, kernel=rbf; total time=   0.8s\n",
      "[CV] END .........................C=1, epsilon=5, kernel=rbf; total time=   0.7s\n",
      "[CV] END .........................C=1, epsilon=5, kernel=rbf; total time=   0.6s\n",
      "[CV] END .....................C=1, epsilon=10, kernel=linear; total time=   0.1s\n",
      "[CV] END .....................C=1, epsilon=10, kernel=linear; total time=   0.2s\n",
      "[CV] END .....................C=1, epsilon=10, kernel=linear; total time=   0.2s\n",
      "[CV] END .....................C=1, epsilon=10, kernel=linear; total time=   0.2s\n",
      "[CV] END .....................C=1, epsilon=10, kernel=linear; total time=   0.2s\n",
      "[CV] END .....................C=1, epsilon=10, kernel=linear; total time=   0.1s\n",
      "[CV] END .....................C=1, epsilon=10, kernel=linear; total time=   0.1s\n",
      "[CV] END .....................C=1, epsilon=10, kernel=linear; total time=   0.2s\n",
      "[CV] END .....................C=1, epsilon=10, kernel=linear; total time=   0.2s\n",
      "[CV] END .....................C=1, epsilon=10, kernel=linear; total time=   0.2s\n",
      "[CV] END .....................C=1, epsilon=10, kernel=linear; total time=   0.2s\n",
      "[CV] END .....................C=1, epsilon=10, kernel=linear; total time=   0.4s\n",
      "[CV] END .....................C=1, epsilon=10, kernel=linear; total time=   0.7s\n",
      "[CV] END .....................C=1, epsilon=10, kernel=linear; total time=   1.1s\n",
      "[CV] END .....................C=1, epsilon=10, kernel=linear; total time=   1.0s\n",
      "[CV] END .....................C=1, epsilon=10, kernel=linear; total time=   0.9s\n",
      "[CV] END .....................C=1, epsilon=10, kernel=linear; total time=   0.7s\n"
     ]
    },
    {
     "name": "stdout",
     "output_type": "stream",
     "text": [
      "[CV] END .....................C=1, epsilon=10, kernel=linear; total time=   1.0s\n",
      "[CV] END .....................C=1, epsilon=10, kernel=linear; total time=   0.7s\n",
      "[CV] END .....................C=1, epsilon=10, kernel=linear; total time=   0.8s\n",
      "[CV] END .....................C=1, epsilon=10, kernel=linear; total time=   0.7s\n",
      "[CV] END .....................C=1, epsilon=10, kernel=linear; total time=   0.6s\n",
      "[CV] END .....................C=1, epsilon=10, kernel=linear; total time=   0.8s\n",
      "[CV] END .....................C=1, epsilon=10, kernel=linear; total time=   0.5s\n",
      "[CV] END .....................C=1, epsilon=10, kernel=linear; total time=   0.4s\n",
      "[CV] END .....................C=1, epsilon=10, kernel=linear; total time=   0.4s\n",
      "[CV] END .....................C=1, epsilon=10, kernel=linear; total time=   0.3s\n",
      "[CV] END .....................C=1, epsilon=10, kernel=linear; total time=   0.2s\n",
      "[CV] END .....................C=1, epsilon=10, kernel=linear; total time=   0.1s\n",
      "[CV] END .....................C=1, epsilon=10, kernel=linear; total time=   0.1s\n",
      "[CV] END .....................C=1, epsilon=10, kernel=linear; total time=   0.1s\n",
      "[CV] END .....................C=1, epsilon=10, kernel=linear; total time=   0.2s\n",
      "[CV] END .....................C=1, epsilon=10, kernel=linear; total time=   0.2s\n",
      "[CV] END .....................C=1, epsilon=10, kernel=linear; total time=   0.2s\n",
      "[CV] END .....................C=1, epsilon=10, kernel=linear; total time=   0.3s\n",
      "[CV] END .....................C=1, epsilon=10, kernel=linear; total time=   0.3s\n",
      "[CV] END .....................C=1, epsilon=10, kernel=linear; total time=   0.2s\n",
      "[CV] END .....................C=1, epsilon=10, kernel=linear; total time=   0.2s\n",
      "[CV] END .....................C=1, epsilon=10, kernel=linear; total time=   0.1s\n",
      "[CV] END ........................C=1, epsilon=10, kernel=rbf; total time=   0.3s\n",
      "[CV] END ........................C=1, epsilon=10, kernel=rbf; total time=   0.3s\n",
      "[CV] END ........................C=1, epsilon=10, kernel=rbf; total time=   0.3s\n",
      "[CV] END ........................C=1, epsilon=10, kernel=rbf; total time=   0.3s\n",
      "[CV] END ........................C=1, epsilon=10, kernel=rbf; total time=   0.3s\n",
      "[CV] END ........................C=1, epsilon=10, kernel=rbf; total time=   0.3s\n",
      "[CV] END ........................C=1, epsilon=10, kernel=rbf; total time=   0.3s\n",
      "[CV] END ........................C=1, epsilon=10, kernel=rbf; total time=   0.4s\n",
      "[CV] END ........................C=1, epsilon=10, kernel=rbf; total time=   0.4s\n",
      "[CV] END ........................C=1, epsilon=10, kernel=rbf; total time=   0.6s\n",
      "[CV] END ........................C=1, epsilon=10, kernel=rbf; total time=   0.8s\n",
      "[CV] END ........................C=1, epsilon=10, kernel=rbf; total time=   1.2s\n",
      "[CV] END ........................C=1, epsilon=10, kernel=rbf; total time=   1.4s\n",
      "[CV] END ........................C=1, epsilon=10, kernel=rbf; total time=   1.5s\n",
      "[CV] END ........................C=1, epsilon=10, kernel=rbf; total time=   1.6s\n",
      "[CV] END ........................C=1, epsilon=10, kernel=rbf; total time=   1.6s\n",
      "[CV] END ........................C=1, epsilon=10, kernel=rbf; total time=   1.6s\n",
      "[CV] END ........................C=1, epsilon=10, kernel=rbf; total time=   1.6s\n",
      "[CV] END ........................C=1, epsilon=10, kernel=rbf; total time=   1.5s\n",
      "[CV] END ........................C=1, epsilon=10, kernel=rbf; total time=   1.5s\n",
      "[CV] END ........................C=1, epsilon=10, kernel=rbf; total time=   1.5s\n",
      "[CV] END ........................C=1, epsilon=10, kernel=rbf; total time=   1.5s\n",
      "[CV] END ........................C=1, epsilon=10, kernel=rbf; total time=   1.3s\n",
      "[CV] END ........................C=1, epsilon=10, kernel=rbf; total time=   1.2s\n",
      "[CV] END ........................C=1, epsilon=10, kernel=rbf; total time=   1.0s\n",
      "[CV] END ........................C=1, epsilon=10, kernel=rbf; total time=   0.8s\n",
      "[CV] END ........................C=1, epsilon=10, kernel=rbf; total time=   0.7s\n",
      "[CV] END ........................C=1, epsilon=10, kernel=rbf; total time=   0.5s\n",
      "[CV] END ........................C=1, epsilon=10, kernel=rbf; total time=   0.5s\n",
      "[CV] END ........................C=1, epsilon=10, kernel=rbf; total time=   0.4s\n",
      "[CV] END ........................C=1, epsilon=10, kernel=rbf; total time=   0.4s\n",
      "[CV] END ........................C=1, epsilon=10, kernel=rbf; total time=   0.4s\n",
      "[CV] END ........................C=1, epsilon=10, kernel=rbf; total time=   0.5s\n",
      "[CV] END ........................C=1, epsilon=10, kernel=rbf; total time=   0.6s\n",
      "[CV] END ........................C=1, epsilon=10, kernel=rbf; total time=   0.6s\n",
      "[CV] END ........................C=1, epsilon=10, kernel=rbf; total time=   0.6s\n",
      "[CV] END ........................C=1, epsilon=10, kernel=rbf; total time=   0.6s\n",
      "[CV] END ........................C=1, epsilon=10, kernel=rbf; total time=   0.5s\n",
      "[CV] END ........................C=1, epsilon=10, kernel=rbf; total time=   0.4s\n",
      "[CV] END ......................C=5, epsilon=0, kernel=linear; total time=   2.4s\n",
      "[CV] END ......................C=5, epsilon=0, kernel=linear; total time=   2.2s\n",
      "[CV] END ......................C=5, epsilon=0, kernel=linear; total time=   2.0s\n",
      "[CV] END ......................C=5, epsilon=0, kernel=linear; total time=   2.1s\n",
      "[CV] END ......................C=5, epsilon=0, kernel=linear; total time=   2.3s\n",
      "[CV] END ......................C=5, epsilon=0, kernel=linear; total time=   2.4s\n",
      "[CV] END ......................C=5, epsilon=0, kernel=linear; total time=   2.1s\n",
      "[CV] END ......................C=5, epsilon=0, kernel=linear; total time=   2.0s\n",
      "[CV] END ......................C=5, epsilon=0, kernel=linear; total time=   2.3s\n",
      "[CV] END ......................C=5, epsilon=0, kernel=linear; total time=   1.8s\n",
      "[CV] END ......................C=5, epsilon=0, kernel=linear; total time=   2.5s\n",
      "[CV] END ......................C=5, epsilon=0, kernel=linear; total time=   3.3s\n",
      "[CV] END ......................C=5, epsilon=0, kernel=linear; total time=   3.7s\n",
      "[CV] END ......................C=5, epsilon=0, kernel=linear; total time=   5.5s\n",
      "[CV] END ......................C=5, epsilon=0, kernel=linear; total time=   6.4s\n",
      "[CV] END ......................C=5, epsilon=0, kernel=linear; total time=   5.6s\n",
      "[CV] END ......................C=5, epsilon=0, kernel=linear; total time=   4.5s\n",
      "[CV] END ......................C=5, epsilon=0, kernel=linear; total time=   5.6s\n",
      "[CV] END ......................C=5, epsilon=0, kernel=linear; total time=   5.4s\n",
      "[CV] END ......................C=5, epsilon=0, kernel=linear; total time=   5.7s\n",
      "[CV] END ......................C=5, epsilon=0, kernel=linear; total time=   5.5s\n",
      "[CV] END ......................C=5, epsilon=0, kernel=linear; total time=   5.0s\n",
      "[CV] END ......................C=5, epsilon=0, kernel=linear; total time=   6.5s\n",
      "[CV] END ......................C=5, epsilon=0, kernel=linear; total time=   7.5s\n",
      "[CV] END ......................C=5, epsilon=0, kernel=linear; total time=   4.3s\n",
      "[CV] END ......................C=5, epsilon=0, kernel=linear; total time=   4.2s\n",
      "[CV] END ......................C=5, epsilon=0, kernel=linear; total time=   4.1s\n",
      "[CV] END ......................C=5, epsilon=0, kernel=linear; total time=   4.4s\n",
      "[CV] END ......................C=5, epsilon=0, kernel=linear; total time=   3.4s\n",
      "[CV] END ......................C=5, epsilon=0, kernel=linear; total time=   3.1s\n",
      "[CV] END ......................C=5, epsilon=0, kernel=linear; total time=   3.3s\n",
      "[CV] END ......................C=5, epsilon=0, kernel=linear; total time=   3.6s\n",
      "[CV] END ......................C=5, epsilon=0, kernel=linear; total time=   4.0s\n",
      "[CV] END ......................C=5, epsilon=0, kernel=linear; total time=   3.6s\n",
      "[CV] END ......................C=5, epsilon=0, kernel=linear; total time=   3.8s\n",
      "[CV] END ......................C=5, epsilon=0, kernel=linear; total time=   3.7s\n",
      "[CV] END ......................C=5, epsilon=0, kernel=linear; total time=   3.5s\n",
      "[CV] END ......................C=5, epsilon=0, kernel=linear; total time=   4.1s\n",
      "[CV] END ......................C=5, epsilon=0, kernel=linear; total time=   3.7s\n",
      "[CV] END .........................C=5, epsilon=0, kernel=rbf; total time=   2.1s\n",
      "[CV] END .........................C=5, epsilon=0, kernel=rbf; total time=   2.1s\n"
     ]
    },
    {
     "name": "stdout",
     "output_type": "stream",
     "text": [
      "[CV] END .........................C=5, epsilon=0, kernel=rbf; total time=   2.1s\n",
      "[CV] END .........................C=5, epsilon=0, kernel=rbf; total time=   2.1s\n",
      "[CV] END .........................C=5, epsilon=0, kernel=rbf; total time=   2.2s\n",
      "[CV] END .........................C=5, epsilon=0, kernel=rbf; total time=   2.2s\n",
      "[CV] END .........................C=5, epsilon=0, kernel=rbf; total time=   2.2s\n",
      "[CV] END .........................C=5, epsilon=0, kernel=rbf; total time=   2.1s\n",
      "[CV] END .........................C=5, epsilon=0, kernel=rbf; total time=   2.1s\n",
      "[CV] END .........................C=5, epsilon=0, kernel=rbf; total time=   2.1s\n",
      "[CV] END .........................C=5, epsilon=0, kernel=rbf; total time=   2.1s\n",
      "[CV] END .........................C=5, epsilon=0, kernel=rbf; total time=   2.1s\n",
      "[CV] END .........................C=5, epsilon=0, kernel=rbf; total time=   2.1s\n",
      "[CV] END .........................C=5, epsilon=0, kernel=rbf; total time=   2.1s\n",
      "[CV] END .........................C=5, epsilon=0, kernel=rbf; total time=   2.1s\n",
      "[CV] END .........................C=5, epsilon=0, kernel=rbf; total time=   2.1s\n",
      "[CV] END .........................C=5, epsilon=0, kernel=rbf; total time=   2.1s\n",
      "[CV] END .........................C=5, epsilon=0, kernel=rbf; total time=   2.2s\n",
      "[CV] END .........................C=5, epsilon=0, kernel=rbf; total time=   2.2s\n",
      "[CV] END .........................C=5, epsilon=0, kernel=rbf; total time=   2.1s\n",
      "[CV] END .........................C=5, epsilon=0, kernel=rbf; total time=   2.1s\n",
      "[CV] END .........................C=5, epsilon=0, kernel=rbf; total time=   2.1s\n",
      "[CV] END .........................C=5, epsilon=0, kernel=rbf; total time=   2.1s\n",
      "[CV] END .........................C=5, epsilon=0, kernel=rbf; total time=   2.1s\n",
      "[CV] END .........................C=5, epsilon=0, kernel=rbf; total time=   2.1s\n",
      "[CV] END .........................C=5, epsilon=0, kernel=rbf; total time=   2.1s\n",
      "[CV] END .........................C=5, epsilon=0, kernel=rbf; total time=   2.1s\n",
      "[CV] END .........................C=5, epsilon=0, kernel=rbf; total time=   2.1s\n",
      "[CV] END .........................C=5, epsilon=0, kernel=rbf; total time=   2.1s\n",
      "[CV] END .........................C=5, epsilon=0, kernel=rbf; total time=   2.1s\n",
      "[CV] END .........................C=5, epsilon=0, kernel=rbf; total time=   2.1s\n",
      "[CV] END .........................C=5, epsilon=0, kernel=rbf; total time=   2.1s\n",
      "[CV] END .........................C=5, epsilon=0, kernel=rbf; total time=   2.1s\n",
      "[CV] END .........................C=5, epsilon=0, kernel=rbf; total time=   2.2s\n",
      "[CV] END .........................C=5, epsilon=0, kernel=rbf; total time=   2.1s\n",
      "[CV] END .........................C=5, epsilon=0, kernel=rbf; total time=   2.1s\n",
      "[CV] END .........................C=5, epsilon=0, kernel=rbf; total time=   2.1s\n",
      "[CV] END .........................C=5, epsilon=0, kernel=rbf; total time=   2.1s\n",
      "[CV] END .........................C=5, epsilon=0, kernel=rbf; total time=   2.1s\n",
      "[CV] END ......................C=5, epsilon=5, kernel=linear; total time=   0.3s\n",
      "[CV] END ......................C=5, epsilon=5, kernel=linear; total time=   0.3s\n",
      "[CV] END ......................C=5, epsilon=5, kernel=linear; total time=   0.3s\n",
      "[CV] END ......................C=5, epsilon=5, kernel=linear; total time=   0.4s\n",
      "[CV] END ......................C=5, epsilon=5, kernel=linear; total time=   0.4s\n",
      "[CV] END ......................C=5, epsilon=5, kernel=linear; total time=   0.4s\n",
      "[CV] END ......................C=5, epsilon=5, kernel=linear; total time=   0.3s\n",
      "[CV] END ......................C=5, epsilon=5, kernel=linear; total time=   0.4s\n",
      "[CV] END ......................C=5, epsilon=5, kernel=linear; total time=   0.4s\n",
      "[CV] END ......................C=5, epsilon=5, kernel=linear; total time=   0.5s\n",
      "[CV] END ......................C=5, epsilon=5, kernel=linear; total time=   0.9s\n",
      "[CV] END ......................C=5, epsilon=5, kernel=linear; total time=   1.3s\n",
      "[CV] END ......................C=5, epsilon=5, kernel=linear; total time=   2.9s\n",
      "[CV] END ......................C=5, epsilon=5, kernel=linear; total time=   3.7s\n",
      "[CV] END ......................C=5, epsilon=5, kernel=linear; total time=   5.1s\n",
      "[CV] END ......................C=5, epsilon=5, kernel=linear; total time=   3.8s\n",
      "[CV] END ......................C=5, epsilon=5, kernel=linear; total time=   2.6s\n",
      "[CV] END ......................C=5, epsilon=5, kernel=linear; total time=   3.3s\n",
      "[CV] END ......................C=5, epsilon=5, kernel=linear; total time=   2.9s\n",
      "[CV] END ......................C=5, epsilon=5, kernel=linear; total time=   2.8s\n",
      "[CV] END ......................C=5, epsilon=5, kernel=linear; total time=   2.6s\n",
      "[CV] END ......................C=5, epsilon=5, kernel=linear; total time=   3.2s\n",
      "[CV] END ......................C=5, epsilon=5, kernel=linear; total time=   3.2s\n",
      "[CV] END ......................C=5, epsilon=5, kernel=linear; total time=   2.1s\n",
      "[CV] END ......................C=5, epsilon=5, kernel=linear; total time=   1.5s\n",
      "[CV] END ......................C=5, epsilon=5, kernel=linear; total time=   1.5s\n",
      "[CV] END ......................C=5, epsilon=5, kernel=linear; total time=   1.1s\n",
      "[CV] END ......................C=5, epsilon=5, kernel=linear; total time=   0.5s\n",
      "[CV] END ......................C=5, epsilon=5, kernel=linear; total time=   0.4s\n",
      "[CV] END ......................C=5, epsilon=5, kernel=linear; total time=   0.3s\n",
      "[CV] END ......................C=5, epsilon=5, kernel=linear; total time=   0.4s\n",
      "[CV] END ......................C=5, epsilon=5, kernel=linear; total time=   0.4s\n",
      "[CV] END ......................C=5, epsilon=5, kernel=linear; total time=   0.6s\n",
      "[CV] END ......................C=5, epsilon=5, kernel=linear; total time=   0.6s\n",
      "[CV] END ......................C=5, epsilon=5, kernel=linear; total time=   0.6s\n",
      "[CV] END ......................C=5, epsilon=5, kernel=linear; total time=   0.9s\n",
      "[CV] END ......................C=5, epsilon=5, kernel=linear; total time=   0.5s\n",
      "[CV] END ......................C=5, epsilon=5, kernel=linear; total time=   0.5s\n",
      "[CV] END ......................C=5, epsilon=5, kernel=linear; total time=   0.2s\n",
      "[CV] END .........................C=5, epsilon=5, kernel=rbf; total time=   0.4s\n",
      "[CV] END .........................C=5, epsilon=5, kernel=rbf; total time=   0.4s\n",
      "[CV] END .........................C=5, epsilon=5, kernel=rbf; total time=   0.4s\n",
      "[CV] END .........................C=5, epsilon=5, kernel=rbf; total time=   0.5s\n",
      "[CV] END .........................C=5, epsilon=5, kernel=rbf; total time=   0.5s\n",
      "[CV] END .........................C=5, epsilon=5, kernel=rbf; total time=   0.5s\n",
      "[CV] END .........................C=5, epsilon=5, kernel=rbf; total time=   0.5s\n",
      "[CV] END .........................C=5, epsilon=5, kernel=rbf; total time=   0.6s\n",
      "[CV] END .........................C=5, epsilon=5, kernel=rbf; total time=   0.6s\n",
      "[CV] END .........................C=5, epsilon=5, kernel=rbf; total time=   0.8s\n",
      "[CV] END .........................C=5, epsilon=5, kernel=rbf; total time=   1.0s\n",
      "[CV] END .........................C=5, epsilon=5, kernel=rbf; total time=   1.5s\n",
      "[CV] END .........................C=5, epsilon=5, kernel=rbf; total time=   1.7s\n",
      "[CV] END .........................C=5, epsilon=5, kernel=rbf; total time=   1.8s\n",
      "[CV] END .........................C=5, epsilon=5, kernel=rbf; total time=   1.8s\n",
      "[CV] END .........................C=5, epsilon=5, kernel=rbf; total time=   1.8s\n",
      "[CV] END .........................C=5, epsilon=5, kernel=rbf; total time=   1.8s\n",
      "[CV] END .........................C=5, epsilon=5, kernel=rbf; total time=   1.8s\n",
      "[CV] END .........................C=5, epsilon=5, kernel=rbf; total time=   1.8s\n",
      "[CV] END .........................C=5, epsilon=5, kernel=rbf; total time=   1.7s\n",
      "[CV] END .........................C=5, epsilon=5, kernel=rbf; total time=   1.7s\n",
      "[CV] END .........................C=5, epsilon=5, kernel=rbf; total time=   1.6s\n",
      "[CV] END .........................C=5, epsilon=5, kernel=rbf; total time=   1.5s\n",
      "[CV] END .........................C=5, epsilon=5, kernel=rbf; total time=   1.3s\n",
      "[CV] END .........................C=5, epsilon=5, kernel=rbf; total time=   1.2s\n",
      "[CV] END .........................C=5, epsilon=5, kernel=rbf; total time=   0.9s\n"
     ]
    },
    {
     "name": "stdout",
     "output_type": "stream",
     "text": [
      "[CV] END .........................C=5, epsilon=5, kernel=rbf; total time=   0.8s\n",
      "[CV] END .........................C=5, epsilon=5, kernel=rbf; total time=   0.6s\n",
      "[CV] END .........................C=5, epsilon=5, kernel=rbf; total time=   0.5s\n",
      "[CV] END .........................C=5, epsilon=5, kernel=rbf; total time=   0.5s\n",
      "[CV] END .........................C=5, epsilon=5, kernel=rbf; total time=   0.5s\n",
      "[CV] END .........................C=5, epsilon=5, kernel=rbf; total time=   0.5s\n",
      "[CV] END .........................C=5, epsilon=5, kernel=rbf; total time=   0.6s\n",
      "[CV] END .........................C=5, epsilon=5, kernel=rbf; total time=   0.6s\n",
      "[CV] END .........................C=5, epsilon=5, kernel=rbf; total time=   0.7s\n",
      "[CV] END .........................C=5, epsilon=5, kernel=rbf; total time=   0.7s\n",
      "[CV] END .........................C=5, epsilon=5, kernel=rbf; total time=   0.6s\n",
      "[CV] END .........................C=5, epsilon=5, kernel=rbf; total time=   0.5s\n",
      "[CV] END .........................C=5, epsilon=5, kernel=rbf; total time=   0.5s\n",
      "[CV] END .....................C=5, epsilon=10, kernel=linear; total time=   0.1s\n",
      "[CV] END .....................C=5, epsilon=10, kernel=linear; total time=   0.2s\n",
      "[CV] END .....................C=5, epsilon=10, kernel=linear; total time=   0.2s\n",
      "[CV] END .....................C=5, epsilon=10, kernel=linear; total time=   0.2s\n",
      "[CV] END .....................C=5, epsilon=10, kernel=linear; total time=   0.2s\n",
      "[CV] END .....................C=5, epsilon=10, kernel=linear; total time=   0.2s\n",
      "[CV] END .....................C=5, epsilon=10, kernel=linear; total time=   0.2s\n",
      "[CV] END .....................C=5, epsilon=10, kernel=linear; total time=   0.2s\n",
      "[CV] END .....................C=5, epsilon=10, kernel=linear; total time=   0.2s\n",
      "[CV] END .....................C=5, epsilon=10, kernel=linear; total time=   0.3s\n",
      "[CV] END .....................C=5, epsilon=10, kernel=linear; total time=   0.4s\n",
      "[CV] END .....................C=5, epsilon=10, kernel=linear; total time=   1.2s\n",
      "[CV] END .....................C=5, epsilon=10, kernel=linear; total time=   1.0s\n",
      "[CV] END .....................C=5, epsilon=10, kernel=linear; total time=   3.2s\n",
      "[CV] END .....................C=5, epsilon=10, kernel=linear; total time=   3.3s\n",
      "[CV] END .....................C=5, epsilon=10, kernel=linear; total time=   2.7s\n",
      "[CV] END .....................C=5, epsilon=10, kernel=linear; total time=   2.3s\n",
      "[CV] END .....................C=5, epsilon=10, kernel=linear; total time=   1.9s\n",
      "[CV] END .....................C=5, epsilon=10, kernel=linear; total time=   2.0s\n",
      "[CV] END .....................C=5, epsilon=10, kernel=linear; total time=   1.2s\n",
      "[CV] END .....................C=5, epsilon=10, kernel=linear; total time=   1.0s\n",
      "[CV] END .....................C=5, epsilon=10, kernel=linear; total time=   2.3s\n",
      "[CV] END .....................C=5, epsilon=10, kernel=linear; total time=   1.6s\n",
      "[CV] END .....................C=5, epsilon=10, kernel=linear; total time=   1.1s\n",
      "[CV] END .....................C=5, epsilon=10, kernel=linear; total time=   1.0s\n",
      "[CV] END .....................C=5, epsilon=10, kernel=linear; total time=   0.6s\n",
      "[CV] END .....................C=5, epsilon=10, kernel=linear; total time=   0.6s\n",
      "[CV] END .....................C=5, epsilon=10, kernel=linear; total time=   0.2s\n",
      "[CV] END .....................C=5, epsilon=10, kernel=linear; total time=   0.3s\n",
      "[CV] END .....................C=5, epsilon=10, kernel=linear; total time=   0.2s\n",
      "[CV] END .....................C=5, epsilon=10, kernel=linear; total time=   0.2s\n",
      "[CV] END .....................C=5, epsilon=10, kernel=linear; total time=   0.3s\n",
      "[CV] END .....................C=5, epsilon=10, kernel=linear; total time=   0.3s\n",
      "[CV] END .....................C=5, epsilon=10, kernel=linear; total time=   0.3s\n",
      "[CV] END .....................C=5, epsilon=10, kernel=linear; total time=   0.4s\n",
      "[CV] END .....................C=5, epsilon=10, kernel=linear; total time=   0.4s\n",
      "[CV] END .....................C=5, epsilon=10, kernel=linear; total time=   0.2s\n",
      "[CV] END .....................C=5, epsilon=10, kernel=linear; total time=   0.3s\n",
      "[CV] END .....................C=5, epsilon=10, kernel=linear; total time=   0.2s\n",
      "[CV] END ........................C=5, epsilon=10, kernel=rbf; total time=   0.2s\n",
      "[CV] END ........................C=5, epsilon=10, kernel=rbf; total time=   0.2s\n",
      "[CV] END ........................C=5, epsilon=10, kernel=rbf; total time=   0.3s\n",
      "[CV] END ........................C=5, epsilon=10, kernel=rbf; total time=   0.3s\n",
      "[CV] END ........................C=5, epsilon=10, kernel=rbf; total time=   0.3s\n",
      "[CV] END ........................C=5, epsilon=10, kernel=rbf; total time=   0.2s\n",
      "[CV] END ........................C=5, epsilon=10, kernel=rbf; total time=   0.2s\n",
      "[CV] END ........................C=5, epsilon=10, kernel=rbf; total time=   0.3s\n",
      "[CV] END ........................C=5, epsilon=10, kernel=rbf; total time=   0.3s\n",
      "[CV] END ........................C=5, epsilon=10, kernel=rbf; total time=   0.5s\n",
      "[CV] END ........................C=5, epsilon=10, kernel=rbf; total time=   0.6s\n",
      "[CV] END ........................C=5, epsilon=10, kernel=rbf; total time=   1.0s\n",
      "[CV] END ........................C=5, epsilon=10, kernel=rbf; total time=   1.3s\n",
      "[CV] END ........................C=5, epsilon=10, kernel=rbf; total time=   1.5s\n",
      "[CV] END ........................C=5, epsilon=10, kernel=rbf; total time=   1.5s\n",
      "[CV] END ........................C=5, epsilon=10, kernel=rbf; total time=   1.5s\n",
      "[CV] END ........................C=5, epsilon=10, kernel=rbf; total time=   1.5s\n",
      "[CV] END ........................C=5, epsilon=10, kernel=rbf; total time=   1.5s\n",
      "[CV] END ........................C=5, epsilon=10, kernel=rbf; total time=   1.4s\n",
      "[CV] END ........................C=5, epsilon=10, kernel=rbf; total time=   1.3s\n",
      "[CV] END ........................C=5, epsilon=10, kernel=rbf; total time=   1.3s\n",
      "[CV] END ........................C=5, epsilon=10, kernel=rbf; total time=   1.2s\n",
      "[CV] END ........................C=5, epsilon=10, kernel=rbf; total time=   1.1s\n",
      "[CV] END ........................C=5, epsilon=10, kernel=rbf; total time=   0.9s\n",
      "[CV] END ........................C=5, epsilon=10, kernel=rbf; total time=   0.7s\n",
      "[CV] END ........................C=5, epsilon=10, kernel=rbf; total time=   0.6s\n",
      "[CV] END ........................C=5, epsilon=10, kernel=rbf; total time=   0.5s\n",
      "[CV] END ........................C=5, epsilon=10, kernel=rbf; total time=   0.4s\n",
      "[CV] END ........................C=5, epsilon=10, kernel=rbf; total time=   0.3s\n",
      "[CV] END ........................C=5, epsilon=10, kernel=rbf; total time=   0.2s\n",
      "[CV] END ........................C=5, epsilon=10, kernel=rbf; total time=   0.2s\n",
      "[CV] END ........................C=5, epsilon=10, kernel=rbf; total time=   0.3s\n",
      "[CV] END ........................C=5, epsilon=10, kernel=rbf; total time=   0.4s\n",
      "[CV] END ........................C=5, epsilon=10, kernel=rbf; total time=   0.4s\n",
      "[CV] END ........................C=5, epsilon=10, kernel=rbf; total time=   0.4s\n",
      "[CV] END ........................C=5, epsilon=10, kernel=rbf; total time=   0.4s\n",
      "[CV] END ........................C=5, epsilon=10, kernel=rbf; total time=   0.4s\n",
      "[CV] END ........................C=5, epsilon=10, kernel=rbf; total time=   0.3s\n",
      "[CV] END ........................C=5, epsilon=10, kernel=rbf; total time=   0.3s\n",
      "[CV] END .....................C=10, epsilon=0, kernel=linear; total time=   3.6s\n",
      "[CV] END .....................C=10, epsilon=0, kernel=linear; total time=   3.2s\n",
      "[CV] END .....................C=10, epsilon=0, kernel=linear; total time=   3.2s\n",
      "[CV] END .....................C=10, epsilon=0, kernel=linear; total time=   2.8s\n",
      "[CV] END .....................C=10, epsilon=0, kernel=linear; total time=   3.1s\n",
      "[CV] END .....................C=10, epsilon=0, kernel=linear; total time=   3.2s\n",
      "[CV] END .....................C=10, epsilon=0, kernel=linear; total time=   2.7s\n",
      "[CV] END .....................C=10, epsilon=0, kernel=linear; total time=   3.0s\n",
      "[CV] END .....................C=10, epsilon=0, kernel=linear; total time=   2.5s\n",
      "[CV] END .....................C=10, epsilon=0, kernel=linear; total time=   2.8s\n",
      "[CV] END .....................C=10, epsilon=0, kernel=linear; total time=   2.9s\n"
     ]
    },
    {
     "name": "stdout",
     "output_type": "stream",
     "text": [
      "[CV] END .....................C=10, epsilon=0, kernel=linear; total time=   4.6s\n",
      "[CV] END .....................C=10, epsilon=0, kernel=linear; total time=   5.0s\n",
      "[CV] END .....................C=10, epsilon=0, kernel=linear; total time=   8.4s\n",
      "[CV] END .....................C=10, epsilon=0, kernel=linear; total time=   9.7s\n",
      "[CV] END .....................C=10, epsilon=0, kernel=linear; total time=   9.9s\n",
      "[CV] END .....................C=10, epsilon=0, kernel=linear; total time=   7.4s\n",
      "[CV] END .....................C=10, epsilon=0, kernel=linear; total time=  14.0s\n",
      "[CV] END .....................C=10, epsilon=0, kernel=linear; total time=   9.9s\n",
      "[CV] END .....................C=10, epsilon=0, kernel=linear; total time=  11.8s\n",
      "[CV] END .....................C=10, epsilon=0, kernel=linear; total time=   9.1s\n",
      "[CV] END .....................C=10, epsilon=0, kernel=linear; total time=  12.2s\n",
      "[CV] END .....................C=10, epsilon=0, kernel=linear; total time=   8.4s\n",
      "[CV] END .....................C=10, epsilon=0, kernel=linear; total time=   9.8s\n",
      "[CV] END .....................C=10, epsilon=0, kernel=linear; total time=   6.9s\n",
      "[CV] END .....................C=10, epsilon=0, kernel=linear; total time=   6.0s\n",
      "[CV] END .....................C=10, epsilon=0, kernel=linear; total time=   6.3s\n",
      "[CV] END .....................C=10, epsilon=0, kernel=linear; total time=   6.3s\n",
      "[CV] END .....................C=10, epsilon=0, kernel=linear; total time=   5.0s\n",
      "[CV] END .....................C=10, epsilon=0, kernel=linear; total time=   5.1s\n",
      "[CV] END .....................C=10, epsilon=0, kernel=linear; total time=   5.2s\n",
      "[CV] END .....................C=10, epsilon=0, kernel=linear; total time=   4.6s\n",
      "[CV] END .....................C=10, epsilon=0, kernel=linear; total time=   5.7s\n",
      "[CV] END .....................C=10, epsilon=0, kernel=linear; total time=   5.7s\n",
      "[CV] END .....................C=10, epsilon=0, kernel=linear; total time=   6.3s\n",
      "[CV] END .....................C=10, epsilon=0, kernel=linear; total time=   6.5s\n",
      "[CV] END .....................C=10, epsilon=0, kernel=linear; total time=   5.9s\n",
      "[CV] END .....................C=10, epsilon=0, kernel=linear; total time=   6.8s\n",
      "[CV] END .....................C=10, epsilon=0, kernel=linear; total time=   5.9s\n",
      "[CV] END ........................C=10, epsilon=0, kernel=rbf; total time=   2.2s\n",
      "[CV] END ........................C=10, epsilon=0, kernel=rbf; total time=   2.2s\n",
      "[CV] END ........................C=10, epsilon=0, kernel=rbf; total time=   2.2s\n",
      "[CV] END ........................C=10, epsilon=0, kernel=rbf; total time=   2.2s\n",
      "[CV] END ........................C=10, epsilon=0, kernel=rbf; total time=   2.2s\n",
      "[CV] END ........................C=10, epsilon=0, kernel=rbf; total time=   2.2s\n",
      "[CV] END ........................C=10, epsilon=0, kernel=rbf; total time=   2.3s\n",
      "[CV] END ........................C=10, epsilon=0, kernel=rbf; total time=   2.2s\n",
      "[CV] END ........................C=10, epsilon=0, kernel=rbf; total time=   2.1s\n",
      "[CV] END ........................C=10, epsilon=0, kernel=rbf; total time=   2.1s\n",
      "[CV] END ........................C=10, epsilon=0, kernel=rbf; total time=   2.1s\n",
      "[CV] END ........................C=10, epsilon=0, kernel=rbf; total time=   2.1s\n",
      "[CV] END ........................C=10, epsilon=0, kernel=rbf; total time=   2.1s\n",
      "[CV] END ........................C=10, epsilon=0, kernel=rbf; total time=   2.1s\n",
      "[CV] END ........................C=10, epsilon=0, kernel=rbf; total time=   2.1s\n",
      "[CV] END ........................C=10, epsilon=0, kernel=rbf; total time=   2.1s\n",
      "[CV] END ........................C=10, epsilon=0, kernel=rbf; total time=   2.1s\n",
      "[CV] END ........................C=10, epsilon=0, kernel=rbf; total time=   2.1s\n",
      "[CV] END ........................C=10, epsilon=0, kernel=rbf; total time=   2.1s\n",
      "[CV] END ........................C=10, epsilon=0, kernel=rbf; total time=   2.1s\n",
      "[CV] END ........................C=10, epsilon=0, kernel=rbf; total time=   2.1s\n",
      "[CV] END ........................C=10, epsilon=0, kernel=rbf; total time=   2.2s\n",
      "[CV] END ........................C=10, epsilon=0, kernel=rbf; total time=   2.2s\n",
      "[CV] END ........................C=10, epsilon=0, kernel=rbf; total time=   2.1s\n",
      "[CV] END ........................C=10, epsilon=0, kernel=rbf; total time=   2.1s\n",
      "[CV] END ........................C=10, epsilon=0, kernel=rbf; total time=   2.1s\n",
      "[CV] END ........................C=10, epsilon=0, kernel=rbf; total time=   2.1s\n",
      "[CV] END ........................C=10, epsilon=0, kernel=rbf; total time=   2.1s\n",
      "[CV] END ........................C=10, epsilon=0, kernel=rbf; total time=   2.1s\n",
      "[CV] END ........................C=10, epsilon=0, kernel=rbf; total time=   2.1s\n",
      "[CV] END ........................C=10, epsilon=0, kernel=rbf; total time=   2.1s\n",
      "[CV] END ........................C=10, epsilon=0, kernel=rbf; total time=   2.1s\n",
      "[CV] END ........................C=10, epsilon=0, kernel=rbf; total time=   2.1s\n",
      "[CV] END ........................C=10, epsilon=0, kernel=rbf; total time=   2.1s\n",
      "[CV] END ........................C=10, epsilon=0, kernel=rbf; total time=   2.1s\n",
      "[CV] END ........................C=10, epsilon=0, kernel=rbf; total time=   2.1s\n",
      "[CV] END ........................C=10, epsilon=0, kernel=rbf; total time=   2.1s\n",
      "[CV] END ........................C=10, epsilon=0, kernel=rbf; total time=   2.2s\n",
      "[CV] END ........................C=10, epsilon=0, kernel=rbf; total time=   2.1s\n",
      "[CV] END .....................C=10, epsilon=5, kernel=linear; total time=   0.3s\n",
      "[CV] END .....................C=10, epsilon=5, kernel=linear; total time=   0.4s\n",
      "[CV] END .....................C=10, epsilon=5, kernel=linear; total time=   0.4s\n",
      "[CV] END .....................C=10, epsilon=5, kernel=linear; total time=   0.5s\n",
      "[CV] END .....................C=10, epsilon=5, kernel=linear; total time=   0.5s\n",
      "[CV] END .....................C=10, epsilon=5, kernel=linear; total time=   0.5s\n",
      "[CV] END .....................C=10, epsilon=5, kernel=linear; total time=   0.5s\n",
      "[CV] END .....................C=10, epsilon=5, kernel=linear; total time=   0.4s\n",
      "[CV] END .....................C=10, epsilon=5, kernel=linear; total time=   0.5s\n",
      "[CV] END .....................C=10, epsilon=5, kernel=linear; total time=   0.8s\n",
      "[CV] END .....................C=10, epsilon=5, kernel=linear; total time=   1.1s\n",
      "[CV] END .....................C=10, epsilon=5, kernel=linear; total time=   2.1s\n",
      "[CV] END .....................C=10, epsilon=5, kernel=linear; total time=   2.9s\n",
      "[CV] END .....................C=10, epsilon=5, kernel=linear; total time=   5.9s\n",
      "[CV] END .....................C=10, epsilon=5, kernel=linear; total time=   5.3s\n",
      "[CV] END .....................C=10, epsilon=5, kernel=linear; total time=   6.4s\n",
      "[CV] END .....................C=10, epsilon=5, kernel=linear; total time=   4.8s\n",
      "[CV] END .....................C=10, epsilon=5, kernel=linear; total time=   4.8s\n",
      "[CV] END .....................C=10, epsilon=5, kernel=linear; total time=   3.5s\n",
      "[CV] END .....................C=10, epsilon=5, kernel=linear; total time=   3.6s\n",
      "[CV] END .....................C=10, epsilon=5, kernel=linear; total time=   4.1s\n",
      "[CV] END .....................C=10, epsilon=5, kernel=linear; total time=   3.5s\n",
      "[CV] END .....................C=10, epsilon=5, kernel=linear; total time=   4.5s\n",
      "[CV] END .....................C=10, epsilon=5, kernel=linear; total time=   4.1s\n",
      "[CV] END .....................C=10, epsilon=5, kernel=linear; total time=   2.3s\n",
      "[CV] END .....................C=10, epsilon=5, kernel=linear; total time=   1.7s\n",
      "[CV] END .....................C=10, epsilon=5, kernel=linear; total time=   1.3s\n",
      "[CV] END .....................C=10, epsilon=5, kernel=linear; total time=   0.6s\n",
      "[CV] END .....................C=10, epsilon=5, kernel=linear; total time=   0.6s\n",
      "[CV] END .....................C=10, epsilon=5, kernel=linear; total time=   0.4s\n",
      "[CV] END .....................C=10, epsilon=5, kernel=linear; total time=   0.7s\n",
      "[CV] END .....................C=10, epsilon=5, kernel=linear; total time=   0.8s\n",
      "[CV] END .....................C=10, epsilon=5, kernel=linear; total time=   0.8s\n",
      "[CV] END .....................C=10, epsilon=5, kernel=linear; total time=   0.9s\n",
      "[CV] END .....................C=10, epsilon=5, kernel=linear; total time=   0.9s\n"
     ]
    },
    {
     "name": "stdout",
     "output_type": "stream",
     "text": [
      "[CV] END .....................C=10, epsilon=5, kernel=linear; total time=   1.2s\n",
      "[CV] END .....................C=10, epsilon=5, kernel=linear; total time=   0.6s\n",
      "[CV] END .....................C=10, epsilon=5, kernel=linear; total time=   0.8s\n",
      "[CV] END .....................C=10, epsilon=5, kernel=linear; total time=   0.3s\n",
      "[CV] END ........................C=10, epsilon=5, kernel=rbf; total time=   0.4s\n",
      "[CV] END ........................C=10, epsilon=5, kernel=rbf; total time=   0.4s\n",
      "[CV] END ........................C=10, epsilon=5, kernel=rbf; total time=   0.4s\n",
      "[CV] END ........................C=10, epsilon=5, kernel=rbf; total time=   0.4s\n",
      "[CV] END ........................C=10, epsilon=5, kernel=rbf; total time=   0.5s\n",
      "[CV] END ........................C=10, epsilon=5, kernel=rbf; total time=   0.5s\n",
      "[CV] END ........................C=10, epsilon=5, kernel=rbf; total time=   0.5s\n",
      "[CV] END ........................C=10, epsilon=5, kernel=rbf; total time=   0.5s\n",
      "[CV] END ........................C=10, epsilon=5, kernel=rbf; total time=   0.6s\n",
      "[CV] END ........................C=10, epsilon=5, kernel=rbf; total time=   0.8s\n",
      "[CV] END ........................C=10, epsilon=5, kernel=rbf; total time=   0.9s\n",
      "[CV] END ........................C=10, epsilon=5, kernel=rbf; total time=   1.4s\n",
      "[CV] END ........................C=10, epsilon=5, kernel=rbf; total time=   1.6s\n",
      "[CV] END ........................C=10, epsilon=5, kernel=rbf; total time=   1.8s\n",
      "[CV] END ........................C=10, epsilon=5, kernel=rbf; total time=   1.8s\n",
      "[CV] END ........................C=10, epsilon=5, kernel=rbf; total time=   1.8s\n",
      "[CV] END ........................C=10, epsilon=5, kernel=rbf; total time=   1.8s\n",
      "[CV] END ........................C=10, epsilon=5, kernel=rbf; total time=   1.8s\n",
      "[CV] END ........................C=10, epsilon=5, kernel=rbf; total time=   1.8s\n",
      "[CV] END ........................C=10, epsilon=5, kernel=rbf; total time=   1.6s\n",
      "[CV] END ........................C=10, epsilon=5, kernel=rbf; total time=   1.5s\n",
      "[CV] END ........................C=10, epsilon=5, kernel=rbf; total time=   1.5s\n",
      "[CV] END ........................C=10, epsilon=5, kernel=rbf; total time=   1.4s\n",
      "[CV] END ........................C=10, epsilon=5, kernel=rbf; total time=   1.1s\n",
      "[CV] END ........................C=10, epsilon=5, kernel=rbf; total time=   0.9s\n",
      "[CV] END ........................C=10, epsilon=5, kernel=rbf; total time=   0.7s\n",
      "[CV] END ........................C=10, epsilon=5, kernel=rbf; total time=   0.6s\n",
      "[CV] END ........................C=10, epsilon=5, kernel=rbf; total time=   0.5s\n",
      "[CV] END ........................C=10, epsilon=5, kernel=rbf; total time=   0.4s\n",
      "[CV] END ........................C=10, epsilon=5, kernel=rbf; total time=   0.4s\n",
      "[CV] END ........................C=10, epsilon=5, kernel=rbf; total time=   0.4s\n",
      "[CV] END ........................C=10, epsilon=5, kernel=rbf; total time=   0.5s\n",
      "[CV] END ........................C=10, epsilon=5, kernel=rbf; total time=   0.5s\n",
      "[CV] END ........................C=10, epsilon=5, kernel=rbf; total time=   0.6s\n",
      "[CV] END ........................C=10, epsilon=5, kernel=rbf; total time=   0.6s\n",
      "[CV] END ........................C=10, epsilon=5, kernel=rbf; total time=   0.6s\n",
      "[CV] END ........................C=10, epsilon=5, kernel=rbf; total time=   0.6s\n",
      "[CV] END ........................C=10, epsilon=5, kernel=rbf; total time=   0.5s\n",
      "[CV] END ........................C=10, epsilon=5, kernel=rbf; total time=   0.4s\n",
      "[CV] END ....................C=10, epsilon=10, kernel=linear; total time=   0.2s\n",
      "[CV] END ....................C=10, epsilon=10, kernel=linear; total time=   0.2s\n",
      "[CV] END ....................C=10, epsilon=10, kernel=linear; total time=   0.2s\n",
      "[CV] END ....................C=10, epsilon=10, kernel=linear; total time=   0.2s\n",
      "[CV] END ....................C=10, epsilon=10, kernel=linear; total time=   0.2s\n",
      "[CV] END ....................C=10, epsilon=10, kernel=linear; total time=   0.2s\n",
      "[CV] END ....................C=10, epsilon=10, kernel=linear; total time=   0.2s\n",
      "[CV] END ....................C=10, epsilon=10, kernel=linear; total time=   0.2s\n",
      "[CV] END ....................C=10, epsilon=10, kernel=linear; total time=   0.3s\n",
      "[CV] END ....................C=10, epsilon=10, kernel=linear; total time=   0.3s\n",
      "[CV] END ....................C=10, epsilon=10, kernel=linear; total time=   1.0s\n",
      "[CV] END ....................C=10, epsilon=10, kernel=linear; total time=   1.0s\n",
      "[CV] END ....................C=10, epsilon=10, kernel=linear; total time=   1.7s\n",
      "[CV] END ....................C=10, epsilon=10, kernel=linear; total time=   9.6s\n",
      "[CV] END ....................C=10, epsilon=10, kernel=linear; total time=   3.9s\n",
      "[CV] END ....................C=10, epsilon=10, kernel=linear; total time=   4.8s\n",
      "[CV] END ....................C=10, epsilon=10, kernel=linear; total time=   2.8s\n",
      "[CV] END ....................C=10, epsilon=10, kernel=linear; total time=   2.8s\n",
      "[CV] END ....................C=10, epsilon=10, kernel=linear; total time=   2.4s\n",
      "[CV] END ....................C=10, epsilon=10, kernel=linear; total time=   2.2s\n",
      "[CV] END ....................C=10, epsilon=10, kernel=linear; total time=   2.2s\n",
      "[CV] END ....................C=10, epsilon=10, kernel=linear; total time=   3.7s\n",
      "[CV] END ....................C=10, epsilon=10, kernel=linear; total time=   3.2s\n",
      "[CV] END ....................C=10, epsilon=10, kernel=linear; total time=   2.3s\n",
      "[CV] END ....................C=10, epsilon=10, kernel=linear; total time=   1.6s\n",
      "[CV] END ....................C=10, epsilon=10, kernel=linear; total time=   1.5s\n",
      "[CV] END ....................C=10, epsilon=10, kernel=linear; total time=   1.0s\n",
      "[CV] END ....................C=10, epsilon=10, kernel=linear; total time=   0.3s\n",
      "[CV] END ....................C=10, epsilon=10, kernel=linear; total time=   0.5s\n",
      "[CV] END ....................C=10, epsilon=10, kernel=linear; total time=   0.3s\n",
      "[CV] END ....................C=10, epsilon=10, kernel=linear; total time=   0.3s\n",
      "[CV] END ....................C=10, epsilon=10, kernel=linear; total time=   0.3s\n",
      "[CV] END ....................C=10, epsilon=10, kernel=linear; total time=   0.3s\n",
      "[CV] END ....................C=10, epsilon=10, kernel=linear; total time=   0.4s\n",
      "[CV] END ....................C=10, epsilon=10, kernel=linear; total time=   0.5s\n",
      "[CV] END ....................C=10, epsilon=10, kernel=linear; total time=   0.5s\n",
      "[CV] END ....................C=10, epsilon=10, kernel=linear; total time=   0.2s\n",
      "[CV] END ....................C=10, epsilon=10, kernel=linear; total time=   0.3s\n",
      "[CV] END ....................C=10, epsilon=10, kernel=linear; total time=   0.2s\n",
      "[CV] END .......................C=10, epsilon=10, kernel=rbf; total time=   0.2s\n",
      "[CV] END .......................C=10, epsilon=10, kernel=rbf; total time=   0.2s\n",
      "[CV] END .......................C=10, epsilon=10, kernel=rbf; total time=   0.2s\n",
      "[CV] END .......................C=10, epsilon=10, kernel=rbf; total time=   0.2s\n",
      "[CV] END .......................C=10, epsilon=10, kernel=rbf; total time=   0.2s\n",
      "[CV] END .......................C=10, epsilon=10, kernel=rbf; total time=   0.2s\n",
      "[CV] END .......................C=10, epsilon=10, kernel=rbf; total time=   0.2s\n",
      "[CV] END .......................C=10, epsilon=10, kernel=rbf; total time=   0.3s\n",
      "[CV] END .......................C=10, epsilon=10, kernel=rbf; total time=   0.3s\n",
      "[CV] END .......................C=10, epsilon=10, kernel=rbf; total time=   0.4s\n",
      "[CV] END .......................C=10, epsilon=10, kernel=rbf; total time=   0.5s\n",
      "[CV] END .......................C=10, epsilon=10, kernel=rbf; total time=   0.9s\n",
      "[CV] END .......................C=10, epsilon=10, kernel=rbf; total time=   1.2s\n",
      "[CV] END .......................C=10, epsilon=10, kernel=rbf; total time=   1.4s\n",
      "[CV] END .......................C=10, epsilon=10, kernel=rbf; total time=   1.5s\n",
      "[CV] END .......................C=10, epsilon=10, kernel=rbf; total time=   1.5s\n",
      "[CV] END .......................C=10, epsilon=10, kernel=rbf; total time=   1.4s\n",
      "[CV] END .......................C=10, epsilon=10, kernel=rbf; total time=   1.4s\n",
      "[CV] END .......................C=10, epsilon=10, kernel=rbf; total time=   1.3s\n",
      "[CV] END .......................C=10, epsilon=10, kernel=rbf; total time=   1.1s\n"
     ]
    },
    {
     "name": "stdout",
     "output_type": "stream",
     "text": [
      "[CV] END .......................C=10, epsilon=10, kernel=rbf; total time=   1.1s\n",
      "[CV] END .......................C=10, epsilon=10, kernel=rbf; total time=   1.1s\n",
      "[CV] END .......................C=10, epsilon=10, kernel=rbf; total time=   1.0s\n",
      "[CV] END .......................C=10, epsilon=10, kernel=rbf; total time=   0.8s\n",
      "[CV] END .......................C=10, epsilon=10, kernel=rbf; total time=   0.6s\n",
      "[CV] END .......................C=10, epsilon=10, kernel=rbf; total time=   0.5s\n",
      "[CV] END .......................C=10, epsilon=10, kernel=rbf; total time=   0.4s\n",
      "[CV] END .......................C=10, epsilon=10, kernel=rbf; total time=   0.3s\n",
      "[CV] END .......................C=10, epsilon=10, kernel=rbf; total time=   0.2s\n",
      "[CV] END .......................C=10, epsilon=10, kernel=rbf; total time=   0.2s\n",
      "[CV] END .......................C=10, epsilon=10, kernel=rbf; total time=   0.2s\n",
      "[CV] END .......................C=10, epsilon=10, kernel=rbf; total time=   0.2s\n",
      "[CV] END .......................C=10, epsilon=10, kernel=rbf; total time=   0.3s\n",
      "[CV] END .......................C=10, epsilon=10, kernel=rbf; total time=   0.4s\n",
      "[CV] END .......................C=10, epsilon=10, kernel=rbf; total time=   0.4s\n",
      "[CV] END .......................C=10, epsilon=10, kernel=rbf; total time=   0.4s\n",
      "[CV] END .......................C=10, epsilon=10, kernel=rbf; total time=   0.3s\n",
      "[CV] END .......................C=10, epsilon=10, kernel=rbf; total time=   0.3s\n",
      "[CV] END .......................C=10, epsilon=10, kernel=rbf; total time=   0.2s\n",
      "[CV] END .....................C=20, epsilon=0, kernel=linear; total time=   5.1s\n",
      "[CV] END .....................C=20, epsilon=0, kernel=linear; total time=   5.7s\n",
      "[CV] END .....................C=20, epsilon=0, kernel=linear; total time=   5.0s\n",
      "[CV] END .....................C=20, epsilon=0, kernel=linear; total time=   5.0s\n",
      "[CV] END .....................C=20, epsilon=0, kernel=linear; total time=   5.1s\n",
      "[CV] END .....................C=20, epsilon=0, kernel=linear; total time=   4.7s\n",
      "[CV] END .....................C=20, epsilon=0, kernel=linear; total time=   4.6s\n",
      "[CV] END .....................C=20, epsilon=0, kernel=linear; total time=   3.9s\n",
      "[CV] END .....................C=20, epsilon=0, kernel=linear; total time=   3.2s\n",
      "[CV] END .....................C=20, epsilon=0, kernel=linear; total time=   3.8s\n",
      "[CV] END .....................C=20, epsilon=0, kernel=linear; total time=   4.4s\n",
      "[CV] END .....................C=20, epsilon=0, kernel=linear; total time=   7.6s\n",
      "[CV] END .....................C=20, epsilon=0, kernel=linear; total time=   8.0s\n",
      "[CV] END .....................C=20, epsilon=0, kernel=linear; total time=  16.2s\n",
      "[CV] END .....................C=20, epsilon=0, kernel=linear; total time=  15.3s\n",
      "[CV] END .....................C=20, epsilon=0, kernel=linear; total time=  20.2s\n",
      "[CV] END .....................C=20, epsilon=0, kernel=linear; total time=  16.5s\n",
      "[CV] END .....................C=20, epsilon=0, kernel=linear; total time=  13.0s\n",
      "[CV] END .....................C=20, epsilon=0, kernel=linear; total time=  12.8s\n",
      "[CV] END .....................C=20, epsilon=0, kernel=linear; total time=  17.1s\n",
      "[CV] END .....................C=20, epsilon=0, kernel=linear; total time=  13.6s\n",
      "[CV] END .....................C=20, epsilon=0, kernel=linear; total time=  16.4s\n",
      "[CV] END .....................C=20, epsilon=0, kernel=linear; total time=  12.9s\n",
      "[CV] END .....................C=20, epsilon=0, kernel=linear; total time=  16.8s\n",
      "[CV] END .....................C=20, epsilon=0, kernel=linear; total time=  10.7s\n",
      "[CV] END .....................C=20, epsilon=0, kernel=linear; total time=  10.2s\n",
      "[CV] END .....................C=20, epsilon=0, kernel=linear; total time=   9.9s\n",
      "[CV] END .....................C=20, epsilon=0, kernel=linear; total time=   9.9s\n",
      "[CV] END .....................C=20, epsilon=0, kernel=linear; total time=  10.5s\n",
      "[CV] END .....................C=20, epsilon=0, kernel=linear; total time=   8.4s\n",
      "[CV] END .....................C=20, epsilon=0, kernel=linear; total time=   8.4s\n",
      "[CV] END .....................C=20, epsilon=0, kernel=linear; total time=   6.4s\n",
      "[CV] END .....................C=20, epsilon=0, kernel=linear; total time=   9.9s\n",
      "[CV] END .....................C=20, epsilon=0, kernel=linear; total time=   9.6s\n",
      "[CV] END .....................C=20, epsilon=0, kernel=linear; total time=   9.8s\n",
      "[CV] END .....................C=20, epsilon=0, kernel=linear; total time=   8.7s\n",
      "[CV] END .....................C=20, epsilon=0, kernel=linear; total time=   8.6s\n",
      "[CV] END .....................C=20, epsilon=0, kernel=linear; total time=   9.9s\n",
      "[CV] END .....................C=20, epsilon=0, kernel=linear; total time=   8.3s\n",
      "[CV] END ........................C=20, epsilon=0, kernel=rbf; total time=   2.2s\n",
      "[CV] END ........................C=20, epsilon=0, kernel=rbf; total time=   2.2s\n",
      "[CV] END ........................C=20, epsilon=0, kernel=rbf; total time=   2.2s\n",
      "[CV] END ........................C=20, epsilon=0, kernel=rbf; total time=   2.2s\n",
      "[CV] END ........................C=20, epsilon=0, kernel=rbf; total time=   2.3s\n",
      "[CV] END ........................C=20, epsilon=0, kernel=rbf; total time=   2.2s\n",
      "[CV] END ........................C=20, epsilon=0, kernel=rbf; total time=   2.2s\n",
      "[CV] END ........................C=20, epsilon=0, kernel=rbf; total time=   2.2s\n",
      "[CV] END ........................C=20, epsilon=0, kernel=rbf; total time=   2.2s\n",
      "[CV] END ........................C=20, epsilon=0, kernel=rbf; total time=   2.1s\n",
      "[CV] END ........................C=20, epsilon=0, kernel=rbf; total time=   2.1s\n",
      "[CV] END ........................C=20, epsilon=0, kernel=rbf; total time=   2.2s\n",
      "[CV] END ........................C=20, epsilon=0, kernel=rbf; total time=   2.2s\n",
      "[CV] END ........................C=20, epsilon=0, kernel=rbf; total time=   2.1s\n",
      "[CV] END ........................C=20, epsilon=0, kernel=rbf; total time=   2.1s\n",
      "[CV] END ........................C=20, epsilon=0, kernel=rbf; total time=   2.3s\n",
      "[CV] END ........................C=20, epsilon=0, kernel=rbf; total time=   2.2s\n",
      "[CV] END ........................C=20, epsilon=0, kernel=rbf; total time=   2.3s\n",
      "[CV] END ........................C=20, epsilon=0, kernel=rbf; total time=   2.4s\n",
      "[CV] END ........................C=20, epsilon=0, kernel=rbf; total time=   2.3s\n",
      "[CV] END ........................C=20, epsilon=0, kernel=rbf; total time=   2.2s\n",
      "[CV] END ........................C=20, epsilon=0, kernel=rbf; total time=   2.1s\n",
      "[CV] END ........................C=20, epsilon=0, kernel=rbf; total time=   2.1s\n",
      "[CV] END ........................C=20, epsilon=0, kernel=rbf; total time=   2.1s\n",
      "[CV] END ........................C=20, epsilon=0, kernel=rbf; total time=   2.1s\n",
      "[CV] END ........................C=20, epsilon=0, kernel=rbf; total time=   2.1s\n",
      "[CV] END ........................C=20, epsilon=0, kernel=rbf; total time=   2.1s\n",
      "[CV] END ........................C=20, epsilon=0, kernel=rbf; total time=   2.1s\n",
      "[CV] END ........................C=20, epsilon=0, kernel=rbf; total time=   2.1s\n",
      "[CV] END ........................C=20, epsilon=0, kernel=rbf; total time=   2.2s\n",
      "[CV] END ........................C=20, epsilon=0, kernel=rbf; total time=   2.3s\n",
      "[CV] END ........................C=20, epsilon=0, kernel=rbf; total time=   2.2s\n",
      "[CV] END ........................C=20, epsilon=0, kernel=rbf; total time=   2.2s\n",
      "[CV] END ........................C=20, epsilon=0, kernel=rbf; total time=   2.1s\n",
      "[CV] END ........................C=20, epsilon=0, kernel=rbf; total time=   2.2s\n",
      "[CV] END ........................C=20, epsilon=0, kernel=rbf; total time=   2.2s\n",
      "[CV] END ........................C=20, epsilon=0, kernel=rbf; total time=   2.1s\n",
      "[CV] END ........................C=20, epsilon=0, kernel=rbf; total time=   2.1s\n",
      "[CV] END ........................C=20, epsilon=0, kernel=rbf; total time=   2.1s\n",
      "[CV] END .....................C=20, epsilon=5, kernel=linear; total time=   0.5s\n",
      "[CV] END .....................C=20, epsilon=5, kernel=linear; total time=   0.6s\n",
      "[CV] END .....................C=20, epsilon=5, kernel=linear; total time=   0.5s\n",
      "[CV] END .....................C=20, epsilon=5, kernel=linear; total time=   0.7s\n",
      "[CV] END .....................C=20, epsilon=5, kernel=linear; total time=   0.6s\n"
     ]
    },
    {
     "name": "stdout",
     "output_type": "stream",
     "text": [
      "[CV] END .....................C=20, epsilon=5, kernel=linear; total time=   0.8s\n",
      "[CV] END .....................C=20, epsilon=5, kernel=linear; total time=   0.5s\n",
      "[CV] END .....................C=20, epsilon=5, kernel=linear; total time=   0.5s\n",
      "[CV] END .....................C=20, epsilon=5, kernel=linear; total time=   0.7s\n",
      "[CV] END .....................C=20, epsilon=5, kernel=linear; total time=   1.0s\n",
      "[CV] END .....................C=20, epsilon=5, kernel=linear; total time=   2.3s\n",
      "[CV] END .....................C=20, epsilon=5, kernel=linear; total time=   3.2s\n",
      "[CV] END .....................C=20, epsilon=5, kernel=linear; total time=   3.9s\n",
      "[CV] END .....................C=20, epsilon=5, kernel=linear; total time=   7.7s\n",
      "[CV] END .....................C=20, epsilon=5, kernel=linear; total time=   8.0s\n",
      "[CV] END .....................C=20, epsilon=5, kernel=linear; total time=   7.2s\n",
      "[CV] END .....................C=20, epsilon=5, kernel=linear; total time=   7.5s\n",
      "[CV] END .....................C=20, epsilon=5, kernel=linear; total time=   7.4s\n",
      "[CV] END .....................C=20, epsilon=5, kernel=linear; total time=  10.1s\n",
      "[CV] END .....................C=20, epsilon=5, kernel=linear; total time=   6.0s\n",
      "[CV] END .....................C=20, epsilon=5, kernel=linear; total time=   8.2s\n",
      "[CV] END .....................C=20, epsilon=5, kernel=linear; total time=   7.1s\n",
      "[CV] END .....................C=20, epsilon=5, kernel=linear; total time=   5.2s\n",
      "[CV] END .....................C=20, epsilon=5, kernel=linear; total time=   5.3s\n",
      "[CV] END .....................C=20, epsilon=5, kernel=linear; total time=   3.6s\n",
      "[CV] END .....................C=20, epsilon=5, kernel=linear; total time=   2.3s\n",
      "[CV] END .....................C=20, epsilon=5, kernel=linear; total time=   2.4s\n",
      "[CV] END .....................C=20, epsilon=5, kernel=linear; total time=   0.9s\n",
      "[CV] END .....................C=20, epsilon=5, kernel=linear; total time=   0.9s\n",
      "[CV] END .....................C=20, epsilon=5, kernel=linear; total time=   1.0s\n",
      "[CV] END .....................C=20, epsilon=5, kernel=linear; total time=   0.6s\n",
      "[CV] END .....................C=20, epsilon=5, kernel=linear; total time=   1.4s\n",
      "[CV] END .....................C=20, epsilon=5, kernel=linear; total time=   1.0s\n",
      "[CV] END .....................C=20, epsilon=5, kernel=linear; total time=   1.0s\n",
      "[CV] END .....................C=20, epsilon=5, kernel=linear; total time=   1.0s\n",
      "[CV] END .....................C=20, epsilon=5, kernel=linear; total time=   1.2s\n",
      "[CV] END .....................C=20, epsilon=5, kernel=linear; total time=   1.2s\n",
      "[CV] END .....................C=20, epsilon=5, kernel=linear; total time=   0.7s\n",
      "[CV] END .....................C=20, epsilon=5, kernel=linear; total time=   0.8s\n",
      "[CV] END ........................C=20, epsilon=5, kernel=rbf; total time=   0.3s\n",
      "[CV] END ........................C=20, epsilon=5, kernel=rbf; total time=   0.4s\n",
      "[CV] END ........................C=20, epsilon=5, kernel=rbf; total time=   0.4s\n",
      "[CV] END ........................C=20, epsilon=5, kernel=rbf; total time=   0.4s\n",
      "[CV] END ........................C=20, epsilon=5, kernel=rbf; total time=   0.5s\n",
      "[CV] END ........................C=20, epsilon=5, kernel=rbf; total time=   0.5s\n",
      "[CV] END ........................C=20, epsilon=5, kernel=rbf; total time=   0.5s\n",
      "[CV] END ........................C=20, epsilon=5, kernel=rbf; total time=   0.5s\n",
      "[CV] END ........................C=20, epsilon=5, kernel=rbf; total time=   0.6s\n",
      "[CV] END ........................C=20, epsilon=5, kernel=rbf; total time=   0.8s\n",
      "[CV] END ........................C=20, epsilon=5, kernel=rbf; total time=   0.9s\n",
      "[CV] END ........................C=20, epsilon=5, kernel=rbf; total time=   1.4s\n",
      "[CV] END ........................C=20, epsilon=5, kernel=rbf; total time=   1.7s\n",
      "[CV] END ........................C=20, epsilon=5, kernel=rbf; total time=   1.7s\n",
      "[CV] END ........................C=20, epsilon=5, kernel=rbf; total time=   1.7s\n",
      "[CV] END ........................C=20, epsilon=5, kernel=rbf; total time=   1.7s\n",
      "[CV] END ........................C=20, epsilon=5, kernel=rbf; total time=   1.7s\n",
      "[CV] END ........................C=20, epsilon=5, kernel=rbf; total time=   1.7s\n",
      "[CV] END ........................C=20, epsilon=5, kernel=rbf; total time=   1.6s\n",
      "[CV] END ........................C=20, epsilon=5, kernel=rbf; total time=   1.4s\n",
      "[CV] END ........................C=20, epsilon=5, kernel=rbf; total time=   1.4s\n",
      "[CV] END ........................C=20, epsilon=5, kernel=rbf; total time=   1.3s\n",
      "[CV] END ........................C=20, epsilon=5, kernel=rbf; total time=   1.3s\n",
      "[CV] END ........................C=20, epsilon=5, kernel=rbf; total time=   1.1s\n",
      "[CV] END ........................C=20, epsilon=5, kernel=rbf; total time=   0.8s\n",
      "[CV] END ........................C=20, epsilon=5, kernel=rbf; total time=   0.7s\n",
      "[CV] END ........................C=20, epsilon=5, kernel=rbf; total time=   0.6s\n",
      "[CV] END ........................C=20, epsilon=5, kernel=rbf; total time=   0.5s\n",
      "[CV] END ........................C=20, epsilon=5, kernel=rbf; total time=   0.4s\n",
      "[CV] END ........................C=20, epsilon=5, kernel=rbf; total time=   0.4s\n",
      "[CV] END ........................C=20, epsilon=5, kernel=rbf; total time=   0.4s\n",
      "[CV] END ........................C=20, epsilon=5, kernel=rbf; total time=   0.5s\n",
      "[CV] END ........................C=20, epsilon=5, kernel=rbf; total time=   0.5s\n",
      "[CV] END ........................C=20, epsilon=5, kernel=rbf; total time=   0.6s\n",
      "[CV] END ........................C=20, epsilon=5, kernel=rbf; total time=   0.6s\n",
      "[CV] END ........................C=20, epsilon=5, kernel=rbf; total time=   0.6s\n",
      "[CV] END ........................C=20, epsilon=5, kernel=rbf; total time=   0.6s\n",
      "[CV] END ........................C=20, epsilon=5, kernel=rbf; total time=   0.5s\n",
      "[CV] END ........................C=20, epsilon=5, kernel=rbf; total time=   0.4s\n",
      "[CV] END ....................C=20, epsilon=10, kernel=linear; total time=   0.2s\n",
      "[CV] END ....................C=20, epsilon=10, kernel=linear; total time=   0.3s\n",
      "[CV] END ....................C=20, epsilon=10, kernel=linear; total time=   0.3s\n",
      "[CV] END ....................C=20, epsilon=10, kernel=linear; total time=   0.3s\n",
      "[CV] END ....................C=20, epsilon=10, kernel=linear; total time=   0.3s\n",
      "[CV] END ....................C=20, epsilon=10, kernel=linear; total time=   0.3s\n",
      "[CV] END ....................C=20, epsilon=10, kernel=linear; total time=   0.3s\n",
      "[CV] END ....................C=20, epsilon=10, kernel=linear; total time=   0.3s\n",
      "[CV] END ....................C=20, epsilon=10, kernel=linear; total time=   0.4s\n",
      "[CV] END ....................C=20, epsilon=10, kernel=linear; total time=   0.5s\n",
      "[CV] END ....................C=20, epsilon=10, kernel=linear; total time=   0.7s\n",
      "[CV] END ....................C=20, epsilon=10, kernel=linear; total time=   1.6s\n",
      "[CV] END ....................C=20, epsilon=10, kernel=linear; total time=   3.5s\n",
      "[CV] END ....................C=20, epsilon=10, kernel=linear; total time=  12.8s\n",
      "[CV] END ....................C=20, epsilon=10, kernel=linear; total time=   8.9s\n",
      "[CV] END ....................C=20, epsilon=10, kernel=linear; total time=   6.7s\n",
      "[CV] END ....................C=20, epsilon=10, kernel=linear; total time=   7.3s\n",
      "[CV] END ....................C=20, epsilon=10, kernel=linear; total time=   6.7s\n",
      "[CV] END ....................C=20, epsilon=10, kernel=linear; total time=   6.8s\n",
      "[CV] END ....................C=20, epsilon=10, kernel=linear; total time=   8.3s\n",
      "[CV] END ....................C=20, epsilon=10, kernel=linear; total time=   4.6s\n",
      "[CV] END ....................C=20, epsilon=10, kernel=linear; total time=   4.7s\n",
      "[CV] END ....................C=20, epsilon=10, kernel=linear; total time=   4.7s\n",
      "[CV] END ....................C=20, epsilon=10, kernel=linear; total time=   5.8s\n",
      "[CV] END ....................C=20, epsilon=10, kernel=linear; total time=   2.4s\n",
      "[CV] END ....................C=20, epsilon=10, kernel=linear; total time=   1.7s\n",
      "[CV] END ....................C=20, epsilon=10, kernel=linear; total time=   1.3s\n",
      "[CV] END ....................C=20, epsilon=10, kernel=linear; total time=   0.4s\n",
      "[CV] END ....................C=20, epsilon=10, kernel=linear; total time=   0.6s\n"
     ]
    },
    {
     "name": "stdout",
     "output_type": "stream",
     "text": [
      "[CV] END ....................C=20, epsilon=10, kernel=linear; total time=   0.5s\n",
      "[CV] END ....................C=20, epsilon=10, kernel=linear; total time=   0.6s\n",
      "[CV] END ....................C=20, epsilon=10, kernel=linear; total time=   0.8s\n",
      "[CV] END ....................C=20, epsilon=10, kernel=linear; total time=   0.6s\n",
      "[CV] END ....................C=20, epsilon=10, kernel=linear; total time=   0.6s\n",
      "[CV] END ....................C=20, epsilon=10, kernel=linear; total time=   0.6s\n",
      "[CV] END ....................C=20, epsilon=10, kernel=linear; total time=   0.9s\n",
      "[CV] END ....................C=20, epsilon=10, kernel=linear; total time=   0.3s\n",
      "[CV] END ....................C=20, epsilon=10, kernel=linear; total time=   0.7s\n",
      "[CV] END ....................C=20, epsilon=10, kernel=linear; total time=   0.4s\n",
      "[CV] END .......................C=20, epsilon=10, kernel=rbf; total time=   0.2s\n",
      "[CV] END .......................C=20, epsilon=10, kernel=rbf; total time=   0.2s\n",
      "[CV] END .......................C=20, epsilon=10, kernel=rbf; total time=   0.2s\n",
      "[CV] END .......................C=20, epsilon=10, kernel=rbf; total time=   0.2s\n",
      "[CV] END .......................C=20, epsilon=10, kernel=rbf; total time=   0.3s\n",
      "[CV] END .......................C=20, epsilon=10, kernel=rbf; total time=   0.2s\n",
      "[CV] END .......................C=20, epsilon=10, kernel=rbf; total time=   0.2s\n",
      "[CV] END .......................C=20, epsilon=10, kernel=rbf; total time=   0.3s\n",
      "[CV] END .......................C=20, epsilon=10, kernel=rbf; total time=   0.4s\n",
      "[CV] END .......................C=20, epsilon=10, kernel=rbf; total time=   0.4s\n",
      "[CV] END .......................C=20, epsilon=10, kernel=rbf; total time=   0.5s\n",
      "[CV] END .......................C=20, epsilon=10, kernel=rbf; total time=   0.9s\n",
      "[CV] END .......................C=20, epsilon=10, kernel=rbf; total time=   1.2s\n",
      "[CV] END .......................C=20, epsilon=10, kernel=rbf; total time=   1.5s\n",
      "[CV] END .......................C=20, epsilon=10, kernel=rbf; total time=   1.7s\n",
      "[CV] END .......................C=20, epsilon=10, kernel=rbf; total time=   2.9s\n",
      "[CV] END .......................C=20, epsilon=10, kernel=rbf; total time=   1.4s\n",
      "[CV] END .......................C=20, epsilon=10, kernel=rbf; total time=   1.3s\n",
      "[CV] END .......................C=20, epsilon=10, kernel=rbf; total time=   1.1s\n",
      "[CV] END .......................C=20, epsilon=10, kernel=rbf; total time=   1.0s\n",
      "[CV] END .......................C=20, epsilon=10, kernel=rbf; total time=   1.1s\n",
      "[CV] END .......................C=20, epsilon=10, kernel=rbf; total time=   1.0s\n",
      "[CV] END .......................C=20, epsilon=10, kernel=rbf; total time=   0.9s\n",
      "[CV] END .......................C=20, epsilon=10, kernel=rbf; total time=   0.7s\n",
      "[CV] END .......................C=20, epsilon=10, kernel=rbf; total time=   0.5s\n",
      "[CV] END .......................C=20, epsilon=10, kernel=rbf; total time=   0.4s\n",
      "[CV] END .......................C=20, epsilon=10, kernel=rbf; total time=   0.3s\n",
      "[CV] END .......................C=20, epsilon=10, kernel=rbf; total time=   0.3s\n",
      "[CV] END .......................C=20, epsilon=10, kernel=rbf; total time=   0.2s\n",
      "[CV] END .......................C=20, epsilon=10, kernel=rbf; total time=   0.2s\n",
      "[CV] END .......................C=20, epsilon=10, kernel=rbf; total time=   0.2s\n",
      "[CV] END .......................C=20, epsilon=10, kernel=rbf; total time=   0.2s\n",
      "[CV] END .......................C=20, epsilon=10, kernel=rbf; total time=   0.3s\n",
      "[CV] END .......................C=20, epsilon=10, kernel=rbf; total time=   0.3s\n",
      "[CV] END .......................C=20, epsilon=10, kernel=rbf; total time=   0.3s\n",
      "[CV] END .......................C=20, epsilon=10, kernel=rbf; total time=   0.3s\n",
      "[CV] END .......................C=20, epsilon=10, kernel=rbf; total time=   0.3s\n",
      "[CV] END .......................C=20, epsilon=10, kernel=rbf; total time=   0.2s\n",
      "[CV] END .......................C=20, epsilon=10, kernel=rbf; total time=   0.2s\n",
      "End:  29/05/2021 23:24:24\n"
     ]
    }
   ],
   "source": [
    "param_grid = {\n",
    "    'kernel': [\"linear\", \"rbf\"],\n",
    "    'C': [0.5, 1, 5, 10, 20],\n",
    "    'epsilon': [0, 5, 10]\n",
    "}\n",
    "\n",
    "print(\"Start: \", datetime.datetime.now().strftime(\"%d/%m/%Y %H:%M:%S\"))\n",
    "\n",
    "SVR_search_pt1 = GridSearchCV(svm.SVR(), param_grid, cv=tscv_indices, scoring=scoring_metrics, refit = False, verbose=2)\n",
    "SVR_search_pt1.fit(X_train.drop(columns=[\"date\"]), np.array(y_train).ravel())\n",
    "\n",
    "print(\"End: \", datetime.datetime.now().strftime(\"%d/%m/%Y %H:%M:%S\"))"
   ]
  },
  {
   "cell_type": "code",
   "execution_count": 9,
   "metadata": {},
   "outputs": [
    {
     "data": {
      "text/html": [
       "<div>\n",
       "<style scoped>\n",
       "    .dataframe tbody tr th:only-of-type {\n",
       "        vertical-align: middle;\n",
       "    }\n",
       "\n",
       "    .dataframe tbody tr th {\n",
       "        vertical-align: top;\n",
       "    }\n",
       "\n",
       "    .dataframe thead th {\n",
       "        text-align: right;\n",
       "    }\n",
       "</style>\n",
       "<table border=\"1\" class=\"dataframe\">\n",
       "  <thead>\n",
       "    <tr style=\"text-align: right;\">\n",
       "      <th></th>\n",
       "      <th>kernel</th>\n",
       "      <th>C</th>\n",
       "      <th>epsilon</th>\n",
       "      <th>neg_mean_squared_error</th>\n",
       "      <th>r2</th>\n",
       "      <th>neg_mean_absolute_error</th>\n",
       "    </tr>\n",
       "  </thead>\n",
       "  <tbody>\n",
       "    <tr>\n",
       "      <th>5</th>\n",
       "      <td>rbf</td>\n",
       "      <td>0.5</td>\n",
       "      <td>10</td>\n",
       "      <td>-16734.416843</td>\n",
       "      <td>0.142110</td>\n",
       "      <td>-26.745321</td>\n",
       "    </tr>\n",
       "    <tr>\n",
       "      <th>3</th>\n",
       "      <td>rbf</td>\n",
       "      <td>0.5</td>\n",
       "      <td>5</td>\n",
       "      <td>-16784.707850</td>\n",
       "      <td>0.140646</td>\n",
       "      <td>-25.221659</td>\n",
       "    </tr>\n",
       "    <tr>\n",
       "      <th>11</th>\n",
       "      <td>rbf</td>\n",
       "      <td>1.0</td>\n",
       "      <td>10</td>\n",
       "      <td>-15864.307330</td>\n",
       "      <td>0.217003</td>\n",
       "      <td>-25.061725</td>\n",
       "    </tr>\n",
       "    <tr>\n",
       "      <th>1</th>\n",
       "      <td>rbf</td>\n",
       "      <td>0.5</td>\n",
       "      <td>0</td>\n",
       "      <td>-16812.878683</td>\n",
       "      <td>0.137167</td>\n",
       "      <td>-24.635523</td>\n",
       "    </tr>\n",
       "    <tr>\n",
       "      <th>9</th>\n",
       "      <td>rbf</td>\n",
       "      <td>1.0</td>\n",
       "      <td>5</td>\n",
       "      <td>-15894.814419</td>\n",
       "      <td>0.218874</td>\n",
       "      <td>-23.413158</td>\n",
       "    </tr>\n",
       "    <tr>\n",
       "      <th>7</th>\n",
       "      <td>rbf</td>\n",
       "      <td>1.0</td>\n",
       "      <td>0</td>\n",
       "      <td>-15921.075653</td>\n",
       "      <td>0.217120</td>\n",
       "      <td>-22.745592</td>\n",
       "    </tr>\n",
       "    <tr>\n",
       "      <th>17</th>\n",
       "      <td>rbf</td>\n",
       "      <td>5.0</td>\n",
       "      <td>10</td>\n",
       "      <td>-12577.828614</td>\n",
       "      <td>0.377521</td>\n",
       "      <td>-19.877095</td>\n",
       "    </tr>\n",
       "    <tr>\n",
       "      <th>15</th>\n",
       "      <td>rbf</td>\n",
       "      <td>5.0</td>\n",
       "      <td>5</td>\n",
       "      <td>-12594.855411</td>\n",
       "      <td>0.380598</td>\n",
       "      <td>-18.070914</td>\n",
       "    </tr>\n",
       "    <tr>\n",
       "      <th>23</th>\n",
       "      <td>rbf</td>\n",
       "      <td>10.0</td>\n",
       "      <td>10</td>\n",
       "      <td>-11086.013754</td>\n",
       "      <td>0.439059</td>\n",
       "      <td>-17.727779</td>\n",
       "    </tr>\n",
       "    <tr>\n",
       "      <th>13</th>\n",
       "      <td>rbf</td>\n",
       "      <td>5.0</td>\n",
       "      <td>0</td>\n",
       "      <td>-12605.987581</td>\n",
       "      <td>0.379165</td>\n",
       "      <td>-17.260574</td>\n",
       "    </tr>\n",
       "    <tr>\n",
       "      <th>29</th>\n",
       "      <td>rbf</td>\n",
       "      <td>20.0</td>\n",
       "      <td>10</td>\n",
       "      <td>-10100.761587</td>\n",
       "      <td>0.500476</td>\n",
       "      <td>-16.206895</td>\n",
       "    </tr>\n",
       "    <tr>\n",
       "      <th>21</th>\n",
       "      <td>rbf</td>\n",
       "      <td>10.0</td>\n",
       "      <td>5</td>\n",
       "      <td>-11089.291635</td>\n",
       "      <td>0.442285</td>\n",
       "      <td>-15.846707</td>\n",
       "    </tr>\n",
       "    <tr>\n",
       "      <th>19</th>\n",
       "      <td>rbf</td>\n",
       "      <td>10.0</td>\n",
       "      <td>0</td>\n",
       "      <td>-11105.980876</td>\n",
       "      <td>0.440090</td>\n",
       "      <td>-15.022699</td>\n",
       "    </tr>\n",
       "    <tr>\n",
       "      <th>27</th>\n",
       "      <td>rbf</td>\n",
       "      <td>20.0</td>\n",
       "      <td>5</td>\n",
       "      <td>-10119.028886</td>\n",
       "      <td>0.502336</td>\n",
       "      <td>-14.340885</td>\n",
       "    </tr>\n",
       "    <tr>\n",
       "      <th>25</th>\n",
       "      <td>rbf</td>\n",
       "      <td>20.0</td>\n",
       "      <td>0</td>\n",
       "      <td>-10148.194694</td>\n",
       "      <td>0.496673</td>\n",
       "      <td>-13.589419</td>\n",
       "    </tr>\n",
       "    <tr>\n",
       "      <th>4</th>\n",
       "      <td>linear</td>\n",
       "      <td>0.5</td>\n",
       "      <td>10</td>\n",
       "      <td>-4153.509947</td>\n",
       "      <td>0.888575</td>\n",
       "      <td>-9.492294</td>\n",
       "    </tr>\n",
       "    <tr>\n",
       "      <th>10</th>\n",
       "      <td>linear</td>\n",
       "      <td>1.0</td>\n",
       "      <td>10</td>\n",
       "      <td>-3938.485700</td>\n",
       "      <td>0.890009</td>\n",
       "      <td>-9.254926</td>\n",
       "    </tr>\n",
       "    <tr>\n",
       "      <th>16</th>\n",
       "      <td>linear</td>\n",
       "      <td>5.0</td>\n",
       "      <td>10</td>\n",
       "      <td>-4010.603600</td>\n",
       "      <td>0.884509</td>\n",
       "      <td>-8.937821</td>\n",
       "    </tr>\n",
       "    <tr>\n",
       "      <th>22</th>\n",
       "      <td>linear</td>\n",
       "      <td>10.0</td>\n",
       "      <td>10</td>\n",
       "      <td>-4158.195798</td>\n",
       "      <td>0.876288</td>\n",
       "      <td>-8.918430</td>\n",
       "    </tr>\n",
       "    <tr>\n",
       "      <th>28</th>\n",
       "      <td>linear</td>\n",
       "      <td>20.0</td>\n",
       "      <td>10</td>\n",
       "      <td>-4280.482387</td>\n",
       "      <td>0.872998</td>\n",
       "      <td>-8.880236</td>\n",
       "    </tr>\n",
       "    <tr>\n",
       "      <th>2</th>\n",
       "      <td>linear</td>\n",
       "      <td>0.5</td>\n",
       "      <td>5</td>\n",
       "      <td>-4119.032557</td>\n",
       "      <td>0.891524</td>\n",
       "      <td>-8.400991</td>\n",
       "    </tr>\n",
       "    <tr>\n",
       "      <th>8</th>\n",
       "      <td>linear</td>\n",
       "      <td>1.0</td>\n",
       "      <td>5</td>\n",
       "      <td>-3879.804344</td>\n",
       "      <td>0.893362</td>\n",
       "      <td>-8.207122</td>\n",
       "    </tr>\n",
       "    <tr>\n",
       "      <th>14</th>\n",
       "      <td>linear</td>\n",
       "      <td>5.0</td>\n",
       "      <td>5</td>\n",
       "      <td>-4067.175886</td>\n",
       "      <td>0.881463</td>\n",
       "      <td>-8.083586</td>\n",
       "    </tr>\n",
       "    <tr>\n",
       "      <th>26</th>\n",
       "      <td>linear</td>\n",
       "      <td>20.0</td>\n",
       "      <td>5</td>\n",
       "      <td>-4202.415115</td>\n",
       "      <td>0.877553</td>\n",
       "      <td>-8.050790</td>\n",
       "    </tr>\n",
       "    <tr>\n",
       "      <th>20</th>\n",
       "      <td>linear</td>\n",
       "      <td>10.0</td>\n",
       "      <td>5</td>\n",
       "      <td>-4146.815468</td>\n",
       "      <td>0.878468</td>\n",
       "      <td>-8.042036</td>\n",
       "    </tr>\n",
       "    <tr>\n",
       "      <th>0</th>\n",
       "      <td>linear</td>\n",
       "      <td>0.5</td>\n",
       "      <td>0</td>\n",
       "      <td>-4142.278106</td>\n",
       "      <td>0.890822</td>\n",
       "      <td>-7.929125</td>\n",
       "    </tr>\n",
       "    <tr>\n",
       "      <th>6</th>\n",
       "      <td>linear</td>\n",
       "      <td>1.0</td>\n",
       "      <td>0</td>\n",
       "      <td>-3911.249237</td>\n",
       "      <td>0.890480</td>\n",
       "      <td>-7.756379</td>\n",
       "    </tr>\n",
       "    <tr>\n",
       "      <th>24</th>\n",
       "      <td>linear</td>\n",
       "      <td>20.0</td>\n",
       "      <td>0</td>\n",
       "      <td>-4085.938540</td>\n",
       "      <td>0.878131</td>\n",
       "      <td>-7.687117</td>\n",
       "    </tr>\n",
       "    <tr>\n",
       "      <th>12</th>\n",
       "      <td>linear</td>\n",
       "      <td>5.0</td>\n",
       "      <td>0</td>\n",
       "      <td>-4078.928718</td>\n",
       "      <td>0.882553</td>\n",
       "      <td>-7.684356</td>\n",
       "    </tr>\n",
       "    <tr>\n",
       "      <th>18</th>\n",
       "      <td>linear</td>\n",
       "      <td>10.0</td>\n",
       "      <td>0</td>\n",
       "      <td>-4056.807724</td>\n",
       "      <td>0.879607</td>\n",
       "      <td>-7.668122</td>\n",
       "    </tr>\n",
       "  </tbody>\n",
       "</table>\n",
       "</div>"
      ],
      "text/plain": [
       "    kernel     C  epsilon  neg_mean_squared_error        r2  \\\n",
       "5      rbf   0.5       10           -16734.416843  0.142110   \n",
       "3      rbf   0.5        5           -16784.707850  0.140646   \n",
       "11     rbf   1.0       10           -15864.307330  0.217003   \n",
       "1      rbf   0.5        0           -16812.878683  0.137167   \n",
       "9      rbf   1.0        5           -15894.814419  0.218874   \n",
       "7      rbf   1.0        0           -15921.075653  0.217120   \n",
       "17     rbf   5.0       10           -12577.828614  0.377521   \n",
       "15     rbf   5.0        5           -12594.855411  0.380598   \n",
       "23     rbf  10.0       10           -11086.013754  0.439059   \n",
       "13     rbf   5.0        0           -12605.987581  0.379165   \n",
       "29     rbf  20.0       10           -10100.761587  0.500476   \n",
       "21     rbf  10.0        5           -11089.291635  0.442285   \n",
       "19     rbf  10.0        0           -11105.980876  0.440090   \n",
       "27     rbf  20.0        5           -10119.028886  0.502336   \n",
       "25     rbf  20.0        0           -10148.194694  0.496673   \n",
       "4   linear   0.5       10            -4153.509947  0.888575   \n",
       "10  linear   1.0       10            -3938.485700  0.890009   \n",
       "16  linear   5.0       10            -4010.603600  0.884509   \n",
       "22  linear  10.0       10            -4158.195798  0.876288   \n",
       "28  linear  20.0       10            -4280.482387  0.872998   \n",
       "2   linear   0.5        5            -4119.032557  0.891524   \n",
       "8   linear   1.0        5            -3879.804344  0.893362   \n",
       "14  linear   5.0        5            -4067.175886  0.881463   \n",
       "26  linear  20.0        5            -4202.415115  0.877553   \n",
       "20  linear  10.0        5            -4146.815468  0.878468   \n",
       "0   linear   0.5        0            -4142.278106  0.890822   \n",
       "6   linear   1.0        0            -3911.249237  0.890480   \n",
       "24  linear  20.0        0            -4085.938540  0.878131   \n",
       "12  linear   5.0        0            -4078.928718  0.882553   \n",
       "18  linear  10.0        0            -4056.807724  0.879607   \n",
       "\n",
       "    neg_mean_absolute_error  \n",
       "5                -26.745321  \n",
       "3                -25.221659  \n",
       "11               -25.061725  \n",
       "1                -24.635523  \n",
       "9                -23.413158  \n",
       "7                -22.745592  \n",
       "17               -19.877095  \n",
       "15               -18.070914  \n",
       "23               -17.727779  \n",
       "13               -17.260574  \n",
       "29               -16.206895  \n",
       "21               -15.846707  \n",
       "19               -15.022699  \n",
       "27               -14.340885  \n",
       "25               -13.589419  \n",
       "4                 -9.492294  \n",
       "10                -9.254926  \n",
       "16                -8.937821  \n",
       "22                -8.918430  \n",
       "28                -8.880236  \n",
       "2                 -8.400991  \n",
       "8                 -8.207122  \n",
       "14                -8.083586  \n",
       "26                -8.050790  \n",
       "20                -8.042036  \n",
       "0                 -7.929125  \n",
       "6                 -7.756379  \n",
       "24                -7.687117  \n",
       "12                -7.684356  \n",
       "18                -7.668122  "
      ]
     },
     "execution_count": 9,
     "metadata": {},
     "output_type": "execute_result"
    }
   ],
   "source": [
    "SVR_summary_pt1 = GridSearchSummary(SVR_search_pt1, \n",
    "                  [\"kernel\", \"C\", \"epsilon\"],\n",
    "                  scoring_metrics,\n",
    "                  \"../Data/Model Results/SVR_search_pt1.csv\")\n",
    "\n",
    "SVR_summary_pt1.sort_values(by=[\"neg_mean_absolute_error\"])"
   ]
  },
  {
   "cell_type": "code",
   "execution_count": 11,
   "metadata": {
    "scrolled": true
   },
   "outputs": [
    {
     "name": "stdout",
     "output_type": "stream",
     "text": [
      "Start:  29/05/2021 23:26:18\n",
      "Fitting 39 folds for each of 30 candidates, totalling 1170 fits\n",
      "[CV] END ............C=0.5, degree=2, epsilon=0, kernel=poly; total time=   1.3s\n",
      "[CV] END ............C=0.5, degree=2, epsilon=0, kernel=poly; total time=   1.3s\n",
      "[CV] END ............C=0.5, degree=2, epsilon=0, kernel=poly; total time=   1.2s\n",
      "[CV] END ............C=0.5, degree=2, epsilon=0, kernel=poly; total time=   1.4s\n",
      "[CV] END ............C=0.5, degree=2, epsilon=0, kernel=poly; total time=   1.3s\n",
      "[CV] END ............C=0.5, degree=2, epsilon=0, kernel=poly; total time=   1.5s\n",
      "[CV] END ............C=0.5, degree=2, epsilon=0, kernel=poly; total time=   1.3s\n",
      "[CV] END ............C=0.5, degree=2, epsilon=0, kernel=poly; total time=   1.2s\n",
      "[CV] END ............C=0.5, degree=2, epsilon=0, kernel=poly; total time=   1.3s\n",
      "[CV] END ............C=0.5, degree=2, epsilon=0, kernel=poly; total time=   1.3s\n",
      "[CV] END ............C=0.5, degree=2, epsilon=0, kernel=poly; total time=   1.4s\n",
      "[CV] END ............C=0.5, degree=2, epsilon=0, kernel=poly; total time=   1.4s\n",
      "[CV] END ............C=0.5, degree=2, epsilon=0, kernel=poly; total time=   1.3s\n",
      "[CV] END ............C=0.5, degree=2, epsilon=0, kernel=poly; total time=   1.3s\n",
      "[CV] END ............C=0.5, degree=2, epsilon=0, kernel=poly; total time=   1.2s\n",
      "[CV] END ............C=0.5, degree=2, epsilon=0, kernel=poly; total time=   1.2s\n",
      "[CV] END ............C=0.5, degree=2, epsilon=0, kernel=poly; total time=   1.2s\n",
      "[CV] END ............C=0.5, degree=2, epsilon=0, kernel=poly; total time=   1.2s\n",
      "[CV] END ............C=0.5, degree=2, epsilon=0, kernel=poly; total time=   1.3s\n",
      "[CV] END ............C=0.5, degree=2, epsilon=0, kernel=poly; total time=   1.2s\n",
      "[CV] END ............C=0.5, degree=2, epsilon=0, kernel=poly; total time=   1.4s\n",
      "[CV] END ............C=0.5, degree=2, epsilon=0, kernel=poly; total time=   1.3s\n",
      "[CV] END ............C=0.5, degree=2, epsilon=0, kernel=poly; total time=   1.4s\n",
      "[CV] END ............C=0.5, degree=2, epsilon=0, kernel=poly; total time=   1.4s\n",
      "[CV] END ............C=0.5, degree=2, epsilon=0, kernel=poly; total time=   1.4s\n",
      "[CV] END ............C=0.5, degree=2, epsilon=0, kernel=poly; total time=   1.4s\n",
      "[CV] END ............C=0.5, degree=2, epsilon=0, kernel=poly; total time=   1.4s\n",
      "[CV] END ............C=0.5, degree=2, epsilon=0, kernel=poly; total time=   1.3s\n",
      "[CV] END ............C=0.5, degree=2, epsilon=0, kernel=poly; total time=   1.3s\n",
      "[CV] END ............C=0.5, degree=2, epsilon=0, kernel=poly; total time=   1.3s\n",
      "[CV] END ............C=0.5, degree=2, epsilon=0, kernel=poly; total time=   1.3s\n",
      "[CV] END ............C=0.5, degree=2, epsilon=0, kernel=poly; total time=   1.2s\n",
      "[CV] END ............C=0.5, degree=2, epsilon=0, kernel=poly; total time=   1.3s\n",
      "[CV] END ............C=0.5, degree=2, epsilon=0, kernel=poly; total time=   1.3s\n",
      "[CV] END ............C=0.5, degree=2, epsilon=0, kernel=poly; total time=   1.3s\n",
      "[CV] END ............C=0.5, degree=2, epsilon=0, kernel=poly; total time=   1.3s\n",
      "[CV] END ............C=0.5, degree=2, epsilon=0, kernel=poly; total time=   1.3s\n",
      "[CV] END ............C=0.5, degree=2, epsilon=0, kernel=poly; total time=   1.2s\n",
      "[CV] END ............C=0.5, degree=2, epsilon=0, kernel=poly; total time=   1.2s\n",
      "[CV] END ............C=0.5, degree=2, epsilon=5, kernel=poly; total time=   0.6s\n",
      "[CV] END ............C=0.5, degree=2, epsilon=5, kernel=poly; total time=   0.6s\n",
      "[CV] END ............C=0.5, degree=2, epsilon=5, kernel=poly; total time=   0.6s\n",
      "[CV] END ............C=0.5, degree=2, epsilon=5, kernel=poly; total time=   0.6s\n",
      "[CV] END ............C=0.5, degree=2, epsilon=5, kernel=poly; total time=   0.6s\n",
      "[CV] END ............C=0.5, degree=2, epsilon=5, kernel=poly; total time=   0.6s\n",
      "[CV] END ............C=0.5, degree=2, epsilon=5, kernel=poly; total time=   0.7s\n",
      "[CV] END ............C=0.5, degree=2, epsilon=5, kernel=poly; total time=   0.8s\n",
      "[CV] END ............C=0.5, degree=2, epsilon=5, kernel=poly; total time=   0.9s\n",
      "[CV] END ............C=0.5, degree=2, epsilon=5, kernel=poly; total time=   1.0s\n",
      "[CV] END ............C=0.5, degree=2, epsilon=5, kernel=poly; total time=   1.0s\n",
      "[CV] END ............C=0.5, degree=2, epsilon=5, kernel=poly; total time=   1.0s\n",
      "[CV] END ............C=0.5, degree=2, epsilon=5, kernel=poly; total time=   1.0s\n",
      "[CV] END ............C=0.5, degree=2, epsilon=5, kernel=poly; total time=   1.1s\n",
      "[CV] END ............C=0.5, degree=2, epsilon=5, kernel=poly; total time=   1.1s\n",
      "[CV] END ............C=0.5, degree=2, epsilon=5, kernel=poly; total time=   1.2s\n",
      "[CV] END ............C=0.5, degree=2, epsilon=5, kernel=poly; total time=   1.1s\n",
      "[CV] END ............C=0.5, degree=2, epsilon=5, kernel=poly; total time=   1.1s\n",
      "[CV] END ............C=0.5, degree=2, epsilon=5, kernel=poly; total time=   1.1s\n",
      "[CV] END ............C=0.5, degree=2, epsilon=5, kernel=poly; total time=   1.0s\n",
      "[CV] END ............C=0.5, degree=2, epsilon=5, kernel=poly; total time=   1.0s\n",
      "[CV] END ............C=0.5, degree=2, epsilon=5, kernel=poly; total time=   1.0s\n",
      "[CV] END ............C=0.5, degree=2, epsilon=5, kernel=poly; total time=   1.1s\n",
      "[CV] END ............C=0.5, degree=2, epsilon=5, kernel=poly; total time=   1.0s\n",
      "[CV] END ............C=0.5, degree=2, epsilon=5, kernel=poly; total time=   1.0s\n",
      "[CV] END ............C=0.5, degree=2, epsilon=5, kernel=poly; total time=   0.9s\n",
      "[CV] END ............C=0.5, degree=2, epsilon=5, kernel=poly; total time=   0.8s\n",
      "[CV] END ............C=0.5, degree=2, epsilon=5, kernel=poly; total time=   0.8s\n",
      "[CV] END ............C=0.5, degree=2, epsilon=5, kernel=poly; total time=   0.6s\n",
      "[CV] END ............C=0.5, degree=2, epsilon=5, kernel=poly; total time=   0.6s\n",
      "[CV] END ............C=0.5, degree=2, epsilon=5, kernel=poly; total time=   0.6s\n",
      "[CV] END ............C=0.5, degree=2, epsilon=5, kernel=poly; total time=   0.6s\n",
      "[CV] END ............C=0.5, degree=2, epsilon=5, kernel=poly; total time=   0.7s\n",
      "[CV] END ............C=0.5, degree=2, epsilon=5, kernel=poly; total time=   0.9s\n",
      "[CV] END ............C=0.5, degree=2, epsilon=5, kernel=poly; total time=   1.9s\n",
      "[CV] END ............C=0.5, degree=2, epsilon=5, kernel=poly; total time=   0.9s\n",
      "[CV] END ............C=0.5, degree=2, epsilon=5, kernel=poly; total time=   0.8s\n",
      "[CV] END ............C=0.5, degree=2, epsilon=5, kernel=poly; total time=   0.6s\n",
      "[CV] END ............C=0.5, degree=2, epsilon=5, kernel=poly; total time=   0.6s\n",
      "[CV] END ...........C=0.5, degree=2, epsilon=10, kernel=poly; total time=   0.3s\n",
      "[CV] END ...........C=0.5, degree=2, epsilon=10, kernel=poly; total time=   0.3s\n",
      "[CV] END ...........C=0.5, degree=2, epsilon=10, kernel=poly; total time=   0.4s\n",
      "[CV] END ...........C=0.5, degree=2, epsilon=10, kernel=poly; total time=   0.4s\n",
      "[CV] END ...........C=0.5, degree=2, epsilon=10, kernel=poly; total time=   0.3s\n",
      "[CV] END ...........C=0.5, degree=2, epsilon=10, kernel=poly; total time=   0.4s\n",
      "[CV] END ...........C=0.5, degree=2, epsilon=10, kernel=poly; total time=   0.4s\n",
      "[CV] END ...........C=0.5, degree=2, epsilon=10, kernel=poly; total time=   0.4s\n",
      "[CV] END ...........C=0.5, degree=2, epsilon=10, kernel=poly; total time=   0.6s\n",
      "[CV] END ...........C=0.5, degree=2, epsilon=10, kernel=poly; total time=   0.6s\n",
      "[CV] END ...........C=0.5, degree=2, epsilon=10, kernel=poly; total time=   0.7s\n",
      "[CV] END ...........C=0.5, degree=2, epsilon=10, kernel=poly; total time=   0.9s\n",
      "[CV] END ...........C=0.5, degree=2, epsilon=10, kernel=poly; total time=   1.0s\n",
      "[CV] END ...........C=0.5, degree=2, epsilon=10, kernel=poly; total time=   1.0s\n",
      "[CV] END ...........C=0.5, degree=2, epsilon=10, kernel=poly; total time=   1.0s\n",
      "[CV] END ...........C=0.5, degree=2, epsilon=10, kernel=poly; total time=   1.0s\n",
      "[CV] END ...........C=0.5, degree=2, epsilon=10, kernel=poly; total time=   1.0s\n",
      "[CV] END ...........C=0.5, degree=2, epsilon=10, kernel=poly; total time=   1.0s\n",
      "[CV] END ...........C=0.5, degree=2, epsilon=10, kernel=poly; total time=   0.9s\n",
      "[CV] END ...........C=0.5, degree=2, epsilon=10, kernel=poly; total time=   0.9s\n",
      "[CV] END ...........C=0.5, degree=2, epsilon=10, kernel=poly; total time=   0.9s\n",
      "[CV] END ...........C=0.5, degree=2, epsilon=10, kernel=poly; total time=   0.9s\n",
      "[CV] END ...........C=0.5, degree=2, epsilon=10, kernel=poly; total time=   0.9s\n"
     ]
    },
    {
     "name": "stdout",
     "output_type": "stream",
     "text": [
      "[CV] END ...........C=0.5, degree=2, epsilon=10, kernel=poly; total time=   0.8s\n",
      "[CV] END ...........C=0.5, degree=2, epsilon=10, kernel=poly; total time=   1.0s\n",
      "[CV] END ...........C=0.5, degree=2, epsilon=10, kernel=poly; total time=   1.0s\n",
      "[CV] END ...........C=0.5, degree=2, epsilon=10, kernel=poly; total time=   0.6s\n",
      "[CV] END ...........C=0.5, degree=2, epsilon=10, kernel=poly; total time=   0.5s\n",
      "[CV] END ...........C=0.5, degree=2, epsilon=10, kernel=poly; total time=   0.4s\n",
      "[CV] END ...........C=0.5, degree=2, epsilon=10, kernel=poly; total time=   0.5s\n",
      "[CV] END ...........C=0.5, degree=2, epsilon=10, kernel=poly; total time=   0.6s\n",
      "[CV] END ...........C=0.5, degree=2, epsilon=10, kernel=poly; total time=   0.9s\n",
      "[CV] END ...........C=0.5, degree=2, epsilon=10, kernel=poly; total time=   0.9s\n",
      "[CV] END ...........C=0.5, degree=2, epsilon=10, kernel=poly; total time=   1.4s\n",
      "[CV] END ...........C=0.5, degree=2, epsilon=10, kernel=poly; total time=   1.0s\n",
      "[CV] END ...........C=0.5, degree=2, epsilon=10, kernel=poly; total time=   0.5s\n",
      "[CV] END ...........C=0.5, degree=2, epsilon=10, kernel=poly; total time=   0.5s\n",
      "[CV] END ...........C=0.5, degree=2, epsilon=10, kernel=poly; total time=   0.8s\n",
      "[CV] END ...........C=0.5, degree=2, epsilon=10, kernel=poly; total time=   0.5s\n",
      "[CV] END ............C=0.5, degree=3, epsilon=0, kernel=poly; total time=   1.9s\n",
      "[CV] END ............C=0.5, degree=3, epsilon=0, kernel=poly; total time=   1.8s\n",
      "[CV] END ............C=0.5, degree=3, epsilon=0, kernel=poly; total time=   2.3s\n",
      "[CV] END ............C=0.5, degree=3, epsilon=0, kernel=poly; total time=   1.9s\n",
      "[CV] END ............C=0.5, degree=3, epsilon=0, kernel=poly; total time=   2.2s\n",
      "[CV] END ............C=0.5, degree=3, epsilon=0, kernel=poly; total time=   2.5s\n",
      "[CV] END ............C=0.5, degree=3, epsilon=0, kernel=poly; total time=   1.9s\n",
      "[CV] END ............C=0.5, degree=3, epsilon=0, kernel=poly; total time=   1.6s\n",
      "[CV] END ............C=0.5, degree=3, epsilon=0, kernel=poly; total time=   2.8s\n",
      "[CV] END ............C=0.5, degree=3, epsilon=0, kernel=poly; total time=   1.4s\n",
      "[CV] END ............C=0.5, degree=3, epsilon=0, kernel=poly; total time=   2.5s\n",
      "[CV] END ............C=0.5, degree=3, epsilon=0, kernel=poly; total time=   3.3s\n",
      "[CV] END ............C=0.5, degree=3, epsilon=0, kernel=poly; total time=   1.8s\n",
      "[CV] END ............C=0.5, degree=3, epsilon=0, kernel=poly; total time=   1.7s\n",
      "[CV] END ............C=0.5, degree=3, epsilon=0, kernel=poly; total time=   3.1s\n",
      "[CV] END ............C=0.5, degree=3, epsilon=0, kernel=poly; total time=   1.9s\n",
      "[CV] END ............C=0.5, degree=3, epsilon=0, kernel=poly; total time=   2.5s\n",
      "[CV] END ............C=0.5, degree=3, epsilon=0, kernel=poly; total time=   1.8s\n",
      "[CV] END ............C=0.5, degree=3, epsilon=0, kernel=poly; total time=   1.5s\n",
      "[CV] END ............C=0.5, degree=3, epsilon=0, kernel=poly; total time=   1.8s\n",
      "[CV] END ............C=0.5, degree=3, epsilon=0, kernel=poly; total time=   1.5s\n",
      "[CV] END ............C=0.5, degree=3, epsilon=0, kernel=poly; total time=   3.2s\n",
      "[CV] END ............C=0.5, degree=3, epsilon=0, kernel=poly; total time=   1.7s\n",
      "[CV] END ............C=0.5, degree=3, epsilon=0, kernel=poly; total time=   2.6s\n",
      "[CV] END ............C=0.5, degree=3, epsilon=0, kernel=poly; total time=   1.8s\n",
      "[CV] END ............C=0.5, degree=3, epsilon=0, kernel=poly; total time=   2.6s\n",
      "[CV] END ............C=0.5, degree=3, epsilon=0, kernel=poly; total time=   2.5s\n",
      "[CV] END ............C=0.5, degree=3, epsilon=0, kernel=poly; total time=   1.9s\n",
      "[CV] END ............C=0.5, degree=3, epsilon=0, kernel=poly; total time=   2.8s\n",
      "[CV] END ............C=0.5, degree=3, epsilon=0, kernel=poly; total time=   2.4s\n",
      "[CV] END ............C=0.5, degree=3, epsilon=0, kernel=poly; total time=   1.6s\n",
      "[CV] END ............C=0.5, degree=3, epsilon=0, kernel=poly; total time=   2.0s\n",
      "[CV] END ............C=0.5, degree=3, epsilon=0, kernel=poly; total time=   2.0s\n",
      "[CV] END ............C=0.5, degree=3, epsilon=0, kernel=poly; total time=   2.1s\n",
      "[CV] END ............C=0.5, degree=3, epsilon=0, kernel=poly; total time=   2.0s\n",
      "[CV] END ............C=0.5, degree=3, epsilon=0, kernel=poly; total time=   2.1s\n",
      "[CV] END ............C=0.5, degree=3, epsilon=0, kernel=poly; total time=   1.4s\n",
      "[CV] END ............C=0.5, degree=3, epsilon=0, kernel=poly; total time=   1.4s\n",
      "[CV] END ............C=0.5, degree=3, epsilon=0, kernel=poly; total time=   1.5s\n",
      "[CV] END ............C=0.5, degree=3, epsilon=5, kernel=poly; total time=   0.7s\n",
      "[CV] END ............C=0.5, degree=3, epsilon=5, kernel=poly; total time=   0.9s\n",
      "[CV] END ............C=0.5, degree=3, epsilon=5, kernel=poly; total time=   0.7s\n",
      "[CV] END ............C=0.5, degree=3, epsilon=5, kernel=poly; total time=   1.6s\n",
      "[CV] END ............C=0.5, degree=3, epsilon=5, kernel=poly; total time=   2.8s\n",
      "[CV] END ............C=0.5, degree=3, epsilon=5, kernel=poly; total time=   1.4s\n",
      "[CV] END ............C=0.5, degree=3, epsilon=5, kernel=poly; total time=   0.8s\n",
      "[CV] END ............C=0.5, degree=3, epsilon=5, kernel=poly; total time=   1.0s\n",
      "[CV] END ............C=0.5, degree=3, epsilon=5, kernel=poly; total time=   0.9s\n",
      "[CV] END ............C=0.5, degree=3, epsilon=5, kernel=poly; total time=   1.1s\n",
      "[CV] END ............C=0.5, degree=3, epsilon=5, kernel=poly; total time=   1.1s\n",
      "[CV] END ............C=0.5, degree=3, epsilon=5, kernel=poly; total time=   1.4s\n",
      "[CV] END ............C=0.5, degree=3, epsilon=5, kernel=poly; total time=   1.7s\n",
      "[CV] END ............C=0.5, degree=3, epsilon=5, kernel=poly; total time=   1.7s\n",
      "[CV] END ............C=0.5, degree=3, epsilon=5, kernel=poly; total time=   2.8s\n",
      "[CV] END ............C=0.5, degree=3, epsilon=5, kernel=poly; total time=   2.9s\n",
      "[CV] END ............C=0.5, degree=3, epsilon=5, kernel=poly; total time=   2.9s\n",
      "[CV] END ............C=0.5, degree=3, epsilon=5, kernel=poly; total time=   2.0s\n",
      "[CV] END ............C=0.5, degree=3, epsilon=5, kernel=poly; total time=   1.5s\n",
      "[CV] END ............C=0.5, degree=3, epsilon=5, kernel=poly; total time=   1.2s\n",
      "[CV] END ............C=0.5, degree=3, epsilon=5, kernel=poly; total time=   1.4s\n",
      "[CV] END ............C=0.5, degree=3, epsilon=5, kernel=poly; total time=   1.3s\n",
      "[CV] END ............C=0.5, degree=3, epsilon=5, kernel=poly; total time=   1.4s\n",
      "[CV] END ............C=0.5, degree=3, epsilon=5, kernel=poly; total time=   1.6s\n",
      "[CV] END ............C=0.5, degree=3, epsilon=5, kernel=poly; total time=   1.1s\n",
      "[CV] END ............C=0.5, degree=3, epsilon=5, kernel=poly; total time=   1.4s\n",
      "[CV] END ............C=0.5, degree=3, epsilon=5, kernel=poly; total time=   1.3s\n",
      "[CV] END ............C=0.5, degree=3, epsilon=5, kernel=poly; total time=   0.8s\n",
      "[CV] END ............C=0.5, degree=3, epsilon=5, kernel=poly; total time=   1.1s\n",
      "[CV] END ............C=0.5, degree=3, epsilon=5, kernel=poly; total time=   0.7s\n",
      "[CV] END ............C=0.5, degree=3, epsilon=5, kernel=poly; total time=   0.9s\n",
      "[CV] END ............C=0.5, degree=3, epsilon=5, kernel=poly; total time=   1.1s\n",
      "[CV] END ............C=0.5, degree=3, epsilon=5, kernel=poly; total time=   1.0s\n",
      "[CV] END ............C=0.5, degree=3, epsilon=5, kernel=poly; total time=   0.8s\n",
      "[CV] END ............C=0.5, degree=3, epsilon=5, kernel=poly; total time=   0.8s\n",
      "[CV] END ............C=0.5, degree=3, epsilon=5, kernel=poly; total time=   0.9s\n",
      "[CV] END ............C=0.5, degree=3, epsilon=5, kernel=poly; total time=   1.3s\n",
      "[CV] END ............C=0.5, degree=3, epsilon=5, kernel=poly; total time=   1.5s\n",
      "[CV] END ............C=0.5, degree=3, epsilon=5, kernel=poly; total time=   0.8s\n",
      "[CV] END ...........C=0.5, degree=3, epsilon=10, kernel=poly; total time=   0.6s\n",
      "[CV] END ...........C=0.5, degree=3, epsilon=10, kernel=poly; total time=   0.4s\n",
      "[CV] END ...........C=0.5, degree=3, epsilon=10, kernel=poly; total time=   0.5s\n",
      "[CV] END ...........C=0.5, degree=3, epsilon=10, kernel=poly; total time=   0.4s\n",
      "[CV] END ...........C=0.5, degree=3, epsilon=10, kernel=poly; total time=   0.5s\n",
      "[CV] END ...........C=0.5, degree=3, epsilon=10, kernel=poly; total time=   0.5s\n",
      "[CV] END ...........C=0.5, degree=3, epsilon=10, kernel=poly; total time=   0.5s\n",
      "[CV] END ...........C=0.5, degree=3, epsilon=10, kernel=poly; total time=   0.8s\n"
     ]
    },
    {
     "name": "stdout",
     "output_type": "stream",
     "text": [
      "[CV] END ...........C=0.5, degree=3, epsilon=10, kernel=poly; total time=   0.6s\n",
      "[CV] END ...........C=0.5, degree=3, epsilon=10, kernel=poly; total time=   0.7s\n",
      "[CV] END ...........C=0.5, degree=3, epsilon=10, kernel=poly; total time=   0.8s\n",
      "[CV] END ...........C=0.5, degree=3, epsilon=10, kernel=poly; total time=   0.9s\n",
      "[CV] END ...........C=0.5, degree=3, epsilon=10, kernel=poly; total time=   1.8s\n",
      "[CV] END ...........C=0.5, degree=3, epsilon=10, kernel=poly; total time=   1.1s\n",
      "[CV] END ...........C=0.5, degree=3, epsilon=10, kernel=poly; total time=   1.8s\n",
      "[CV] END ...........C=0.5, degree=3, epsilon=10, kernel=poly; total time=   1.5s\n",
      "[CV] END ...........C=0.5, degree=3, epsilon=10, kernel=poly; total time=   1.0s\n",
      "[CV] END ...........C=0.5, degree=3, epsilon=10, kernel=poly; total time=   1.4s\n",
      "[CV] END ...........C=0.5, degree=3, epsilon=10, kernel=poly; total time=   1.3s\n",
      "[CV] END ...........C=0.5, degree=3, epsilon=10, kernel=poly; total time=   0.9s\n",
      "[CV] END ...........C=0.5, degree=3, epsilon=10, kernel=poly; total time=   1.1s\n",
      "[CV] END ...........C=0.5, degree=3, epsilon=10, kernel=poly; total time=   1.7s\n",
      "[CV] END ...........C=0.5, degree=3, epsilon=10, kernel=poly; total time=   1.1s\n",
      "[CV] END ...........C=0.5, degree=3, epsilon=10, kernel=poly; total time=   1.5s\n",
      "[CV] END ...........C=0.5, degree=3, epsilon=10, kernel=poly; total time=   1.6s\n",
      "[CV] END ...........C=0.5, degree=3, epsilon=10, kernel=poly; total time=   0.9s\n",
      "[CV] END ...........C=0.5, degree=3, epsilon=10, kernel=poly; total time=   0.8s\n",
      "[CV] END ...........C=0.5, degree=3, epsilon=10, kernel=poly; total time=   0.6s\n",
      "[CV] END ...........C=0.5, degree=3, epsilon=10, kernel=poly; total time=   0.5s\n",
      "[CV] END ...........C=0.5, degree=3, epsilon=10, kernel=poly; total time=   0.6s\n",
      "[CV] END ...........C=0.5, degree=3, epsilon=10, kernel=poly; total time=   0.4s\n",
      "[CV] END ...........C=0.5, degree=3, epsilon=10, kernel=poly; total time=   0.5s\n",
      "[CV] END ...........C=0.5, degree=3, epsilon=10, kernel=poly; total time=   0.5s\n",
      "[CV] END ...........C=0.5, degree=3, epsilon=10, kernel=poly; total time=   1.0s\n",
      "[CV] END ...........C=0.5, degree=3, epsilon=10, kernel=poly; total time=   0.7s\n",
      "[CV] END ...........C=0.5, degree=3, epsilon=10, kernel=poly; total time=   0.6s\n",
      "[CV] END ...........C=0.5, degree=3, epsilon=10, kernel=poly; total time=   0.6s\n",
      "[CV] END ...........C=0.5, degree=3, epsilon=10, kernel=poly; total time=   0.7s\n",
      "[CV] END ...........C=0.5, degree=3, epsilon=10, kernel=poly; total time=   0.4s\n",
      "[CV] END ..............C=1, degree=2, epsilon=0, kernel=poly; total time=   1.3s\n",
      "[CV] END ..............C=1, degree=2, epsilon=0, kernel=poly; total time=   1.3s\n",
      "[CV] END ..............C=1, degree=2, epsilon=0, kernel=poly; total time=   1.2s\n",
      "[CV] END ..............C=1, degree=2, epsilon=0, kernel=poly; total time=   1.3s\n",
      "[CV] END ..............C=1, degree=2, epsilon=0, kernel=poly; total time=   1.5s\n",
      "[CV] END ..............C=1, degree=2, epsilon=0, kernel=poly; total time=   1.4s\n",
      "[CV] END ..............C=1, degree=2, epsilon=0, kernel=poly; total time=   1.4s\n",
      "[CV] END ..............C=1, degree=2, epsilon=0, kernel=poly; total time=   1.4s\n",
      "[CV] END ..............C=1, degree=2, epsilon=0, kernel=poly; total time=   1.3s\n",
      "[CV] END ..............C=1, degree=2, epsilon=0, kernel=poly; total time=   1.3s\n",
      "[CV] END ..............C=1, degree=2, epsilon=0, kernel=poly; total time=   1.6s\n",
      "[CV] END ..............C=1, degree=2, epsilon=0, kernel=poly; total time=   1.6s\n",
      "[CV] END ..............C=1, degree=2, epsilon=0, kernel=poly; total time=   1.3s\n",
      "[CV] END ..............C=1, degree=2, epsilon=0, kernel=poly; total time=   1.4s\n",
      "[CV] END ..............C=1, degree=2, epsilon=0, kernel=poly; total time=   2.2s\n",
      "[CV] END ..............C=1, degree=2, epsilon=0, kernel=poly; total time=   1.5s\n",
      "[CV] END ..............C=1, degree=2, epsilon=0, kernel=poly; total time=   1.7s\n",
      "[CV] END ..............C=1, degree=2, epsilon=0, kernel=poly; total time=   1.3s\n",
      "[CV] END ..............C=1, degree=2, epsilon=0, kernel=poly; total time=   1.3s\n",
      "[CV] END ..............C=1, degree=2, epsilon=0, kernel=poly; total time=   1.4s\n",
      "[CV] END ..............C=1, degree=2, epsilon=0, kernel=poly; total time=   1.3s\n",
      "[CV] END ..............C=1, degree=2, epsilon=0, kernel=poly; total time=   1.3s\n",
      "[CV] END ..............C=1, degree=2, epsilon=0, kernel=poly; total time=   1.4s\n",
      "[CV] END ..............C=1, degree=2, epsilon=0, kernel=poly; total time=   2.3s\n",
      "[CV] END ..............C=1, degree=2, epsilon=0, kernel=poly; total time=   2.5s\n",
      "[CV] END ..............C=1, degree=2, epsilon=0, kernel=poly; total time=   1.5s\n",
      "[CV] END ..............C=1, degree=2, epsilon=0, kernel=poly; total time=   1.5s\n",
      "[CV] END ..............C=1, degree=2, epsilon=0, kernel=poly; total time=   1.4s\n",
      "[CV] END ..............C=1, degree=2, epsilon=0, kernel=poly; total time=   1.3s\n",
      "[CV] END ..............C=1, degree=2, epsilon=0, kernel=poly; total time=   1.3s\n",
      "[CV] END ..............C=1, degree=2, epsilon=0, kernel=poly; total time=   1.3s\n",
      "[CV] END ..............C=1, degree=2, epsilon=0, kernel=poly; total time=   1.3s\n",
      "[CV] END ..............C=1, degree=2, epsilon=0, kernel=poly; total time=   1.3s\n",
      "[CV] END ..............C=1, degree=2, epsilon=0, kernel=poly; total time=   1.3s\n",
      "[CV] END ..............C=1, degree=2, epsilon=0, kernel=poly; total time=   1.4s\n",
      "[CV] END ..............C=1, degree=2, epsilon=0, kernel=poly; total time=   1.3s\n",
      "[CV] END ..............C=1, degree=2, epsilon=0, kernel=poly; total time=   1.3s\n",
      "[CV] END ..............C=1, degree=2, epsilon=0, kernel=poly; total time=   1.4s\n",
      "[CV] END ..............C=1, degree=2, epsilon=0, kernel=poly; total time=   1.4s\n",
      "[CV] END ..............C=1, degree=2, epsilon=5, kernel=poly; total time=   0.6s\n",
      "[CV] END ..............C=1, degree=2, epsilon=5, kernel=poly; total time=   0.6s\n",
      "[CV] END ..............C=1, degree=2, epsilon=5, kernel=poly; total time=   0.6s\n",
      "[CV] END ..............C=1, degree=2, epsilon=5, kernel=poly; total time=   0.6s\n",
      "[CV] END ..............C=1, degree=2, epsilon=5, kernel=poly; total time=   0.7s\n",
      "[CV] END ..............C=1, degree=2, epsilon=5, kernel=poly; total time=   0.7s\n",
      "[CV] END ..............C=1, degree=2, epsilon=5, kernel=poly; total time=   0.7s\n",
      "[CV] END ..............C=1, degree=2, epsilon=5, kernel=poly; total time=   0.7s\n",
      "[CV] END ..............C=1, degree=2, epsilon=5, kernel=poly; total time=   0.8s\n",
      "[CV] END ..............C=1, degree=2, epsilon=5, kernel=poly; total time=   0.9s\n",
      "[CV] END ..............C=1, degree=2, epsilon=5, kernel=poly; total time=   1.0s\n",
      "[CV] END ..............C=1, degree=2, epsilon=5, kernel=poly; total time=   1.0s\n",
      "[CV] END ..............C=1, degree=2, epsilon=5, kernel=poly; total time=   1.2s\n",
      "[CV] END ..............C=1, degree=2, epsilon=5, kernel=poly; total time=   1.1s\n",
      "[CV] END ..............C=1, degree=2, epsilon=5, kernel=poly; total time=   1.1s\n",
      "[CV] END ..............C=1, degree=2, epsilon=5, kernel=poly; total time=   1.1s\n",
      "[CV] END ..............C=1, degree=2, epsilon=5, kernel=poly; total time=   1.1s\n",
      "[CV] END ..............C=1, degree=2, epsilon=5, kernel=poly; total time=   1.1s\n",
      "[CV] END ..............C=1, degree=2, epsilon=5, kernel=poly; total time=   1.3s\n",
      "[CV] END ..............C=1, degree=2, epsilon=5, kernel=poly; total time=   1.1s\n",
      "[CV] END ..............C=1, degree=2, epsilon=5, kernel=poly; total time=   1.1s\n",
      "[CV] END ..............C=1, degree=2, epsilon=5, kernel=poly; total time=   1.2s\n",
      "[CV] END ..............C=1, degree=2, epsilon=5, kernel=poly; total time=   1.1s\n",
      "[CV] END ..............C=1, degree=2, epsilon=5, kernel=poly; total time=   1.0s\n",
      "[CV] END ..............C=1, degree=2, epsilon=5, kernel=poly; total time=   1.0s\n",
      "[CV] END ..............C=1, degree=2, epsilon=5, kernel=poly; total time=   1.0s\n",
      "[CV] END ..............C=1, degree=2, epsilon=5, kernel=poly; total time=   0.9s\n",
      "[CV] END ..............C=1, degree=2, epsilon=5, kernel=poly; total time=   0.8s\n",
      "[CV] END ..............C=1, degree=2, epsilon=5, kernel=poly; total time=   0.7s\n",
      "[CV] END ..............C=1, degree=2, epsilon=5, kernel=poly; total time=   0.7s\n",
      "[CV] END ..............C=1, degree=2, epsilon=5, kernel=poly; total time=   0.6s\n",
      "[CV] END ..............C=1, degree=2, epsilon=5, kernel=poly; total time=   0.7s\n"
     ]
    },
    {
     "name": "stdout",
     "output_type": "stream",
     "text": [
      "[CV] END ..............C=1, degree=2, epsilon=5, kernel=poly; total time=   0.7s\n",
      "[CV] END ..............C=1, degree=2, epsilon=5, kernel=poly; total time=   0.9s\n",
      "[CV] END ..............C=1, degree=2, epsilon=5, kernel=poly; total time=   0.8s\n",
      "[CV] END ..............C=1, degree=2, epsilon=5, kernel=poly; total time=   0.8s\n",
      "[CV] END ..............C=1, degree=2, epsilon=5, kernel=poly; total time=   0.7s\n",
      "[CV] END ..............C=1, degree=2, epsilon=5, kernel=poly; total time=   0.7s\n",
      "[CV] END ..............C=1, degree=2, epsilon=5, kernel=poly; total time=   0.6s\n",
      "[CV] END .............C=1, degree=2, epsilon=10, kernel=poly; total time=   0.3s\n",
      "[CV] END .............C=1, degree=2, epsilon=10, kernel=poly; total time=   0.4s\n",
      "[CV] END .............C=1, degree=2, epsilon=10, kernel=poly; total time=   0.3s\n",
      "[CV] END .............C=1, degree=2, epsilon=10, kernel=poly; total time=   0.4s\n",
      "[CV] END .............C=1, degree=2, epsilon=10, kernel=poly; total time=   0.6s\n",
      "[CV] END .............C=1, degree=2, epsilon=10, kernel=poly; total time=   0.4s\n",
      "[CV] END .............C=1, degree=2, epsilon=10, kernel=poly; total time=   0.4s\n",
      "[CV] END .............C=1, degree=2, epsilon=10, kernel=poly; total time=   0.5s\n",
      "[CV] END .............C=1, degree=2, epsilon=10, kernel=poly; total time=   0.6s\n",
      "[CV] END .............C=1, degree=2, epsilon=10, kernel=poly; total time=   0.6s\n",
      "[CV] END .............C=1, degree=2, epsilon=10, kernel=poly; total time=   0.7s\n",
      "[CV] END .............C=1, degree=2, epsilon=10, kernel=poly; total time=   0.8s\n",
      "[CV] END .............C=1, degree=2, epsilon=10, kernel=poly; total time=   0.9s\n",
      "[CV] END .............C=1, degree=2, epsilon=10, kernel=poly; total time=   1.0s\n",
      "[CV] END .............C=1, degree=2, epsilon=10, kernel=poly; total time=   1.0s\n",
      "[CV] END .............C=1, degree=2, epsilon=10, kernel=poly; total time=   1.1s\n",
      "[CV] END .............C=1, degree=2, epsilon=10, kernel=poly; total time=   1.0s\n",
      "[CV] END .............C=1, degree=2, epsilon=10, kernel=poly; total time=   1.1s\n",
      "[CV] END .............C=1, degree=2, epsilon=10, kernel=poly; total time=   1.1s\n",
      "[CV] END .............C=1, degree=2, epsilon=10, kernel=poly; total time=   0.9s\n",
      "[CV] END .............C=1, degree=2, epsilon=10, kernel=poly; total time=   0.9s\n",
      "[CV] END .............C=1, degree=2, epsilon=10, kernel=poly; total time=   0.9s\n",
      "[CV] END .............C=1, degree=2, epsilon=10, kernel=poly; total time=   0.9s\n",
      "[CV] END .............C=1, degree=2, epsilon=10, kernel=poly; total time=   0.8s\n",
      "[CV] END .............C=1, degree=2, epsilon=10, kernel=poly; total time=   0.7s\n",
      "[CV] END .............C=1, degree=2, epsilon=10, kernel=poly; total time=   0.6s\n",
      "[CV] END .............C=1, degree=2, epsilon=10, kernel=poly; total time=   0.6s\n",
      "[CV] END .............C=1, degree=2, epsilon=10, kernel=poly; total time=   0.5s\n",
      "[CV] END .............C=1, degree=2, epsilon=10, kernel=poly; total time=   0.4s\n",
      "[CV] END .............C=1, degree=2, epsilon=10, kernel=poly; total time=   0.4s\n",
      "[CV] END .............C=1, degree=2, epsilon=10, kernel=poly; total time=   0.4s\n",
      "[CV] END .............C=1, degree=2, epsilon=10, kernel=poly; total time=   0.4s\n",
      "[CV] END .............C=1, degree=2, epsilon=10, kernel=poly; total time=   0.4s\n",
      "[CV] END .............C=1, degree=2, epsilon=10, kernel=poly; total time=   0.5s\n",
      "[CV] END .............C=1, degree=2, epsilon=10, kernel=poly; total time=   0.5s\n",
      "[CV] END .............C=1, degree=2, epsilon=10, kernel=poly; total time=   0.5s\n",
      "[CV] END .............C=1, degree=2, epsilon=10, kernel=poly; total time=   0.4s\n",
      "[CV] END .............C=1, degree=2, epsilon=10, kernel=poly; total time=   0.4s\n",
      "[CV] END .............C=1, degree=2, epsilon=10, kernel=poly; total time=   0.4s\n",
      "[CV] END ..............C=1, degree=3, epsilon=0, kernel=poly; total time=   1.7s\n",
      "[CV] END ..............C=1, degree=3, epsilon=0, kernel=poly; total time=   1.5s\n",
      "[CV] END ..............C=1, degree=3, epsilon=0, kernel=poly; total time=   1.8s\n",
      "[CV] END ..............C=1, degree=3, epsilon=0, kernel=poly; total time=   1.4s\n",
      "[CV] END ..............C=1, degree=3, epsilon=0, kernel=poly; total time=   1.5s\n",
      "[CV] END ..............C=1, degree=3, epsilon=0, kernel=poly; total time=   1.7s\n",
      "[CV] END ..............C=1, degree=3, epsilon=0, kernel=poly; total time=   1.5s\n",
      "[CV] END ..............C=1, degree=3, epsilon=0, kernel=poly; total time=   1.6s\n",
      "[CV] END ..............C=1, degree=3, epsilon=0, kernel=poly; total time=   1.6s\n",
      "[CV] END ..............C=1, degree=3, epsilon=0, kernel=poly; total time=   1.5s\n",
      "[CV] END ..............C=1, degree=3, epsilon=0, kernel=poly; total time=   1.6s\n",
      "[CV] END ..............C=1, degree=3, epsilon=0, kernel=poly; total time=   2.4s\n",
      "[CV] END ..............C=1, degree=3, epsilon=0, kernel=poly; total time=   2.0s\n",
      "[CV] END ..............C=1, degree=3, epsilon=0, kernel=poly; total time=   1.7s\n",
      "[CV] END ..............C=1, degree=3, epsilon=0, kernel=poly; total time=   1.8s\n",
      "[CV] END ..............C=1, degree=3, epsilon=0, kernel=poly; total time=   1.7s\n",
      "[CV] END ..............C=1, degree=3, epsilon=0, kernel=poly; total time=   1.8s\n",
      "[CV] END ..............C=1, degree=3, epsilon=0, kernel=poly; total time=   2.1s\n",
      "[CV] END ..............C=1, degree=3, epsilon=0, kernel=poly; total time=   1.5s\n",
      "[CV] END ..............C=1, degree=3, epsilon=0, kernel=poly; total time=   2.4s\n",
      "[CV] END ..............C=1, degree=3, epsilon=0, kernel=poly; total time=   1.6s\n",
      "[CV] END ..............C=1, degree=3, epsilon=0, kernel=poly; total time=   1.8s\n",
      "[CV] END ..............C=1, degree=3, epsilon=0, kernel=poly; total time=   1.8s\n",
      "[CV] END ..............C=1, degree=3, epsilon=0, kernel=poly; total time=   1.7s\n",
      "[CV] END ..............C=1, degree=3, epsilon=0, kernel=poly; total time=   1.7s\n",
      "[CV] END ..............C=1, degree=3, epsilon=0, kernel=poly; total time=   2.2s\n",
      "[CV] END ..............C=1, degree=3, epsilon=0, kernel=poly; total time=   2.7s\n",
      "[CV] END ..............C=1, degree=3, epsilon=0, kernel=poly; total time=   2.7s\n",
      "[CV] END ..............C=1, degree=3, epsilon=0, kernel=poly; total time=   1.3s\n",
      "[CV] END ..............C=1, degree=3, epsilon=0, kernel=poly; total time=   2.1s\n",
      "[CV] END ..............C=1, degree=3, epsilon=0, kernel=poly; total time=   1.9s\n",
      "[CV] END ..............C=1, degree=3, epsilon=0, kernel=poly; total time=   1.5s\n",
      "[CV] END ..............C=1, degree=3, epsilon=0, kernel=poly; total time=   1.5s\n",
      "[CV] END ..............C=1, degree=3, epsilon=0, kernel=poly; total time=   1.7s\n",
      "[CV] END ..............C=1, degree=3, epsilon=0, kernel=poly; total time=   1.8s\n",
      "[CV] END ..............C=1, degree=3, epsilon=0, kernel=poly; total time=   1.7s\n",
      "[CV] END ..............C=1, degree=3, epsilon=0, kernel=poly; total time=   1.7s\n",
      "[CV] END ..............C=1, degree=3, epsilon=0, kernel=poly; total time=   1.3s\n",
      "[CV] END ..............C=1, degree=3, epsilon=0, kernel=poly; total time=   1.3s\n",
      "[CV] END ..............C=1, degree=3, epsilon=5, kernel=poly; total time=   0.9s\n",
      "[CV] END ..............C=1, degree=3, epsilon=5, kernel=poly; total time=   0.6s\n",
      "[CV] END ..............C=1, degree=3, epsilon=5, kernel=poly; total time=   0.7s\n",
      "[CV] END ..............C=1, degree=3, epsilon=5, kernel=poly; total time=   0.7s\n",
      "[CV] END ..............C=1, degree=3, epsilon=5, kernel=poly; total time=   0.7s\n",
      "[CV] END ..............C=1, degree=3, epsilon=5, kernel=poly; total time=   0.9s\n",
      "[CV] END ..............C=1, degree=3, epsilon=5, kernel=poly; total time=   0.8s\n",
      "[CV] END ..............C=1, degree=3, epsilon=5, kernel=poly; total time=   1.1s\n",
      "[CV] END ..............C=1, degree=3, epsilon=5, kernel=poly; total time=   1.1s\n",
      "[CV] END ..............C=1, degree=3, epsilon=5, kernel=poly; total time=   1.0s\n",
      "[CV] END ..............C=1, degree=3, epsilon=5, kernel=poly; total time=   1.2s\n",
      "[CV] END ..............C=1, degree=3, epsilon=5, kernel=poly; total time=   1.1s\n",
      "[CV] END ..............C=1, degree=3, epsilon=5, kernel=poly; total time=   1.6s\n",
      "[CV] END ..............C=1, degree=3, epsilon=5, kernel=poly; total time=   1.7s\n",
      "[CV] END ..............C=1, degree=3, epsilon=5, kernel=poly; total time=   1.8s\n",
      "[CV] END ..............C=1, degree=3, epsilon=5, kernel=poly; total time=   1.5s\n",
      "[CV] END ..............C=1, degree=3, epsilon=5, kernel=poly; total time=   2.0s\n"
     ]
    },
    {
     "name": "stdout",
     "output_type": "stream",
     "text": [
      "[CV] END ..............C=1, degree=3, epsilon=5, kernel=poly; total time=   1.3s\n",
      "[CV] END ..............C=1, degree=3, epsilon=5, kernel=poly; total time=   1.4s\n",
      "[CV] END ..............C=1, degree=3, epsilon=5, kernel=poly; total time=   1.5s\n",
      "[CV] END ..............C=1, degree=3, epsilon=5, kernel=poly; total time=   1.4s\n",
      "[CV] END ..............C=1, degree=3, epsilon=5, kernel=poly; total time=   1.9s\n",
      "[CV] END ..............C=1, degree=3, epsilon=5, kernel=poly; total time=   1.7s\n",
      "[CV] END ..............C=1, degree=3, epsilon=5, kernel=poly; total time=   1.1s\n",
      "[CV] END ..............C=1, degree=3, epsilon=5, kernel=poly; total time=   1.2s\n",
      "[CV] END ..............C=1, degree=3, epsilon=5, kernel=poly; total time=   1.1s\n",
      "[CV] END ..............C=1, degree=3, epsilon=5, kernel=poly; total time=   2.0s\n",
      "[CV] END ..............C=1, degree=3, epsilon=5, kernel=poly; total time=   1.1s\n",
      "[CV] END ..............C=1, degree=3, epsilon=5, kernel=poly; total time=   1.0s\n",
      "[CV] END ..............C=1, degree=3, epsilon=5, kernel=poly; total time=   0.8s\n",
      "[CV] END ..............C=1, degree=3, epsilon=5, kernel=poly; total time=   1.5s\n",
      "[CV] END ..............C=1, degree=3, epsilon=5, kernel=poly; total time=   0.9s\n",
      "[CV] END ..............C=1, degree=3, epsilon=5, kernel=poly; total time=   0.8s\n",
      "[CV] END ..............C=1, degree=3, epsilon=5, kernel=poly; total time=   1.8s\n",
      "[CV] END ..............C=1, degree=3, epsilon=5, kernel=poly; total time=   1.2s\n",
      "[CV] END ..............C=1, degree=3, epsilon=5, kernel=poly; total time=   1.0s\n",
      "[CV] END ..............C=1, degree=3, epsilon=5, kernel=poly; total time=   1.7s\n",
      "[CV] END ..............C=1, degree=3, epsilon=5, kernel=poly; total time=   1.3s\n",
      "[CV] END ..............C=1, degree=3, epsilon=5, kernel=poly; total time=   0.8s\n",
      "[CV] END .............C=1, degree=3, epsilon=10, kernel=poly; total time=   0.4s\n",
      "[CV] END .............C=1, degree=3, epsilon=10, kernel=poly; total time=   0.7s\n",
      "[CV] END .............C=1, degree=3, epsilon=10, kernel=poly; total time=   0.4s\n",
      "[CV] END .............C=1, degree=3, epsilon=10, kernel=poly; total time=   0.4s\n",
      "[CV] END .............C=1, degree=3, epsilon=10, kernel=poly; total time=   0.4s\n",
      "[CV] END .............C=1, degree=3, epsilon=10, kernel=poly; total time=   0.5s\n",
      "[CV] END .............C=1, degree=3, epsilon=10, kernel=poly; total time=   0.4s\n",
      "[CV] END .............C=1, degree=3, epsilon=10, kernel=poly; total time=   0.8s\n",
      "[CV] END .............C=1, degree=3, epsilon=10, kernel=poly; total time=   0.8s\n",
      "[CV] END .............C=1, degree=3, epsilon=10, kernel=poly; total time=   0.7s\n",
      "[CV] END .............C=1, degree=3, epsilon=10, kernel=poly; total time=   0.8s\n",
      "[CV] END .............C=1, degree=3, epsilon=10, kernel=poly; total time=   1.0s\n",
      "[CV] END .............C=1, degree=3, epsilon=10, kernel=poly; total time=   1.3s\n",
      "[CV] END .............C=1, degree=3, epsilon=10, kernel=poly; total time=   2.0s\n",
      "[CV] END .............C=1, degree=3, epsilon=10, kernel=poly; total time=   1.3s\n",
      "[CV] END .............C=1, degree=3, epsilon=10, kernel=poly; total time=   1.4s\n",
      "[CV] END .............C=1, degree=3, epsilon=10, kernel=poly; total time=   1.2s\n",
      "[CV] END .............C=1, degree=3, epsilon=10, kernel=poly; total time=   1.1s\n",
      "[CV] END .............C=1, degree=3, epsilon=10, kernel=poly; total time=   1.7s\n",
      "[CV] END .............C=1, degree=3, epsilon=10, kernel=poly; total time=   1.2s\n",
      "[CV] END .............C=1, degree=3, epsilon=10, kernel=poly; total time=   1.2s\n",
      "[CV] END .............C=1, degree=3, epsilon=10, kernel=poly; total time=   1.3s\n",
      "[CV] END .............C=1, degree=3, epsilon=10, kernel=poly; total time=   1.3s\n",
      "[CV] END .............C=1, degree=3, epsilon=10, kernel=poly; total time=   1.7s\n",
      "[CV] END .............C=1, degree=3, epsilon=10, kernel=poly; total time=   1.3s\n",
      "[CV] END .............C=1, degree=3, epsilon=10, kernel=poly; total time=   1.6s\n",
      "[CV] END .............C=1, degree=3, epsilon=10, kernel=poly; total time=   0.8s\n",
      "[CV] END .............C=1, degree=3, epsilon=10, kernel=poly; total time=   0.5s\n",
      "[CV] END .............C=1, degree=3, epsilon=10, kernel=poly; total time=   1.2s\n",
      "[CV] END .............C=1, degree=3, epsilon=10, kernel=poly; total time=   0.5s\n",
      "[CV] END .............C=1, degree=3, epsilon=10, kernel=poly; total time=   0.9s\n",
      "[CV] END .............C=1, degree=3, epsilon=10, kernel=poly; total time=   1.1s\n",
      "[CV] END .............C=1, degree=3, epsilon=10, kernel=poly; total time=   0.6s\n",
      "[CV] END .............C=1, degree=3, epsilon=10, kernel=poly; total time=   0.7s\n",
      "[CV] END .............C=1, degree=3, epsilon=10, kernel=poly; total time=   1.0s\n",
      "[CV] END .............C=1, degree=3, epsilon=10, kernel=poly; total time=   0.9s\n",
      "[CV] END .............C=1, degree=3, epsilon=10, kernel=poly; total time=   1.0s\n",
      "[CV] END .............C=1, degree=3, epsilon=10, kernel=poly; total time=   0.6s\n",
      "[CV] END .............C=1, degree=3, epsilon=10, kernel=poly; total time=   0.4s\n",
      "[CV] END ..............C=5, degree=2, epsilon=0, kernel=poly; total time=   1.4s\n",
      "[CV] END ..............C=5, degree=2, epsilon=0, kernel=poly; total time=   1.4s\n",
      "[CV] END ..............C=5, degree=2, epsilon=0, kernel=poly; total time=   1.5s\n",
      "[CV] END ..............C=5, degree=2, epsilon=0, kernel=poly; total time=   2.4s\n",
      "[CV] END ..............C=5, degree=2, epsilon=0, kernel=poly; total time=   3.0s\n",
      "[CV] END ..............C=5, degree=2, epsilon=0, kernel=poly; total time=   3.0s\n",
      "[CV] END ..............C=5, degree=2, epsilon=0, kernel=poly; total time=   1.7s\n",
      "[CV] END ..............C=5, degree=2, epsilon=0, kernel=poly; total time=   2.5s\n",
      "[CV] END ..............C=5, degree=2, epsilon=0, kernel=poly; total time=   1.8s\n",
      "[CV] END ..............C=5, degree=2, epsilon=0, kernel=poly; total time=   1.4s\n",
      "[CV] END ..............C=5, degree=2, epsilon=0, kernel=poly; total time=   1.5s\n",
      "[CV] END ..............C=5, degree=2, epsilon=0, kernel=poly; total time=   1.9s\n",
      "[CV] END ..............C=5, degree=2, epsilon=0, kernel=poly; total time=   1.3s\n",
      "[CV] END ..............C=5, degree=2, epsilon=0, kernel=poly; total time=   1.3s\n",
      "[CV] END ..............C=5, degree=2, epsilon=0, kernel=poly; total time=   1.5s\n",
      "[CV] END ..............C=5, degree=2, epsilon=0, kernel=poly; total time=   2.0s\n",
      "[CV] END ..............C=5, degree=2, epsilon=0, kernel=poly; total time=   1.5s\n",
      "[CV] END ..............C=5, degree=2, epsilon=0, kernel=poly; total time=   1.4s\n",
      "[CV] END ..............C=5, degree=2, epsilon=0, kernel=poly; total time=   1.4s\n",
      "[CV] END ..............C=5, degree=2, epsilon=0, kernel=poly; total time=   2.9s\n",
      "[CV] END ..............C=5, degree=2, epsilon=0, kernel=poly; total time=   1.6s\n",
      "[CV] END ..............C=5, degree=2, epsilon=0, kernel=poly; total time=   1.5s\n",
      "[CV] END ..............C=5, degree=2, epsilon=0, kernel=poly; total time=   1.7s\n",
      "[CV] END ..............C=5, degree=2, epsilon=0, kernel=poly; total time=   1.4s\n",
      "[CV] END ..............C=5, degree=2, epsilon=0, kernel=poly; total time=   1.4s\n",
      "[CV] END ..............C=5, degree=2, epsilon=0, kernel=poly; total time=   1.5s\n",
      "[CV] END ..............C=5, degree=2, epsilon=0, kernel=poly; total time=   1.5s\n",
      "[CV] END ..............C=5, degree=2, epsilon=0, kernel=poly; total time=   1.4s\n",
      "[CV] END ..............C=5, degree=2, epsilon=0, kernel=poly; total time=   1.4s\n",
      "[CV] END ..............C=5, degree=2, epsilon=0, kernel=poly; total time=   1.4s\n",
      "[CV] END ..............C=5, degree=2, epsilon=0, kernel=poly; total time=   1.5s\n",
      "[CV] END ..............C=5, degree=2, epsilon=0, kernel=poly; total time=   3.1s\n",
      "[CV] END ..............C=5, degree=2, epsilon=0, kernel=poly; total time=   2.4s\n",
      "[CV] END ..............C=5, degree=2, epsilon=0, kernel=poly; total time=   2.3s\n",
      "[CV] END ..............C=5, degree=2, epsilon=0, kernel=poly; total time=   1.6s\n",
      "[CV] END ..............C=5, degree=2, epsilon=0, kernel=poly; total time=   1.3s\n",
      "[CV] END ..............C=5, degree=2, epsilon=0, kernel=poly; total time=   1.9s\n",
      "[CV] END ..............C=5, degree=2, epsilon=0, kernel=poly; total time=   2.9s\n",
      "[CV] END ..............C=5, degree=2, epsilon=0, kernel=poly; total time=   1.9s\n",
      "[CV] END ..............C=5, degree=2, epsilon=5, kernel=poly; total time=   0.7s\n",
      "[CV] END ..............C=5, degree=2, epsilon=5, kernel=poly; total time=   0.8s\n"
     ]
    },
    {
     "name": "stdout",
     "output_type": "stream",
     "text": [
      "[CV] END ..............C=5, degree=2, epsilon=5, kernel=poly; total time=   0.6s\n",
      "[CV] END ..............C=5, degree=2, epsilon=5, kernel=poly; total time=   0.6s\n",
      "[CV] END ..............C=5, degree=2, epsilon=5, kernel=poly; total time=   0.7s\n",
      "[CV] END ..............C=5, degree=2, epsilon=5, kernel=poly; total time=   0.7s\n",
      "[CV] END ..............C=5, degree=2, epsilon=5, kernel=poly; total time=   0.7s\n",
      "[CV] END ..............C=5, degree=2, epsilon=5, kernel=poly; total time=   0.7s\n",
      "[CV] END ..............C=5, degree=2, epsilon=5, kernel=poly; total time=   1.6s\n",
      "[CV] END ..............C=5, degree=2, epsilon=5, kernel=poly; total time=   1.1s\n",
      "[CV] END ..............C=5, degree=2, epsilon=5, kernel=poly; total time=   1.4s\n",
      "[CV] END ..............C=5, degree=2, epsilon=5, kernel=poly; total time=   1.2s\n",
      "[CV] END ..............C=5, degree=2, epsilon=5, kernel=poly; total time=   1.2s\n",
      "[CV] END ..............C=5, degree=2, epsilon=5, kernel=poly; total time=   1.2s\n",
      "[CV] END ..............C=5, degree=2, epsilon=5, kernel=poly; total time=   1.2s\n",
      "[CV] END ..............C=5, degree=2, epsilon=5, kernel=poly; total time=   1.2s\n",
      "[CV] END ..............C=5, degree=2, epsilon=5, kernel=poly; total time=   1.3s\n",
      "[CV] END ..............C=5, degree=2, epsilon=5, kernel=poly; total time=   1.3s\n",
      "[CV] END ..............C=5, degree=2, epsilon=5, kernel=poly; total time=   1.2s\n",
      "[CV] END ..............C=5, degree=2, epsilon=5, kernel=poly; total time=   1.0s\n",
      "[CV] END ..............C=5, degree=2, epsilon=5, kernel=poly; total time=   1.1s\n",
      "[CV] END ..............C=5, degree=2, epsilon=5, kernel=poly; total time=   1.2s\n",
      "[CV] END ..............C=5, degree=2, epsilon=5, kernel=poly; total time=   1.5s\n",
      "[CV] END ..............C=5, degree=2, epsilon=5, kernel=poly; total time=   1.5s\n",
      "[CV] END ..............C=5, degree=2, epsilon=5, kernel=poly; total time=   1.1s\n",
      "[CV] END ..............C=5, degree=2, epsilon=5, kernel=poly; total time=   1.3s\n",
      "[CV] END ..............C=5, degree=2, epsilon=5, kernel=poly; total time=   0.9s\n",
      "[CV] END ..............C=5, degree=2, epsilon=5, kernel=poly; total time=   0.7s\n",
      "[CV] END ..............C=5, degree=2, epsilon=5, kernel=poly; total time=   0.7s\n",
      "[CV] END ..............C=5, degree=2, epsilon=5, kernel=poly; total time=   0.6s\n",
      "[CV] END ..............C=5, degree=2, epsilon=5, kernel=poly; total time=   0.7s\n",
      "[CV] END ..............C=5, degree=2, epsilon=5, kernel=poly; total time=   0.7s\n",
      "[CV] END ..............C=5, degree=2, epsilon=5, kernel=poly; total time=   0.7s\n",
      "[CV] END ..............C=5, degree=2, epsilon=5, kernel=poly; total time=   0.8s\n",
      "[CV] END ..............C=5, degree=2, epsilon=5, kernel=poly; total time=   0.9s\n",
      "[CV] END ..............C=5, degree=2, epsilon=5, kernel=poly; total time=   0.9s\n",
      "[CV] END ..............C=5, degree=2, epsilon=5, kernel=poly; total time=   1.0s\n",
      "[CV] END ..............C=5, degree=2, epsilon=5, kernel=poly; total time=   0.9s\n",
      "[CV] END ..............C=5, degree=2, epsilon=5, kernel=poly; total time=   0.8s\n",
      "[CV] END .............C=5, degree=2, epsilon=10, kernel=poly; total time=   0.4s\n",
      "[CV] END .............C=5, degree=2, epsilon=10, kernel=poly; total time=   0.6s\n",
      "[CV] END .............C=5, degree=2, epsilon=10, kernel=poly; total time=   0.4s\n",
      "[CV] END .............C=5, degree=2, epsilon=10, kernel=poly; total time=   0.5s\n",
      "[CV] END .............C=5, degree=2, epsilon=10, kernel=poly; total time=   0.4s\n",
      "[CV] END .............C=5, degree=2, epsilon=10, kernel=poly; total time=   0.6s\n",
      "[CV] END .............C=5, degree=2, epsilon=10, kernel=poly; total time=   0.4s\n",
      "[CV] END .............C=5, degree=2, epsilon=10, kernel=poly; total time=   0.6s\n",
      "[CV] END .............C=5, degree=2, epsilon=10, kernel=poly; total time=   0.7s\n",
      "[CV] END .............C=5, degree=2, epsilon=10, kernel=poly; total time=   0.8s\n",
      "[CV] END .............C=5, degree=2, epsilon=10, kernel=poly; total time=   0.9s\n",
      "[CV] END .............C=5, degree=2, epsilon=10, kernel=poly; total time=   1.1s\n",
      "[CV] END .............C=5, degree=2, epsilon=10, kernel=poly; total time=   1.1s\n",
      "[CV] END .............C=5, degree=2, epsilon=10, kernel=poly; total time=   1.2s\n",
      "[CV] END .............C=5, degree=2, epsilon=10, kernel=poly; total time=   1.1s\n",
      "[CV] END .............C=5, degree=2, epsilon=10, kernel=poly; total time=   1.3s\n",
      "[CV] END .............C=5, degree=2, epsilon=10, kernel=poly; total time=   1.6s\n",
      "[CV] END .............C=5, degree=2, epsilon=10, kernel=poly; total time=   1.9s\n",
      "[CV] END .............C=5, degree=2, epsilon=10, kernel=poly; total time=   1.1s\n",
      "[CV] END .............C=5, degree=2, epsilon=10, kernel=poly; total time=   0.8s\n",
      "[CV] END .............C=5, degree=2, epsilon=10, kernel=poly; total time=   1.0s\n",
      "[CV] END .............C=5, degree=2, epsilon=10, kernel=poly; total time=   1.0s\n",
      "[CV] END .............C=5, degree=2, epsilon=10, kernel=poly; total time=   2.3s\n",
      "[CV] END .............C=5, degree=2, epsilon=10, kernel=poly; total time=   1.4s\n",
      "[CV] END .............C=5, degree=2, epsilon=10, kernel=poly; total time=   0.8s\n",
      "[CV] END .............C=5, degree=2, epsilon=10, kernel=poly; total time=   0.7s\n",
      "[CV] END .............C=5, degree=2, epsilon=10, kernel=poly; total time=   0.7s\n",
      "[CV] END .............C=5, degree=2, epsilon=10, kernel=poly; total time=   0.7s\n",
      "[CV] END .............C=5, degree=2, epsilon=10, kernel=poly; total time=   0.9s\n",
      "[CV] END .............C=5, degree=2, epsilon=10, kernel=poly; total time=   1.3s\n",
      "[CV] END .............C=5, degree=2, epsilon=10, kernel=poly; total time=   0.5s\n",
      "[CV] END .............C=5, degree=2, epsilon=10, kernel=poly; total time=   0.5s\n",
      "[CV] END .............C=5, degree=2, epsilon=10, kernel=poly; total time=   0.5s\n",
      "[CV] END .............C=5, degree=2, epsilon=10, kernel=poly; total time=   0.6s\n",
      "[CV] END .............C=5, degree=2, epsilon=10, kernel=poly; total time=   0.7s\n",
      "[CV] END .............C=5, degree=2, epsilon=10, kernel=poly; total time=   0.6s\n",
      "[CV] END .............C=5, degree=2, epsilon=10, kernel=poly; total time=   0.5s\n",
      "[CV] END .............C=5, degree=2, epsilon=10, kernel=poly; total time=   0.6s\n",
      "[CV] END .............C=5, degree=2, epsilon=10, kernel=poly; total time=   0.4s\n",
      "[CV] END ..............C=5, degree=3, epsilon=0, kernel=poly; total time=   2.5s\n",
      "[CV] END ..............C=5, degree=3, epsilon=0, kernel=poly; total time=   2.3s\n",
      "[CV] END ..............C=5, degree=3, epsilon=0, kernel=poly; total time=   1.7s\n",
      "[CV] END ..............C=5, degree=3, epsilon=0, kernel=poly; total time=   1.9s\n",
      "[CV] END ..............C=5, degree=3, epsilon=0, kernel=poly; total time=   2.0s\n",
      "[CV] END ..............C=5, degree=3, epsilon=0, kernel=poly; total time=   1.7s\n",
      "[CV] END ..............C=5, degree=3, epsilon=0, kernel=poly; total time=   1.7s\n",
      "[CV] END ..............C=5, degree=3, epsilon=0, kernel=poly; total time=   1.8s\n",
      "[CV] END ..............C=5, degree=3, epsilon=0, kernel=poly; total time=   1.9s\n",
      "[CV] END ..............C=5, degree=3, epsilon=0, kernel=poly; total time=   1.6s\n",
      "[CV] END ..............C=5, degree=3, epsilon=0, kernel=poly; total time=   1.7s\n",
      "[CV] END ..............C=5, degree=3, epsilon=0, kernel=poly; total time=   2.2s\n",
      "[CV] END ..............C=5, degree=3, epsilon=0, kernel=poly; total time=   2.5s\n",
      "[CV] END ..............C=5, degree=3, epsilon=0, kernel=poly; total time=   1.8s\n",
      "[CV] END ..............C=5, degree=3, epsilon=0, kernel=poly; total time=   1.6s\n",
      "[CV] END ..............C=5, degree=3, epsilon=0, kernel=poly; total time=   1.7s\n",
      "[CV] END ..............C=5, degree=3, epsilon=0, kernel=poly; total time=   1.7s\n",
      "[CV] END ..............C=5, degree=3, epsilon=0, kernel=poly; total time=   2.3s\n",
      "[CV] END ..............C=5, degree=3, epsilon=0, kernel=poly; total time=   1.9s\n",
      "[CV] END ..............C=5, degree=3, epsilon=0, kernel=poly; total time=   2.7s\n",
      "[CV] END ..............C=5, degree=3, epsilon=0, kernel=poly; total time=   1.9s\n",
      "[CV] END ..............C=5, degree=3, epsilon=0, kernel=poly; total time=   2.3s\n",
      "[CV] END ..............C=5, degree=3, epsilon=0, kernel=poly; total time=   1.8s\n",
      "[CV] END ..............C=5, degree=3, epsilon=0, kernel=poly; total time=   2.5s\n",
      "[CV] END ..............C=5, degree=3, epsilon=0, kernel=poly; total time=   2.5s\n",
      "[CV] END ..............C=5, degree=3, epsilon=0, kernel=poly; total time=   2.9s\n"
     ]
    },
    {
     "name": "stdout",
     "output_type": "stream",
     "text": [
      "[CV] END ..............C=5, degree=3, epsilon=0, kernel=poly; total time=   2.3s\n",
      "[CV] END ..............C=5, degree=3, epsilon=0, kernel=poly; total time=   2.0s\n",
      "[CV] END ..............C=5, degree=3, epsilon=0, kernel=poly; total time=   1.7s\n",
      "[CV] END ..............C=5, degree=3, epsilon=0, kernel=poly; total time=   1.4s\n",
      "[CV] END ..............C=5, degree=3, epsilon=0, kernel=poly; total time=   1.7s\n",
      "[CV] END ..............C=5, degree=3, epsilon=0, kernel=poly; total time=   1.7s\n",
      "[CV] END ..............C=5, degree=3, epsilon=0, kernel=poly; total time=   3.0s\n",
      "[CV] END ..............C=5, degree=3, epsilon=0, kernel=poly; total time=   1.7s\n",
      "[CV] END ..............C=5, degree=3, epsilon=0, kernel=poly; total time=   2.2s\n",
      "[CV] END ..............C=5, degree=3, epsilon=0, kernel=poly; total time=   1.7s\n",
      "[CV] END ..............C=5, degree=3, epsilon=0, kernel=poly; total time=   1.7s\n",
      "[CV] END ..............C=5, degree=3, epsilon=0, kernel=poly; total time=   1.7s\n",
      "[CV] END ..............C=5, degree=3, epsilon=0, kernel=poly; total time=   1.4s\n",
      "[CV] END ..............C=5, degree=3, epsilon=5, kernel=poly; total time=   1.5s\n",
      "[CV] END ..............C=5, degree=3, epsilon=5, kernel=poly; total time=   2.1s\n",
      "[CV] END ..............C=5, degree=3, epsilon=5, kernel=poly; total time=   0.8s\n",
      "[CV] END ..............C=5, degree=3, epsilon=5, kernel=poly; total time=   0.7s\n",
      "[CV] END ..............C=5, degree=3, epsilon=5, kernel=poly; total time=   0.8s\n",
      "[CV] END ..............C=5, degree=3, epsilon=5, kernel=poly; total time=   0.9s\n",
      "[CV] END ..............C=5, degree=3, epsilon=5, kernel=poly; total time=   1.5s\n",
      "[CV] END ..............C=5, degree=3, epsilon=5, kernel=poly; total time=   1.8s\n",
      "[CV] END ..............C=5, degree=3, epsilon=5, kernel=poly; total time=   0.9s\n",
      "[CV] END ..............C=5, degree=3, epsilon=5, kernel=poly; total time=   0.9s\n",
      "[CV] END ..............C=5, degree=3, epsilon=5, kernel=poly; total time=   1.0s\n",
      "[CV] END ..............C=5, degree=3, epsilon=5, kernel=poly; total time=   1.5s\n",
      "[CV] END ..............C=5, degree=3, epsilon=5, kernel=poly; total time=   1.6s\n",
      "[CV] END ..............C=5, degree=3, epsilon=5, kernel=poly; total time=   3.8s\n",
      "[CV] END ..............C=5, degree=3, epsilon=5, kernel=poly; total time=   1.5s\n",
      "[CV] END ..............C=5, degree=3, epsilon=5, kernel=poly; total time=   3.0s\n",
      "[CV] END ..............C=5, degree=3, epsilon=5, kernel=poly; total time=   1.9s\n",
      "[CV] END ..............C=5, degree=3, epsilon=5, kernel=poly; total time=   1.6s\n",
      "[CV] END ..............C=5, degree=3, epsilon=5, kernel=poly; total time=   1.9s\n",
      "[CV] END ..............C=5, degree=3, epsilon=5, kernel=poly; total time=   1.6s\n",
      "[CV] END ..............C=5, degree=3, epsilon=5, kernel=poly; total time=   1.6s\n",
      "[CV] END ..............C=5, degree=3, epsilon=5, kernel=poly; total time=   1.7s\n",
      "[CV] END ..............C=5, degree=3, epsilon=5, kernel=poly; total time=   2.9s\n",
      "[CV] END ..............C=5, degree=3, epsilon=5, kernel=poly; total time=   2.0s\n",
      "[CV] END ..............C=5, degree=3, epsilon=5, kernel=poly; total time=   2.5s\n",
      "[CV] END ..............C=5, degree=3, epsilon=5, kernel=poly; total time=   1.7s\n",
      "[CV] END ..............C=5, degree=3, epsilon=5, kernel=poly; total time=   1.9s\n",
      "[CV] END ..............C=5, degree=3, epsilon=5, kernel=poly; total time=   0.9s\n",
      "[CV] END ..............C=5, degree=3, epsilon=5, kernel=poly; total time=   1.0s\n",
      "[CV] END ..............C=5, degree=3, epsilon=5, kernel=poly; total time=   0.9s\n",
      "[CV] END ..............C=5, degree=3, epsilon=5, kernel=poly; total time=   0.8s\n",
      "[CV] END ..............C=5, degree=3, epsilon=5, kernel=poly; total time=   1.3s\n",
      "[CV] END ..............C=5, degree=3, epsilon=5, kernel=poly; total time=   0.9s\n",
      "[CV] END ..............C=5, degree=3, epsilon=5, kernel=poly; total time=   1.3s\n",
      "[CV] END ..............C=5, degree=3, epsilon=5, kernel=poly; total time=   1.1s\n",
      "[CV] END ..............C=5, degree=3, epsilon=5, kernel=poly; total time=   1.1s\n",
      "[CV] END ..............C=5, degree=3, epsilon=5, kernel=poly; total time=   2.0s\n",
      "[CV] END ..............C=5, degree=3, epsilon=5, kernel=poly; total time=   0.9s\n",
      "[CV] END ..............C=5, degree=3, epsilon=5, kernel=poly; total time=   0.8s\n",
      "[CV] END .............C=5, degree=3, epsilon=10, kernel=poly; total time=   0.5s\n",
      "[CV] END .............C=5, degree=3, epsilon=10, kernel=poly; total time=   0.5s\n",
      "[CV] END .............C=5, degree=3, epsilon=10, kernel=poly; total time=   0.4s\n",
      "[CV] END .............C=5, degree=3, epsilon=10, kernel=poly; total time=   0.4s\n",
      "[CV] END .............C=5, degree=3, epsilon=10, kernel=poly; total time=   0.5s\n",
      "[CV] END .............C=5, degree=3, epsilon=10, kernel=poly; total time=   0.4s\n",
      "[CV] END .............C=5, degree=3, epsilon=10, kernel=poly; total time=   0.7s\n",
      "[CV] END .............C=5, degree=3, epsilon=10, kernel=poly; total time=   0.6s\n",
      "[CV] END .............C=5, degree=3, epsilon=10, kernel=poly; total time=   1.1s\n",
      "[CV] END .............C=5, degree=3, epsilon=10, kernel=poly; total time=   0.7s\n",
      "[CV] END .............C=5, degree=3, epsilon=10, kernel=poly; total time=   0.9s\n",
      "[CV] END .............C=5, degree=3, epsilon=10, kernel=poly; total time=   1.1s\n",
      "[CV] END .............C=5, degree=3, epsilon=10, kernel=poly; total time=   1.1s\n",
      "[CV] END .............C=5, degree=3, epsilon=10, kernel=poly; total time=   2.6s\n",
      "[CV] END .............C=5, degree=3, epsilon=10, kernel=poly; total time=   1.7s\n",
      "[CV] END .............C=5, degree=3, epsilon=10, kernel=poly; total time=   2.2s\n",
      "[CV] END .............C=5, degree=3, epsilon=10, kernel=poly; total time=   2.2s\n",
      "[CV] END .............C=5, degree=3, epsilon=10, kernel=poly; total time=   1.3s\n",
      "[CV] END .............C=5, degree=3, epsilon=10, kernel=poly; total time=   2.4s\n",
      "[CV] END .............C=5, degree=3, epsilon=10, kernel=poly; total time=   1.1s\n",
      "[CV] END .............C=5, degree=3, epsilon=10, kernel=poly; total time=   1.1s\n",
      "[CV] END .............C=5, degree=3, epsilon=10, kernel=poly; total time=   2.2s\n",
      "[CV] END .............C=5, degree=3, epsilon=10, kernel=poly; total time=   2.1s\n",
      "[CV] END .............C=5, degree=3, epsilon=10, kernel=poly; total time=   3.4s\n",
      "[CV] END .............C=5, degree=3, epsilon=10, kernel=poly; total time=   1.4s\n",
      "[CV] END .............C=5, degree=3, epsilon=10, kernel=poly; total time=   1.2s\n",
      "[CV] END .............C=5, degree=3, epsilon=10, kernel=poly; total time=   1.5s\n",
      "[CV] END .............C=5, degree=3, epsilon=10, kernel=poly; total time=   0.7s\n",
      "[CV] END .............C=5, degree=3, epsilon=10, kernel=poly; total time=   0.6s\n",
      "[CV] END .............C=5, degree=3, epsilon=10, kernel=poly; total time=   0.5s\n",
      "[CV] END .............C=5, degree=3, epsilon=10, kernel=poly; total time=   0.6s\n",
      "[CV] END .............C=5, degree=3, epsilon=10, kernel=poly; total time=   1.5s\n",
      "[CV] END .............C=5, degree=3, epsilon=10, kernel=poly; total time=   0.6s\n",
      "[CV] END .............C=5, degree=3, epsilon=10, kernel=poly; total time=   1.1s\n",
      "[CV] END .............C=5, degree=3, epsilon=10, kernel=poly; total time=   1.1s\n",
      "[CV] END .............C=5, degree=3, epsilon=10, kernel=poly; total time=   1.0s\n",
      "[CV] END .............C=5, degree=3, epsilon=10, kernel=poly; total time=   0.8s\n",
      "[CV] END .............C=5, degree=3, epsilon=10, kernel=poly; total time=   0.5s\n",
      "[CV] END .............C=5, degree=3, epsilon=10, kernel=poly; total time=   0.5s\n",
      "[CV] END .............C=10, degree=2, epsilon=0, kernel=poly; total time=   1.4s\n",
      "[CV] END .............C=10, degree=2, epsilon=0, kernel=poly; total time=   1.5s\n",
      "[CV] END .............C=10, degree=2, epsilon=0, kernel=poly; total time=   1.5s\n",
      "[CV] END .............C=10, degree=2, epsilon=0, kernel=poly; total time=   1.6s\n",
      "[CV] END .............C=10, degree=2, epsilon=0, kernel=poly; total time=   1.8s\n",
      "[CV] END .............C=10, degree=2, epsilon=0, kernel=poly; total time=   2.2s\n",
      "[CV] END .............C=10, degree=2, epsilon=0, kernel=poly; total time=   2.6s\n",
      "[CV] END .............C=10, degree=2, epsilon=0, kernel=poly; total time=   1.8s\n",
      "[CV] END .............C=10, degree=2, epsilon=0, kernel=poly; total time=   1.7s\n",
      "[CV] END .............C=10, degree=2, epsilon=0, kernel=poly; total time=   2.3s\n",
      "[CV] END .............C=10, degree=2, epsilon=0, kernel=poly; total time=   1.6s\n"
     ]
    },
    {
     "name": "stdout",
     "output_type": "stream",
     "text": [
      "[CV] END .............C=10, degree=2, epsilon=0, kernel=poly; total time=   1.5s\n",
      "[CV] END .............C=10, degree=2, epsilon=0, kernel=poly; total time=   2.3s\n",
      "[CV] END .............C=10, degree=2, epsilon=0, kernel=poly; total time=   1.8s\n",
      "[CV] END .............C=10, degree=2, epsilon=0, kernel=poly; total time=   1.5s\n",
      "[CV] END .............C=10, degree=2, epsilon=0, kernel=poly; total time=   1.5s\n",
      "[CV] END .............C=10, degree=2, epsilon=0, kernel=poly; total time=   1.5s\n",
      "[CV] END .............C=10, degree=2, epsilon=0, kernel=poly; total time=   2.9s\n",
      "[CV] END .............C=10, degree=2, epsilon=0, kernel=poly; total time=   1.4s\n",
      "[CV] END .............C=10, degree=2, epsilon=0, kernel=poly; total time=   1.6s\n",
      "[CV] END .............C=10, degree=2, epsilon=0, kernel=poly; total time=   1.5s\n",
      "[CV] END .............C=10, degree=2, epsilon=0, kernel=poly; total time=   1.4s\n",
      "[CV] END .............C=10, degree=2, epsilon=0, kernel=poly; total time=   1.6s\n",
      "[CV] END .............C=10, degree=2, epsilon=0, kernel=poly; total time=   1.6s\n",
      "[CV] END .............C=10, degree=2, epsilon=0, kernel=poly; total time=   1.5s\n",
      "[CV] END .............C=10, degree=2, epsilon=0, kernel=poly; total time=   1.5s\n",
      "[CV] END .............C=10, degree=2, epsilon=0, kernel=poly; total time=   1.5s\n",
      "[CV] END .............C=10, degree=2, epsilon=0, kernel=poly; total time=   1.4s\n",
      "[CV] END .............C=10, degree=2, epsilon=0, kernel=poly; total time=   1.4s\n",
      "[CV] END .............C=10, degree=2, epsilon=0, kernel=poly; total time=   1.6s\n",
      "[CV] END .............C=10, degree=2, epsilon=0, kernel=poly; total time=   1.4s\n",
      "[CV] END .............C=10, degree=2, epsilon=0, kernel=poly; total time=   1.4s\n",
      "[CV] END .............C=10, degree=2, epsilon=0, kernel=poly; total time=   1.4s\n",
      "[CV] END .............C=10, degree=2, epsilon=0, kernel=poly; total time=   1.4s\n",
      "[CV] END .............C=10, degree=2, epsilon=0, kernel=poly; total time=   1.3s\n",
      "[CV] END .............C=10, degree=2, epsilon=0, kernel=poly; total time=   1.6s\n",
      "[CV] END .............C=10, degree=2, epsilon=0, kernel=poly; total time=   1.5s\n",
      "[CV] END .............C=10, degree=2, epsilon=0, kernel=poly; total time=   1.6s\n",
      "[CV] END .............C=10, degree=2, epsilon=0, kernel=poly; total time=   1.6s\n",
      "[CV] END .............C=10, degree=2, epsilon=5, kernel=poly; total time=   0.8s\n",
      "[CV] END .............C=10, degree=2, epsilon=5, kernel=poly; total time=   0.6s\n",
      "[CV] END .............C=10, degree=2, epsilon=5, kernel=poly; total time=   0.6s\n",
      "[CV] END .............C=10, degree=2, epsilon=5, kernel=poly; total time=   0.7s\n",
      "[CV] END .............C=10, degree=2, epsilon=5, kernel=poly; total time=   0.7s\n",
      "[CV] END .............C=10, degree=2, epsilon=5, kernel=poly; total time=   0.8s\n",
      "[CV] END .............C=10, degree=2, epsilon=5, kernel=poly; total time=   0.7s\n",
      "[CV] END .............C=10, degree=2, epsilon=5, kernel=poly; total time=   0.7s\n",
      "[CV] END .............C=10, degree=2, epsilon=5, kernel=poly; total time=   1.0s\n",
      "[CV] END .............C=10, degree=2, epsilon=5, kernel=poly; total time=   1.1s\n",
      "[CV] END .............C=10, degree=2, epsilon=5, kernel=poly; total time=   1.1s\n",
      "[CV] END .............C=10, degree=2, epsilon=5, kernel=poly; total time=   1.2s\n",
      "[CV] END .............C=10, degree=2, epsilon=5, kernel=poly; total time=   1.4s\n",
      "[CV] END .............C=10, degree=2, epsilon=5, kernel=poly; total time=   1.3s\n",
      "[CV] END .............C=10, degree=2, epsilon=5, kernel=poly; total time=   1.4s\n",
      "[CV] END .............C=10, degree=2, epsilon=5, kernel=poly; total time=   1.4s\n",
      "[CV] END .............C=10, degree=2, epsilon=5, kernel=poly; total time=   1.2s\n",
      "[CV] END .............C=10, degree=2, epsilon=5, kernel=poly; total time=   1.2s\n",
      "[CV] END .............C=10, degree=2, epsilon=5, kernel=poly; total time=   1.2s\n",
      "[CV] END .............C=10, degree=2, epsilon=5, kernel=poly; total time=   1.4s\n",
      "[CV] END .............C=10, degree=2, epsilon=5, kernel=poly; total time=   1.1s\n",
      "[CV] END .............C=10, degree=2, epsilon=5, kernel=poly; total time=   1.5s\n",
      "[CV] END .............C=10, degree=2, epsilon=5, kernel=poly; total time=   1.2s\n",
      "[CV] END .............C=10, degree=2, epsilon=5, kernel=poly; total time=   1.2s\n",
      "[CV] END .............C=10, degree=2, epsilon=5, kernel=poly; total time=   1.1s\n",
      "[CV] END .............C=10, degree=2, epsilon=5, kernel=poly; total time=   1.1s\n",
      "[CV] END .............C=10, degree=2, epsilon=5, kernel=poly; total time=   1.0s\n",
      "[CV] END .............C=10, degree=2, epsilon=5, kernel=poly; total time=   0.8s\n",
      "[CV] END .............C=10, degree=2, epsilon=5, kernel=poly; total time=   0.7s\n",
      "[CV] END .............C=10, degree=2, epsilon=5, kernel=poly; total time=   0.6s\n",
      "[CV] END .............C=10, degree=2, epsilon=5, kernel=poly; total time=   0.7s\n",
      "[CV] END .............C=10, degree=2, epsilon=5, kernel=poly; total time=   0.7s\n",
      "[CV] END .............C=10, degree=2, epsilon=5, kernel=poly; total time=   0.7s\n",
      "[CV] END .............C=10, degree=2, epsilon=5, kernel=poly; total time=   0.8s\n",
      "[CV] END .............C=10, degree=2, epsilon=5, kernel=poly; total time=   0.8s\n",
      "[CV] END .............C=10, degree=2, epsilon=5, kernel=poly; total time=   0.9s\n",
      "[CV] END .............C=10, degree=2, epsilon=5, kernel=poly; total time=   1.0s\n",
      "[CV] END .............C=10, degree=2, epsilon=5, kernel=poly; total time=   0.9s\n",
      "[CV] END .............C=10, degree=2, epsilon=5, kernel=poly; total time=   0.7s\n",
      "[CV] END ............C=10, degree=2, epsilon=10, kernel=poly; total time=   0.4s\n",
      "[CV] END ............C=10, degree=2, epsilon=10, kernel=poly; total time=   0.7s\n",
      "[CV] END ............C=10, degree=2, epsilon=10, kernel=poly; total time=   0.3s\n",
      "[CV] END ............C=10, degree=2, epsilon=10, kernel=poly; total time=   0.3s\n",
      "[CV] END ............C=10, degree=2, epsilon=10, kernel=poly; total time=   0.3s\n",
      "[CV] END ............C=10, degree=2, epsilon=10, kernel=poly; total time=   0.4s\n",
      "[CV] END ............C=10, degree=2, epsilon=10, kernel=poly; total time=   0.3s\n",
      "[CV] END ............C=10, degree=2, epsilon=10, kernel=poly; total time=   0.4s\n",
      "[CV] END ............C=10, degree=2, epsilon=10, kernel=poly; total time=   0.7s\n",
      "[CV] END ............C=10, degree=2, epsilon=10, kernel=poly; total time=   0.8s\n",
      "[CV] END ............C=10, degree=2, epsilon=10, kernel=poly; total time=   0.8s\n",
      "[CV] END ............C=10, degree=2, epsilon=10, kernel=poly; total time=   1.0s\n",
      "[CV] END ............C=10, degree=2, epsilon=10, kernel=poly; total time=   1.1s\n",
      "[CV] END ............C=10, degree=2, epsilon=10, kernel=poly; total time=   1.1s\n",
      "[CV] END ............C=10, degree=2, epsilon=10, kernel=poly; total time=   1.0s\n",
      "[CV] END ............C=10, degree=2, epsilon=10, kernel=poly; total time=   1.1s\n",
      "[CV] END ............C=10, degree=2, epsilon=10, kernel=poly; total time=   1.4s\n",
      "[CV] END ............C=10, degree=2, epsilon=10, kernel=poly; total time=   1.4s\n",
      "[CV] END ............C=10, degree=2, epsilon=10, kernel=poly; total time=   1.1s\n",
      "[CV] END ............C=10, degree=2, epsilon=10, kernel=poly; total time=   0.9s\n",
      "[CV] END ............C=10, degree=2, epsilon=10, kernel=poly; total time=   1.0s\n",
      "[CV] END ............C=10, degree=2, epsilon=10, kernel=poly; total time=   1.3s\n",
      "[CV] END ............C=10, degree=2, epsilon=10, kernel=poly; total time=   1.4s\n",
      "[CV] END ............C=10, degree=2, epsilon=10, kernel=poly; total time=   0.9s\n",
      "[CV] END ............C=10, degree=2, epsilon=10, kernel=poly; total time=   0.8s\n",
      "[CV] END ............C=10, degree=2, epsilon=10, kernel=poly; total time=   0.9s\n",
      "[CV] END ............C=10, degree=2, epsilon=10, kernel=poly; total time=   0.7s\n",
      "[CV] END ............C=10, degree=2, epsilon=10, kernel=poly; total time=   0.6s\n",
      "[CV] END ............C=10, degree=2, epsilon=10, kernel=poly; total time=   0.4s\n",
      "[CV] END ............C=10, degree=2, epsilon=10, kernel=poly; total time=   0.5s\n",
      "[CV] END ............C=10, degree=2, epsilon=10, kernel=poly; total time=   0.4s\n",
      "[CV] END ............C=10, degree=2, epsilon=10, kernel=poly; total time=   0.8s\n",
      "[CV] END ............C=10, degree=2, epsilon=10, kernel=poly; total time=   1.3s\n",
      "[CV] END ............C=10, degree=2, epsilon=10, kernel=poly; total time=   0.7s\n",
      "[CV] END ............C=10, degree=2, epsilon=10, kernel=poly; total time=   0.7s\n"
     ]
    },
    {
     "name": "stdout",
     "output_type": "stream",
     "text": [
      "[CV] END ............C=10, degree=2, epsilon=10, kernel=poly; total time=   0.5s\n",
      "[CV] END ............C=10, degree=2, epsilon=10, kernel=poly; total time=   0.6s\n",
      "[CV] END ............C=10, degree=2, epsilon=10, kernel=poly; total time=   0.5s\n",
      "[CV] END ............C=10, degree=2, epsilon=10, kernel=poly; total time=   0.5s\n",
      "[CV] END .............C=10, degree=3, epsilon=0, kernel=poly; total time=   2.2s\n",
      "[CV] END .............C=10, degree=3, epsilon=0, kernel=poly; total time=   2.0s\n",
      "[CV] END .............C=10, degree=3, epsilon=0, kernel=poly; total time=   1.6s\n",
      "[CV] END .............C=10, degree=3, epsilon=0, kernel=poly; total time=   1.8s\n",
      "[CV] END .............C=10, degree=3, epsilon=0, kernel=poly; total time=   2.2s\n",
      "[CV] END .............C=10, degree=3, epsilon=0, kernel=poly; total time=   1.7s\n",
      "[CV] END .............C=10, degree=3, epsilon=0, kernel=poly; total time=   1.9s\n",
      "[CV] END .............C=10, degree=3, epsilon=0, kernel=poly; total time=   1.7s\n",
      "[CV] END .............C=10, degree=3, epsilon=0, kernel=poly; total time=   2.5s\n",
      "[CV] END .............C=10, degree=3, epsilon=0, kernel=poly; total time=   1.4s\n",
      "[CV] END .............C=10, degree=3, epsilon=0, kernel=poly; total time=   1.5s\n",
      "[CV] END .............C=10, degree=3, epsilon=0, kernel=poly; total time=   2.1s\n",
      "[CV] END .............C=10, degree=3, epsilon=0, kernel=poly; total time=   2.9s\n",
      "[CV] END .............C=10, degree=3, epsilon=0, kernel=poly; total time=   4.6s\n",
      "[CV] END .............C=10, degree=3, epsilon=0, kernel=poly; total time=   1.8s\n",
      "[CV] END .............C=10, degree=3, epsilon=0, kernel=poly; total time=   2.4s\n",
      "[CV] END .............C=10, degree=3, epsilon=0, kernel=poly; total time=   2.0s\n",
      "[CV] END .............C=10, degree=3, epsilon=0, kernel=poly; total time=   2.1s\n",
      "[CV] END .............C=10, degree=3, epsilon=0, kernel=poly; total time=   1.8s\n",
      "[CV] END .............C=10, degree=3, epsilon=0, kernel=poly; total time=   1.6s\n",
      "[CV] END .............C=10, degree=3, epsilon=0, kernel=poly; total time=   1.9s\n",
      "[CV] END .............C=10, degree=3, epsilon=0, kernel=poly; total time=   3.3s\n",
      "[CV] END .............C=10, degree=3, epsilon=0, kernel=poly; total time=   2.5s\n",
      "[CV] END .............C=10, degree=3, epsilon=0, kernel=poly; total time=   4.4s\n",
      "[CV] END .............C=10, degree=3, epsilon=0, kernel=poly; total time=   2.2s\n",
      "[CV] END .............C=10, degree=3, epsilon=0, kernel=poly; total time=   2.3s\n",
      "[CV] END .............C=10, degree=3, epsilon=0, kernel=poly; total time=   1.9s\n",
      "[CV] END .............C=10, degree=3, epsilon=0, kernel=poly; total time=   1.9s\n",
      "[CV] END .............C=10, degree=3, epsilon=0, kernel=poly; total time=   1.8s\n",
      "[CV] END .............C=10, degree=3, epsilon=0, kernel=poly; total time=   2.0s\n",
      "[CV] END .............C=10, degree=3, epsilon=0, kernel=poly; total time=   1.8s\n",
      "[CV] END .............C=10, degree=3, epsilon=0, kernel=poly; total time=   1.5s\n",
      "[CV] END .............C=10, degree=3, epsilon=0, kernel=poly; total time=   1.9s\n",
      "[CV] END .............C=10, degree=3, epsilon=0, kernel=poly; total time=   1.7s\n",
      "[CV] END .............C=10, degree=3, epsilon=0, kernel=poly; total time=   1.9s\n",
      "[CV] END .............C=10, degree=3, epsilon=0, kernel=poly; total time=   1.6s\n",
      "[CV] END .............C=10, degree=3, epsilon=0, kernel=poly; total time=   1.5s\n",
      "[CV] END .............C=10, degree=3, epsilon=0, kernel=poly; total time=   1.4s\n",
      "[CV] END .............C=10, degree=3, epsilon=0, kernel=poly; total time=   1.8s\n",
      "[CV] END .............C=10, degree=3, epsilon=5, kernel=poly; total time=   1.2s\n",
      "[CV] END .............C=10, degree=3, epsilon=5, kernel=poly; total time=   1.2s\n",
      "[CV] END .............C=10, degree=3, epsilon=5, kernel=poly; total time=   0.8s\n",
      "[CV] END .............C=10, degree=3, epsilon=5, kernel=poly; total time=   0.8s\n",
      "[CV] END .............C=10, degree=3, epsilon=5, kernel=poly; total time=   0.9s\n",
      "[CV] END .............C=10, degree=3, epsilon=5, kernel=poly; total time=   1.2s\n",
      "[CV] END .............C=10, degree=3, epsilon=5, kernel=poly; total time=   0.9s\n",
      "[CV] END .............C=10, degree=3, epsilon=5, kernel=poly; total time=   1.1s\n",
      "[CV] END .............C=10, degree=3, epsilon=5, kernel=poly; total time=   1.2s\n",
      "[CV] END .............C=10, degree=3, epsilon=5, kernel=poly; total time=   1.0s\n",
      "[CV] END .............C=10, degree=3, epsilon=5, kernel=poly; total time=   1.4s\n",
      "[CV] END .............C=10, degree=3, epsilon=5, kernel=poly; total time=   1.7s\n",
      "[CV] END .............C=10, degree=3, epsilon=5, kernel=poly; total time=   1.5s\n",
      "[CV] END .............C=10, degree=3, epsilon=5, kernel=poly; total time=   2.2s\n",
      "[CV] END .............C=10, degree=3, epsilon=5, kernel=poly; total time=   3.1s\n",
      "[CV] END .............C=10, degree=3, epsilon=5, kernel=poly; total time=   2.1s\n",
      "[CV] END .............C=10, degree=3, epsilon=5, kernel=poly; total time=   2.2s\n",
      "[CV] END .............C=10, degree=3, epsilon=5, kernel=poly; total time=   1.6s\n",
      "[CV] END .............C=10, degree=3, epsilon=5, kernel=poly; total time=   1.8s\n",
      "[CV] END .............C=10, degree=3, epsilon=5, kernel=poly; total time=   2.4s\n",
      "[CV] END .............C=10, degree=3, epsilon=5, kernel=poly; total time=   2.0s\n",
      "[CV] END .............C=10, degree=3, epsilon=5, kernel=poly; total time=   2.4s\n",
      "[CV] END .............C=10, degree=3, epsilon=5, kernel=poly; total time=   3.1s\n",
      "[CV] END .............C=10, degree=3, epsilon=5, kernel=poly; total time=   2.6s\n",
      "[CV] END .............C=10, degree=3, epsilon=5, kernel=poly; total time=   2.1s\n",
      "[CV] END .............C=10, degree=3, epsilon=5, kernel=poly; total time=   1.8s\n",
      "[CV] END .............C=10, degree=3, epsilon=5, kernel=poly; total time=   1.9s\n",
      "[CV] END .............C=10, degree=3, epsilon=5, kernel=poly; total time=   1.3s\n",
      "[CV] END .............C=10, degree=3, epsilon=5, kernel=poly; total time=   1.1s\n",
      "[CV] END .............C=10, degree=3, epsilon=5, kernel=poly; total time=   1.1s\n",
      "[CV] END .............C=10, degree=3, epsilon=5, kernel=poly; total time=   0.9s\n",
      "[CV] END .............C=10, degree=3, epsilon=5, kernel=poly; total time=   0.8s\n",
      "[CV] END .............C=10, degree=3, epsilon=5, kernel=poly; total time=   1.1s\n",
      "[CV] END .............C=10, degree=3, epsilon=5, kernel=poly; total time=   1.3s\n",
      "[CV] END .............C=10, degree=3, epsilon=5, kernel=poly; total time=   1.7s\n",
      "[CV] END .............C=10, degree=3, epsilon=5, kernel=poly; total time=   1.5s\n",
      "[CV] END .............C=10, degree=3, epsilon=5, kernel=poly; total time=   1.1s\n",
      "[CV] END .............C=10, degree=3, epsilon=5, kernel=poly; total time=   1.5s\n",
      "[CV] END .............C=10, degree=3, epsilon=5, kernel=poly; total time=   1.5s\n",
      "[CV] END ............C=10, degree=3, epsilon=10, kernel=poly; total time=   0.9s\n",
      "[CV] END ............C=10, degree=3, epsilon=10, kernel=poly; total time=   0.5s\n",
      "[CV] END ............C=10, degree=3, epsilon=10, kernel=poly; total time=   0.4s\n",
      "[CV] END ............C=10, degree=3, epsilon=10, kernel=poly; total time=   0.4s\n",
      "[CV] END ............C=10, degree=3, epsilon=10, kernel=poly; total time=   0.6s\n",
      "[CV] END ............C=10, degree=3, epsilon=10, kernel=poly; total time=   0.5s\n",
      "[CV] END ............C=10, degree=3, epsilon=10, kernel=poly; total time=   0.5s\n",
      "[CV] END ............C=10, degree=3, epsilon=10, kernel=poly; total time=   0.6s\n",
      "[CV] END ............C=10, degree=3, epsilon=10, kernel=poly; total time=   0.7s\n",
      "[CV] END ............C=10, degree=3, epsilon=10, kernel=poly; total time=   0.8s\n",
      "[CV] END ............C=10, degree=3, epsilon=10, kernel=poly; total time=   1.2s\n",
      "[CV] END ............C=10, degree=3, epsilon=10, kernel=poly; total time=   1.5s\n",
      "[CV] END ............C=10, degree=3, epsilon=10, kernel=poly; total time=   1.5s\n",
      "[CV] END ............C=10, degree=3, epsilon=10, kernel=poly; total time=   4.5s\n",
      "[CV] END ............C=10, degree=3, epsilon=10, kernel=poly; total time=   2.0s\n",
      "[CV] END ............C=10, degree=3, epsilon=10, kernel=poly; total time=   2.1s\n",
      "[CV] END ............C=10, degree=3, epsilon=10, kernel=poly; total time=   4.3s\n",
      "[CV] END ............C=10, degree=3, epsilon=10, kernel=poly; total time=   1.8s\n",
      "[CV] END ............C=10, degree=3, epsilon=10, kernel=poly; total time=   1.4s\n",
      "[CV] END ............C=10, degree=3, epsilon=10, kernel=poly; total time=   1.7s\n"
     ]
    },
    {
     "name": "stdout",
     "output_type": "stream",
     "text": [
      "[CV] END ............C=10, degree=3, epsilon=10, kernel=poly; total time=   2.1s\n",
      "[CV] END ............C=10, degree=3, epsilon=10, kernel=poly; total time=   3.2s\n",
      "[CV] END ............C=10, degree=3, epsilon=10, kernel=poly; total time=   2.1s\n",
      "[CV] END ............C=10, degree=3, epsilon=10, kernel=poly; total time=   2.2s\n",
      "[CV] END ............C=10, degree=3, epsilon=10, kernel=poly; total time=   1.5s\n",
      "[CV] END ............C=10, degree=3, epsilon=10, kernel=poly; total time=   2.0s\n",
      "[CV] END ............C=10, degree=3, epsilon=10, kernel=poly; total time=   1.6s\n",
      "[CV] END ............C=10, degree=3, epsilon=10, kernel=poly; total time=   0.6s\n",
      "[CV] END ............C=10, degree=3, epsilon=10, kernel=poly; total time=   1.2s\n",
      "[CV] END ............C=10, degree=3, epsilon=10, kernel=poly; total time=   0.9s\n",
      "[CV] END ............C=10, degree=3, epsilon=10, kernel=poly; total time=   0.7s\n",
      "[CV] END ............C=10, degree=3, epsilon=10, kernel=poly; total time=   1.1s\n",
      "[CV] END ............C=10, degree=3, epsilon=10, kernel=poly; total time=   1.0s\n",
      "[CV] END ............C=10, degree=3, epsilon=10, kernel=poly; total time=   1.0s\n",
      "[CV] END ............C=10, degree=3, epsilon=10, kernel=poly; total time=   0.9s\n",
      "[CV] END ............C=10, degree=3, epsilon=10, kernel=poly; total time=   0.8s\n",
      "[CV] END ............C=10, degree=3, epsilon=10, kernel=poly; total time=   0.6s\n",
      "[CV] END ............C=10, degree=3, epsilon=10, kernel=poly; total time=   0.6s\n",
      "[CV] END ............C=10, degree=3, epsilon=10, kernel=poly; total time=   0.8s\n",
      "[CV] END .............C=20, degree=2, epsilon=0, kernel=poly; total time=   1.9s\n",
      "[CV] END .............C=20, degree=2, epsilon=0, kernel=poly; total time=   1.8s\n",
      "[CV] END .............C=20, degree=2, epsilon=0, kernel=poly; total time=   1.6s\n",
      "[CV] END .............C=20, degree=2, epsilon=0, kernel=poly; total time=   3.0s\n",
      "[CV] END .............C=20, degree=2, epsilon=0, kernel=poly; total time=   1.7s\n",
      "[CV] END .............C=20, degree=2, epsilon=0, kernel=poly; total time=   1.9s\n",
      "[CV] END .............C=20, degree=2, epsilon=0, kernel=poly; total time=   1.5s\n",
      "[CV] END .............C=20, degree=2, epsilon=0, kernel=poly; total time=   1.5s\n",
      "[CV] END .............C=20, degree=2, epsilon=0, kernel=poly; total time=   1.6s\n",
      "[CV] END .............C=20, degree=2, epsilon=0, kernel=poly; total time=   1.4s\n",
      "[CV] END .............C=20, degree=2, epsilon=0, kernel=poly; total time=   1.6s\n",
      "[CV] END .............C=20, degree=2, epsilon=0, kernel=poly; total time=   1.9s\n",
      "[CV] END .............C=20, degree=2, epsilon=0, kernel=poly; total time=   1.6s\n",
      "[CV] END .............C=20, degree=2, epsilon=0, kernel=poly; total time=   2.6s\n",
      "[CV] END .............C=20, degree=2, epsilon=0, kernel=poly; total time=   1.4s\n",
      "[CV] END .............C=20, degree=2, epsilon=0, kernel=poly; total time=   1.5s\n",
      "[CV] END .............C=20, degree=2, epsilon=0, kernel=poly; total time=   1.5s\n",
      "[CV] END .............C=20, degree=2, epsilon=0, kernel=poly; total time=   1.4s\n",
      "[CV] END .............C=20, degree=2, epsilon=0, kernel=poly; total time=   1.3s\n",
      "[CV] END .............C=20, degree=2, epsilon=0, kernel=poly; total time=   1.4s\n",
      "[CV] END .............C=20, degree=2, epsilon=0, kernel=poly; total time=   1.5s\n",
      "[CV] END .............C=20, degree=2, epsilon=0, kernel=poly; total time=   1.5s\n",
      "[CV] END .............C=20, degree=2, epsilon=0, kernel=poly; total time=   1.7s\n",
      "[CV] END .............C=20, degree=2, epsilon=0, kernel=poly; total time=   1.4s\n",
      "[CV] END .............C=20, degree=2, epsilon=0, kernel=poly; total time=   1.3s\n",
      "[CV] END .............C=20, degree=2, epsilon=0, kernel=poly; total time=   1.5s\n",
      "[CV] END .............C=20, degree=2, epsilon=0, kernel=poly; total time=   1.5s\n",
      "[CV] END .............C=20, degree=2, epsilon=0, kernel=poly; total time=   1.3s\n",
      "[CV] END .............C=20, degree=2, epsilon=0, kernel=poly; total time=   1.4s\n",
      "[CV] END .............C=20, degree=2, epsilon=0, kernel=poly; total time=   1.8s\n",
      "[CV] END .............C=20, degree=2, epsilon=0, kernel=poly; total time=   1.5s\n",
      "[CV] END .............C=20, degree=2, epsilon=0, kernel=poly; total time=   1.3s\n",
      "[CV] END .............C=20, degree=2, epsilon=0, kernel=poly; total time=   2.1s\n",
      "[CV] END .............C=20, degree=2, epsilon=0, kernel=poly; total time=   2.4s\n",
      "[CV] END .............C=20, degree=2, epsilon=0, kernel=poly; total time=   1.6s\n",
      "[CV] END .............C=20, degree=2, epsilon=0, kernel=poly; total time=   1.4s\n",
      "[CV] END .............C=20, degree=2, epsilon=0, kernel=poly; total time=   1.5s\n",
      "[CV] END .............C=20, degree=2, epsilon=0, kernel=poly; total time=   1.5s\n",
      "[CV] END .............C=20, degree=2, epsilon=0, kernel=poly; total time=   1.4s\n",
      "[CV] END .............C=20, degree=2, epsilon=5, kernel=poly; total time=   0.8s\n",
      "[CV] END .............C=20, degree=2, epsilon=5, kernel=poly; total time=   0.8s\n",
      "[CV] END .............C=20, degree=2, epsilon=5, kernel=poly; total time=   0.7s\n",
      "[CV] END .............C=20, degree=2, epsilon=5, kernel=poly; total time=   0.8s\n",
      "[CV] END .............C=20, degree=2, epsilon=5, kernel=poly; total time=   0.8s\n",
      "[CV] END .............C=20, degree=2, epsilon=5, kernel=poly; total time=   0.7s\n",
      "[CV] END .............C=20, degree=2, epsilon=5, kernel=poly; total time=   0.7s\n",
      "[CV] END .............C=20, degree=2, epsilon=5, kernel=poly; total time=   0.9s\n",
      "[CV] END .............C=20, degree=2, epsilon=5, kernel=poly; total time=   0.8s\n",
      "[CV] END .............C=20, degree=2, epsilon=5, kernel=poly; total time=   0.9s\n",
      "[CV] END .............C=20, degree=2, epsilon=5, kernel=poly; total time=   1.0s\n",
      "[CV] END .............C=20, degree=2, epsilon=5, kernel=poly; total time=   1.3s\n",
      "[CV] END .............C=20, degree=2, epsilon=5, kernel=poly; total time=   1.7s\n",
      "[CV] END .............C=20, degree=2, epsilon=5, kernel=poly; total time=   1.2s\n",
      "[CV] END .............C=20, degree=2, epsilon=5, kernel=poly; total time=   1.3s\n",
      "[CV] END .............C=20, degree=2, epsilon=5, kernel=poly; total time=   1.5s\n",
      "[CV] END .............C=20, degree=2, epsilon=5, kernel=poly; total time=   1.5s\n",
      "[CV] END .............C=20, degree=2, epsilon=5, kernel=poly; total time=   1.6s\n",
      "[CV] END .............C=20, degree=2, epsilon=5, kernel=poly; total time=   1.3s\n",
      "[CV] END .............C=20, degree=2, epsilon=5, kernel=poly; total time=   1.4s\n",
      "[CV] END .............C=20, degree=2, epsilon=5, kernel=poly; total time=   1.2s\n",
      "[CV] END .............C=20, degree=2, epsilon=5, kernel=poly; total time=   1.7s\n",
      "[CV] END .............C=20, degree=2, epsilon=5, kernel=poly; total time=   2.6s\n",
      "[CV] END .............C=20, degree=2, epsilon=5, kernel=poly; total time=   1.9s\n",
      "[CV] END .............C=20, degree=2, epsilon=5, kernel=poly; total time=   1.2s\n",
      "[CV] END .............C=20, degree=2, epsilon=5, kernel=poly; total time=   1.0s\n",
      "[CV] END .............C=20, degree=2, epsilon=5, kernel=poly; total time=   0.9s\n",
      "[CV] END .............C=20, degree=2, epsilon=5, kernel=poly; total time=   0.9s\n",
      "[CV] END .............C=20, degree=2, epsilon=5, kernel=poly; total time=   0.8s\n",
      "[CV] END .............C=20, degree=2, epsilon=5, kernel=poly; total time=   0.7s\n",
      "[CV] END .............C=20, degree=2, epsilon=5, kernel=poly; total time=   0.6s\n",
      "[CV] END .............C=20, degree=2, epsilon=5, kernel=poly; total time=   0.7s\n",
      "[CV] END .............C=20, degree=2, epsilon=5, kernel=poly; total time=   0.7s\n",
      "[CV] END .............C=20, degree=2, epsilon=5, kernel=poly; total time=   0.9s\n",
      "[CV] END .............C=20, degree=2, epsilon=5, kernel=poly; total time=   0.9s\n",
      "[CV] END .............C=20, degree=2, epsilon=5, kernel=poly; total time=   0.9s\n",
      "[CV] END .............C=20, degree=2, epsilon=5, kernel=poly; total time=   1.0s\n",
      "[CV] END .............C=20, degree=2, epsilon=5, kernel=poly; total time=   1.1s\n",
      "[CV] END .............C=20, degree=2, epsilon=5, kernel=poly; total time=   0.8s\n",
      "[CV] END ............C=20, degree=2, epsilon=10, kernel=poly; total time=   0.4s\n",
      "[CV] END ............C=20, degree=2, epsilon=10, kernel=poly; total time=   0.5s\n",
      "[CV] END ............C=20, degree=2, epsilon=10, kernel=poly; total time=   0.4s\n",
      "[CV] END ............C=20, degree=2, epsilon=10, kernel=poly; total time=   0.3s\n",
      "[CV] END ............C=20, degree=2, epsilon=10, kernel=poly; total time=   0.6s\n"
     ]
    },
    {
     "name": "stdout",
     "output_type": "stream",
     "text": [
      "[CV] END ............C=20, degree=2, epsilon=10, kernel=poly; total time=   0.4s\n",
      "[CV] END ............C=20, degree=2, epsilon=10, kernel=poly; total time=   0.4s\n",
      "[CV] END ............C=20, degree=2, epsilon=10, kernel=poly; total time=   0.7s\n",
      "[CV] END ............C=20, degree=2, epsilon=10, kernel=poly; total time=   0.9s\n",
      "[CV] END ............C=20, degree=2, epsilon=10, kernel=poly; total time=   1.9s\n",
      "[CV] END ............C=20, degree=2, epsilon=10, kernel=poly; total time=   1.0s\n",
      "[CV] END ............C=20, degree=2, epsilon=10, kernel=poly; total time=   1.0s\n",
      "[CV] END ............C=20, degree=2, epsilon=10, kernel=poly; total time=   1.4s\n",
      "[CV] END ............C=20, degree=2, epsilon=10, kernel=poly; total time=   1.0s\n",
      "[CV] END ............C=20, degree=2, epsilon=10, kernel=poly; total time=   1.1s\n",
      "[CV] END ............C=20, degree=2, epsilon=10, kernel=poly; total time=   1.4s\n",
      "[CV] END ............C=20, degree=2, epsilon=10, kernel=poly; total time=   1.2s\n",
      "[CV] END ............C=20, degree=2, epsilon=10, kernel=poly; total time=   1.2s\n",
      "[CV] END ............C=20, degree=2, epsilon=10, kernel=poly; total time=   1.0s\n",
      "[CV] END ............C=20, degree=2, epsilon=10, kernel=poly; total time=   0.9s\n",
      "[CV] END ............C=20, degree=2, epsilon=10, kernel=poly; total time=   1.0s\n",
      "[CV] END ............C=20, degree=2, epsilon=10, kernel=poly; total time=   1.0s\n",
      "[CV] END ............C=20, degree=2, epsilon=10, kernel=poly; total time=   1.3s\n",
      "[CV] END ............C=20, degree=2, epsilon=10, kernel=poly; total time=   1.0s\n",
      "[CV] END ............C=20, degree=2, epsilon=10, kernel=poly; total time=   1.7s\n",
      "[CV] END ............C=20, degree=2, epsilon=10, kernel=poly; total time=   1.1s\n",
      "[CV] END ............C=20, degree=2, epsilon=10, kernel=poly; total time=   0.9s\n",
      "[CV] END ............C=20, degree=2, epsilon=10, kernel=poly; total time=   0.5s\n",
      "[CV] END ............C=20, degree=2, epsilon=10, kernel=poly; total time=   0.7s\n",
      "[CV] END ............C=20, degree=2, epsilon=10, kernel=poly; total time=   0.4s\n",
      "[CV] END ............C=20, degree=2, epsilon=10, kernel=poly; total time=   0.4s\n",
      "[CV] END ............C=20, degree=2, epsilon=10, kernel=poly; total time=   0.5s\n",
      "[CV] END ............C=20, degree=2, epsilon=10, kernel=poly; total time=   0.5s\n",
      "[CV] END ............C=20, degree=2, epsilon=10, kernel=poly; total time=   0.9s\n",
      "[CV] END ............C=20, degree=2, epsilon=10, kernel=poly; total time=   1.6s\n",
      "[CV] END ............C=20, degree=2, epsilon=10, kernel=poly; total time=   1.7s\n",
      "[CV] END ............C=20, degree=2, epsilon=10, kernel=poly; total time=   0.8s\n",
      "[CV] END ............C=20, degree=2, epsilon=10, kernel=poly; total time=   0.9s\n",
      "[CV] END ............C=20, degree=2, epsilon=10, kernel=poly; total time=   0.6s\n",
      "[CV] END .............C=20, degree=3, epsilon=0, kernel=poly; total time=   2.1s\n",
      "[CV] END .............C=20, degree=3, epsilon=0, kernel=poly; total time=   2.3s\n",
      "[CV] END .............C=20, degree=3, epsilon=0, kernel=poly; total time=   2.0s\n",
      "[CV] END .............C=20, degree=3, epsilon=0, kernel=poly; total time=   1.6s\n",
      "[CV] END .............C=20, degree=3, epsilon=0, kernel=poly; total time=   2.0s\n",
      "[CV] END .............C=20, degree=3, epsilon=0, kernel=poly; total time=   1.9s\n",
      "[CV] END .............C=20, degree=3, epsilon=0, kernel=poly; total time=   1.8s\n",
      "[CV] END .............C=20, degree=3, epsilon=0, kernel=poly; total time=   2.1s\n",
      "[CV] END .............C=20, degree=3, epsilon=0, kernel=poly; total time=   1.7s\n",
      "[CV] END .............C=20, degree=3, epsilon=0, kernel=poly; total time=   1.5s\n",
      "[CV] END .............C=20, degree=3, epsilon=0, kernel=poly; total time=   1.5s\n",
      "[CV] END .............C=20, degree=3, epsilon=0, kernel=poly; total time=   2.2s\n",
      "[CV] END .............C=20, degree=3, epsilon=0, kernel=poly; total time=   2.5s\n",
      "[CV] END .............C=20, degree=3, epsilon=0, kernel=poly; total time=   2.5s\n",
      "[CV] END .............C=20, degree=3, epsilon=0, kernel=poly; total time=   2.0s\n",
      "[CV] END .............C=20, degree=3, epsilon=0, kernel=poly; total time=   1.8s\n",
      "[CV] END .............C=20, degree=3, epsilon=0, kernel=poly; total time=   2.0s\n",
      "[CV] END .............C=20, degree=3, epsilon=0, kernel=poly; total time=   2.3s\n",
      "[CV] END .............C=20, degree=3, epsilon=0, kernel=poly; total time=   1.9s\n",
      "[CV] END .............C=20, degree=3, epsilon=0, kernel=poly; total time=   2.4s\n",
      "[CV] END .............C=20, degree=3, epsilon=0, kernel=poly; total time=   1.7s\n",
      "[CV] END .............C=20, degree=3, epsilon=0, kernel=poly; total time=   2.7s\n",
      "[CV] END .............C=20, degree=3, epsilon=0, kernel=poly; total time=   5.4s\n",
      "[CV] END .............C=20, degree=3, epsilon=0, kernel=poly; total time=   2.2s\n",
      "[CV] END .............C=20, degree=3, epsilon=0, kernel=poly; total time=   3.1s\n",
      "[CV] END .............C=20, degree=3, epsilon=0, kernel=poly; total time=   2.9s\n",
      "[CV] END .............C=20, degree=3, epsilon=0, kernel=poly; total time=   2.3s\n",
      "[CV] END .............C=20, degree=3, epsilon=0, kernel=poly; total time=   1.9s\n",
      "[CV] END .............C=20, degree=3, epsilon=0, kernel=poly; total time=   1.8s\n",
      "[CV] END .............C=20, degree=3, epsilon=0, kernel=poly; total time=   2.3s\n",
      "[CV] END .............C=20, degree=3, epsilon=0, kernel=poly; total time=   2.2s\n",
      "[CV] END .............C=20, degree=3, epsilon=0, kernel=poly; total time=   1.7s\n",
      "[CV] END .............C=20, degree=3, epsilon=0, kernel=poly; total time=   1.6s\n",
      "[CV] END .............C=20, degree=3, epsilon=0, kernel=poly; total time=   1.6s\n",
      "[CV] END .............C=20, degree=3, epsilon=0, kernel=poly; total time=   1.8s\n",
      "[CV] END .............C=20, degree=3, epsilon=0, kernel=poly; total time=   2.0s\n",
      "[CV] END .............C=20, degree=3, epsilon=0, kernel=poly; total time=   1.9s\n",
      "[CV] END .............C=20, degree=3, epsilon=0, kernel=poly; total time=   2.2s\n",
      "[CV] END .............C=20, degree=3, epsilon=0, kernel=poly; total time=   1.5s\n",
      "[CV] END .............C=20, degree=3, epsilon=5, kernel=poly; total time=   1.2s\n",
      "[CV] END .............C=20, degree=3, epsilon=5, kernel=poly; total time=   1.0s\n",
      "[CV] END .............C=20, degree=3, epsilon=5, kernel=poly; total time=   1.0s\n",
      "[CV] END .............C=20, degree=3, epsilon=5, kernel=poly; total time=   0.8s\n",
      "[CV] END .............C=20, degree=3, epsilon=5, kernel=poly; total time=   0.8s\n",
      "[CV] END .............C=20, degree=3, epsilon=5, kernel=poly; total time=   1.3s\n",
      "[CV] END .............C=20, degree=3, epsilon=5, kernel=poly; total time=   0.8s\n",
      "[CV] END .............C=20, degree=3, epsilon=5, kernel=poly; total time=   1.1s\n",
      "[CV] END .............C=20, degree=3, epsilon=5, kernel=poly; total time=   1.2s\n",
      "[CV] END .............C=20, degree=3, epsilon=5, kernel=poly; total time=   1.1s\n",
      "[CV] END .............C=20, degree=3, epsilon=5, kernel=poly; total time=   1.0s\n",
      "[CV] END .............C=20, degree=3, epsilon=5, kernel=poly; total time=   1.8s\n",
      "[CV] END .............C=20, degree=3, epsilon=5, kernel=poly; total time=   1.6s\n",
      "[CV] END .............C=20, degree=3, epsilon=5, kernel=poly; total time=   4.7s\n",
      "[CV] END .............C=20, degree=3, epsilon=5, kernel=poly; total time=   2.6s\n",
      "[CV] END .............C=20, degree=3, epsilon=5, kernel=poly; total time=   1.4s\n",
      "[CV] END .............C=20, degree=3, epsilon=5, kernel=poly; total time=   2.3s\n",
      "[CV] END .............C=20, degree=3, epsilon=5, kernel=poly; total time=   2.5s\n",
      "[CV] END .............C=20, degree=3, epsilon=5, kernel=poly; total time=   2.1s\n",
      "[CV] END .............C=20, degree=3, epsilon=5, kernel=poly; total time=   3.2s\n",
      "[CV] END .............C=20, degree=3, epsilon=5, kernel=poly; total time=   1.8s\n",
      "[CV] END .............C=20, degree=3, epsilon=5, kernel=poly; total time=   2.6s\n",
      "[CV] END .............C=20, degree=3, epsilon=5, kernel=poly; total time=   5.5s\n",
      "[CV] END .............C=20, degree=3, epsilon=5, kernel=poly; total time=   1.8s\n",
      "[CV] END .............C=20, degree=3, epsilon=5, kernel=poly; total time=   1.8s\n",
      "[CV] END .............C=20, degree=3, epsilon=5, kernel=poly; total time=   2.0s\n",
      "[CV] END .............C=20, degree=3, epsilon=5, kernel=poly; total time=   1.5s\n",
      "[CV] END .............C=20, degree=3, epsilon=5, kernel=poly; total time=   1.2s\n",
      "[CV] END .............C=20, degree=3, epsilon=5, kernel=poly; total time=   1.1s\n"
     ]
    },
    {
     "name": "stdout",
     "output_type": "stream",
     "text": [
      "[CV] END .............C=20, degree=3, epsilon=5, kernel=poly; total time=   0.8s\n",
      "[CV] END .............C=20, degree=3, epsilon=5, kernel=poly; total time=   1.0s\n",
      "[CV] END .............C=20, degree=3, epsilon=5, kernel=poly; total time=   1.0s\n",
      "[CV] END .............C=20, degree=3, epsilon=5, kernel=poly; total time=   1.6s\n",
      "[CV] END .............C=20, degree=3, epsilon=5, kernel=poly; total time=   1.6s\n",
      "[CV] END .............C=20, degree=3, epsilon=5, kernel=poly; total time=   1.3s\n",
      "[CV] END .............C=20, degree=3, epsilon=5, kernel=poly; total time=   1.6s\n",
      "[CV] END .............C=20, degree=3, epsilon=5, kernel=poly; total time=   1.1s\n",
      "[CV] END .............C=20, degree=3, epsilon=5, kernel=poly; total time=   1.0s\n",
      "[CV] END .............C=20, degree=3, epsilon=5, kernel=poly; total time=   1.2s\n",
      "[CV] END ............C=20, degree=3, epsilon=10, kernel=poly; total time=   0.8s\n",
      "[CV] END ............C=20, degree=3, epsilon=10, kernel=poly; total time=   0.7s\n",
      "[CV] END ............C=20, degree=3, epsilon=10, kernel=poly; total time=   0.4s\n",
      "[CV] END ............C=20, degree=3, epsilon=10, kernel=poly; total time=   0.4s\n",
      "[CV] END ............C=20, degree=3, epsilon=10, kernel=poly; total time=   0.4s\n",
      "[CV] END ............C=20, degree=3, epsilon=10, kernel=poly; total time=   0.8s\n",
      "[CV] END ............C=20, degree=3, epsilon=10, kernel=poly; total time=   0.6s\n",
      "[CV] END ............C=20, degree=3, epsilon=10, kernel=poly; total time=   0.6s\n",
      "[CV] END ............C=20, degree=3, epsilon=10, kernel=poly; total time=   0.6s\n",
      "[CV] END ............C=20, degree=3, epsilon=10, kernel=poly; total time=   0.8s\n",
      "[CV] END ............C=20, degree=3, epsilon=10, kernel=poly; total time=   1.0s\n",
      "[CV] END ............C=20, degree=3, epsilon=10, kernel=poly; total time=   1.9s\n",
      "[CV] END ............C=20, degree=3, epsilon=10, kernel=poly; total time=   1.5s\n",
      "[CV] END ............C=20, degree=3, epsilon=10, kernel=poly; total time=   3.7s\n",
      "[CV] END ............C=20, degree=3, epsilon=10, kernel=poly; total time=   2.1s\n",
      "[CV] END ............C=20, degree=3, epsilon=10, kernel=poly; total time=   1.6s\n",
      "[CV] END ............C=20, degree=3, epsilon=10, kernel=poly; total time=   2.1s\n",
      "[CV] END ............C=20, degree=3, epsilon=10, kernel=poly; total time=   1.8s\n",
      "[CV] END ............C=20, degree=3, epsilon=10, kernel=poly; total time=   1.2s\n",
      "[CV] END ............C=20, degree=3, epsilon=10, kernel=poly; total time=   1.2s\n",
      "[CV] END ............C=20, degree=3, epsilon=10, kernel=poly; total time=   1.9s\n",
      "[CV] END ............C=20, degree=3, epsilon=10, kernel=poly; total time=   2.0s\n",
      "[CV] END ............C=20, degree=3, epsilon=10, kernel=poly; total time=   3.8s\n",
      "[CV] END ............C=20, degree=3, epsilon=10, kernel=poly; total time=   2.1s\n",
      "[CV] END ............C=20, degree=3, epsilon=10, kernel=poly; total time=   1.3s\n",
      "[CV] END ............C=20, degree=3, epsilon=10, kernel=poly; total time=   1.5s\n",
      "[CV] END ............C=20, degree=3, epsilon=10, kernel=poly; total time=   0.9s\n",
      "[CV] END ............C=20, degree=3, epsilon=10, kernel=poly; total time=   0.8s\n",
      "[CV] END ............C=20, degree=3, epsilon=10, kernel=poly; total time=   0.9s\n",
      "[CV] END ............C=20, degree=3, epsilon=10, kernel=poly; total time=   0.7s\n",
      "[CV] END ............C=20, degree=3, epsilon=10, kernel=poly; total time=   0.8s\n",
      "[CV] END ............C=20, degree=3, epsilon=10, kernel=poly; total time=   0.6s\n",
      "[CV] END ............C=20, degree=3, epsilon=10, kernel=poly; total time=   0.7s\n",
      "[CV] END ............C=20, degree=3, epsilon=10, kernel=poly; total time=   1.5s\n",
      "[CV] END ............C=20, degree=3, epsilon=10, kernel=poly; total time=   0.8s\n",
      "[CV] END ............C=20, degree=3, epsilon=10, kernel=poly; total time=   1.1s\n",
      "[CV] END ............C=20, degree=3, epsilon=10, kernel=poly; total time=   0.7s\n",
      "[CV] END ............C=20, degree=3, epsilon=10, kernel=poly; total time=   0.6s\n",
      "[CV] END ............C=20, degree=3, epsilon=10, kernel=poly; total time=   0.4s\n",
      "End:  29/05/2021 23:51:55\n"
     ]
    }
   ],
   "source": [
    "param_grid = {\n",
    "    'kernel': [\"poly\"],\n",
    "    'degree': [2, 3],\n",
    "    'C': [0.5, 1, 5, 10, 20],\n",
    "    'epsilon': [0, 5, 10]\n",
    "}\n",
    "\n",
    "print(\"Start: \", datetime.datetime.now().strftime(\"%d/%m/%Y %H:%M:%S\"))\n",
    "\n",
    "SVR_search_pt2 = GridSearchCV(svm.SVR(), param_grid, cv=tscv_indices, scoring=scoring_metrics, refit = False, verbose=2)\n",
    "SVR_search_pt2.fit(X_train.drop(columns=[\"date\"]), np.array(y_train).ravel())\n",
    "\n",
    "print(\"End: \", datetime.datetime.now().strftime(\"%d/%m/%Y %H:%M:%S\"))"
   ]
  },
  {
   "cell_type": "code",
   "execution_count": 13,
   "metadata": {},
   "outputs": [
    {
     "data": {
      "text/html": [
       "<div>\n",
       "<style scoped>\n",
       "    .dataframe tbody tr th:only-of-type {\n",
       "        vertical-align: middle;\n",
       "    }\n",
       "\n",
       "    .dataframe tbody tr th {\n",
       "        vertical-align: top;\n",
       "    }\n",
       "\n",
       "    .dataframe thead th {\n",
       "        text-align: right;\n",
       "    }\n",
       "</style>\n",
       "<table border=\"1\" class=\"dataframe\">\n",
       "  <thead>\n",
       "    <tr style=\"text-align: right;\">\n",
       "      <th></th>\n",
       "      <th>kernel</th>\n",
       "      <th>degree</th>\n",
       "      <th>C</th>\n",
       "      <th>epsilon</th>\n",
       "      <th>neg_mean_squared_error</th>\n",
       "      <th>r2</th>\n",
       "      <th>neg_mean_absolute_error</th>\n",
       "    </tr>\n",
       "  </thead>\n",
       "  <tbody>\n",
       "    <tr>\n",
       "      <th>21</th>\n",
       "      <td>poly</td>\n",
       "      <td>3</td>\n",
       "      <td>10.0</td>\n",
       "      <td>0</td>\n",
       "      <td>-1.186306e+09</td>\n",
       "      <td>-76436.845044</td>\n",
       "      <td>-457.158649</td>\n",
       "    </tr>\n",
       "    <tr>\n",
       "      <th>27</th>\n",
       "      <td>poly</td>\n",
       "      <td>3</td>\n",
       "      <td>20.0</td>\n",
       "      <td>0</td>\n",
       "      <td>-9.571527e+08</td>\n",
       "      <td>-63832.168235</td>\n",
       "      <td>-448.604583</td>\n",
       "    </tr>\n",
       "    <tr>\n",
       "      <th>28</th>\n",
       "      <td>poly</td>\n",
       "      <td>3</td>\n",
       "      <td>20.0</td>\n",
       "      <td>5</td>\n",
       "      <td>-6.411724e+08</td>\n",
       "      <td>-42495.015733</td>\n",
       "      <td>-385.076167</td>\n",
       "    </tr>\n",
       "    <tr>\n",
       "      <th>15</th>\n",
       "      <td>poly</td>\n",
       "      <td>3</td>\n",
       "      <td>5.0</td>\n",
       "      <td>0</td>\n",
       "      <td>-8.344723e+08</td>\n",
       "      <td>-49587.595049</td>\n",
       "      <td>-378.387293</td>\n",
       "    </tr>\n",
       "    <tr>\n",
       "      <th>22</th>\n",
       "      <td>poly</td>\n",
       "      <td>3</td>\n",
       "      <td>10.0</td>\n",
       "      <td>5</td>\n",
       "      <td>-7.070966e+08</td>\n",
       "      <td>-43687.177207</td>\n",
       "      <td>-370.085190</td>\n",
       "    </tr>\n",
       "    <tr>\n",
       "      <th>16</th>\n",
       "      <td>poly</td>\n",
       "      <td>3</td>\n",
       "      <td>5.0</td>\n",
       "      <td>5</td>\n",
       "      <td>-6.346857e+08</td>\n",
       "      <td>-37288.831154</td>\n",
       "      <td>-338.041323</td>\n",
       "    </tr>\n",
       "    <tr>\n",
       "      <th>23</th>\n",
       "      <td>poly</td>\n",
       "      <td>3</td>\n",
       "      <td>10.0</td>\n",
       "      <td>10</td>\n",
       "      <td>-4.474959e+08</td>\n",
       "      <td>-25511.426375</td>\n",
       "      <td>-307.579378</td>\n",
       "    </tr>\n",
       "    <tr>\n",
       "      <th>17</th>\n",
       "      <td>poly</td>\n",
       "      <td>3</td>\n",
       "      <td>5.0</td>\n",
       "      <td>10</td>\n",
       "      <td>-4.308039e+08</td>\n",
       "      <td>-24140.866814</td>\n",
       "      <td>-288.182284</td>\n",
       "    </tr>\n",
       "    <tr>\n",
       "      <th>29</th>\n",
       "      <td>poly</td>\n",
       "      <td>3</td>\n",
       "      <td>20.0</td>\n",
       "      <td>10</td>\n",
       "      <td>-2.077796e+08</td>\n",
       "      <td>-12464.580838</td>\n",
       "      <td>-261.701589</td>\n",
       "    </tr>\n",
       "    <tr>\n",
       "      <th>9</th>\n",
       "      <td>poly</td>\n",
       "      <td>3</td>\n",
       "      <td>1.0</td>\n",
       "      <td>0</td>\n",
       "      <td>-3.637038e+07</td>\n",
       "      <td>-955.544034</td>\n",
       "      <td>-90.915043</td>\n",
       "    </tr>\n",
       "    <tr>\n",
       "      <th>10</th>\n",
       "      <td>poly</td>\n",
       "      <td>3</td>\n",
       "      <td>1.0</td>\n",
       "      <td>5</td>\n",
       "      <td>-3.008173e+07</td>\n",
       "      <td>-916.506921</td>\n",
       "      <td>-90.150245</td>\n",
       "    </tr>\n",
       "    <tr>\n",
       "      <th>5</th>\n",
       "      <td>poly</td>\n",
       "      <td>3</td>\n",
       "      <td>0.5</td>\n",
       "      <td>10</td>\n",
       "      <td>-1.912464e+07</td>\n",
       "      <td>-738.595151</td>\n",
       "      <td>-81.630954</td>\n",
       "    </tr>\n",
       "    <tr>\n",
       "      <th>4</th>\n",
       "      <td>poly</td>\n",
       "      <td>3</td>\n",
       "      <td>0.5</td>\n",
       "      <td>5</td>\n",
       "      <td>-2.184081e+07</td>\n",
       "      <td>-728.449790</td>\n",
       "      <td>-80.574390</td>\n",
       "    </tr>\n",
       "    <tr>\n",
       "      <th>3</th>\n",
       "      <td>poly</td>\n",
       "      <td>3</td>\n",
       "      <td>0.5</td>\n",
       "      <td>0</td>\n",
       "      <td>-2.501807e+07</td>\n",
       "      <td>-682.671899</td>\n",
       "      <td>-79.412216</td>\n",
       "    </tr>\n",
       "    <tr>\n",
       "      <th>11</th>\n",
       "      <td>poly</td>\n",
       "      <td>3</td>\n",
       "      <td>1.0</td>\n",
       "      <td>10</td>\n",
       "      <td>-2.023317e+07</td>\n",
       "      <td>-414.462583</td>\n",
       "      <td>-75.171934</td>\n",
       "    </tr>\n",
       "    <tr>\n",
       "      <th>18</th>\n",
       "      <td>poly</td>\n",
       "      <td>2</td>\n",
       "      <td>10.0</td>\n",
       "      <td>0</td>\n",
       "      <td>-4.195046e+05</td>\n",
       "      <td>-24.404073</td>\n",
       "      <td>-31.775154</td>\n",
       "    </tr>\n",
       "    <tr>\n",
       "      <th>14</th>\n",
       "      <td>poly</td>\n",
       "      <td>2</td>\n",
       "      <td>5.0</td>\n",
       "      <td>10</td>\n",
       "      <td>-2.092651e+05</td>\n",
       "      <td>-8.185479</td>\n",
       "      <td>-31.509699</td>\n",
       "    </tr>\n",
       "    <tr>\n",
       "      <th>24</th>\n",
       "      <td>poly</td>\n",
       "      <td>2</td>\n",
       "      <td>20.0</td>\n",
       "      <td>0</td>\n",
       "      <td>-5.196605e+05</td>\n",
       "      <td>-32.333765</td>\n",
       "      <td>-31.162251</td>\n",
       "    </tr>\n",
       "    <tr>\n",
       "      <th>13</th>\n",
       "      <td>poly</td>\n",
       "      <td>2</td>\n",
       "      <td>5.0</td>\n",
       "      <td>5</td>\n",
       "      <td>-2.456778e+05</td>\n",
       "      <td>-10.659362</td>\n",
       "      <td>-30.912905</td>\n",
       "    </tr>\n",
       "    <tr>\n",
       "      <th>19</th>\n",
       "      <td>poly</td>\n",
       "      <td>2</td>\n",
       "      <td>10.0</td>\n",
       "      <td>5</td>\n",
       "      <td>-2.786433e+05</td>\n",
       "      <td>-14.018601</td>\n",
       "      <td>-30.606332</td>\n",
       "    </tr>\n",
       "    <tr>\n",
       "      <th>12</th>\n",
       "      <td>poly</td>\n",
       "      <td>2</td>\n",
       "      <td>5.0</td>\n",
       "      <td>0</td>\n",
       "      <td>-2.418555e+05</td>\n",
       "      <td>-9.947040</td>\n",
       "      <td>-30.495455</td>\n",
       "    </tr>\n",
       "    <tr>\n",
       "      <th>20</th>\n",
       "      <td>poly</td>\n",
       "      <td>2</td>\n",
       "      <td>10.0</td>\n",
       "      <td>10</td>\n",
       "      <td>-1.590880e+05</td>\n",
       "      <td>-5.203532</td>\n",
       "      <td>-29.891180</td>\n",
       "    </tr>\n",
       "    <tr>\n",
       "      <th>8</th>\n",
       "      <td>poly</td>\n",
       "      <td>2</td>\n",
       "      <td>1.0</td>\n",
       "      <td>10</td>\n",
       "      <td>-1.379226e+05</td>\n",
       "      <td>-3.227959</td>\n",
       "      <td>-29.802859</td>\n",
       "    </tr>\n",
       "    <tr>\n",
       "      <th>25</th>\n",
       "      <td>poly</td>\n",
       "      <td>2</td>\n",
       "      <td>20.0</td>\n",
       "      <td>5</td>\n",
       "      <td>-2.755050e+05</td>\n",
       "      <td>-14.707588</td>\n",
       "      <td>-29.155980</td>\n",
       "    </tr>\n",
       "    <tr>\n",
       "      <th>26</th>\n",
       "      <td>poly</td>\n",
       "      <td>2</td>\n",
       "      <td>20.0</td>\n",
       "      <td>10</td>\n",
       "      <td>-1.753368e+05</td>\n",
       "      <td>-7.253039</td>\n",
       "      <td>-28.856516</td>\n",
       "    </tr>\n",
       "    <tr>\n",
       "      <th>7</th>\n",
       "      <td>poly</td>\n",
       "      <td>2</td>\n",
       "      <td>1.0</td>\n",
       "      <td>5</td>\n",
       "      <td>-1.476919e+05</td>\n",
       "      <td>-3.588922</td>\n",
       "      <td>-28.852850</td>\n",
       "    </tr>\n",
       "    <tr>\n",
       "      <th>6</th>\n",
       "      <td>poly</td>\n",
       "      <td>2</td>\n",
       "      <td>1.0</td>\n",
       "      <td>0</td>\n",
       "      <td>-1.655832e+05</td>\n",
       "      <td>-4.357299</td>\n",
       "      <td>-28.836024</td>\n",
       "    </tr>\n",
       "    <tr>\n",
       "      <th>2</th>\n",
       "      <td>poly</td>\n",
       "      <td>2</td>\n",
       "      <td>0.5</td>\n",
       "      <td>10</td>\n",
       "      <td>-1.027612e+05</td>\n",
       "      <td>-1.124954</td>\n",
       "      <td>-28.441781</td>\n",
       "    </tr>\n",
       "    <tr>\n",
       "      <th>1</th>\n",
       "      <td>poly</td>\n",
       "      <td>2</td>\n",
       "      <td>0.5</td>\n",
       "      <td>5</td>\n",
       "      <td>-1.038445e+05</td>\n",
       "      <td>-1.462310</td>\n",
       "      <td>-27.673835</td>\n",
       "    </tr>\n",
       "    <tr>\n",
       "      <th>0</th>\n",
       "      <td>poly</td>\n",
       "      <td>2</td>\n",
       "      <td>0.5</td>\n",
       "      <td>0</td>\n",
       "      <td>-1.012591e+05</td>\n",
       "      <td>-1.203901</td>\n",
       "      <td>-27.175100</td>\n",
       "    </tr>\n",
       "  </tbody>\n",
       "</table>\n",
       "</div>"
      ],
      "text/plain": [
       "   kernel  degree     C  epsilon  neg_mean_squared_error            r2  \\\n",
       "21   poly       3  10.0        0           -1.186306e+09 -76436.845044   \n",
       "27   poly       3  20.0        0           -9.571527e+08 -63832.168235   \n",
       "28   poly       3  20.0        5           -6.411724e+08 -42495.015733   \n",
       "15   poly       3   5.0        0           -8.344723e+08 -49587.595049   \n",
       "22   poly       3  10.0        5           -7.070966e+08 -43687.177207   \n",
       "16   poly       3   5.0        5           -6.346857e+08 -37288.831154   \n",
       "23   poly       3  10.0       10           -4.474959e+08 -25511.426375   \n",
       "17   poly       3   5.0       10           -4.308039e+08 -24140.866814   \n",
       "29   poly       3  20.0       10           -2.077796e+08 -12464.580838   \n",
       "9    poly       3   1.0        0           -3.637038e+07   -955.544034   \n",
       "10   poly       3   1.0        5           -3.008173e+07   -916.506921   \n",
       "5    poly       3   0.5       10           -1.912464e+07   -738.595151   \n",
       "4    poly       3   0.5        5           -2.184081e+07   -728.449790   \n",
       "3    poly       3   0.5        0           -2.501807e+07   -682.671899   \n",
       "11   poly       3   1.0       10           -2.023317e+07   -414.462583   \n",
       "18   poly       2  10.0        0           -4.195046e+05    -24.404073   \n",
       "14   poly       2   5.0       10           -2.092651e+05     -8.185479   \n",
       "24   poly       2  20.0        0           -5.196605e+05    -32.333765   \n",
       "13   poly       2   5.0        5           -2.456778e+05    -10.659362   \n",
       "19   poly       2  10.0        5           -2.786433e+05    -14.018601   \n",
       "12   poly       2   5.0        0           -2.418555e+05     -9.947040   \n",
       "20   poly       2  10.0       10           -1.590880e+05     -5.203532   \n",
       "8    poly       2   1.0       10           -1.379226e+05     -3.227959   \n",
       "25   poly       2  20.0        5           -2.755050e+05    -14.707588   \n",
       "26   poly       2  20.0       10           -1.753368e+05     -7.253039   \n",
       "7    poly       2   1.0        5           -1.476919e+05     -3.588922   \n",
       "6    poly       2   1.0        0           -1.655832e+05     -4.357299   \n",
       "2    poly       2   0.5       10           -1.027612e+05     -1.124954   \n",
       "1    poly       2   0.5        5           -1.038445e+05     -1.462310   \n",
       "0    poly       2   0.5        0           -1.012591e+05     -1.203901   \n",
       "\n",
       "    neg_mean_absolute_error  \n",
       "21              -457.158649  \n",
       "27              -448.604583  \n",
       "28              -385.076167  \n",
       "15              -378.387293  \n",
       "22              -370.085190  \n",
       "16              -338.041323  \n",
       "23              -307.579378  \n",
       "17              -288.182284  \n",
       "29              -261.701589  \n",
       "9                -90.915043  \n",
       "10               -90.150245  \n",
       "5                -81.630954  \n",
       "4                -80.574390  \n",
       "3                -79.412216  \n",
       "11               -75.171934  \n",
       "18               -31.775154  \n",
       "14               -31.509699  \n",
       "24               -31.162251  \n",
       "13               -30.912905  \n",
       "19               -30.606332  \n",
       "12               -30.495455  \n",
       "20               -29.891180  \n",
       "8                -29.802859  \n",
       "25               -29.155980  \n",
       "26               -28.856516  \n",
       "7                -28.852850  \n",
       "6                -28.836024  \n",
       "2                -28.441781  \n",
       "1                -27.673835  \n",
       "0                -27.175100  "
      ]
     },
     "execution_count": 13,
     "metadata": {},
     "output_type": "execute_result"
    }
   ],
   "source": [
    "SVR_summary_pt2 = GridSearchSummary(SVR_search_pt2, \n",
    "                  [\"kernel\", \"degree\", \"C\", \"epsilon\"],\n",
    "                  scoring_metrics,\n",
    "                  \"../Data/Model Results/SVR_search_pt2.csv\")\n",
    "\n",
    "SVR_summary_pt2.sort_values(by=[\"neg_mean_absolute_error\"])"
   ]
  },
  {
   "cell_type": "code",
   "execution_count": 18,
   "metadata": {},
   "outputs": [
    {
     "data": {
      "text/html": [
       "<div>\n",
       "<style scoped>\n",
       "    .dataframe tbody tr th:only-of-type {\n",
       "        vertical-align: middle;\n",
       "    }\n",
       "\n",
       "    .dataframe tbody tr th {\n",
       "        vertical-align: top;\n",
       "    }\n",
       "\n",
       "    .dataframe thead th {\n",
       "        text-align: right;\n",
       "    }\n",
       "</style>\n",
       "<table border=\"1\" class=\"dataframe\">\n",
       "  <thead>\n",
       "    <tr style=\"text-align: right;\">\n",
       "      <th></th>\n",
       "      <th>kernel</th>\n",
       "      <th>C</th>\n",
       "      <th>epsilon</th>\n",
       "      <th>neg_mean_squared_error</th>\n",
       "      <th>r2</th>\n",
       "      <th>neg_mean_absolute_error</th>\n",
       "      <th>degree</th>\n",
       "    </tr>\n",
       "  </thead>\n",
       "  <tbody>\n",
       "    <tr>\n",
       "      <th>18</th>\n",
       "      <td>linear</td>\n",
       "      <td>10.0</td>\n",
       "      <td>0</td>\n",
       "      <td>-4056.807724</td>\n",
       "      <td>0.879607</td>\n",
       "      <td>-7.668122</td>\n",
       "      <td>NaN</td>\n",
       "    </tr>\n",
       "    <tr>\n",
       "      <th>12</th>\n",
       "      <td>linear</td>\n",
       "      <td>5.0</td>\n",
       "      <td>0</td>\n",
       "      <td>-4078.928718</td>\n",
       "      <td>0.882553</td>\n",
       "      <td>-7.684356</td>\n",
       "      <td>NaN</td>\n",
       "    </tr>\n",
       "    <tr>\n",
       "      <th>24</th>\n",
       "      <td>linear</td>\n",
       "      <td>20.0</td>\n",
       "      <td>0</td>\n",
       "      <td>-4085.938540</td>\n",
       "      <td>0.878131</td>\n",
       "      <td>-7.687117</td>\n",
       "      <td>NaN</td>\n",
       "    </tr>\n",
       "    <tr>\n",
       "      <th>6</th>\n",
       "      <td>linear</td>\n",
       "      <td>1.0</td>\n",
       "      <td>0</td>\n",
       "      <td>-3911.249237</td>\n",
       "      <td>0.890480</td>\n",
       "      <td>-7.756379</td>\n",
       "      <td>NaN</td>\n",
       "    </tr>\n",
       "    <tr>\n",
       "      <th>0</th>\n",
       "      <td>linear</td>\n",
       "      <td>0.5</td>\n",
       "      <td>0</td>\n",
       "      <td>-4142.278106</td>\n",
       "      <td>0.890822</td>\n",
       "      <td>-7.929125</td>\n",
       "      <td>NaN</td>\n",
       "    </tr>\n",
       "  </tbody>\n",
       "</table>\n",
       "</div>"
      ],
      "text/plain": [
       "    kernel     C  epsilon  neg_mean_squared_error        r2  \\\n",
       "18  linear  10.0        0            -4056.807724  0.879607   \n",
       "12  linear   5.0        0            -4078.928718  0.882553   \n",
       "24  linear  20.0        0            -4085.938540  0.878131   \n",
       "6   linear   1.0        0            -3911.249237  0.890480   \n",
       "0   linear   0.5        0            -4142.278106  0.890822   \n",
       "\n",
       "    neg_mean_absolute_error  degree  \n",
       "18                -7.668122     NaN  \n",
       "12                -7.684356     NaN  \n",
       "24                -7.687117     NaN  \n",
       "6                 -7.756379     NaN  \n",
       "0                 -7.929125     NaN  "
      ]
     },
     "execution_count": 18,
     "metadata": {},
     "output_type": "execute_result"
    }
   ],
   "source": [
    "SVR_summary = pd.concat([SVR_summary_pt1, SVR_summary_pt2])\n",
    "SVR_summary.sort_values(by=[\"neg_mean_absolute_error\"], ascending = False).head()"
   ]
  },
  {
   "cell_type": "markdown",
   "metadata": {},
   "source": [
    "## Run GridSearchCV using LinearSVR"
   ]
  },
  {
   "cell_type": "code",
   "execution_count": 19,
   "metadata": {},
   "outputs": [],
   "source": [
    "# define scoring metrics\n",
    "scoring_metrics = [\"neg_mean_squared_error\", \"r2\", \"neg_mean_absolute_error\"]"
   ]
  },
  {
   "cell_type": "code",
   "execution_count": 21,
   "metadata": {
    "scrolled": true
   },
   "outputs": [
    {
     "name": "stdout",
     "output_type": "stream",
     "text": [
      "Start:  29/05/2021 23:54:09\n",
      "Fitting 39 folds for each of 18 candidates, totalling 702 fits\n",
      "[CV] END ...................................C=0.1, epsilon=0; total time=   0.1s\n",
      "[CV] END ...................................C=0.1, epsilon=0; total time=   0.1s\n",
      "[CV] END ...................................C=0.1, epsilon=0; total time=   0.0s\n",
      "[CV] END ...................................C=0.1, epsilon=0; total time=   0.1s\n",
      "[CV] END ...................................C=0.1, epsilon=0; total time=   0.0s\n",
      "[CV] END ...................................C=0.1, epsilon=0; total time=   0.0s\n",
      "[CV] END ...................................C=0.1, epsilon=0; total time=   0.0s\n",
      "[CV] END ...................................C=0.1, epsilon=0; total time=   0.0s\n",
      "[CV] END ...................................C=0.1, epsilon=0; total time=   0.0s\n",
      "[CV] END ...................................C=0.1, epsilon=0; total time=   0.1s\n",
      "[CV] END ...................................C=0.1, epsilon=0; total time=   0.4s\n",
      "[CV] END ...................................C=0.1, epsilon=0; total time=   0.3s\n",
      "[CV] END ...................................C=0.1, epsilon=0; total time=   1.4s\n",
      "[CV] END ...................................C=0.1, epsilon=0; total time=   2.4s\n",
      "[CV] END ...................................C=0.1, epsilon=0; total time=   5.2s\n",
      "[CV] END ...................................C=0.1, epsilon=0; total time=   1.8s\n",
      "[CV] END ...................................C=0.1, epsilon=0; total time=   2.5s\n",
      "[CV] END ...................................C=0.1, epsilon=0; total time=   3.2s\n",
      "[CV] END ...................................C=0.1, epsilon=0; total time=   2.8s\n",
      "[CV] END ...................................C=0.1, epsilon=0; total time=   0.7s\n",
      "[CV] END ...................................C=0.1, epsilon=0; total time=   0.9s\n",
      "[CV] END ...................................C=0.1, epsilon=0; total time=   1.0s\n",
      "[CV] END ...................................C=0.1, epsilon=0; total time=   1.1s\n",
      "[CV] END ...................................C=0.1, epsilon=0; total time=   1.7s\n",
      "[CV] END ...................................C=0.1, epsilon=0; total time=   1.1s\n",
      "[CV] END ...................................C=0.1, epsilon=0; total time=   0.9s\n",
      "[CV] END ...................................C=0.1, epsilon=0; total time=   0.9s\n",
      "[CV] END ...................................C=0.1, epsilon=0; total time=   0.7s\n",
      "[CV] END ...................................C=0.1, epsilon=0; total time=   0.8s\n",
      "[CV] END ...................................C=0.1, epsilon=0; total time=   1.1s\n",
      "[CV] END ...................................C=0.1, epsilon=0; total time=   0.9s\n",
      "[CV] END ...................................C=0.1, epsilon=0; total time=   0.6s\n",
      "[CV] END ...................................C=0.1, epsilon=0; total time=   0.7s\n",
      "[CV] END ...................................C=0.1, epsilon=0; total time=   1.3s\n",
      "[CV] END ...................................C=0.1, epsilon=0; total time=   0.7s\n",
      "[CV] END ...................................C=0.1, epsilon=0; total time=   1.3s\n",
      "[CV] END ...................................C=0.1, epsilon=0; total time=   1.5s\n",
      "[CV] END ...................................C=0.1, epsilon=0; total time=   2.3s\n",
      "[CV] END ...................................C=0.1, epsilon=0; total time=   2.1s\n",
      "[CV] END ...................................C=0.1, epsilon=5; total time=   0.0s\n",
      "[CV] END ...................................C=0.1, epsilon=5; total time=   0.0s\n",
      "[CV] END ...................................C=0.1, epsilon=5; total time=   0.0s\n",
      "[CV] END ...................................C=0.1, epsilon=5; total time=   0.0s\n",
      "[CV] END ...................................C=0.1, epsilon=5; total time=   0.0s\n",
      "[CV] END ...................................C=0.1, epsilon=5; total time=   0.0s\n",
      "[CV] END ...................................C=0.1, epsilon=5; total time=   0.0s\n",
      "[CV] END ...................................C=0.1, epsilon=5; total time=   0.0s\n",
      "[CV] END ...................................C=0.1, epsilon=5; total time=   0.0s\n",
      "[CV] END ...................................C=0.1, epsilon=5; total time=   0.2s\n",
      "[CV] END ...................................C=0.1, epsilon=5; total time=   0.6s\n",
      "[CV] END ...................................C=0.1, epsilon=5; total time=   0.3s\n",
      "[CV] END ...................................C=0.1, epsilon=5; total time=   1.6s\n",
      "[CV] END ...................................C=0.1, epsilon=5; total time=   2.9s\n",
      "[CV] END ...................................C=0.1, epsilon=5; total time=   6.5s\n",
      "[CV] END ...................................C=0.1, epsilon=5; total time=   2.3s\n",
      "[CV] END ...................................C=0.1, epsilon=5; total time=   2.8s\n",
      "[CV] END ...................................C=0.1, epsilon=5; total time=   2.1s\n",
      "[CV] END ...................................C=0.1, epsilon=5; total time=   2.7s\n",
      "[CV] END ...................................C=0.1, epsilon=5; total time=   0.7s\n",
      "[CV] END ...................................C=0.1, epsilon=5; total time=   0.7s\n",
      "[CV] END ...................................C=0.1, epsilon=5; total time=   1.0s\n",
      "[CV] END ...................................C=0.1, epsilon=5; total time=   0.6s\n",
      "[CV] END ...................................C=0.1, epsilon=5; total time=   0.7s\n",
      "[CV] END ...................................C=0.1, epsilon=5; total time=   0.6s\n",
      "[CV] END ...................................C=0.1, epsilon=5; total time=   0.4s\n",
      "[CV] END ...................................C=0.1, epsilon=5; total time=   0.5s\n",
      "[CV] END ...................................C=0.1, epsilon=5; total time=   0.5s\n",
      "[CV] END ...................................C=0.1, epsilon=5; total time=   0.4s\n",
      "[CV] END ...................................C=0.1, epsilon=5; total time=   0.5s\n",
      "[CV] END ...................................C=0.1, epsilon=5; total time=   0.4s\n",
      "[CV] END ...................................C=0.1, epsilon=5; total time=   0.3s\n",
      "[CV] END ...................................C=0.1, epsilon=5; total time=   0.5s\n",
      "[CV] END ...................................C=0.1, epsilon=5; total time=   0.4s\n",
      "[CV] END ...................................C=0.1, epsilon=5; total time=   0.5s\n",
      "[CV] END ...................................C=0.1, epsilon=5; total time=   0.5s\n",
      "[CV] END ...................................C=0.1, epsilon=5; total time=   0.8s\n",
      "[CV] END ...................................C=0.1, epsilon=5; total time=   1.1s\n",
      "[CV] END ...................................C=0.1, epsilon=5; total time=   0.5s\n",
      "[CV] END ..................................C=0.1, epsilon=10; total time=   0.0s\n",
      "[CV] END ..................................C=0.1, epsilon=10; total time=   0.0s\n",
      "[CV] END ..................................C=0.1, epsilon=10; total time=   0.0s\n",
      "[CV] END ..................................C=0.1, epsilon=10; total time=   0.0s\n",
      "[CV] END ..................................C=0.1, epsilon=10; total time=   0.0s\n",
      "[CV] END ..................................C=0.1, epsilon=10; total time=   0.0s\n",
      "[CV] END ..................................C=0.1, epsilon=10; total time=   0.0s\n",
      "[CV] END ..................................C=0.1, epsilon=10; total time=   0.0s\n",
      "[CV] END ..................................C=0.1, epsilon=10; total time=   0.0s\n",
      "[CV] END ..................................C=0.1, epsilon=10; total time=   0.1s\n",
      "[CV] END ..................................C=0.1, epsilon=10; total time=   0.2s\n",
      "[CV] END ..................................C=0.1, epsilon=10; total time=   0.3s\n",
      "[CV] END ..................................C=0.1, epsilon=10; total time=   1.5s\n",
      "[CV] END ..................................C=0.1, epsilon=10; total time=   2.1s\n",
      "[CV] END ..................................C=0.1, epsilon=10; total time=   6.2s\n",
      "[CV] END ..................................C=0.1, epsilon=10; total time=   4.1s\n",
      "[CV] END ..................................C=0.1, epsilon=10; total time=   3.0s\n",
      "[CV] END ..................................C=0.1, epsilon=10; total time=   3.1s\n",
      "[CV] END ..................................C=0.1, epsilon=10; total time=   1.9s\n",
      "[CV] END ..................................C=0.1, epsilon=10; total time=   0.8s\n",
      "[CV] END ..................................C=0.1, epsilon=10; total time=   1.0s\n",
      "[CV] END ..................................C=0.1, epsilon=10; total time=   1.3s\n",
      "[CV] END ..................................C=0.1, epsilon=10; total time=   0.6s\n"
     ]
    },
    {
     "name": "stdout",
     "output_type": "stream",
     "text": [
      "[CV] END ..................................C=0.1, epsilon=10; total time=   0.8s\n",
      "[CV] END ..................................C=0.1, epsilon=10; total time=   0.6s\n",
      "[CV] END ..................................C=0.1, epsilon=10; total time=   0.6s\n",
      "[CV] END ..................................C=0.1, epsilon=10; total time=   0.3s\n",
      "[CV] END ..................................C=0.1, epsilon=10; total time=   0.4s\n",
      "[CV] END ..................................C=0.1, epsilon=10; total time=   0.4s\n",
      "[CV] END ..................................C=0.1, epsilon=10; total time=   0.3s\n",
      "[CV] END ..................................C=0.1, epsilon=10; total time=   0.3s\n",
      "[CV] END ..................................C=0.1, epsilon=10; total time=   0.3s\n",
      "[CV] END ..................................C=0.1, epsilon=10; total time=   0.4s\n",
      "[CV] END ..................................C=0.1, epsilon=10; total time=   0.3s\n",
      "[CV] END ..................................C=0.1, epsilon=10; total time=   0.4s\n",
      "[CV] END ..................................C=0.1, epsilon=10; total time=   0.4s\n",
      "[CV] END ..................................C=0.1, epsilon=10; total time=   0.8s\n",
      "[CV] END ..................................C=0.1, epsilon=10; total time=   0.6s\n",
      "[CV] END ..................................C=0.1, epsilon=10; total time=   0.5s\n",
      "[CV] END ...................................C=0.5, epsilon=0; total time=   0.2s\n",
      "[CV] END ...................................C=0.5, epsilon=0; total time=   0.3s\n",
      "[CV] END ...................................C=0.5, epsilon=0; total time=   0.3s\n",
      "[CV] END ...................................C=0.5, epsilon=0; total time=   0.1s\n",
      "[CV] END ...................................C=0.5, epsilon=0; total time=   0.1s\n",
      "[CV] END ...................................C=0.5, epsilon=0; total time=   0.2s\n",
      "[CV] END ...................................C=0.5, epsilon=0; total time=   0.3s\n",
      "[CV] END ...................................C=0.5, epsilon=0; total time=   0.2s\n",
      "[CV] END ...................................C=0.5, epsilon=0; total time=   0.1s\n",
      "[CV] END ...................................C=0.5, epsilon=0; total time=   2.6s\n",
      "[CV] END ...................................C=0.5, epsilon=0; total time=   2.3s\n",
      "[CV] END ...................................C=0.5, epsilon=0; total time=   2.1s\n",
      "[CV] END ...................................C=0.5, epsilon=0; total time=   5.1s\n",
      "[CV] END ...................................C=0.5, epsilon=0; total time=  20.9s\n"
     ]
    },
    {
     "name": "stderr",
     "output_type": "stream",
     "text": [
      "/anaconda3/lib/python3.7/site-packages/sklearn/svm/_base.py:986: ConvergenceWarning: Liblinear failed to converge, increase the number of iterations.\n",
      "  \"the number of iterations.\", ConvergenceWarning)\n"
     ]
    },
    {
     "name": "stdout",
     "output_type": "stream",
     "text": [
      "[CV] END ...................................C=0.5, epsilon=0; total time=  22.0s\n",
      "[CV] END ...................................C=0.5, epsilon=0; total time=  14.2s\n"
     ]
    },
    {
     "name": "stderr",
     "output_type": "stream",
     "text": [
      "/anaconda3/lib/python3.7/site-packages/sklearn/svm/_base.py:986: ConvergenceWarning: Liblinear failed to converge, increase the number of iterations.\n",
      "  \"the number of iterations.\", ConvergenceWarning)\n"
     ]
    },
    {
     "name": "stdout",
     "output_type": "stream",
     "text": [
      "[CV] END ...................................C=0.5, epsilon=0; total time=  20.7s\n",
      "[CV] END ...................................C=0.5, epsilon=0; total time=   9.2s\n",
      "[CV] END ...................................C=0.5, epsilon=0; total time=  13.7s\n",
      "[CV] END ...................................C=0.5, epsilon=0; total time=   5.7s\n",
      "[CV] END ...................................C=0.5, epsilon=0; total time=   5.9s\n",
      "[CV] END ...................................C=0.5, epsilon=0; total time=   6.1s\n",
      "[CV] END ...................................C=0.5, epsilon=0; total time=   4.1s\n",
      "[CV] END ...................................C=0.5, epsilon=0; total time=   4.7s\n",
      "[CV] END ...................................C=0.5, epsilon=0; total time=   4.3s\n",
      "[CV] END ...................................C=0.5, epsilon=0; total time=   6.7s\n",
      "[CV] END ...................................C=0.5, epsilon=0; total time=   3.2s\n",
      "[CV] END ...................................C=0.5, epsilon=0; total time=   4.2s\n",
      "[CV] END ...................................C=0.5, epsilon=0; total time=   3.3s\n",
      "[CV] END ...................................C=0.5, epsilon=0; total time=   6.1s\n",
      "[CV] END ...................................C=0.5, epsilon=0; total time=   5.7s\n",
      "[CV] END ...................................C=0.5, epsilon=0; total time=   1.6s\n",
      "[CV] END ...................................C=0.5, epsilon=0; total time=   1.9s\n",
      "[CV] END ...................................C=0.5, epsilon=0; total time=   5.9s\n",
      "[CV] END ...................................C=0.5, epsilon=0; total time=   5.1s\n",
      "[CV] END ...................................C=0.5, epsilon=0; total time=   2.2s\n",
      "[CV] END ...................................C=0.5, epsilon=0; total time=   8.1s\n",
      "[CV] END ...................................C=0.5, epsilon=0; total time=  11.5s\n",
      "[CV] END ...................................C=0.5, epsilon=0; total time=  14.8s\n",
      "[CV] END ...................................C=0.5, epsilon=5; total time=   0.1s\n",
      "[CV] END ...................................C=0.5, epsilon=5; total time=   0.1s\n",
      "[CV] END ...................................C=0.5, epsilon=5; total time=   0.1s\n",
      "[CV] END ...................................C=0.5, epsilon=5; total time=   0.2s\n",
      "[CV] END ...................................C=0.5, epsilon=5; total time=   0.1s\n",
      "[CV] END ...................................C=0.5, epsilon=5; total time=   0.2s\n",
      "[CV] END ...................................C=0.5, epsilon=5; total time=   0.1s\n",
      "[CV] END ...................................C=0.5, epsilon=5; total time=   0.1s\n",
      "[CV] END ...................................C=0.5, epsilon=5; total time=   0.1s\n",
      "[CV] END ...................................C=0.5, epsilon=5; total time=   0.6s\n",
      "[CV] END ...................................C=0.5, epsilon=5; total time=   1.3s\n",
      "[CV] END ...................................C=0.5, epsilon=5; total time=   1.3s\n",
      "[CV] END ...................................C=0.5, epsilon=5; total time=   3.7s\n"
     ]
    },
    {
     "name": "stderr",
     "output_type": "stream",
     "text": [
      "/anaconda3/lib/python3.7/site-packages/sklearn/svm/_base.py:986: ConvergenceWarning: Liblinear failed to converge, increase the number of iterations.\n",
      "  \"the number of iterations.\", ConvergenceWarning)\n"
     ]
    },
    {
     "name": "stdout",
     "output_type": "stream",
     "text": [
      "[CV] END ...................................C=0.5, epsilon=5; total time=  19.9s\n"
     ]
    },
    {
     "name": "stderr",
     "output_type": "stream",
     "text": [
      "/anaconda3/lib/python3.7/site-packages/sklearn/svm/_base.py:986: ConvergenceWarning: Liblinear failed to converge, increase the number of iterations.\n",
      "  \"the number of iterations.\", ConvergenceWarning)\n"
     ]
    },
    {
     "name": "stdout",
     "output_type": "stream",
     "text": [
      "[CV] END ...................................C=0.5, epsilon=5; total time=  24.6s\n",
      "[CV] END ...................................C=0.5, epsilon=5; total time=  16.5s\n",
      "[CV] END ...................................C=0.5, epsilon=5; total time=  21.9s\n",
      "[CV] END ...................................C=0.5, epsilon=5; total time=  11.2s\n",
      "[CV] END ...................................C=0.5, epsilon=5; total time=  18.1s\n",
      "[CV] END ...................................C=0.5, epsilon=5; total time=   6.6s\n",
      "[CV] END ...................................C=0.5, epsilon=5; total time=   4.9s\n",
      "[CV] END ...................................C=0.5, epsilon=5; total time=   4.7s\n",
      "[CV] END ...................................C=0.5, epsilon=5; total time=   2.6s\n",
      "[CV] END ...................................C=0.5, epsilon=5; total time=   4.4s\n",
      "[CV] END ...................................C=0.5, epsilon=5; total time=   4.3s\n",
      "[CV] END ...................................C=0.5, epsilon=5; total time=   2.4s\n",
      "[CV] END ...................................C=0.5, epsilon=5; total time=   2.3s\n",
      "[CV] END ...................................C=0.5, epsilon=5; total time=   1.8s\n",
      "[CV] END ...................................C=0.5, epsilon=5; total time=   1.8s\n",
      "[CV] END ...................................C=0.5, epsilon=5; total time=   2.2s\n",
      "[CV] END ...................................C=0.5, epsilon=5; total time=   2.4s\n",
      "[CV] END ...................................C=0.5, epsilon=5; total time=   0.8s\n",
      "[CV] END ...................................C=0.5, epsilon=5; total time=   1.7s\n",
      "[CV] END ...................................C=0.5, epsilon=5; total time=   3.2s\n",
      "[CV] END ...................................C=0.5, epsilon=5; total time=   3.2s\n",
      "[CV] END ...................................C=0.5, epsilon=5; total time=   2.5s\n",
      "[CV] END ...................................C=0.5, epsilon=5; total time=   4.1s\n",
      "[CV] END ...................................C=0.5, epsilon=5; total time=   2.3s\n",
      "[CV] END ...................................C=0.5, epsilon=5; total time=   3.4s\n",
      "[CV] END ..................................C=0.5, epsilon=10; total time=   0.1s\n",
      "[CV] END ..................................C=0.5, epsilon=10; total time=   0.1s\n",
      "[CV] END ..................................C=0.5, epsilon=10; total time=   0.1s\n",
      "[CV] END ..................................C=0.5, epsilon=10; total time=   0.1s\n",
      "[CV] END ..................................C=0.5, epsilon=10; total time=   0.1s\n",
      "[CV] END ..................................C=0.5, epsilon=10; total time=   0.1s\n",
      "[CV] END ..................................C=0.5, epsilon=10; total time=   0.1s\n",
      "[CV] END ..................................C=0.5, epsilon=10; total time=   0.1s\n",
      "[CV] END ..................................C=0.5, epsilon=10; total time=   0.1s\n",
      "[CV] END ..................................C=0.5, epsilon=10; total time=   0.2s\n",
      "[CV] END ..................................C=0.5, epsilon=10; total time=   0.5s\n",
      "[CV] END ..................................C=0.5, epsilon=10; total time=   1.3s\n",
      "[CV] END ..................................C=0.5, epsilon=10; total time=   4.8s\n",
      "[CV] END ..................................C=0.5, epsilon=10; total time=  10.5s\n"
     ]
    },
    {
     "name": "stderr",
     "output_type": "stream",
     "text": [
      "/anaconda3/lib/python3.7/site-packages/sklearn/svm/_base.py:986: ConvergenceWarning: Liblinear failed to converge, increase the number of iterations.\n",
      "  \"the number of iterations.\", ConvergenceWarning)\n"
     ]
    },
    {
     "name": "stdout",
     "output_type": "stream",
     "text": [
      "[CV] END ..................................C=0.5, epsilon=10; total time=  19.0s\n",
      "[CV] END ..................................C=0.5, epsilon=10; total time=  16.4s\n",
      "[CV] END ..................................C=0.5, epsilon=10; total time=  11.3s\n",
      "[CV] END ..................................C=0.5, epsilon=10; total time=  12.7s\n",
      "[CV] END ..................................C=0.5, epsilon=10; total time=  14.8s\n",
      "[CV] END ..................................C=0.5, epsilon=10; total time=   7.3s\n",
      "[CV] END ..................................C=0.5, epsilon=10; total time=   5.4s\n",
      "[CV] END ..................................C=0.5, epsilon=10; total time=   4.5s\n",
      "[CV] END ..................................C=0.5, epsilon=10; total time=   2.0s\n",
      "[CV] END ..................................C=0.5, epsilon=10; total time=   2.3s\n",
      "[CV] END ..................................C=0.5, epsilon=10; total time=   1.7s\n",
      "[CV] END ..................................C=0.5, epsilon=10; total time=   1.8s\n",
      "[CV] END ..................................C=0.5, epsilon=10; total time=   1.4s\n",
      "[CV] END ..................................C=0.5, epsilon=10; total time=   1.2s\n",
      "[CV] END ..................................C=0.5, epsilon=10; total time=   1.7s\n",
      "[CV] END ..................................C=0.5, epsilon=10; total time=   1.4s\n",
      "[CV] END ..................................C=0.5, epsilon=10; total time=   0.9s\n",
      "[CV] END ..................................C=0.5, epsilon=10; total time=   0.9s\n",
      "[CV] END ..................................C=0.5, epsilon=10; total time=   1.4s\n",
      "[CV] END ..................................C=0.5, epsilon=10; total time=   1.7s\n",
      "[CV] END ..................................C=0.5, epsilon=10; total time=   1.7s\n",
      "[CV] END ..................................C=0.5, epsilon=10; total time=   1.8s\n",
      "[CV] END ..................................C=0.5, epsilon=10; total time=   1.9s\n",
      "[CV] END ..................................C=0.5, epsilon=10; total time=   1.8s\n",
      "[CV] END ..................................C=0.5, epsilon=10; total time=   1.8s\n",
      "[CV] END .....................................C=1, epsilon=0; total time=   0.4s\n",
      "[CV] END .....................................C=1, epsilon=0; total time=   0.4s\n",
      "[CV] END .....................................C=1, epsilon=0; total time=   0.4s\n",
      "[CV] END .....................................C=1, epsilon=0; total time=   0.1s\n",
      "[CV] END .....................................C=1, epsilon=0; total time=   0.2s\n",
      "[CV] END .....................................C=1, epsilon=0; total time=   0.4s\n",
      "[CV] END .....................................C=1, epsilon=0; total time=   0.3s\n",
      "[CV] END .....................................C=1, epsilon=0; total time=   0.2s\n",
      "[CV] END .....................................C=1, epsilon=0; total time=   0.1s\n",
      "[CV] END .....................................C=1, epsilon=0; total time=   6.5s\n",
      "[CV] END .....................................C=1, epsilon=0; total time=   6.1s\n",
      "[CV] END .....................................C=1, epsilon=0; total time=   3.4s\n",
      "[CV] END .....................................C=1, epsilon=0; total time=  11.7s\n"
     ]
    },
    {
     "name": "stderr",
     "output_type": "stream",
     "text": [
      "/anaconda3/lib/python3.7/site-packages/sklearn/svm/_base.py:986: ConvergenceWarning: Liblinear failed to converge, increase the number of iterations.\n",
      "  \"the number of iterations.\", ConvergenceWarning)\n"
     ]
    },
    {
     "name": "stdout",
     "output_type": "stream",
     "text": [
      "[CV] END .....................................C=1, epsilon=0; total time=  29.1s\n"
     ]
    },
    {
     "name": "stderr",
     "output_type": "stream",
     "text": [
      "/anaconda3/lib/python3.7/site-packages/sklearn/svm/_base.py:986: ConvergenceWarning: Liblinear failed to converge, increase the number of iterations.\n",
      "  \"the number of iterations.\", ConvergenceWarning)\n"
     ]
    },
    {
     "name": "stdout",
     "output_type": "stream",
     "text": [
      "[CV] END .....................................C=1, epsilon=0; total time=  26.4s\n"
     ]
    },
    {
     "name": "stderr",
     "output_type": "stream",
     "text": [
      "/anaconda3/lib/python3.7/site-packages/sklearn/svm/_base.py:986: ConvergenceWarning: Liblinear failed to converge, increase the number of iterations.\n",
      "  \"the number of iterations.\", ConvergenceWarning)\n"
     ]
    },
    {
     "name": "stdout",
     "output_type": "stream",
     "text": [
      "[CV] END .....................................C=1, epsilon=0; total time=  25.9s\n"
     ]
    },
    {
     "name": "stderr",
     "output_type": "stream",
     "text": [
      "/anaconda3/lib/python3.7/site-packages/sklearn/svm/_base.py:986: ConvergenceWarning: Liblinear failed to converge, increase the number of iterations.\n",
      "  \"the number of iterations.\", ConvergenceWarning)\n"
     ]
    },
    {
     "name": "stdout",
     "output_type": "stream",
     "text": [
      "[CV] END .....................................C=1, epsilon=0; total time=  30.8s\n",
      "[CV] END .....................................C=1, epsilon=0; total time=  15.9s\n"
     ]
    },
    {
     "name": "stderr",
     "output_type": "stream",
     "text": [
      "/anaconda3/lib/python3.7/site-packages/sklearn/svm/_base.py:986: ConvergenceWarning: Liblinear failed to converge, increase the number of iterations.\n",
      "  \"the number of iterations.\", ConvergenceWarning)\n"
     ]
    },
    {
     "name": "stdout",
     "output_type": "stream",
     "text": [
      "[CV] END .....................................C=1, epsilon=0; total time=  22.7s\n",
      "[CV] END .....................................C=1, epsilon=0; total time=  19.0s\n",
      "[CV] END .....................................C=1, epsilon=0; total time=  13.6s\n",
      "[CV] END .....................................C=1, epsilon=0; total time=  12.0s\n",
      "[CV] END .....................................C=1, epsilon=0; total time=   6.1s\n",
      "[CV] END .....................................C=1, epsilon=0; total time=  18.8s\n",
      "[CV] END .....................................C=1, epsilon=0; total time=  13.4s\n",
      "[CV] END .....................................C=1, epsilon=0; total time=   4.4s\n",
      "[CV] END .....................................C=1, epsilon=0; total time=  12.5s\n",
      "[CV] END .....................................C=1, epsilon=0; total time=   9.1s\n",
      "[CV] END .....................................C=1, epsilon=0; total time=   7.8s\n",
      "[CV] END .....................................C=1, epsilon=0; total time=   9.8s\n",
      "[CV] END .....................................C=1, epsilon=0; total time=  10.5s\n",
      "[CV] END .....................................C=1, epsilon=0; total time=   4.1s\n",
      "[CV] END .....................................C=1, epsilon=0; total time=   4.0s\n",
      "[CV] END .....................................C=1, epsilon=0; total time=  13.5s\n",
      "[CV] END .....................................C=1, epsilon=0; total time=   6.3s\n",
      "[CV] END .....................................C=1, epsilon=0; total time=   5.4s\n",
      "[CV] END .....................................C=1, epsilon=0; total time=  19.4s\n"
     ]
    },
    {
     "name": "stderr",
     "output_type": "stream",
     "text": [
      "/anaconda3/lib/python3.7/site-packages/sklearn/svm/_base.py:986: ConvergenceWarning: Liblinear failed to converge, increase the number of iterations.\n",
      "  \"the number of iterations.\", ConvergenceWarning)\n"
     ]
    },
    {
     "name": "stdout",
     "output_type": "stream",
     "text": [
      "[CV] END .....................................C=1, epsilon=0; total time=  21.2s\n"
     ]
    },
    {
     "name": "stderr",
     "output_type": "stream",
     "text": [
      "/anaconda3/lib/python3.7/site-packages/sklearn/svm/_base.py:986: ConvergenceWarning: Liblinear failed to converge, increase the number of iterations.\n",
      "  \"the number of iterations.\", ConvergenceWarning)\n"
     ]
    },
    {
     "name": "stdout",
     "output_type": "stream",
     "text": [
      "[CV] END .....................................C=1, epsilon=0; total time=  20.1s\n",
      "[CV] END .....................................C=1, epsilon=5; total time=   0.3s\n",
      "[CV] END .....................................C=1, epsilon=5; total time=   0.2s\n",
      "[CV] END .....................................C=1, epsilon=5; total time=   0.2s\n",
      "[CV] END .....................................C=1, epsilon=5; total time=   0.3s\n",
      "[CV] END .....................................C=1, epsilon=5; total time=   0.2s\n",
      "[CV] END .....................................C=1, epsilon=5; total time=   0.2s\n",
      "[CV] END .....................................C=1, epsilon=5; total time=   0.2s\n",
      "[CV] END .....................................C=1, epsilon=5; total time=   0.2s\n",
      "[CV] END .....................................C=1, epsilon=5; total time=   0.1s\n",
      "[CV] END .....................................C=1, epsilon=5; total time=   1.7s\n",
      "[CV] END .....................................C=1, epsilon=5; total time=   2.7s\n",
      "[CV] END .....................................C=1, epsilon=5; total time=   4.2s\n",
      "[CV] END .....................................C=1, epsilon=5; total time=  11.0s\n"
     ]
    },
    {
     "name": "stderr",
     "output_type": "stream",
     "text": [
      "/anaconda3/lib/python3.7/site-packages/sklearn/svm/_base.py:986: ConvergenceWarning: Liblinear failed to converge, increase the number of iterations.\n",
      "  \"the number of iterations.\", ConvergenceWarning)\n"
     ]
    },
    {
     "name": "stdout",
     "output_type": "stream",
     "text": [
      "[CV] END .....................................C=1, epsilon=5; total time=  25.3s\n"
     ]
    },
    {
     "name": "stderr",
     "output_type": "stream",
     "text": [
      "/anaconda3/lib/python3.7/site-packages/sklearn/svm/_base.py:986: ConvergenceWarning: Liblinear failed to converge, increase the number of iterations.\n",
      "  \"the number of iterations.\", ConvergenceWarning)\n"
     ]
    },
    {
     "name": "stdout",
     "output_type": "stream",
     "text": [
      "[CV] END .....................................C=1, epsilon=5; total time=  27.4s\n"
     ]
    },
    {
     "name": "stderr",
     "output_type": "stream",
     "text": [
      "/anaconda3/lib/python3.7/site-packages/sklearn/svm/_base.py:986: ConvergenceWarning: Liblinear failed to converge, increase the number of iterations.\n",
      "  \"the number of iterations.\", ConvergenceWarning)\n"
     ]
    },
    {
     "name": "stdout",
     "output_type": "stream",
     "text": [
      "[CV] END .....................................C=1, epsilon=5; total time=  26.2s\n"
     ]
    },
    {
     "name": "stderr",
     "output_type": "stream",
     "text": [
      "/anaconda3/lib/python3.7/site-packages/sklearn/svm/_base.py:986: ConvergenceWarning: Liblinear failed to converge, increase the number of iterations.\n",
      "  \"the number of iterations.\", ConvergenceWarning)\n"
     ]
    },
    {
     "name": "stdout",
     "output_type": "stream",
     "text": [
      "[CV] END .....................................C=1, epsilon=5; total time=  22.2s\n",
      "[CV] END .....................................C=1, epsilon=5; total time=  17.2s\n",
      "[CV] END .....................................C=1, epsilon=5; total time=  20.4s\n"
     ]
    },
    {
     "name": "stderr",
     "output_type": "stream",
     "text": [
      "/anaconda3/lib/python3.7/site-packages/sklearn/svm/_base.py:986: ConvergenceWarning: Liblinear failed to converge, increase the number of iterations.\n",
      "  \"the number of iterations.\", ConvergenceWarning)\n"
     ]
    },
    {
     "name": "stdout",
     "output_type": "stream",
     "text": [
      "[CV] END .....................................C=1, epsilon=5; total time=  16.3s\n",
      "[CV] END .....................................C=1, epsilon=5; total time=  10.7s\n",
      "[CV] END .....................................C=1, epsilon=5; total time=  13.4s\n",
      "[CV] END .....................................C=1, epsilon=5; total time=   9.9s\n",
      "[CV] END .....................................C=1, epsilon=5; total time=  13.9s\n",
      "[CV] END .....................................C=1, epsilon=5; total time=   9.0s\n",
      "[CV] END .....................................C=1, epsilon=5; total time=   3.6s\n",
      "[CV] END .....................................C=1, epsilon=5; total time=   7.4s\n",
      "[CV] END .....................................C=1, epsilon=5; total time=   4.5s\n",
      "[CV] END .....................................C=1, epsilon=5; total time=   5.8s\n",
      "[CV] END .....................................C=1, epsilon=5; total time=   6.8s\n",
      "[CV] END .....................................C=1, epsilon=5; total time=   3.3s\n",
      "[CV] END .....................................C=1, epsilon=5; total time=   2.0s\n",
      "[CV] END .....................................C=1, epsilon=5; total time=   2.9s\n",
      "[CV] END .....................................C=1, epsilon=5; total time=   5.9s\n",
      "[CV] END .....................................C=1, epsilon=5; total time=   7.0s\n",
      "[CV] END .....................................C=1, epsilon=5; total time=   7.7s\n",
      "[CV] END .....................................C=1, epsilon=5; total time=  13.1s\n",
      "[CV] END .....................................C=1, epsilon=5; total time=   3.9s\n",
      "[CV] END .....................................C=1, epsilon=5; total time=   5.9s\n",
      "[CV] END ....................................C=1, epsilon=10; total time=   0.1s\n",
      "[CV] END ....................................C=1, epsilon=10; total time=   0.2s\n",
      "[CV] END ....................................C=1, epsilon=10; total time=   0.2s\n",
      "[CV] END ....................................C=1, epsilon=10; total time=   0.1s\n",
      "[CV] END ....................................C=1, epsilon=10; total time=   0.1s\n",
      "[CV] END ....................................C=1, epsilon=10; total time=   0.1s\n",
      "[CV] END ....................................C=1, epsilon=10; total time=   0.2s\n",
      "[CV] END ....................................C=1, epsilon=10; total time=   0.2s\n",
      "[CV] END ....................................C=1, epsilon=10; total time=   0.1s\n",
      "[CV] END ....................................C=1, epsilon=10; total time=   0.5s\n",
      "[CV] END ....................................C=1, epsilon=10; total time=   1.2s\n",
      "[CV] END ....................................C=1, epsilon=10; total time=   2.8s\n",
      "[CV] END ....................................C=1, epsilon=10; total time=   7.4s\n"
     ]
    },
    {
     "name": "stderr",
     "output_type": "stream",
     "text": [
      "/anaconda3/lib/python3.7/site-packages/sklearn/svm/_base.py:986: ConvergenceWarning: Liblinear failed to converge, increase the number of iterations.\n",
      "  \"the number of iterations.\", ConvergenceWarning)\n"
     ]
    },
    {
     "name": "stdout",
     "output_type": "stream",
     "text": [
      "[CV] END ....................................C=1, epsilon=10; total time=  25.9s\n"
     ]
    },
    {
     "name": "stderr",
     "output_type": "stream",
     "text": [
      "/anaconda3/lib/python3.7/site-packages/sklearn/svm/_base.py:986: ConvergenceWarning: Liblinear failed to converge, increase the number of iterations.\n",
      "  \"the number of iterations.\", ConvergenceWarning)\n"
     ]
    },
    {
     "name": "stdout",
     "output_type": "stream",
     "text": [
      "[CV] END ....................................C=1, epsilon=10; total time=  25.1s\n"
     ]
    },
    {
     "name": "stderr",
     "output_type": "stream",
     "text": [
      "/anaconda3/lib/python3.7/site-packages/sklearn/svm/_base.py:986: ConvergenceWarning: Liblinear failed to converge, increase the number of iterations.\n",
      "  \"the number of iterations.\", ConvergenceWarning)\n"
     ]
    },
    {
     "name": "stdout",
     "output_type": "stream",
     "text": [
      "[CV] END ....................................C=1, epsilon=10; total time=  26.8s\n"
     ]
    },
    {
     "name": "stderr",
     "output_type": "stream",
     "text": [
      "/anaconda3/lib/python3.7/site-packages/sklearn/svm/_base.py:986: ConvergenceWarning: Liblinear failed to converge, increase the number of iterations.\n",
      "  \"the number of iterations.\", ConvergenceWarning)\n"
     ]
    },
    {
     "name": "stdout",
     "output_type": "stream",
     "text": [
      "[CV] END ....................................C=1, epsilon=10; total time=  17.6s\n",
      "[CV] END ....................................C=1, epsilon=10; total time=  21.8s\n"
     ]
    },
    {
     "name": "stderr",
     "output_type": "stream",
     "text": [
      "/anaconda3/lib/python3.7/site-packages/sklearn/svm/_base.py:986: ConvergenceWarning: Liblinear failed to converge, increase the number of iterations.\n",
      "  \"the number of iterations.\", ConvergenceWarning)\n"
     ]
    },
    {
     "name": "stdout",
     "output_type": "stream",
     "text": [
      "[CV] END ....................................C=1, epsilon=10; total time=  22.6s\n",
      "[CV] END ....................................C=1, epsilon=10; total time=  11.1s\n",
      "[CV] END ....................................C=1, epsilon=10; total time=   9.0s\n",
      "[CV] END ....................................C=1, epsilon=10; total time=  13.2s\n",
      "[CV] END ....................................C=1, epsilon=10; total time=   7.3s\n",
      "[CV] END ....................................C=1, epsilon=10; total time=   4.7s\n",
      "[CV] END ....................................C=1, epsilon=10; total time=   4.6s\n",
      "[CV] END ....................................C=1, epsilon=10; total time=   3.5s\n",
      "[CV] END ....................................C=1, epsilon=10; total time=   2.3s\n",
      "[CV] END ....................................C=1, epsilon=10; total time=   2.2s\n",
      "[CV] END ....................................C=1, epsilon=10; total time=   2.8s\n",
      "[CV] END ....................................C=1, epsilon=10; total time=   3.1s\n",
      "[CV] END ....................................C=1, epsilon=10; total time=   2.4s\n",
      "[CV] END ....................................C=1, epsilon=10; total time=   1.8s\n",
      "[CV] END ....................................C=1, epsilon=10; total time=   2.5s\n",
      "[CV] END ....................................C=1, epsilon=10; total time=   3.0s\n",
      "[CV] END ....................................C=1, epsilon=10; total time=   3.2s\n",
      "[CV] END ....................................C=1, epsilon=10; total time=   4.0s\n",
      "[CV] END ....................................C=1, epsilon=10; total time=   3.5s\n",
      "[CV] END ....................................C=1, epsilon=10; total time=   3.9s\n",
      "[CV] END ....................................C=1, epsilon=10; total time=   3.4s\n",
      "[CV] END .....................................C=5, epsilon=0; total time=   2.0s\n",
      "[CV] END .....................................C=5, epsilon=0; total time=   1.6s\n",
      "[CV] END .....................................C=5, epsilon=0; total time=   1.1s\n",
      "[CV] END .....................................C=5, epsilon=0; total time=   0.5s\n",
      "[CV] END .....................................C=5, epsilon=0; total time=   2.1s\n",
      "[CV] END .....................................C=5, epsilon=0; total time=   1.4s\n",
      "[CV] END .....................................C=5, epsilon=0; total time=   1.6s\n",
      "[CV] END .....................................C=5, epsilon=0; total time=   1.2s\n",
      "[CV] END .....................................C=5, epsilon=0; total time=   0.3s\n",
      "[CV] END .....................................C=5, epsilon=0; total time=   3.4s\n",
      "[CV] END .....................................C=5, epsilon=0; total time=  17.1s\n",
      "[CV] END .....................................C=5, epsilon=0; total time=  15.1s\n"
     ]
    },
    {
     "name": "stderr",
     "output_type": "stream",
     "text": [
      "/anaconda3/lib/python3.7/site-packages/sklearn/svm/_base.py:986: ConvergenceWarning: Liblinear failed to converge, increase the number of iterations.\n",
      "  \"the number of iterations.\", ConvergenceWarning)\n"
     ]
    },
    {
     "name": "stdout",
     "output_type": "stream",
     "text": [
      "[CV] END .....................................C=5, epsilon=0; total time=  25.1s\n"
     ]
    },
    {
     "name": "stderr",
     "output_type": "stream",
     "text": [
      "/anaconda3/lib/python3.7/site-packages/sklearn/svm/_base.py:986: ConvergenceWarning: Liblinear failed to converge, increase the number of iterations.\n",
      "  \"the number of iterations.\", ConvergenceWarning)\n"
     ]
    },
    {
     "name": "stdout",
     "output_type": "stream",
     "text": [
      "[CV] END .....................................C=5, epsilon=0; total time=  29.0s\n"
     ]
    },
    {
     "name": "stderr",
     "output_type": "stream",
     "text": [
      "/anaconda3/lib/python3.7/site-packages/sklearn/svm/_base.py:986: ConvergenceWarning: Liblinear failed to converge, increase the number of iterations.\n",
      "  \"the number of iterations.\", ConvergenceWarning)\n"
     ]
    },
    {
     "name": "stdout",
     "output_type": "stream",
     "text": [
      "[CV] END .....................................C=5, epsilon=0; total time=  28.3s\n"
     ]
    },
    {
     "name": "stderr",
     "output_type": "stream",
     "text": [
      "/anaconda3/lib/python3.7/site-packages/sklearn/svm/_base.py:986: ConvergenceWarning: Liblinear failed to converge, increase the number of iterations.\n",
      "  \"the number of iterations.\", ConvergenceWarning)\n"
     ]
    },
    {
     "name": "stdout",
     "output_type": "stream",
     "text": [
      "[CV] END .....................................C=5, epsilon=0; total time=  30.8s\n"
     ]
    },
    {
     "name": "stderr",
     "output_type": "stream",
     "text": [
      "/anaconda3/lib/python3.7/site-packages/sklearn/svm/_base.py:986: ConvergenceWarning: Liblinear failed to converge, increase the number of iterations.\n",
      "  \"the number of iterations.\", ConvergenceWarning)\n"
     ]
    },
    {
     "name": "stdout",
     "output_type": "stream",
     "text": [
      "[CV] END .....................................C=5, epsilon=0; total time=  29.9s\n"
     ]
    },
    {
     "name": "stderr",
     "output_type": "stream",
     "text": [
      "/anaconda3/lib/python3.7/site-packages/sklearn/svm/_base.py:986: ConvergenceWarning: Liblinear failed to converge, increase the number of iterations.\n",
      "  \"the number of iterations.\", ConvergenceWarning)\n"
     ]
    },
    {
     "name": "stdout",
     "output_type": "stream",
     "text": [
      "[CV] END .....................................C=5, epsilon=0; total time=  28.9s\n"
     ]
    },
    {
     "name": "stderr",
     "output_type": "stream",
     "text": [
      "/anaconda3/lib/python3.7/site-packages/sklearn/svm/_base.py:986: ConvergenceWarning: Liblinear failed to converge, increase the number of iterations.\n",
      "  \"the number of iterations.\", ConvergenceWarning)\n"
     ]
    },
    {
     "name": "stdout",
     "output_type": "stream",
     "text": [
      "[CV] END .....................................C=5, epsilon=0; total time=  27.9s\n"
     ]
    },
    {
     "name": "stderr",
     "output_type": "stream",
     "text": [
      "/anaconda3/lib/python3.7/site-packages/sklearn/svm/_base.py:986: ConvergenceWarning: Liblinear failed to converge, increase the number of iterations.\n",
      "  \"the number of iterations.\", ConvergenceWarning)\n"
     ]
    },
    {
     "name": "stdout",
     "output_type": "stream",
     "text": [
      "[CV] END .....................................C=5, epsilon=0; total time=  27.1s\n"
     ]
    },
    {
     "name": "stderr",
     "output_type": "stream",
     "text": [
      "/anaconda3/lib/python3.7/site-packages/sklearn/svm/_base.py:986: ConvergenceWarning: Liblinear failed to converge, increase the number of iterations.\n",
      "  \"the number of iterations.\", ConvergenceWarning)\n"
     ]
    },
    {
     "name": "stdout",
     "output_type": "stream",
     "text": [
      "[CV] END .....................................C=5, epsilon=0; total time=  34.3s\n"
     ]
    },
    {
     "name": "stderr",
     "output_type": "stream",
     "text": [
      "/anaconda3/lib/python3.7/site-packages/sklearn/svm/_base.py:986: ConvergenceWarning: Liblinear failed to converge, increase the number of iterations.\n",
      "  \"the number of iterations.\", ConvergenceWarning)\n"
     ]
    },
    {
     "name": "stdout",
     "output_type": "stream",
     "text": [
      "[CV] END .....................................C=5, epsilon=0; total time=  29.4s\n",
      "[CV] END .....................................C=5, epsilon=0; total time=  27.4s\n"
     ]
    },
    {
     "name": "stderr",
     "output_type": "stream",
     "text": [
      "/anaconda3/lib/python3.7/site-packages/sklearn/svm/_base.py:986: ConvergenceWarning: Liblinear failed to converge, increase the number of iterations.\n",
      "  \"the number of iterations.\", ConvergenceWarning)\n"
     ]
    },
    {
     "name": "stdout",
     "output_type": "stream",
     "text": [
      "[CV] END .....................................C=5, epsilon=0; total time=  29.7s\n"
     ]
    },
    {
     "name": "stderr",
     "output_type": "stream",
     "text": [
      "/anaconda3/lib/python3.7/site-packages/sklearn/svm/_base.py:986: ConvergenceWarning: Liblinear failed to converge, increase the number of iterations.\n",
      "  \"the number of iterations.\", ConvergenceWarning)\n"
     ]
    },
    {
     "name": "stdout",
     "output_type": "stream",
     "text": [
      "[CV] END .....................................C=5, epsilon=0; total time=  30.2s\n"
     ]
    },
    {
     "name": "stderr",
     "output_type": "stream",
     "text": [
      "/anaconda3/lib/python3.7/site-packages/sklearn/svm/_base.py:986: ConvergenceWarning: Liblinear failed to converge, increase the number of iterations.\n",
      "  \"the number of iterations.\", ConvergenceWarning)\n"
     ]
    },
    {
     "name": "stdout",
     "output_type": "stream",
     "text": [
      "[CV] END .....................................C=5, epsilon=0; total time=  25.5s\n"
     ]
    },
    {
     "name": "stderr",
     "output_type": "stream",
     "text": [
      "/anaconda3/lib/python3.7/site-packages/sklearn/svm/_base.py:986: ConvergenceWarning: Liblinear failed to converge, increase the number of iterations.\n",
      "  \"the number of iterations.\", ConvergenceWarning)\n"
     ]
    },
    {
     "name": "stdout",
     "output_type": "stream",
     "text": [
      "[CV] END .....................................C=5, epsilon=0; total time=  26.7s\n"
     ]
    },
    {
     "name": "stderr",
     "output_type": "stream",
     "text": [
      "/anaconda3/lib/python3.7/site-packages/sklearn/svm/_base.py:986: ConvergenceWarning: Liblinear failed to converge, increase the number of iterations.\n",
      "  \"the number of iterations.\", ConvergenceWarning)\n"
     ]
    },
    {
     "name": "stdout",
     "output_type": "stream",
     "text": [
      "[CV] END .....................................C=5, epsilon=0; total time=  25.5s\n"
     ]
    },
    {
     "name": "stderr",
     "output_type": "stream",
     "text": [
      "/anaconda3/lib/python3.7/site-packages/sklearn/svm/_base.py:986: ConvergenceWarning: Liblinear failed to converge, increase the number of iterations.\n",
      "  \"the number of iterations.\", ConvergenceWarning)\n"
     ]
    },
    {
     "name": "stdout",
     "output_type": "stream",
     "text": [
      "[CV] END .....................................C=5, epsilon=0; total time=  25.4s\n"
     ]
    },
    {
     "name": "stderr",
     "output_type": "stream",
     "text": [
      "/anaconda3/lib/python3.7/site-packages/sklearn/svm/_base.py:986: ConvergenceWarning: Liblinear failed to converge, increase the number of iterations.\n",
      "  \"the number of iterations.\", ConvergenceWarning)\n"
     ]
    },
    {
     "name": "stdout",
     "output_type": "stream",
     "text": [
      "[CV] END .....................................C=5, epsilon=0; total time=  23.9s\n"
     ]
    },
    {
     "name": "stderr",
     "output_type": "stream",
     "text": [
      "/anaconda3/lib/python3.7/site-packages/sklearn/svm/_base.py:986: ConvergenceWarning: Liblinear failed to converge, increase the number of iterations.\n",
      "  \"the number of iterations.\", ConvergenceWarning)\n"
     ]
    },
    {
     "name": "stdout",
     "output_type": "stream",
     "text": [
      "[CV] END .....................................C=5, epsilon=0; total time=  23.4s\n",
      "[CV] END .....................................C=5, epsilon=0; total time=  13.7s\n"
     ]
    },
    {
     "name": "stderr",
     "output_type": "stream",
     "text": [
      "/anaconda3/lib/python3.7/site-packages/sklearn/svm/_base.py:986: ConvergenceWarning: Liblinear failed to converge, increase the number of iterations.\n",
      "  \"the number of iterations.\", ConvergenceWarning)\n"
     ]
    },
    {
     "name": "stdout",
     "output_type": "stream",
     "text": [
      "[CV] END .....................................C=5, epsilon=0; total time=  19.0s\n"
     ]
    },
    {
     "name": "stderr",
     "output_type": "stream",
     "text": [
      "/anaconda3/lib/python3.7/site-packages/sklearn/svm/_base.py:986: ConvergenceWarning: Liblinear failed to converge, increase the number of iterations.\n",
      "  \"the number of iterations.\", ConvergenceWarning)\n"
     ]
    },
    {
     "name": "stdout",
     "output_type": "stream",
     "text": [
      "[CV] END .....................................C=5, epsilon=0; total time=  26.6s\n",
      "[CV] END .....................................C=5, epsilon=0; total time=  18.3s\n"
     ]
    },
    {
     "name": "stderr",
     "output_type": "stream",
     "text": [
      "/anaconda3/lib/python3.7/site-packages/sklearn/svm/_base.py:986: ConvergenceWarning: Liblinear failed to converge, increase the number of iterations.\n",
      "  \"the number of iterations.\", ConvergenceWarning)\n"
     ]
    },
    {
     "name": "stdout",
     "output_type": "stream",
     "text": [
      "[CV] END .....................................C=5, epsilon=0; total time=  27.0s\n"
     ]
    },
    {
     "name": "stderr",
     "output_type": "stream",
     "text": [
      "/anaconda3/lib/python3.7/site-packages/sklearn/svm/_base.py:986: ConvergenceWarning: Liblinear failed to converge, increase the number of iterations.\n",
      "  \"the number of iterations.\", ConvergenceWarning)\n"
     ]
    },
    {
     "name": "stdout",
     "output_type": "stream",
     "text": [
      "[CV] END .....................................C=5, epsilon=0; total time=  28.7s\n"
     ]
    },
    {
     "name": "stderr",
     "output_type": "stream",
     "text": [
      "/anaconda3/lib/python3.7/site-packages/sklearn/svm/_base.py:986: ConvergenceWarning: Liblinear failed to converge, increase the number of iterations.\n",
      "  \"the number of iterations.\", ConvergenceWarning)\n"
     ]
    },
    {
     "name": "stdout",
     "output_type": "stream",
     "text": [
      "[CV] END .....................................C=5, epsilon=0; total time=  28.9s\n"
     ]
    },
    {
     "name": "stderr",
     "output_type": "stream",
     "text": [
      "/anaconda3/lib/python3.7/site-packages/sklearn/svm/_base.py:986: ConvergenceWarning: Liblinear failed to converge, increase the number of iterations.\n",
      "  \"the number of iterations.\", ConvergenceWarning)\n"
     ]
    },
    {
     "name": "stdout",
     "output_type": "stream",
     "text": [
      "[CV] END .....................................C=5, epsilon=0; total time=  31.1s\n",
      "[CV] END .....................................C=5, epsilon=5; total time=   1.0s\n",
      "[CV] END .....................................C=5, epsilon=5; total time=   1.8s\n",
      "[CV] END .....................................C=5, epsilon=5; total time=   1.3s\n",
      "[CV] END .....................................C=5, epsilon=5; total time=   0.8s\n",
      "[CV] END .....................................C=5, epsilon=5; total time=   1.2s\n",
      "[CV] END .....................................C=5, epsilon=5; total time=   0.9s\n",
      "[CV] END .....................................C=5, epsilon=5; total time=   1.4s\n",
      "[CV] END .....................................C=5, epsilon=5; total time=   0.6s\n",
      "[CV] END .....................................C=5, epsilon=5; total time=   0.2s\n",
      "[CV] END .....................................C=5, epsilon=5; total time=   3.7s\n"
     ]
    },
    {
     "name": "stderr",
     "output_type": "stream",
     "text": [
      "/anaconda3/lib/python3.7/site-packages/sklearn/svm/_base.py:986: ConvergenceWarning: Liblinear failed to converge, increase the number of iterations.\n",
      "  \"the number of iterations.\", ConvergenceWarning)\n"
     ]
    },
    {
     "name": "stdout",
     "output_type": "stream",
     "text": [
      "[CV] END .....................................C=5, epsilon=5; total time=  17.4s\n"
     ]
    },
    {
     "name": "stderr",
     "output_type": "stream",
     "text": [
      "/anaconda3/lib/python3.7/site-packages/sklearn/svm/_base.py:986: ConvergenceWarning: Liblinear failed to converge, increase the number of iterations.\n",
      "  \"the number of iterations.\", ConvergenceWarning)\n"
     ]
    },
    {
     "name": "stdout",
     "output_type": "stream",
     "text": [
      "[CV] END .....................................C=5, epsilon=5; total time=  21.2s\n",
      "[CV] END .....................................C=5, epsilon=5; total time=  22.9s\n"
     ]
    },
    {
     "name": "stderr",
     "output_type": "stream",
     "text": [
      "/anaconda3/lib/python3.7/site-packages/sklearn/svm/_base.py:986: ConvergenceWarning: Liblinear failed to converge, increase the number of iterations.\n",
      "  \"the number of iterations.\", ConvergenceWarning)\n"
     ]
    },
    {
     "name": "stdout",
     "output_type": "stream",
     "text": [
      "[CV] END .....................................C=5, epsilon=5; total time=  27.6s\n"
     ]
    },
    {
     "name": "stderr",
     "output_type": "stream",
     "text": [
      "/anaconda3/lib/python3.7/site-packages/sklearn/svm/_base.py:986: ConvergenceWarning: Liblinear failed to converge, increase the number of iterations.\n",
      "  \"the number of iterations.\", ConvergenceWarning)\n"
     ]
    },
    {
     "name": "stdout",
     "output_type": "stream",
     "text": [
      "[CV] END .....................................C=5, epsilon=5; total time=  31.1s\n"
     ]
    },
    {
     "name": "stderr",
     "output_type": "stream",
     "text": [
      "/anaconda3/lib/python3.7/site-packages/sklearn/svm/_base.py:986: ConvergenceWarning: Liblinear failed to converge, increase the number of iterations.\n",
      "  \"the number of iterations.\", ConvergenceWarning)\n"
     ]
    },
    {
     "name": "stdout",
     "output_type": "stream",
     "text": [
      "[CV] END .....................................C=5, epsilon=5; total time=  29.5s\n"
     ]
    },
    {
     "name": "stderr",
     "output_type": "stream",
     "text": [
      "/anaconda3/lib/python3.7/site-packages/sklearn/svm/_base.py:986: ConvergenceWarning: Liblinear failed to converge, increase the number of iterations.\n",
      "  \"the number of iterations.\", ConvergenceWarning)\n"
     ]
    },
    {
     "name": "stdout",
     "output_type": "stream",
     "text": [
      "[CV] END .....................................C=5, epsilon=5; total time=  30.4s\n"
     ]
    },
    {
     "name": "stderr",
     "output_type": "stream",
     "text": [
      "/anaconda3/lib/python3.7/site-packages/sklearn/svm/_base.py:986: ConvergenceWarning: Liblinear failed to converge, increase the number of iterations.\n",
      "  \"the number of iterations.\", ConvergenceWarning)\n"
     ]
    },
    {
     "name": "stdout",
     "output_type": "stream",
     "text": [
      "[CV] END .....................................C=5, epsilon=5; total time=  27.6s\n"
     ]
    },
    {
     "name": "stderr",
     "output_type": "stream",
     "text": [
      "/anaconda3/lib/python3.7/site-packages/sklearn/svm/_base.py:986: ConvergenceWarning: Liblinear failed to converge, increase the number of iterations.\n",
      "  \"the number of iterations.\", ConvergenceWarning)\n"
     ]
    },
    {
     "name": "stdout",
     "output_type": "stream",
     "text": [
      "[CV] END .....................................C=5, epsilon=5; total time=  25.4s\n"
     ]
    },
    {
     "name": "stderr",
     "output_type": "stream",
     "text": [
      "/anaconda3/lib/python3.7/site-packages/sklearn/svm/_base.py:986: ConvergenceWarning: Liblinear failed to converge, increase the number of iterations.\n",
      "  \"the number of iterations.\", ConvergenceWarning)\n"
     ]
    },
    {
     "name": "stdout",
     "output_type": "stream",
     "text": [
      "[CV] END .....................................C=5, epsilon=5; total time=  24.6s\n"
     ]
    },
    {
     "name": "stderr",
     "output_type": "stream",
     "text": [
      "/anaconda3/lib/python3.7/site-packages/sklearn/svm/_base.py:986: ConvergenceWarning: Liblinear failed to converge, increase the number of iterations.\n",
      "  \"the number of iterations.\", ConvergenceWarning)\n"
     ]
    },
    {
     "name": "stdout",
     "output_type": "stream",
     "text": [
      "[CV] END .....................................C=5, epsilon=5; total time=  24.5s\n"
     ]
    },
    {
     "name": "stderr",
     "output_type": "stream",
     "text": [
      "/anaconda3/lib/python3.7/site-packages/sklearn/svm/_base.py:986: ConvergenceWarning: Liblinear failed to converge, increase the number of iterations.\n",
      "  \"the number of iterations.\", ConvergenceWarning)\n"
     ]
    },
    {
     "name": "stdout",
     "output_type": "stream",
     "text": [
      "[CV] END .....................................C=5, epsilon=5; total time=  24.4s\n"
     ]
    },
    {
     "name": "stderr",
     "output_type": "stream",
     "text": [
      "/anaconda3/lib/python3.7/site-packages/sklearn/svm/_base.py:986: ConvergenceWarning: Liblinear failed to converge, increase the number of iterations.\n",
      "  \"the number of iterations.\", ConvergenceWarning)\n"
     ]
    },
    {
     "name": "stdout",
     "output_type": "stream",
     "text": [
      "[CV] END .....................................C=5, epsilon=5; total time=  23.4s\n"
     ]
    },
    {
     "name": "stderr",
     "output_type": "stream",
     "text": [
      "/anaconda3/lib/python3.7/site-packages/sklearn/svm/_base.py:986: ConvergenceWarning: Liblinear failed to converge, increase the number of iterations.\n",
      "  \"the number of iterations.\", ConvergenceWarning)\n"
     ]
    },
    {
     "name": "stdout",
     "output_type": "stream",
     "text": [
      "[CV] END .....................................C=5, epsilon=5; total time=  23.4s\n"
     ]
    },
    {
     "name": "stderr",
     "output_type": "stream",
     "text": [
      "/anaconda3/lib/python3.7/site-packages/sklearn/svm/_base.py:986: ConvergenceWarning: Liblinear failed to converge, increase the number of iterations.\n",
      "  \"the number of iterations.\", ConvergenceWarning)\n"
     ]
    },
    {
     "name": "stdout",
     "output_type": "stream",
     "text": [
      "[CV] END .....................................C=5, epsilon=5; total time=  22.8s\n",
      "[CV] END .....................................C=5, epsilon=5; total time=  18.7s\n"
     ]
    },
    {
     "name": "stderr",
     "output_type": "stream",
     "text": [
      "/anaconda3/lib/python3.7/site-packages/sklearn/svm/_base.py:986: ConvergenceWarning: Liblinear failed to converge, increase the number of iterations.\n",
      "  \"the number of iterations.\", ConvergenceWarning)\n"
     ]
    },
    {
     "name": "stdout",
     "output_type": "stream",
     "text": [
      "[CV] END .....................................C=5, epsilon=5; total time=  20.0s\n"
     ]
    },
    {
     "name": "stderr",
     "output_type": "stream",
     "text": [
      "/anaconda3/lib/python3.7/site-packages/sklearn/svm/_base.py:986: ConvergenceWarning: Liblinear failed to converge, increase the number of iterations.\n",
      "  \"the number of iterations.\", ConvergenceWarning)\n"
     ]
    },
    {
     "name": "stdout",
     "output_type": "stream",
     "text": [
      "[CV] END .....................................C=5, epsilon=5; total time=  16.6s\n",
      "[CV] END .....................................C=5, epsilon=5; total time=  16.3s\n"
     ]
    },
    {
     "name": "stderr",
     "output_type": "stream",
     "text": [
      "/anaconda3/lib/python3.7/site-packages/sklearn/svm/_base.py:986: ConvergenceWarning: Liblinear failed to converge, increase the number of iterations.\n",
      "  \"the number of iterations.\", ConvergenceWarning)\n"
     ]
    },
    {
     "name": "stdout",
     "output_type": "stream",
     "text": [
      "[CV] END .....................................C=5, epsilon=5; total time=  20.6s\n"
     ]
    },
    {
     "name": "stderr",
     "output_type": "stream",
     "text": [
      "/anaconda3/lib/python3.7/site-packages/sklearn/svm/_base.py:986: ConvergenceWarning: Liblinear failed to converge, increase the number of iterations.\n",
      "  \"the number of iterations.\", ConvergenceWarning)\n"
     ]
    },
    {
     "name": "stdout",
     "output_type": "stream",
     "text": [
      "[CV] END .....................................C=5, epsilon=5; total time=  15.2s\n",
      "[CV] END .....................................C=5, epsilon=5; total time=  11.7s\n",
      "[CV] END .....................................C=5, epsilon=5; total time=   9.8s\n"
     ]
    },
    {
     "name": "stderr",
     "output_type": "stream",
     "text": [
      "/anaconda3/lib/python3.7/site-packages/sklearn/svm/_base.py:986: ConvergenceWarning: Liblinear failed to converge, increase the number of iterations.\n",
      "  \"the number of iterations.\", ConvergenceWarning)\n"
     ]
    },
    {
     "name": "stdout",
     "output_type": "stream",
     "text": [
      "[CV] END .....................................C=5, epsilon=5; total time=  20.7s\n"
     ]
    },
    {
     "name": "stderr",
     "output_type": "stream",
     "text": [
      "/anaconda3/lib/python3.7/site-packages/sklearn/svm/_base.py:986: ConvergenceWarning: Liblinear failed to converge, increase the number of iterations.\n",
      "  \"the number of iterations.\", ConvergenceWarning)\n"
     ]
    },
    {
     "name": "stdout",
     "output_type": "stream",
     "text": [
      "[CV] END .....................................C=5, epsilon=5; total time=  19.9s\n"
     ]
    },
    {
     "name": "stderr",
     "output_type": "stream",
     "text": [
      "/anaconda3/lib/python3.7/site-packages/sklearn/svm/_base.py:986: ConvergenceWarning: Liblinear failed to converge, increase the number of iterations.\n",
      "  \"the number of iterations.\", ConvergenceWarning)\n"
     ]
    },
    {
     "name": "stdout",
     "output_type": "stream",
     "text": [
      "[CV] END .....................................C=5, epsilon=5; total time=  19.4s\n"
     ]
    },
    {
     "name": "stderr",
     "output_type": "stream",
     "text": [
      "/anaconda3/lib/python3.7/site-packages/sklearn/svm/_base.py:986: ConvergenceWarning: Liblinear failed to converge, increase the number of iterations.\n",
      "  \"the number of iterations.\", ConvergenceWarning)\n"
     ]
    },
    {
     "name": "stdout",
     "output_type": "stream",
     "text": [
      "[CV] END .....................................C=5, epsilon=5; total time=  20.7s\n"
     ]
    },
    {
     "name": "stderr",
     "output_type": "stream",
     "text": [
      "/anaconda3/lib/python3.7/site-packages/sklearn/svm/_base.py:986: ConvergenceWarning: Liblinear failed to converge, increase the number of iterations.\n",
      "  \"the number of iterations.\", ConvergenceWarning)\n"
     ]
    },
    {
     "name": "stdout",
     "output_type": "stream",
     "text": [
      "[CV] END .....................................C=5, epsilon=5; total time=  12.3s\n"
     ]
    },
    {
     "name": "stderr",
     "output_type": "stream",
     "text": [
      "/anaconda3/lib/python3.7/site-packages/sklearn/svm/_base.py:986: ConvergenceWarning: Liblinear failed to converge, increase the number of iterations.\n",
      "  \"the number of iterations.\", ConvergenceWarning)\n"
     ]
    },
    {
     "name": "stdout",
     "output_type": "stream",
     "text": [
      "[CV] END .....................................C=5, epsilon=5; total time=  17.8s\n",
      "[CV] END ....................................C=5, epsilon=10; total time=   0.4s\n",
      "[CV] END ....................................C=5, epsilon=10; total time=   0.6s\n",
      "[CV] END ....................................C=5, epsilon=10; total time=   0.6s\n",
      "[CV] END ....................................C=5, epsilon=10; total time=   0.4s\n",
      "[CV] END ....................................C=5, epsilon=10; total time=   0.4s\n",
      "[CV] END ....................................C=5, epsilon=10; total time=   0.4s\n",
      "[CV] END ....................................C=5, epsilon=10; total time=   0.6s\n",
      "[CV] END ....................................C=5, epsilon=10; total time=   0.4s\n",
      "[CV] END ....................................C=5, epsilon=10; total time=   0.2s\n",
      "[CV] END ....................................C=5, epsilon=10; total time=   2.3s\n",
      "[CV] END ....................................C=5, epsilon=10; total time=   5.5s\n"
     ]
    },
    {
     "name": "stderr",
     "output_type": "stream",
     "text": [
      "/anaconda3/lib/python3.7/site-packages/sklearn/svm/_base.py:986: ConvergenceWarning: Liblinear failed to converge, increase the number of iterations.\n",
      "  \"the number of iterations.\", ConvergenceWarning)\n"
     ]
    },
    {
     "name": "stdout",
     "output_type": "stream",
     "text": [
      "[CV] END ....................................C=5, epsilon=10; total time=  11.8s\n"
     ]
    },
    {
     "name": "stderr",
     "output_type": "stream",
     "text": [
      "/anaconda3/lib/python3.7/site-packages/sklearn/svm/_base.py:986: ConvergenceWarning: Liblinear failed to converge, increase the number of iterations.\n",
      "  \"the number of iterations.\", ConvergenceWarning)\n"
     ]
    },
    {
     "name": "stdout",
     "output_type": "stream",
     "text": [
      "[CV] END ....................................C=5, epsilon=10; total time=  23.8s\n"
     ]
    },
    {
     "name": "stderr",
     "output_type": "stream",
     "text": [
      "/anaconda3/lib/python3.7/site-packages/sklearn/svm/_base.py:986: ConvergenceWarning: Liblinear failed to converge, increase the number of iterations.\n",
      "  \"the number of iterations.\", ConvergenceWarning)\n"
     ]
    },
    {
     "name": "stdout",
     "output_type": "stream",
     "text": [
      "[CV] END ....................................C=5, epsilon=10; total time=  24.3s\n"
     ]
    },
    {
     "name": "stderr",
     "output_type": "stream",
     "text": [
      "/anaconda3/lib/python3.7/site-packages/sklearn/svm/_base.py:986: ConvergenceWarning: Liblinear failed to converge, increase the number of iterations.\n",
      "  \"the number of iterations.\", ConvergenceWarning)\n"
     ]
    },
    {
     "name": "stdout",
     "output_type": "stream",
     "text": [
      "[CV] END ....................................C=5, epsilon=10; total time=  25.0s\n"
     ]
    },
    {
     "name": "stderr",
     "output_type": "stream",
     "text": [
      "/anaconda3/lib/python3.7/site-packages/sklearn/svm/_base.py:986: ConvergenceWarning: Liblinear failed to converge, increase the number of iterations.\n",
      "  \"the number of iterations.\", ConvergenceWarning)\n"
     ]
    },
    {
     "name": "stdout",
     "output_type": "stream",
     "text": [
      "[CV] END ....................................C=5, epsilon=10; total time=  24.4s\n"
     ]
    },
    {
     "name": "stderr",
     "output_type": "stream",
     "text": [
      "/anaconda3/lib/python3.7/site-packages/sklearn/svm/_base.py:986: ConvergenceWarning: Liblinear failed to converge, increase the number of iterations.\n",
      "  \"the number of iterations.\", ConvergenceWarning)\n"
     ]
    },
    {
     "name": "stdout",
     "output_type": "stream",
     "text": [
      "[CV] END ....................................C=5, epsilon=10; total time=  24.3s\n"
     ]
    },
    {
     "name": "stderr",
     "output_type": "stream",
     "text": [
      "/anaconda3/lib/python3.7/site-packages/sklearn/svm/_base.py:986: ConvergenceWarning: Liblinear failed to converge, increase the number of iterations.\n",
      "  \"the number of iterations.\", ConvergenceWarning)\n"
     ]
    },
    {
     "name": "stdout",
     "output_type": "stream",
     "text": [
      "[CV] END ....................................C=5, epsilon=10; total time=  24.1s\n"
     ]
    },
    {
     "name": "stderr",
     "output_type": "stream",
     "text": [
      "/anaconda3/lib/python3.7/site-packages/sklearn/svm/_base.py:986: ConvergenceWarning: Liblinear failed to converge, increase the number of iterations.\n",
      "  \"the number of iterations.\", ConvergenceWarning)\n"
     ]
    },
    {
     "name": "stdout",
     "output_type": "stream",
     "text": [
      "[CV] END ....................................C=5, epsilon=10; total time=  24.3s\n"
     ]
    },
    {
     "name": "stderr",
     "output_type": "stream",
     "text": [
      "/anaconda3/lib/python3.7/site-packages/sklearn/svm/_base.py:986: ConvergenceWarning: Liblinear failed to converge, increase the number of iterations.\n",
      "  \"the number of iterations.\", ConvergenceWarning)\n"
     ]
    },
    {
     "name": "stdout",
     "output_type": "stream",
     "text": [
      "[CV] END ....................................C=5, epsilon=10; total time=  23.4s\n"
     ]
    },
    {
     "name": "stderr",
     "output_type": "stream",
     "text": [
      "/anaconda3/lib/python3.7/site-packages/sklearn/svm/_base.py:986: ConvergenceWarning: Liblinear failed to converge, increase the number of iterations.\n",
      "  \"the number of iterations.\", ConvergenceWarning)\n"
     ]
    },
    {
     "name": "stdout",
     "output_type": "stream",
     "text": [
      "[CV] END ....................................C=5, epsilon=10; total time=  23.6s\n"
     ]
    },
    {
     "name": "stderr",
     "output_type": "stream",
     "text": [
      "/anaconda3/lib/python3.7/site-packages/sklearn/svm/_base.py:986: ConvergenceWarning: Liblinear failed to converge, increase the number of iterations.\n",
      "  \"the number of iterations.\", ConvergenceWarning)\n"
     ]
    },
    {
     "name": "stdout",
     "output_type": "stream",
     "text": [
      "[CV] END ....................................C=5, epsilon=10; total time=  23.1s\n"
     ]
    },
    {
     "name": "stderr",
     "output_type": "stream",
     "text": [
      "/anaconda3/lib/python3.7/site-packages/sklearn/svm/_base.py:986: ConvergenceWarning: Liblinear failed to converge, increase the number of iterations.\n",
      "  \"the number of iterations.\", ConvergenceWarning)\n"
     ]
    },
    {
     "name": "stdout",
     "output_type": "stream",
     "text": [
      "[CV] END ....................................C=5, epsilon=10; total time=  22.5s\n"
     ]
    },
    {
     "name": "stderr",
     "output_type": "stream",
     "text": [
      "/anaconda3/lib/python3.7/site-packages/sklearn/svm/_base.py:986: ConvergenceWarning: Liblinear failed to converge, increase the number of iterations.\n",
      "  \"the number of iterations.\", ConvergenceWarning)\n"
     ]
    },
    {
     "name": "stdout",
     "output_type": "stream",
     "text": [
      "[CV] END ....................................C=5, epsilon=10; total time=  16.9s\n"
     ]
    },
    {
     "name": "stderr",
     "output_type": "stream",
     "text": [
      "/anaconda3/lib/python3.7/site-packages/sklearn/svm/_base.py:986: ConvergenceWarning: Liblinear failed to converge, increase the number of iterations.\n",
      "  \"the number of iterations.\", ConvergenceWarning)\n"
     ]
    },
    {
     "name": "stdout",
     "output_type": "stream",
     "text": [
      "[CV] END ....................................C=5, epsilon=10; total time=  17.6s\n"
     ]
    },
    {
     "name": "stderr",
     "output_type": "stream",
     "text": [
      "/anaconda3/lib/python3.7/site-packages/sklearn/svm/_base.py:986: ConvergenceWarning: Liblinear failed to converge, increase the number of iterations.\n",
      "  \"the number of iterations.\", ConvergenceWarning)\n"
     ]
    },
    {
     "name": "stdout",
     "output_type": "stream",
     "text": [
      "[CV] END ....................................C=5, epsilon=10; total time=  11.9s\n"
     ]
    },
    {
     "name": "stderr",
     "output_type": "stream",
     "text": [
      "/anaconda3/lib/python3.7/site-packages/sklearn/svm/_base.py:986: ConvergenceWarning: Liblinear failed to converge, increase the number of iterations.\n",
      "  \"the number of iterations.\", ConvergenceWarning)\n"
     ]
    },
    {
     "name": "stdout",
     "output_type": "stream",
     "text": [
      "[CV] END ....................................C=5, epsilon=10; total time=   8.0s\n"
     ]
    },
    {
     "name": "stderr",
     "output_type": "stream",
     "text": [
      "/anaconda3/lib/python3.7/site-packages/sklearn/svm/_base.py:986: ConvergenceWarning: Liblinear failed to converge, increase the number of iterations.\n",
      "  \"the number of iterations.\", ConvergenceWarning)\n"
     ]
    },
    {
     "name": "stdout",
     "output_type": "stream",
     "text": [
      "[CV] END ....................................C=5, epsilon=10; total time=   8.9s\n"
     ]
    },
    {
     "name": "stderr",
     "output_type": "stream",
     "text": [
      "/anaconda3/lib/python3.7/site-packages/sklearn/svm/_base.py:986: ConvergenceWarning: Liblinear failed to converge, increase the number of iterations.\n",
      "  \"the number of iterations.\", ConvergenceWarning)\n"
     ]
    },
    {
     "name": "stdout",
     "output_type": "stream",
     "text": [
      "[CV] END ....................................C=5, epsilon=10; total time=  11.0s\n"
     ]
    },
    {
     "name": "stderr",
     "output_type": "stream",
     "text": [
      "/anaconda3/lib/python3.7/site-packages/sklearn/svm/_base.py:986: ConvergenceWarning: Liblinear failed to converge, increase the number of iterations.\n",
      "  \"the number of iterations.\", ConvergenceWarning)\n"
     ]
    },
    {
     "name": "stdout",
     "output_type": "stream",
     "text": [
      "[CV] END ....................................C=5, epsilon=10; total time=   9.5s\n"
     ]
    },
    {
     "name": "stderr",
     "output_type": "stream",
     "text": [
      "/anaconda3/lib/python3.7/site-packages/sklearn/svm/_base.py:986: ConvergenceWarning: Liblinear failed to converge, increase the number of iterations.\n",
      "  \"the number of iterations.\", ConvergenceWarning)\n"
     ]
    },
    {
     "name": "stdout",
     "output_type": "stream",
     "text": [
      "[CV] END ....................................C=5, epsilon=10; total time=  12.6s\n",
      "[CV] END ....................................C=5, epsilon=10; total time=   8.6s\n"
     ]
    },
    {
     "name": "stderr",
     "output_type": "stream",
     "text": [
      "/anaconda3/lib/python3.7/site-packages/sklearn/svm/_base.py:986: ConvergenceWarning: Liblinear failed to converge, increase the number of iterations.\n",
      "  \"the number of iterations.\", ConvergenceWarning)\n"
     ]
    },
    {
     "name": "stdout",
     "output_type": "stream",
     "text": [
      "[CV] END ....................................C=5, epsilon=10; total time=  11.0s\n"
     ]
    },
    {
     "name": "stderr",
     "output_type": "stream",
     "text": [
      "/anaconda3/lib/python3.7/site-packages/sklearn/svm/_base.py:986: ConvergenceWarning: Liblinear failed to converge, increase the number of iterations.\n",
      "  \"the number of iterations.\", ConvergenceWarning)\n"
     ]
    },
    {
     "name": "stdout",
     "output_type": "stream",
     "text": [
      "[CV] END ....................................C=5, epsilon=10; total time=  14.3s\n",
      "[CV] END ....................................C=5, epsilon=10; total time=  14.3s\n"
     ]
    },
    {
     "name": "stderr",
     "output_type": "stream",
     "text": [
      "/anaconda3/lib/python3.7/site-packages/sklearn/svm/_base.py:986: ConvergenceWarning: Liblinear failed to converge, increase the number of iterations.\n",
      "  \"the number of iterations.\", ConvergenceWarning)\n"
     ]
    },
    {
     "name": "stdout",
     "output_type": "stream",
     "text": [
      "[CV] END ....................................C=5, epsilon=10; total time=  14.3s\n"
     ]
    },
    {
     "name": "stderr",
     "output_type": "stream",
     "text": [
      "/anaconda3/lib/python3.7/site-packages/sklearn/svm/_base.py:986: ConvergenceWarning: Liblinear failed to converge, increase the number of iterations.\n",
      "  \"the number of iterations.\", ConvergenceWarning)\n"
     ]
    },
    {
     "name": "stdout",
     "output_type": "stream",
     "text": [
      "[CV] END ....................................C=5, epsilon=10; total time=  15.0s\n"
     ]
    },
    {
     "name": "stderr",
     "output_type": "stream",
     "text": [
      "/anaconda3/lib/python3.7/site-packages/sklearn/svm/_base.py:986: ConvergenceWarning: Liblinear failed to converge, increase the number of iterations.\n",
      "  \"the number of iterations.\", ConvergenceWarning)\n"
     ]
    },
    {
     "name": "stdout",
     "output_type": "stream",
     "text": [
      "[CV] END ....................................C=5, epsilon=10; total time=  10.6s\n"
     ]
    },
    {
     "name": "stderr",
     "output_type": "stream",
     "text": [
      "/anaconda3/lib/python3.7/site-packages/sklearn/svm/_base.py:986: ConvergenceWarning: Liblinear failed to converge, increase the number of iterations.\n",
      "  \"the number of iterations.\", ConvergenceWarning)\n"
     ]
    },
    {
     "name": "stdout",
     "output_type": "stream",
     "text": [
      "[CV] END ....................................C=5, epsilon=10; total time=  15.0s\n",
      "[CV] END ....................................C=10, epsilon=0; total time=   3.1s\n",
      "[CV] END ....................................C=10, epsilon=0; total time=   2.2s\n",
      "[CV] END ....................................C=10, epsilon=0; total time=   1.5s\n",
      "[CV] END ....................................C=10, epsilon=0; total time=   0.9s\n",
      "[CV] END ....................................C=10, epsilon=0; total time=   2.9s\n",
      "[CV] END ....................................C=10, epsilon=0; total time=   2.5s\n",
      "[CV] END ....................................C=10, epsilon=0; total time=   2.7s\n",
      "[CV] END ....................................C=10, epsilon=0; total time=   2.1s\n",
      "[CV] END ....................................C=10, epsilon=0; total time=   1.9s\n",
      "[CV] END ....................................C=10, epsilon=0; total time=   8.0s\n"
     ]
    },
    {
     "name": "stderr",
     "output_type": "stream",
     "text": [
      "/anaconda3/lib/python3.7/site-packages/sklearn/svm/_base.py:986: ConvergenceWarning: Liblinear failed to converge, increase the number of iterations.\n",
      "  \"the number of iterations.\", ConvergenceWarning)\n"
     ]
    },
    {
     "name": "stdout",
     "output_type": "stream",
     "text": [
      "[CV] END ....................................C=10, epsilon=0; total time=  22.7s\n"
     ]
    },
    {
     "name": "stderr",
     "output_type": "stream",
     "text": [
      "/anaconda3/lib/python3.7/site-packages/sklearn/svm/_base.py:986: ConvergenceWarning: Liblinear failed to converge, increase the number of iterations.\n",
      "  \"the number of iterations.\", ConvergenceWarning)\n"
     ]
    },
    {
     "name": "stdout",
     "output_type": "stream",
     "text": [
      "[CV] END ....................................C=10, epsilon=0; total time=  24.2s\n"
     ]
    },
    {
     "name": "stderr",
     "output_type": "stream",
     "text": [
      "/anaconda3/lib/python3.7/site-packages/sklearn/svm/_base.py:986: ConvergenceWarning: Liblinear failed to converge, increase the number of iterations.\n",
      "  \"the number of iterations.\", ConvergenceWarning)\n"
     ]
    },
    {
     "name": "stdout",
     "output_type": "stream",
     "text": [
      "[CV] END ....................................C=10, epsilon=0; total time=  27.8s\n"
     ]
    },
    {
     "name": "stderr",
     "output_type": "stream",
     "text": [
      "/anaconda3/lib/python3.7/site-packages/sklearn/svm/_base.py:986: ConvergenceWarning: Liblinear failed to converge, increase the number of iterations.\n",
      "  \"the number of iterations.\", ConvergenceWarning)\n"
     ]
    },
    {
     "name": "stdout",
     "output_type": "stream",
     "text": [
      "[CV] END ....................................C=10, epsilon=0; total time=  25.9s\n"
     ]
    },
    {
     "name": "stderr",
     "output_type": "stream",
     "text": [
      "/anaconda3/lib/python3.7/site-packages/sklearn/svm/_base.py:986: ConvergenceWarning: Liblinear failed to converge, increase the number of iterations.\n",
      "  \"the number of iterations.\", ConvergenceWarning)\n"
     ]
    },
    {
     "name": "stdout",
     "output_type": "stream",
     "text": [
      "[CV] END ....................................C=10, epsilon=0; total time=  25.8s\n"
     ]
    },
    {
     "name": "stderr",
     "output_type": "stream",
     "text": [
      "/anaconda3/lib/python3.7/site-packages/sklearn/svm/_base.py:986: ConvergenceWarning: Liblinear failed to converge, increase the number of iterations.\n",
      "  \"the number of iterations.\", ConvergenceWarning)\n"
     ]
    },
    {
     "name": "stdout",
     "output_type": "stream",
     "text": [
      "[CV] END ....................................C=10, epsilon=0; total time=  26.2s\n"
     ]
    },
    {
     "name": "stderr",
     "output_type": "stream",
     "text": [
      "/anaconda3/lib/python3.7/site-packages/sklearn/svm/_base.py:986: ConvergenceWarning: Liblinear failed to converge, increase the number of iterations.\n",
      "  \"the number of iterations.\", ConvergenceWarning)\n"
     ]
    },
    {
     "name": "stdout",
     "output_type": "stream",
     "text": [
      "[CV] END ....................................C=10, epsilon=0; total time=  26.0s\n"
     ]
    },
    {
     "name": "stderr",
     "output_type": "stream",
     "text": [
      "/anaconda3/lib/python3.7/site-packages/sklearn/svm/_base.py:986: ConvergenceWarning: Liblinear failed to converge, increase the number of iterations.\n",
      "  \"the number of iterations.\", ConvergenceWarning)\n"
     ]
    },
    {
     "name": "stdout",
     "output_type": "stream",
     "text": [
      "[CV] END ....................................C=10, epsilon=0; total time=  25.8s\n"
     ]
    },
    {
     "name": "stderr",
     "output_type": "stream",
     "text": [
      "/anaconda3/lib/python3.7/site-packages/sklearn/svm/_base.py:986: ConvergenceWarning: Liblinear failed to converge, increase the number of iterations.\n",
      "  \"the number of iterations.\", ConvergenceWarning)\n"
     ]
    },
    {
     "name": "stdout",
     "output_type": "stream",
     "text": [
      "[CV] END ....................................C=10, epsilon=0; total time=  26.0s\n"
     ]
    },
    {
     "name": "stderr",
     "output_type": "stream",
     "text": [
      "/anaconda3/lib/python3.7/site-packages/sklearn/svm/_base.py:986: ConvergenceWarning: Liblinear failed to converge, increase the number of iterations.\n",
      "  \"the number of iterations.\", ConvergenceWarning)\n"
     ]
    },
    {
     "name": "stdout",
     "output_type": "stream",
     "text": [
      "[CV] END ....................................C=10, epsilon=0; total time=  25.6s\n"
     ]
    },
    {
     "name": "stderr",
     "output_type": "stream",
     "text": [
      "/anaconda3/lib/python3.7/site-packages/sklearn/svm/_base.py:986: ConvergenceWarning: Liblinear failed to converge, increase the number of iterations.\n",
      "  \"the number of iterations.\", ConvergenceWarning)\n"
     ]
    },
    {
     "name": "stdout",
     "output_type": "stream",
     "text": [
      "[CV] END ....................................C=10, epsilon=0; total time=  26.7s\n"
     ]
    },
    {
     "name": "stderr",
     "output_type": "stream",
     "text": [
      "/anaconda3/lib/python3.7/site-packages/sklearn/svm/_base.py:986: ConvergenceWarning: Liblinear failed to converge, increase the number of iterations.\n",
      "  \"the number of iterations.\", ConvergenceWarning)\n"
     ]
    },
    {
     "name": "stdout",
     "output_type": "stream",
     "text": [
      "[CV] END ....................................C=10, epsilon=0; total time=  26.0s\n"
     ]
    },
    {
     "name": "stderr",
     "output_type": "stream",
     "text": [
      "/anaconda3/lib/python3.7/site-packages/sklearn/svm/_base.py:986: ConvergenceWarning: Liblinear failed to converge, increase the number of iterations.\n",
      "  \"the number of iterations.\", ConvergenceWarning)\n"
     ]
    },
    {
     "name": "stdout",
     "output_type": "stream",
     "text": [
      "[CV] END ....................................C=10, epsilon=0; total time=  25.3s\n"
     ]
    },
    {
     "name": "stderr",
     "output_type": "stream",
     "text": [
      "/anaconda3/lib/python3.7/site-packages/sklearn/svm/_base.py:986: ConvergenceWarning: Liblinear failed to converge, increase the number of iterations.\n",
      "  \"the number of iterations.\", ConvergenceWarning)\n"
     ]
    },
    {
     "name": "stdout",
     "output_type": "stream",
     "text": [
      "[CV] END ....................................C=10, epsilon=0; total time=  25.5s\n"
     ]
    },
    {
     "name": "stderr",
     "output_type": "stream",
     "text": [
      "/anaconda3/lib/python3.7/site-packages/sklearn/svm/_base.py:986: ConvergenceWarning: Liblinear failed to converge, increase the number of iterations.\n",
      "  \"the number of iterations.\", ConvergenceWarning)\n"
     ]
    },
    {
     "name": "stdout",
     "output_type": "stream",
     "text": [
      "[CV] END ....................................C=10, epsilon=0; total time=  25.4s\n"
     ]
    },
    {
     "name": "stderr",
     "output_type": "stream",
     "text": [
      "/anaconda3/lib/python3.7/site-packages/sklearn/svm/_base.py:986: ConvergenceWarning: Liblinear failed to converge, increase the number of iterations.\n",
      "  \"the number of iterations.\", ConvergenceWarning)\n"
     ]
    },
    {
     "name": "stdout",
     "output_type": "stream",
     "text": [
      "[CV] END ....................................C=10, epsilon=0; total time=  26.3s\n"
     ]
    },
    {
     "name": "stderr",
     "output_type": "stream",
     "text": [
      "/anaconda3/lib/python3.7/site-packages/sklearn/svm/_base.py:986: ConvergenceWarning: Liblinear failed to converge, increase the number of iterations.\n",
      "  \"the number of iterations.\", ConvergenceWarning)\n"
     ]
    },
    {
     "name": "stdout",
     "output_type": "stream",
     "text": [
      "[CV] END ....................................C=10, epsilon=0; total time=  25.1s\n"
     ]
    },
    {
     "name": "stderr",
     "output_type": "stream",
     "text": [
      "/anaconda3/lib/python3.7/site-packages/sklearn/svm/_base.py:986: ConvergenceWarning: Liblinear failed to converge, increase the number of iterations.\n",
      "  \"the number of iterations.\", ConvergenceWarning)\n"
     ]
    },
    {
     "name": "stdout",
     "output_type": "stream",
     "text": [
      "[CV] END ....................................C=10, epsilon=0; total time=  24.7s\n"
     ]
    },
    {
     "name": "stderr",
     "output_type": "stream",
     "text": [
      "/anaconda3/lib/python3.7/site-packages/sklearn/svm/_base.py:986: ConvergenceWarning: Liblinear failed to converge, increase the number of iterations.\n",
      "  \"the number of iterations.\", ConvergenceWarning)\n"
     ]
    },
    {
     "name": "stdout",
     "output_type": "stream",
     "text": [
      "[CV] END ....................................C=10, epsilon=0; total time=  25.4s\n"
     ]
    },
    {
     "name": "stderr",
     "output_type": "stream",
     "text": [
      "/anaconda3/lib/python3.7/site-packages/sklearn/svm/_base.py:986: ConvergenceWarning: Liblinear failed to converge, increase the number of iterations.\n",
      "  \"the number of iterations.\", ConvergenceWarning)\n"
     ]
    },
    {
     "name": "stdout",
     "output_type": "stream",
     "text": [
      "[CV] END ....................................C=10, epsilon=0; total time=  25.5s\n"
     ]
    },
    {
     "name": "stderr",
     "output_type": "stream",
     "text": [
      "/anaconda3/lib/python3.7/site-packages/sklearn/svm/_base.py:986: ConvergenceWarning: Liblinear failed to converge, increase the number of iterations.\n",
      "  \"the number of iterations.\", ConvergenceWarning)\n"
     ]
    },
    {
     "name": "stdout",
     "output_type": "stream",
     "text": [
      "[CV] END ....................................C=10, epsilon=0; total time=  25.4s\n"
     ]
    },
    {
     "name": "stderr",
     "output_type": "stream",
     "text": [
      "/anaconda3/lib/python3.7/site-packages/sklearn/svm/_base.py:986: ConvergenceWarning: Liblinear failed to converge, increase the number of iterations.\n",
      "  \"the number of iterations.\", ConvergenceWarning)\n"
     ]
    },
    {
     "name": "stdout",
     "output_type": "stream",
     "text": [
      "[CV] END ....................................C=10, epsilon=0; total time=  24.2s\n"
     ]
    },
    {
     "name": "stderr",
     "output_type": "stream",
     "text": [
      "/anaconda3/lib/python3.7/site-packages/sklearn/svm/_base.py:986: ConvergenceWarning: Liblinear failed to converge, increase the number of iterations.\n",
      "  \"the number of iterations.\", ConvergenceWarning)\n"
     ]
    },
    {
     "name": "stdout",
     "output_type": "stream",
     "text": [
      "[CV] END ....................................C=10, epsilon=0; total time=  23.1s\n"
     ]
    },
    {
     "name": "stderr",
     "output_type": "stream",
     "text": [
      "/anaconda3/lib/python3.7/site-packages/sklearn/svm/_base.py:986: ConvergenceWarning: Liblinear failed to converge, increase the number of iterations.\n",
      "  \"the number of iterations.\", ConvergenceWarning)\n"
     ]
    },
    {
     "name": "stdout",
     "output_type": "stream",
     "text": [
      "[CV] END ....................................C=10, epsilon=0; total time=  25.2s\n"
     ]
    },
    {
     "name": "stderr",
     "output_type": "stream",
     "text": [
      "/anaconda3/lib/python3.7/site-packages/sklearn/svm/_base.py:986: ConvergenceWarning: Liblinear failed to converge, increase the number of iterations.\n",
      "  \"the number of iterations.\", ConvergenceWarning)\n"
     ]
    },
    {
     "name": "stdout",
     "output_type": "stream",
     "text": [
      "[CV] END ....................................C=10, epsilon=0; total time=  25.8s\n"
     ]
    },
    {
     "name": "stderr",
     "output_type": "stream",
     "text": [
      "/anaconda3/lib/python3.7/site-packages/sklearn/svm/_base.py:986: ConvergenceWarning: Liblinear failed to converge, increase the number of iterations.\n",
      "  \"the number of iterations.\", ConvergenceWarning)\n"
     ]
    },
    {
     "name": "stdout",
     "output_type": "stream",
     "text": [
      "[CV] END ....................................C=10, epsilon=0; total time=  26.1s\n"
     ]
    },
    {
     "name": "stderr",
     "output_type": "stream",
     "text": [
      "/anaconda3/lib/python3.7/site-packages/sklearn/svm/_base.py:986: ConvergenceWarning: Liblinear failed to converge, increase the number of iterations.\n",
      "  \"the number of iterations.\", ConvergenceWarning)\n"
     ]
    },
    {
     "name": "stdout",
     "output_type": "stream",
     "text": [
      "[CV] END ....................................C=10, epsilon=0; total time=  26.1s\n"
     ]
    },
    {
     "name": "stderr",
     "output_type": "stream",
     "text": [
      "/anaconda3/lib/python3.7/site-packages/sklearn/svm/_base.py:986: ConvergenceWarning: Liblinear failed to converge, increase the number of iterations.\n",
      "  \"the number of iterations.\", ConvergenceWarning)\n"
     ]
    },
    {
     "name": "stdout",
     "output_type": "stream",
     "text": [
      "[CV] END ....................................C=10, epsilon=0; total time=  25.5s\n"
     ]
    },
    {
     "name": "stderr",
     "output_type": "stream",
     "text": [
      "/anaconda3/lib/python3.7/site-packages/sklearn/svm/_base.py:986: ConvergenceWarning: Liblinear failed to converge, increase the number of iterations.\n",
      "  \"the number of iterations.\", ConvergenceWarning)\n"
     ]
    },
    {
     "name": "stdout",
     "output_type": "stream",
     "text": [
      "[CV] END ....................................C=10, epsilon=0; total time=  25.4s\n",
      "[CV] END ....................................C=10, epsilon=5; total time=   1.5s\n",
      "[CV] END ....................................C=10, epsilon=5; total time=   2.4s\n",
      "[CV] END ....................................C=10, epsilon=5; total time=   1.3s\n",
      "[CV] END ....................................C=10, epsilon=5; total time=   0.8s\n",
      "[CV] END ....................................C=10, epsilon=5; total time=   1.5s\n",
      "[CV] END ....................................C=10, epsilon=5; total time=   1.4s\n",
      "[CV] END ....................................C=10, epsilon=5; total time=   2.5s\n",
      "[CV] END ....................................C=10, epsilon=5; total time=   1.2s\n",
      "[CV] END ....................................C=10, epsilon=5; total time=   0.5s\n"
     ]
    },
    {
     "name": "stderr",
     "output_type": "stream",
     "text": [
      "/anaconda3/lib/python3.7/site-packages/sklearn/svm/_base.py:986: ConvergenceWarning: Liblinear failed to converge, increase the number of iterations.\n",
      "  \"the number of iterations.\", ConvergenceWarning)\n"
     ]
    },
    {
     "name": "stdout",
     "output_type": "stream",
     "text": [
      "[CV] END ....................................C=10, epsilon=5; total time=   9.1s\n"
     ]
    },
    {
     "name": "stderr",
     "output_type": "stream",
     "text": [
      "/anaconda3/lib/python3.7/site-packages/sklearn/svm/_base.py:986: ConvergenceWarning: Liblinear failed to converge, increase the number of iterations.\n",
      "  \"the number of iterations.\", ConvergenceWarning)\n"
     ]
    },
    {
     "name": "stdout",
     "output_type": "stream",
     "text": [
      "[CV] END ....................................C=10, epsilon=5; total time=  18.6s\n"
     ]
    },
    {
     "name": "stderr",
     "output_type": "stream",
     "text": [
      "/anaconda3/lib/python3.7/site-packages/sklearn/svm/_base.py:986: ConvergenceWarning: Liblinear failed to converge, increase the number of iterations.\n",
      "  \"the number of iterations.\", ConvergenceWarning)\n"
     ]
    },
    {
     "name": "stdout",
     "output_type": "stream",
     "text": [
      "[CV] END ....................................C=10, epsilon=5; total time=  22.4s\n"
     ]
    },
    {
     "name": "stderr",
     "output_type": "stream",
     "text": [
      "/anaconda3/lib/python3.7/site-packages/sklearn/svm/_base.py:986: ConvergenceWarning: Liblinear failed to converge, increase the number of iterations.\n",
      "  \"the number of iterations.\", ConvergenceWarning)\n"
     ]
    },
    {
     "name": "stdout",
     "output_type": "stream",
     "text": [
      "[CV] END ....................................C=10, epsilon=5; total time=  25.5s\n"
     ]
    },
    {
     "name": "stderr",
     "output_type": "stream",
     "text": [
      "/anaconda3/lib/python3.7/site-packages/sklearn/svm/_base.py:986: ConvergenceWarning: Liblinear failed to converge, increase the number of iterations.\n",
      "  \"the number of iterations.\", ConvergenceWarning)\n"
     ]
    },
    {
     "name": "stdout",
     "output_type": "stream",
     "text": [
      "[CV] END ....................................C=10, epsilon=5; total time=  25.7s\n"
     ]
    },
    {
     "name": "stderr",
     "output_type": "stream",
     "text": [
      "/anaconda3/lib/python3.7/site-packages/sklearn/svm/_base.py:986: ConvergenceWarning: Liblinear failed to converge, increase the number of iterations.\n",
      "  \"the number of iterations.\", ConvergenceWarning)\n"
     ]
    },
    {
     "name": "stdout",
     "output_type": "stream",
     "text": [
      "[CV] END ....................................C=10, epsilon=5; total time=  25.7s\n"
     ]
    },
    {
     "name": "stderr",
     "output_type": "stream",
     "text": [
      "/anaconda3/lib/python3.7/site-packages/sklearn/svm/_base.py:986: ConvergenceWarning: Liblinear failed to converge, increase the number of iterations.\n",
      "  \"the number of iterations.\", ConvergenceWarning)\n"
     ]
    },
    {
     "name": "stdout",
     "output_type": "stream",
     "text": [
      "[CV] END ....................................C=10, epsilon=5; total time=  25.8s\n"
     ]
    },
    {
     "name": "stderr",
     "output_type": "stream",
     "text": [
      "/anaconda3/lib/python3.7/site-packages/sklearn/svm/_base.py:986: ConvergenceWarning: Liblinear failed to converge, increase the number of iterations.\n",
      "  \"the number of iterations.\", ConvergenceWarning)\n"
     ]
    },
    {
     "name": "stdout",
     "output_type": "stream",
     "text": [
      "[CV] END ....................................C=10, epsilon=5; total time=  26.1s\n"
     ]
    },
    {
     "name": "stderr",
     "output_type": "stream",
     "text": [
      "/anaconda3/lib/python3.7/site-packages/sklearn/svm/_base.py:986: ConvergenceWarning: Liblinear failed to converge, increase the number of iterations.\n",
      "  \"the number of iterations.\", ConvergenceWarning)\n"
     ]
    },
    {
     "name": "stdout",
     "output_type": "stream",
     "text": [
      "[CV] END ....................................C=10, epsilon=5; total time=  25.4s\n"
     ]
    },
    {
     "name": "stderr",
     "output_type": "stream",
     "text": [
      "/anaconda3/lib/python3.7/site-packages/sklearn/svm/_base.py:986: ConvergenceWarning: Liblinear failed to converge, increase the number of iterations.\n",
      "  \"the number of iterations.\", ConvergenceWarning)\n"
     ]
    },
    {
     "name": "stdout",
     "output_type": "stream",
     "text": [
      "[CV] END ....................................C=10, epsilon=5; total time=  25.3s\n"
     ]
    },
    {
     "name": "stderr",
     "output_type": "stream",
     "text": [
      "/anaconda3/lib/python3.7/site-packages/sklearn/svm/_base.py:986: ConvergenceWarning: Liblinear failed to converge, increase the number of iterations.\n",
      "  \"the number of iterations.\", ConvergenceWarning)\n"
     ]
    },
    {
     "name": "stdout",
     "output_type": "stream",
     "text": [
      "[CV] END ....................................C=10, epsilon=5; total time=  25.4s\n"
     ]
    },
    {
     "name": "stderr",
     "output_type": "stream",
     "text": [
      "/anaconda3/lib/python3.7/site-packages/sklearn/svm/_base.py:986: ConvergenceWarning: Liblinear failed to converge, increase the number of iterations.\n",
      "  \"the number of iterations.\", ConvergenceWarning)\n"
     ]
    },
    {
     "name": "stdout",
     "output_type": "stream",
     "text": [
      "[CV] END ....................................C=10, epsilon=5; total time=  25.3s\n"
     ]
    },
    {
     "name": "stderr",
     "output_type": "stream",
     "text": [
      "/anaconda3/lib/python3.7/site-packages/sklearn/svm/_base.py:986: ConvergenceWarning: Liblinear failed to converge, increase the number of iterations.\n",
      "  \"the number of iterations.\", ConvergenceWarning)\n"
     ]
    },
    {
     "name": "stdout",
     "output_type": "stream",
     "text": [
      "[CV] END ....................................C=10, epsilon=5; total time=  25.5s\n"
     ]
    },
    {
     "name": "stderr",
     "output_type": "stream",
     "text": [
      "/anaconda3/lib/python3.7/site-packages/sklearn/svm/_base.py:986: ConvergenceWarning: Liblinear failed to converge, increase the number of iterations.\n",
      "  \"the number of iterations.\", ConvergenceWarning)\n"
     ]
    },
    {
     "name": "stdout",
     "output_type": "stream",
     "text": [
      "[CV] END ....................................C=10, epsilon=5; total time=  24.6s\n"
     ]
    },
    {
     "name": "stderr",
     "output_type": "stream",
     "text": [
      "/anaconda3/lib/python3.7/site-packages/sklearn/svm/_base.py:986: ConvergenceWarning: Liblinear failed to converge, increase the number of iterations.\n",
      "  \"the number of iterations.\", ConvergenceWarning)\n"
     ]
    },
    {
     "name": "stdout",
     "output_type": "stream",
     "text": [
      "[CV] END ....................................C=10, epsilon=5; total time=  23.9s\n"
     ]
    },
    {
     "name": "stderr",
     "output_type": "stream",
     "text": [
      "/anaconda3/lib/python3.7/site-packages/sklearn/svm/_base.py:986: ConvergenceWarning: Liblinear failed to converge, increase the number of iterations.\n",
      "  \"the number of iterations.\", ConvergenceWarning)\n"
     ]
    },
    {
     "name": "stdout",
     "output_type": "stream",
     "text": [
      "[CV] END ....................................C=10, epsilon=5; total time=  23.6s\n"
     ]
    },
    {
     "name": "stderr",
     "output_type": "stream",
     "text": [
      "/anaconda3/lib/python3.7/site-packages/sklearn/svm/_base.py:986: ConvergenceWarning: Liblinear failed to converge, increase the number of iterations.\n",
      "  \"the number of iterations.\", ConvergenceWarning)\n"
     ]
    },
    {
     "name": "stdout",
     "output_type": "stream",
     "text": [
      "[CV] END ....................................C=10, epsilon=5; total time=  23.7s\n"
     ]
    },
    {
     "name": "stderr",
     "output_type": "stream",
     "text": [
      "/anaconda3/lib/python3.7/site-packages/sklearn/svm/_base.py:986: ConvergenceWarning: Liblinear failed to converge, increase the number of iterations.\n",
      "  \"the number of iterations.\", ConvergenceWarning)\n"
     ]
    },
    {
     "name": "stdout",
     "output_type": "stream",
     "text": [
      "[CV] END ....................................C=10, epsilon=5; total time=  23.6s\n"
     ]
    },
    {
     "name": "stderr",
     "output_type": "stream",
     "text": [
      "/anaconda3/lib/python3.7/site-packages/sklearn/svm/_base.py:986: ConvergenceWarning: Liblinear failed to converge, increase the number of iterations.\n",
      "  \"the number of iterations.\", ConvergenceWarning)\n"
     ]
    },
    {
     "name": "stdout",
     "output_type": "stream",
     "text": [
      "[CV] END ....................................C=10, epsilon=5; total time=  23.0s\n"
     ]
    },
    {
     "name": "stderr",
     "output_type": "stream",
     "text": [
      "/anaconda3/lib/python3.7/site-packages/sklearn/svm/_base.py:986: ConvergenceWarning: Liblinear failed to converge, increase the number of iterations.\n",
      "  \"the number of iterations.\", ConvergenceWarning)\n"
     ]
    },
    {
     "name": "stdout",
     "output_type": "stream",
     "text": [
      "[CV] END ....................................C=10, epsilon=5; total time=  23.2s\n"
     ]
    },
    {
     "name": "stderr",
     "output_type": "stream",
     "text": [
      "/anaconda3/lib/python3.7/site-packages/sklearn/svm/_base.py:986: ConvergenceWarning: Liblinear failed to converge, increase the number of iterations.\n",
      "  \"the number of iterations.\", ConvergenceWarning)\n"
     ]
    },
    {
     "name": "stdout",
     "output_type": "stream",
     "text": [
      "[CV] END ....................................C=10, epsilon=5; total time=  23.2s\n"
     ]
    },
    {
     "name": "stderr",
     "output_type": "stream",
     "text": [
      "/anaconda3/lib/python3.7/site-packages/sklearn/svm/_base.py:986: ConvergenceWarning: Liblinear failed to converge, increase the number of iterations.\n",
      "  \"the number of iterations.\", ConvergenceWarning)\n"
     ]
    },
    {
     "name": "stdout",
     "output_type": "stream",
     "text": [
      "[CV] END ....................................C=10, epsilon=5; total time=  22.4s\n"
     ]
    },
    {
     "name": "stderr",
     "output_type": "stream",
     "text": [
      "/anaconda3/lib/python3.7/site-packages/sklearn/svm/_base.py:986: ConvergenceWarning: Liblinear failed to converge, increase the number of iterations.\n",
      "  \"the number of iterations.\", ConvergenceWarning)\n"
     ]
    },
    {
     "name": "stdout",
     "output_type": "stream",
     "text": [
      "[CV] END ....................................C=10, epsilon=5; total time=  24.4s\n",
      "[CV] END ....................................C=10, epsilon=5; total time=  22.6s\n"
     ]
    },
    {
     "name": "stderr",
     "output_type": "stream",
     "text": [
      "/anaconda3/lib/python3.7/site-packages/sklearn/svm/_base.py:986: ConvergenceWarning: Liblinear failed to converge, increase the number of iterations.\n",
      "  \"the number of iterations.\", ConvergenceWarning)\n"
     ]
    },
    {
     "name": "stdout",
     "output_type": "stream",
     "text": [
      "[CV] END ....................................C=10, epsilon=5; total time=  23.2s\n"
     ]
    },
    {
     "name": "stderr",
     "output_type": "stream",
     "text": [
      "/anaconda3/lib/python3.7/site-packages/sklearn/svm/_base.py:986: ConvergenceWarning: Liblinear failed to converge, increase the number of iterations.\n",
      "  \"the number of iterations.\", ConvergenceWarning)\n"
     ]
    },
    {
     "name": "stdout",
     "output_type": "stream",
     "text": [
      "[CV] END ....................................C=10, epsilon=5; total time=  23.5s\n"
     ]
    },
    {
     "name": "stderr",
     "output_type": "stream",
     "text": [
      "/anaconda3/lib/python3.7/site-packages/sklearn/svm/_base.py:986: ConvergenceWarning: Liblinear failed to converge, increase the number of iterations.\n",
      "  \"the number of iterations.\", ConvergenceWarning)\n"
     ]
    },
    {
     "name": "stdout",
     "output_type": "stream",
     "text": [
      "[CV] END ....................................C=10, epsilon=5; total time=  23.6s\n"
     ]
    },
    {
     "name": "stderr",
     "output_type": "stream",
     "text": [
      "/anaconda3/lib/python3.7/site-packages/sklearn/svm/_base.py:986: ConvergenceWarning: Liblinear failed to converge, increase the number of iterations.\n",
      "  \"the number of iterations.\", ConvergenceWarning)\n"
     ]
    },
    {
     "name": "stdout",
     "output_type": "stream",
     "text": [
      "[CV] END ....................................C=10, epsilon=5; total time=  23.8s\n"
     ]
    },
    {
     "name": "stderr",
     "output_type": "stream",
     "text": [
      "/anaconda3/lib/python3.7/site-packages/sklearn/svm/_base.py:986: ConvergenceWarning: Liblinear failed to converge, increase the number of iterations.\n",
      "  \"the number of iterations.\", ConvergenceWarning)\n"
     ]
    },
    {
     "name": "stdout",
     "output_type": "stream",
     "text": [
      "[CV] END ....................................C=10, epsilon=5; total time=  20.1s\n"
     ]
    },
    {
     "name": "stderr",
     "output_type": "stream",
     "text": [
      "/anaconda3/lib/python3.7/site-packages/sklearn/svm/_base.py:986: ConvergenceWarning: Liblinear failed to converge, increase the number of iterations.\n",
      "  \"the number of iterations.\", ConvergenceWarning)\n"
     ]
    },
    {
     "name": "stdout",
     "output_type": "stream",
     "text": [
      "[CV] END ....................................C=10, epsilon=5; total time=  23.1s\n",
      "[CV] END ...................................C=10, epsilon=10; total time=   0.9s\n",
      "[CV] END ...................................C=10, epsilon=10; total time=   0.9s\n",
      "[CV] END ...................................C=10, epsilon=10; total time=   1.0s\n",
      "[CV] END ...................................C=10, epsilon=10; total time=   0.7s\n",
      "[CV] END ...................................C=10, epsilon=10; total time=   0.7s\n",
      "[CV] END ...................................C=10, epsilon=10; total time=   0.8s\n",
      "[CV] END ...................................C=10, epsilon=10; total time=   1.0s\n",
      "[CV] END ...................................C=10, epsilon=10; total time=   0.7s\n",
      "[CV] END ...................................C=10, epsilon=10; total time=   0.4s\n",
      "[CV] END ...................................C=10, epsilon=10; total time=   7.8s\n"
     ]
    },
    {
     "name": "stderr",
     "output_type": "stream",
     "text": [
      "/anaconda3/lib/python3.7/site-packages/sklearn/svm/_base.py:986: ConvergenceWarning: Liblinear failed to converge, increase the number of iterations.\n",
      "  \"the number of iterations.\", ConvergenceWarning)\n"
     ]
    },
    {
     "name": "stdout",
     "output_type": "stream",
     "text": [
      "[CV] END ...................................C=10, epsilon=10; total time=  13.6s\n"
     ]
    },
    {
     "name": "stderr",
     "output_type": "stream",
     "text": [
      "/anaconda3/lib/python3.7/site-packages/sklearn/svm/_base.py:986: ConvergenceWarning: Liblinear failed to converge, increase the number of iterations.\n",
      "  \"the number of iterations.\", ConvergenceWarning)\n"
     ]
    },
    {
     "name": "stdout",
     "output_type": "stream",
     "text": [
      "[CV] END ...................................C=10, epsilon=10; total time=  21.7s\n"
     ]
    },
    {
     "name": "stderr",
     "output_type": "stream",
     "text": [
      "/anaconda3/lib/python3.7/site-packages/sklearn/svm/_base.py:986: ConvergenceWarning: Liblinear failed to converge, increase the number of iterations.\n",
      "  \"the number of iterations.\", ConvergenceWarning)\n"
     ]
    },
    {
     "name": "stdout",
     "output_type": "stream",
     "text": [
      "[CV] END ...................................C=10, epsilon=10; total time=  24.4s\n"
     ]
    },
    {
     "name": "stderr",
     "output_type": "stream",
     "text": [
      "/anaconda3/lib/python3.7/site-packages/sklearn/svm/_base.py:986: ConvergenceWarning: Liblinear failed to converge, increase the number of iterations.\n",
      "  \"the number of iterations.\", ConvergenceWarning)\n"
     ]
    },
    {
     "name": "stdout",
     "output_type": "stream",
     "text": [
      "[CV] END ...................................C=10, epsilon=10; total time=  26.7s\n"
     ]
    },
    {
     "name": "stderr",
     "output_type": "stream",
     "text": [
      "/anaconda3/lib/python3.7/site-packages/sklearn/svm/_base.py:986: ConvergenceWarning: Liblinear failed to converge, increase the number of iterations.\n",
      "  \"the number of iterations.\", ConvergenceWarning)\n"
     ]
    },
    {
     "name": "stdout",
     "output_type": "stream",
     "text": [
      "[CV] END ...................................C=10, epsilon=10; total time=  24.3s\n"
     ]
    },
    {
     "name": "stderr",
     "output_type": "stream",
     "text": [
      "/anaconda3/lib/python3.7/site-packages/sklearn/svm/_base.py:986: ConvergenceWarning: Liblinear failed to converge, increase the number of iterations.\n",
      "  \"the number of iterations.\", ConvergenceWarning)\n"
     ]
    },
    {
     "name": "stdout",
     "output_type": "stream",
     "text": [
      "[CV] END ...................................C=10, epsilon=10; total time=  24.5s\n"
     ]
    },
    {
     "name": "stderr",
     "output_type": "stream",
     "text": [
      "/anaconda3/lib/python3.7/site-packages/sklearn/svm/_base.py:986: ConvergenceWarning: Liblinear failed to converge, increase the number of iterations.\n",
      "  \"the number of iterations.\", ConvergenceWarning)\n"
     ]
    },
    {
     "name": "stdout",
     "output_type": "stream",
     "text": [
      "[CV] END ...................................C=10, epsilon=10; total time=  24.4s\n"
     ]
    },
    {
     "name": "stderr",
     "output_type": "stream",
     "text": [
      "/anaconda3/lib/python3.7/site-packages/sklearn/svm/_base.py:986: ConvergenceWarning: Liblinear failed to converge, increase the number of iterations.\n",
      "  \"the number of iterations.\", ConvergenceWarning)\n"
     ]
    },
    {
     "name": "stdout",
     "output_type": "stream",
     "text": [
      "[CV] END ...................................C=10, epsilon=10; total time=  24.1s\n"
     ]
    },
    {
     "name": "stderr",
     "output_type": "stream",
     "text": [
      "/anaconda3/lib/python3.7/site-packages/sklearn/svm/_base.py:986: ConvergenceWarning: Liblinear failed to converge, increase the number of iterations.\n",
      "  \"the number of iterations.\", ConvergenceWarning)\n"
     ]
    },
    {
     "name": "stdout",
     "output_type": "stream",
     "text": [
      "[CV] END ...................................C=10, epsilon=10; total time=  23.9s\n"
     ]
    },
    {
     "name": "stderr",
     "output_type": "stream",
     "text": [
      "/anaconda3/lib/python3.7/site-packages/sklearn/svm/_base.py:986: ConvergenceWarning: Liblinear failed to converge, increase the number of iterations.\n",
      "  \"the number of iterations.\", ConvergenceWarning)\n"
     ]
    },
    {
     "name": "stdout",
     "output_type": "stream",
     "text": [
      "[CV] END ...................................C=10, epsilon=10; total time=  24.0s\n"
     ]
    },
    {
     "name": "stderr",
     "output_type": "stream",
     "text": [
      "/anaconda3/lib/python3.7/site-packages/sklearn/svm/_base.py:986: ConvergenceWarning: Liblinear failed to converge, increase the number of iterations.\n",
      "  \"the number of iterations.\", ConvergenceWarning)\n"
     ]
    },
    {
     "name": "stdout",
     "output_type": "stream",
     "text": [
      "[CV] END ...................................C=10, epsilon=10; total time=  24.1s\n"
     ]
    },
    {
     "name": "stderr",
     "output_type": "stream",
     "text": [
      "/anaconda3/lib/python3.7/site-packages/sklearn/svm/_base.py:986: ConvergenceWarning: Liblinear failed to converge, increase the number of iterations.\n",
      "  \"the number of iterations.\", ConvergenceWarning)\n"
     ]
    },
    {
     "name": "stdout",
     "output_type": "stream",
     "text": [
      "[CV] END ...................................C=10, epsilon=10; total time=  24.3s\n"
     ]
    },
    {
     "name": "stderr",
     "output_type": "stream",
     "text": [
      "/anaconda3/lib/python3.7/site-packages/sklearn/svm/_base.py:986: ConvergenceWarning: Liblinear failed to converge, increase the number of iterations.\n",
      "  \"the number of iterations.\", ConvergenceWarning)\n"
     ]
    },
    {
     "name": "stdout",
     "output_type": "stream",
     "text": [
      "[CV] END ...................................C=10, epsilon=10; total time=  23.6s\n"
     ]
    },
    {
     "name": "stderr",
     "output_type": "stream",
     "text": [
      "/anaconda3/lib/python3.7/site-packages/sklearn/svm/_base.py:986: ConvergenceWarning: Liblinear failed to converge, increase the number of iterations.\n",
      "  \"the number of iterations.\", ConvergenceWarning)\n"
     ]
    },
    {
     "name": "stdout",
     "output_type": "stream",
     "text": [
      "[CV] END ...................................C=10, epsilon=10; total time=  23.2s\n"
     ]
    },
    {
     "name": "stderr",
     "output_type": "stream",
     "text": [
      "/anaconda3/lib/python3.7/site-packages/sklearn/svm/_base.py:986: ConvergenceWarning: Liblinear failed to converge, increase the number of iterations.\n",
      "  \"the number of iterations.\", ConvergenceWarning)\n"
     ]
    },
    {
     "name": "stdout",
     "output_type": "stream",
     "text": [
      "[CV] END ...................................C=10, epsilon=10; total time=  22.9s\n"
     ]
    },
    {
     "name": "stderr",
     "output_type": "stream",
     "text": [
      "/anaconda3/lib/python3.7/site-packages/sklearn/svm/_base.py:986: ConvergenceWarning: Liblinear failed to converge, increase the number of iterations.\n",
      "  \"the number of iterations.\", ConvergenceWarning)\n"
     ]
    },
    {
     "name": "stdout",
     "output_type": "stream",
     "text": [
      "[CV] END ...................................C=10, epsilon=10; total time=  17.4s\n"
     ]
    },
    {
     "name": "stderr",
     "output_type": "stream",
     "text": [
      "/anaconda3/lib/python3.7/site-packages/sklearn/svm/_base.py:986: ConvergenceWarning: Liblinear failed to converge, increase the number of iterations.\n",
      "  \"the number of iterations.\", ConvergenceWarning)\n"
     ]
    },
    {
     "name": "stdout",
     "output_type": "stream",
     "text": [
      "[CV] END ...................................C=10, epsilon=10; total time=  12.7s\n"
     ]
    },
    {
     "name": "stderr",
     "output_type": "stream",
     "text": [
      "/anaconda3/lib/python3.7/site-packages/sklearn/svm/_base.py:986: ConvergenceWarning: Liblinear failed to converge, increase the number of iterations.\n",
      "  \"the number of iterations.\", ConvergenceWarning)\n"
     ]
    },
    {
     "name": "stdout",
     "output_type": "stream",
     "text": [
      "[CV] END ...................................C=10, epsilon=10; total time=  13.0s\n"
     ]
    },
    {
     "name": "stderr",
     "output_type": "stream",
     "text": [
      "/anaconda3/lib/python3.7/site-packages/sklearn/svm/_base.py:986: ConvergenceWarning: Liblinear failed to converge, increase the number of iterations.\n",
      "  \"the number of iterations.\", ConvergenceWarning)\n"
     ]
    },
    {
     "name": "stdout",
     "output_type": "stream",
     "text": [
      "[CV] END ...................................C=10, epsilon=10; total time=  17.9s\n"
     ]
    },
    {
     "name": "stderr",
     "output_type": "stream",
     "text": [
      "/anaconda3/lib/python3.7/site-packages/sklearn/svm/_base.py:986: ConvergenceWarning: Liblinear failed to converge, increase the number of iterations.\n",
      "  \"the number of iterations.\", ConvergenceWarning)\n"
     ]
    },
    {
     "name": "stdout",
     "output_type": "stream",
     "text": [
      "[CV] END ...................................C=10, epsilon=10; total time=  16.8s\n"
     ]
    },
    {
     "name": "stderr",
     "output_type": "stream",
     "text": [
      "/anaconda3/lib/python3.7/site-packages/sklearn/svm/_base.py:986: ConvergenceWarning: Liblinear failed to converge, increase the number of iterations.\n",
      "  \"the number of iterations.\", ConvergenceWarning)\n"
     ]
    },
    {
     "name": "stdout",
     "output_type": "stream",
     "text": [
      "[CV] END ...................................C=10, epsilon=10; total time=  26.0s\n",
      "[CV] END ...................................C=10, epsilon=10; total time=  16.7s\n"
     ]
    },
    {
     "name": "stderr",
     "output_type": "stream",
     "text": [
      "/anaconda3/lib/python3.7/site-packages/sklearn/svm/_base.py:986: ConvergenceWarning: Liblinear failed to converge, increase the number of iterations.\n",
      "  \"the number of iterations.\", ConvergenceWarning)\n"
     ]
    },
    {
     "name": "stdout",
     "output_type": "stream",
     "text": [
      "[CV] END ...................................C=10, epsilon=10; total time=  19.0s\n"
     ]
    },
    {
     "name": "stderr",
     "output_type": "stream",
     "text": [
      "/anaconda3/lib/python3.7/site-packages/sklearn/svm/_base.py:986: ConvergenceWarning: Liblinear failed to converge, increase the number of iterations.\n",
      "  \"the number of iterations.\", ConvergenceWarning)\n"
     ]
    },
    {
     "name": "stdout",
     "output_type": "stream",
     "text": [
      "[CV] END ...................................C=10, epsilon=10; total time=  23.8s\n"
     ]
    },
    {
     "name": "stderr",
     "output_type": "stream",
     "text": [
      "/anaconda3/lib/python3.7/site-packages/sklearn/svm/_base.py:986: ConvergenceWarning: Liblinear failed to converge, increase the number of iterations.\n",
      "  \"the number of iterations.\", ConvergenceWarning)\n"
     ]
    },
    {
     "name": "stdout",
     "output_type": "stream",
     "text": [
      "[CV] END ...................................C=10, epsilon=10; total time=  24.8s\n"
     ]
    },
    {
     "name": "stderr",
     "output_type": "stream",
     "text": [
      "/anaconda3/lib/python3.7/site-packages/sklearn/svm/_base.py:986: ConvergenceWarning: Liblinear failed to converge, increase the number of iterations.\n",
      "  \"the number of iterations.\", ConvergenceWarning)\n"
     ]
    },
    {
     "name": "stdout",
     "output_type": "stream",
     "text": [
      "[CV] END ...................................C=10, epsilon=10; total time=  23.2s\n"
     ]
    },
    {
     "name": "stderr",
     "output_type": "stream",
     "text": [
      "/anaconda3/lib/python3.7/site-packages/sklearn/svm/_base.py:986: ConvergenceWarning: Liblinear failed to converge, increase the number of iterations.\n",
      "  \"the number of iterations.\", ConvergenceWarning)\n"
     ]
    },
    {
     "name": "stdout",
     "output_type": "stream",
     "text": [
      "[CV] END ...................................C=10, epsilon=10; total time=  20.9s\n"
     ]
    },
    {
     "name": "stderr",
     "output_type": "stream",
     "text": [
      "/anaconda3/lib/python3.7/site-packages/sklearn/svm/_base.py:986: ConvergenceWarning: Liblinear failed to converge, increase the number of iterations.\n",
      "  \"the number of iterations.\", ConvergenceWarning)\n"
     ]
    },
    {
     "name": "stdout",
     "output_type": "stream",
     "text": [
      "[CV] END ...................................C=10, epsilon=10; total time=  17.2s\n"
     ]
    },
    {
     "name": "stderr",
     "output_type": "stream",
     "text": [
      "/anaconda3/lib/python3.7/site-packages/sklearn/svm/_base.py:986: ConvergenceWarning: Liblinear failed to converge, increase the number of iterations.\n",
      "  \"the number of iterations.\", ConvergenceWarning)\n"
     ]
    },
    {
     "name": "stdout",
     "output_type": "stream",
     "text": [
      "[CV] END ...................................C=10, epsilon=10; total time=  22.6s\n",
      "[CV] END ....................................C=20, epsilon=0; total time=   4.3s\n",
      "[CV] END ....................................C=20, epsilon=0; total time=   5.0s\n",
      "[CV] END ....................................C=20, epsilon=0; total time=   3.0s\n",
      "[CV] END ....................................C=20, epsilon=0; total time=   1.3s\n",
      "[CV] END ....................................C=20, epsilon=0; total time=   4.4s\n",
      "[CV] END ....................................C=20, epsilon=0; total time=   5.5s\n",
      "[CV] END ....................................C=20, epsilon=0; total time=   4.8s\n",
      "[CV] END ....................................C=20, epsilon=0; total time=   3.6s\n",
      "[CV] END ....................................C=20, epsilon=0; total time=   4.2s\n"
     ]
    },
    {
     "name": "stderr",
     "output_type": "stream",
     "text": [
      "/anaconda3/lib/python3.7/site-packages/sklearn/svm/_base.py:986: ConvergenceWarning: Liblinear failed to converge, increase the number of iterations.\n",
      "  \"the number of iterations.\", ConvergenceWarning)\n"
     ]
    },
    {
     "name": "stdout",
     "output_type": "stream",
     "text": [
      "[CV] END ....................................C=20, epsilon=0; total time=  19.2s\n"
     ]
    },
    {
     "name": "stderr",
     "output_type": "stream",
     "text": [
      "/anaconda3/lib/python3.7/site-packages/sklearn/svm/_base.py:986: ConvergenceWarning: Liblinear failed to converge, increase the number of iterations.\n",
      "  \"the number of iterations.\", ConvergenceWarning)\n"
     ]
    },
    {
     "name": "stdout",
     "output_type": "stream",
     "text": [
      "[CV] END ....................................C=20, epsilon=0; total time=  25.8s\n"
     ]
    },
    {
     "name": "stderr",
     "output_type": "stream",
     "text": [
      "/anaconda3/lib/python3.7/site-packages/sklearn/svm/_base.py:986: ConvergenceWarning: Liblinear failed to converge, increase the number of iterations.\n",
      "  \"the number of iterations.\", ConvergenceWarning)\n"
     ]
    },
    {
     "name": "stdout",
     "output_type": "stream",
     "text": [
      "[CV] END ....................................C=20, epsilon=0; total time=  25.2s\n"
     ]
    },
    {
     "name": "stderr",
     "output_type": "stream",
     "text": [
      "/anaconda3/lib/python3.7/site-packages/sklearn/svm/_base.py:986: ConvergenceWarning: Liblinear failed to converge, increase the number of iterations.\n",
      "  \"the number of iterations.\", ConvergenceWarning)\n"
     ]
    },
    {
     "name": "stdout",
     "output_type": "stream",
     "text": [
      "[CV] END ....................................C=20, epsilon=0; total time=  26.7s\n"
     ]
    },
    {
     "name": "stderr",
     "output_type": "stream",
     "text": [
      "/anaconda3/lib/python3.7/site-packages/sklearn/svm/_base.py:986: ConvergenceWarning: Liblinear failed to converge, increase the number of iterations.\n",
      "  \"the number of iterations.\", ConvergenceWarning)\n"
     ]
    },
    {
     "name": "stdout",
     "output_type": "stream",
     "text": [
      "[CV] END ....................................C=20, epsilon=0; total time=  25.9s\n"
     ]
    },
    {
     "name": "stderr",
     "output_type": "stream",
     "text": [
      "/anaconda3/lib/python3.7/site-packages/sklearn/svm/_base.py:986: ConvergenceWarning: Liblinear failed to converge, increase the number of iterations.\n",
      "  \"the number of iterations.\", ConvergenceWarning)\n"
     ]
    },
    {
     "name": "stdout",
     "output_type": "stream",
     "text": [
      "[CV] END ....................................C=20, epsilon=0; total time=  25.9s\n"
     ]
    },
    {
     "name": "stderr",
     "output_type": "stream",
     "text": [
      "/anaconda3/lib/python3.7/site-packages/sklearn/svm/_base.py:986: ConvergenceWarning: Liblinear failed to converge, increase the number of iterations.\n",
      "  \"the number of iterations.\", ConvergenceWarning)\n"
     ]
    },
    {
     "name": "stdout",
     "output_type": "stream",
     "text": [
      "[CV] END ....................................C=20, epsilon=0; total time=  26.1s\n"
     ]
    },
    {
     "name": "stderr",
     "output_type": "stream",
     "text": [
      "/anaconda3/lib/python3.7/site-packages/sklearn/svm/_base.py:986: ConvergenceWarning: Liblinear failed to converge, increase the number of iterations.\n",
      "  \"the number of iterations.\", ConvergenceWarning)\n"
     ]
    },
    {
     "name": "stdout",
     "output_type": "stream",
     "text": [
      "[CV] END ....................................C=20, epsilon=0; total time=  26.2s\n"
     ]
    },
    {
     "name": "stderr",
     "output_type": "stream",
     "text": [
      "/anaconda3/lib/python3.7/site-packages/sklearn/svm/_base.py:986: ConvergenceWarning: Liblinear failed to converge, increase the number of iterations.\n",
      "  \"the number of iterations.\", ConvergenceWarning)\n"
     ]
    },
    {
     "name": "stdout",
     "output_type": "stream",
     "text": [
      "[CV] END ....................................C=20, epsilon=0; total time=  26.1s\n"
     ]
    },
    {
     "name": "stderr",
     "output_type": "stream",
     "text": [
      "/anaconda3/lib/python3.7/site-packages/sklearn/svm/_base.py:986: ConvergenceWarning: Liblinear failed to converge, increase the number of iterations.\n",
      "  \"the number of iterations.\", ConvergenceWarning)\n"
     ]
    },
    {
     "name": "stdout",
     "output_type": "stream",
     "text": [
      "[CV] END ....................................C=20, epsilon=0; total time=  26.5s\n"
     ]
    },
    {
     "name": "stderr",
     "output_type": "stream",
     "text": [
      "/anaconda3/lib/python3.7/site-packages/sklearn/svm/_base.py:986: ConvergenceWarning: Liblinear failed to converge, increase the number of iterations.\n",
      "  \"the number of iterations.\", ConvergenceWarning)\n"
     ]
    },
    {
     "name": "stdout",
     "output_type": "stream",
     "text": [
      "[CV] END ....................................C=20, epsilon=0; total time=  26.5s\n"
     ]
    },
    {
     "name": "stderr",
     "output_type": "stream",
     "text": [
      "/anaconda3/lib/python3.7/site-packages/sklearn/svm/_base.py:986: ConvergenceWarning: Liblinear failed to converge, increase the number of iterations.\n",
      "  \"the number of iterations.\", ConvergenceWarning)\n"
     ]
    },
    {
     "name": "stdout",
     "output_type": "stream",
     "text": [
      "[CV] END ....................................C=20, epsilon=0; total time=  27.2s\n"
     ]
    },
    {
     "name": "stderr",
     "output_type": "stream",
     "text": [
      "/anaconda3/lib/python3.7/site-packages/sklearn/svm/_base.py:986: ConvergenceWarning: Liblinear failed to converge, increase the number of iterations.\n",
      "  \"the number of iterations.\", ConvergenceWarning)\n"
     ]
    },
    {
     "name": "stdout",
     "output_type": "stream",
     "text": [
      "[CV] END ....................................C=20, epsilon=0; total time=  26.6s\n"
     ]
    },
    {
     "name": "stderr",
     "output_type": "stream",
     "text": [
      "/anaconda3/lib/python3.7/site-packages/sklearn/svm/_base.py:986: ConvergenceWarning: Liblinear failed to converge, increase the number of iterations.\n",
      "  \"the number of iterations.\", ConvergenceWarning)\n"
     ]
    },
    {
     "name": "stdout",
     "output_type": "stream",
     "text": [
      "[CV] END ....................................C=20, epsilon=0; total time=  26.0s\n"
     ]
    },
    {
     "name": "stderr",
     "output_type": "stream",
     "text": [
      "/anaconda3/lib/python3.7/site-packages/sklearn/svm/_base.py:986: ConvergenceWarning: Liblinear failed to converge, increase the number of iterations.\n",
      "  \"the number of iterations.\", ConvergenceWarning)\n"
     ]
    },
    {
     "name": "stdout",
     "output_type": "stream",
     "text": [
      "[CV] END ....................................C=20, epsilon=0; total time=  26.2s\n"
     ]
    },
    {
     "name": "stderr",
     "output_type": "stream",
     "text": [
      "/anaconda3/lib/python3.7/site-packages/sklearn/svm/_base.py:986: ConvergenceWarning: Liblinear failed to converge, increase the number of iterations.\n",
      "  \"the number of iterations.\", ConvergenceWarning)\n"
     ]
    },
    {
     "name": "stdout",
     "output_type": "stream",
     "text": [
      "[CV] END ....................................C=20, epsilon=0; total time=  25.9s\n"
     ]
    },
    {
     "name": "stderr",
     "output_type": "stream",
     "text": [
      "/anaconda3/lib/python3.7/site-packages/sklearn/svm/_base.py:986: ConvergenceWarning: Liblinear failed to converge, increase the number of iterations.\n",
      "  \"the number of iterations.\", ConvergenceWarning)\n"
     ]
    },
    {
     "name": "stdout",
     "output_type": "stream",
     "text": [
      "[CV] END ....................................C=20, epsilon=0; total time=  26.3s\n"
     ]
    },
    {
     "name": "stderr",
     "output_type": "stream",
     "text": [
      "/anaconda3/lib/python3.7/site-packages/sklearn/svm/_base.py:986: ConvergenceWarning: Liblinear failed to converge, increase the number of iterations.\n",
      "  \"the number of iterations.\", ConvergenceWarning)\n"
     ]
    },
    {
     "name": "stdout",
     "output_type": "stream",
     "text": [
      "[CV] END ....................................C=20, epsilon=0; total time=  25.9s\n"
     ]
    },
    {
     "name": "stderr",
     "output_type": "stream",
     "text": [
      "/anaconda3/lib/python3.7/site-packages/sklearn/svm/_base.py:986: ConvergenceWarning: Liblinear failed to converge, increase the number of iterations.\n",
      "  \"the number of iterations.\", ConvergenceWarning)\n"
     ]
    },
    {
     "name": "stdout",
     "output_type": "stream",
     "text": [
      "[CV] END ....................................C=20, epsilon=0; total time=  26.0s\n"
     ]
    },
    {
     "name": "stderr",
     "output_type": "stream",
     "text": [
      "/anaconda3/lib/python3.7/site-packages/sklearn/svm/_base.py:986: ConvergenceWarning: Liblinear failed to converge, increase the number of iterations.\n",
      "  \"the number of iterations.\", ConvergenceWarning)\n"
     ]
    },
    {
     "name": "stdout",
     "output_type": "stream",
     "text": [
      "[CV] END ....................................C=20, epsilon=0; total time=  26.1s\n"
     ]
    },
    {
     "name": "stderr",
     "output_type": "stream",
     "text": [
      "/anaconda3/lib/python3.7/site-packages/sklearn/svm/_base.py:986: ConvergenceWarning: Liblinear failed to converge, increase the number of iterations.\n",
      "  \"the number of iterations.\", ConvergenceWarning)\n"
     ]
    },
    {
     "name": "stdout",
     "output_type": "stream",
     "text": [
      "[CV] END ....................................C=20, epsilon=0; total time=  26.8s\n"
     ]
    },
    {
     "name": "stderr",
     "output_type": "stream",
     "text": [
      "/anaconda3/lib/python3.7/site-packages/sklearn/svm/_base.py:986: ConvergenceWarning: Liblinear failed to converge, increase the number of iterations.\n",
      "  \"the number of iterations.\", ConvergenceWarning)\n"
     ]
    },
    {
     "name": "stdout",
     "output_type": "stream",
     "text": [
      "[CV] END ....................................C=20, epsilon=0; total time=  26.2s\n"
     ]
    },
    {
     "name": "stderr",
     "output_type": "stream",
     "text": [
      "/anaconda3/lib/python3.7/site-packages/sklearn/svm/_base.py:986: ConvergenceWarning: Liblinear failed to converge, increase the number of iterations.\n",
      "  \"the number of iterations.\", ConvergenceWarning)\n"
     ]
    },
    {
     "name": "stdout",
     "output_type": "stream",
     "text": [
      "[CV] END ....................................C=20, epsilon=0; total time=  25.7s\n"
     ]
    },
    {
     "name": "stderr",
     "output_type": "stream",
     "text": [
      "/anaconda3/lib/python3.7/site-packages/sklearn/svm/_base.py:986: ConvergenceWarning: Liblinear failed to converge, increase the number of iterations.\n",
      "  \"the number of iterations.\", ConvergenceWarning)\n"
     ]
    },
    {
     "name": "stdout",
     "output_type": "stream",
     "text": [
      "[CV] END ....................................C=20, epsilon=0; total time=  26.1s\n"
     ]
    },
    {
     "name": "stderr",
     "output_type": "stream",
     "text": [
      "/anaconda3/lib/python3.7/site-packages/sklearn/svm/_base.py:986: ConvergenceWarning: Liblinear failed to converge, increase the number of iterations.\n",
      "  \"the number of iterations.\", ConvergenceWarning)\n"
     ]
    },
    {
     "name": "stdout",
     "output_type": "stream",
     "text": [
      "[CV] END ....................................C=20, epsilon=0; total time=  26.1s\n"
     ]
    },
    {
     "name": "stderr",
     "output_type": "stream",
     "text": [
      "/anaconda3/lib/python3.7/site-packages/sklearn/svm/_base.py:986: ConvergenceWarning: Liblinear failed to converge, increase the number of iterations.\n",
      "  \"the number of iterations.\", ConvergenceWarning)\n"
     ]
    },
    {
     "name": "stdout",
     "output_type": "stream",
     "text": [
      "[CV] END ....................................C=20, epsilon=0; total time=  26.6s\n"
     ]
    },
    {
     "name": "stderr",
     "output_type": "stream",
     "text": [
      "/anaconda3/lib/python3.7/site-packages/sklearn/svm/_base.py:986: ConvergenceWarning: Liblinear failed to converge, increase the number of iterations.\n",
      "  \"the number of iterations.\", ConvergenceWarning)\n"
     ]
    },
    {
     "name": "stdout",
     "output_type": "stream",
     "text": [
      "[CV] END ....................................C=20, epsilon=0; total time=  26.4s\n"
     ]
    },
    {
     "name": "stderr",
     "output_type": "stream",
     "text": [
      "/anaconda3/lib/python3.7/site-packages/sklearn/svm/_base.py:986: ConvergenceWarning: Liblinear failed to converge, increase the number of iterations.\n",
      "  \"the number of iterations.\", ConvergenceWarning)\n"
     ]
    },
    {
     "name": "stdout",
     "output_type": "stream",
     "text": [
      "[CV] END ....................................C=20, epsilon=0; total time=  26.6s\n"
     ]
    },
    {
     "name": "stderr",
     "output_type": "stream",
     "text": [
      "/anaconda3/lib/python3.7/site-packages/sklearn/svm/_base.py:986: ConvergenceWarning: Liblinear failed to converge, increase the number of iterations.\n",
      "  \"the number of iterations.\", ConvergenceWarning)\n"
     ]
    },
    {
     "name": "stdout",
     "output_type": "stream",
     "text": [
      "[CV] END ....................................C=20, epsilon=0; total time=  26.2s\n"
     ]
    },
    {
     "name": "stderr",
     "output_type": "stream",
     "text": [
      "/anaconda3/lib/python3.7/site-packages/sklearn/svm/_base.py:986: ConvergenceWarning: Liblinear failed to converge, increase the number of iterations.\n",
      "  \"the number of iterations.\", ConvergenceWarning)\n"
     ]
    },
    {
     "name": "stdout",
     "output_type": "stream",
     "text": [
      "[CV] END ....................................C=20, epsilon=0; total time=  25.7s\n",
      "[CV] END ....................................C=20, epsilon=5; total time=   2.6s\n",
      "[CV] END ....................................C=20, epsilon=5; total time=   4.1s\n",
      "[CV] END ....................................C=20, epsilon=5; total time=   2.0s\n",
      "[CV] END ....................................C=20, epsilon=5; total time=   1.3s\n",
      "[CV] END ....................................C=20, epsilon=5; total time=   3.0s\n",
      "[CV] END ....................................C=20, epsilon=5; total time=   2.9s\n",
      "[CV] END ....................................C=20, epsilon=5; total time=   4.3s\n",
      "[CV] END ....................................C=20, epsilon=5; total time=   2.5s\n",
      "[CV] END ....................................C=20, epsilon=5; total time=   0.7s\n"
     ]
    },
    {
     "name": "stderr",
     "output_type": "stream",
     "text": [
      "/anaconda3/lib/python3.7/site-packages/sklearn/svm/_base.py:986: ConvergenceWarning: Liblinear failed to converge, increase the number of iterations.\n",
      "  \"the number of iterations.\", ConvergenceWarning)\n"
     ]
    },
    {
     "name": "stdout",
     "output_type": "stream",
     "text": [
      "[CV] END ....................................C=20, epsilon=5; total time=  13.6s\n"
     ]
    },
    {
     "name": "stderr",
     "output_type": "stream",
     "text": [
      "/anaconda3/lib/python3.7/site-packages/sklearn/svm/_base.py:986: ConvergenceWarning: Liblinear failed to converge, increase the number of iterations.\n",
      "  \"the number of iterations.\", ConvergenceWarning)\n"
     ]
    },
    {
     "name": "stdout",
     "output_type": "stream",
     "text": [
      "[CV] END ....................................C=20, epsilon=5; total time=  23.4s\n"
     ]
    },
    {
     "name": "stderr",
     "output_type": "stream",
     "text": [
      "/anaconda3/lib/python3.7/site-packages/sklearn/svm/_base.py:986: ConvergenceWarning: Liblinear failed to converge, increase the number of iterations.\n",
      "  \"the number of iterations.\", ConvergenceWarning)\n"
     ]
    },
    {
     "name": "stdout",
     "output_type": "stream",
     "text": [
      "[CV] END ....................................C=20, epsilon=5; total time=  24.6s\n"
     ]
    },
    {
     "name": "stderr",
     "output_type": "stream",
     "text": [
      "/anaconda3/lib/python3.7/site-packages/sklearn/svm/_base.py:986: ConvergenceWarning: Liblinear failed to converge, increase the number of iterations.\n",
      "  \"the number of iterations.\", ConvergenceWarning)\n"
     ]
    },
    {
     "name": "stdout",
     "output_type": "stream",
     "text": [
      "[CV] END ....................................C=20, epsilon=5; total time=  25.4s\n"
     ]
    },
    {
     "name": "stderr",
     "output_type": "stream",
     "text": [
      "/anaconda3/lib/python3.7/site-packages/sklearn/svm/_base.py:986: ConvergenceWarning: Liblinear failed to converge, increase the number of iterations.\n",
      "  \"the number of iterations.\", ConvergenceWarning)\n"
     ]
    },
    {
     "name": "stdout",
     "output_type": "stream",
     "text": [
      "[CV] END ....................................C=20, epsilon=5; total time=  25.8s\n"
     ]
    },
    {
     "name": "stderr",
     "output_type": "stream",
     "text": [
      "/anaconda3/lib/python3.7/site-packages/sklearn/svm/_base.py:986: ConvergenceWarning: Liblinear failed to converge, increase the number of iterations.\n",
      "  \"the number of iterations.\", ConvergenceWarning)\n"
     ]
    },
    {
     "name": "stdout",
     "output_type": "stream",
     "text": [
      "[CV] END ....................................C=20, epsilon=5; total time=  25.5s\n"
     ]
    },
    {
     "name": "stderr",
     "output_type": "stream",
     "text": [
      "/anaconda3/lib/python3.7/site-packages/sklearn/svm/_base.py:986: ConvergenceWarning: Liblinear failed to converge, increase the number of iterations.\n",
      "  \"the number of iterations.\", ConvergenceWarning)\n"
     ]
    },
    {
     "name": "stdout",
     "output_type": "stream",
     "text": [
      "[CV] END ....................................C=20, epsilon=5; total time=  26.0s\n"
     ]
    },
    {
     "name": "stderr",
     "output_type": "stream",
     "text": [
      "/anaconda3/lib/python3.7/site-packages/sklearn/svm/_base.py:986: ConvergenceWarning: Liblinear failed to converge, increase the number of iterations.\n",
      "  \"the number of iterations.\", ConvergenceWarning)\n"
     ]
    },
    {
     "name": "stdout",
     "output_type": "stream",
     "text": [
      "[CV] END ....................................C=20, epsilon=5; total time=  26.0s\n"
     ]
    },
    {
     "name": "stderr",
     "output_type": "stream",
     "text": [
      "/anaconda3/lib/python3.7/site-packages/sklearn/svm/_base.py:986: ConvergenceWarning: Liblinear failed to converge, increase the number of iterations.\n",
      "  \"the number of iterations.\", ConvergenceWarning)\n"
     ]
    },
    {
     "name": "stdout",
     "output_type": "stream",
     "text": [
      "[CV] END ....................................C=20, epsilon=5; total time=  25.5s\n"
     ]
    },
    {
     "name": "stderr",
     "output_type": "stream",
     "text": [
      "/anaconda3/lib/python3.7/site-packages/sklearn/svm/_base.py:986: ConvergenceWarning: Liblinear failed to converge, increase the number of iterations.\n",
      "  \"the number of iterations.\", ConvergenceWarning)\n"
     ]
    },
    {
     "name": "stdout",
     "output_type": "stream",
     "text": [
      "[CV] END ....................................C=20, epsilon=5; total time=  25.9s\n"
     ]
    },
    {
     "name": "stderr",
     "output_type": "stream",
     "text": [
      "/anaconda3/lib/python3.7/site-packages/sklearn/svm/_base.py:986: ConvergenceWarning: Liblinear failed to converge, increase the number of iterations.\n",
      "  \"the number of iterations.\", ConvergenceWarning)\n"
     ]
    },
    {
     "name": "stdout",
     "output_type": "stream",
     "text": [
      "[CV] END ....................................C=20, epsilon=5; total time=  25.5s\n"
     ]
    },
    {
     "name": "stderr",
     "output_type": "stream",
     "text": [
      "/anaconda3/lib/python3.7/site-packages/sklearn/svm/_base.py:986: ConvergenceWarning: Liblinear failed to converge, increase the number of iterations.\n",
      "  \"the number of iterations.\", ConvergenceWarning)\n"
     ]
    },
    {
     "name": "stdout",
     "output_type": "stream",
     "text": [
      "[CV] END ....................................C=20, epsilon=5; total time=  26.0s\n"
     ]
    },
    {
     "name": "stderr",
     "output_type": "stream",
     "text": [
      "/anaconda3/lib/python3.7/site-packages/sklearn/svm/_base.py:986: ConvergenceWarning: Liblinear failed to converge, increase the number of iterations.\n",
      "  \"the number of iterations.\", ConvergenceWarning)\n"
     ]
    },
    {
     "name": "stdout",
     "output_type": "stream",
     "text": [
      "[CV] END ....................................C=20, epsilon=5; total time=  25.7s\n"
     ]
    },
    {
     "name": "stderr",
     "output_type": "stream",
     "text": [
      "/anaconda3/lib/python3.7/site-packages/sklearn/svm/_base.py:986: ConvergenceWarning: Liblinear failed to converge, increase the number of iterations.\n",
      "  \"the number of iterations.\", ConvergenceWarning)\n"
     ]
    },
    {
     "name": "stdout",
     "output_type": "stream",
     "text": [
      "[CV] END ....................................C=20, epsilon=5; total time=  25.3s\n"
     ]
    },
    {
     "name": "stderr",
     "output_type": "stream",
     "text": [
      "/anaconda3/lib/python3.7/site-packages/sklearn/svm/_base.py:986: ConvergenceWarning: Liblinear failed to converge, increase the number of iterations.\n",
      "  \"the number of iterations.\", ConvergenceWarning)\n"
     ]
    },
    {
     "name": "stdout",
     "output_type": "stream",
     "text": [
      "[CV] END ....................................C=20, epsilon=5; total time=  24.5s\n"
     ]
    },
    {
     "name": "stderr",
     "output_type": "stream",
     "text": [
      "/anaconda3/lib/python3.7/site-packages/sklearn/svm/_base.py:986: ConvergenceWarning: Liblinear failed to converge, increase the number of iterations.\n",
      "  \"the number of iterations.\", ConvergenceWarning)\n"
     ]
    },
    {
     "name": "stdout",
     "output_type": "stream",
     "text": [
      "[CV] END ....................................C=20, epsilon=5; total time=  23.9s\n"
     ]
    },
    {
     "name": "stderr",
     "output_type": "stream",
     "text": [
      "/anaconda3/lib/python3.7/site-packages/sklearn/svm/_base.py:986: ConvergenceWarning: Liblinear failed to converge, increase the number of iterations.\n",
      "  \"the number of iterations.\", ConvergenceWarning)\n"
     ]
    },
    {
     "name": "stdout",
     "output_type": "stream",
     "text": [
      "[CV] END ....................................C=20, epsilon=5; total time=  24.2s\n"
     ]
    },
    {
     "name": "stderr",
     "output_type": "stream",
     "text": [
      "/anaconda3/lib/python3.7/site-packages/sklearn/svm/_base.py:986: ConvergenceWarning: Liblinear failed to converge, increase the number of iterations.\n",
      "  \"the number of iterations.\", ConvergenceWarning)\n"
     ]
    },
    {
     "name": "stdout",
     "output_type": "stream",
     "text": [
      "[CV] END ....................................C=20, epsilon=5; total time=  23.6s\n"
     ]
    },
    {
     "name": "stderr",
     "output_type": "stream",
     "text": [
      "/anaconda3/lib/python3.7/site-packages/sklearn/svm/_base.py:986: ConvergenceWarning: Liblinear failed to converge, increase the number of iterations.\n",
      "  \"the number of iterations.\", ConvergenceWarning)\n"
     ]
    },
    {
     "name": "stdout",
     "output_type": "stream",
     "text": [
      "[CV] END ....................................C=20, epsilon=5; total time=  23.7s\n"
     ]
    },
    {
     "name": "stderr",
     "output_type": "stream",
     "text": [
      "/anaconda3/lib/python3.7/site-packages/sklearn/svm/_base.py:986: ConvergenceWarning: Liblinear failed to converge, increase the number of iterations.\n",
      "  \"the number of iterations.\", ConvergenceWarning)\n"
     ]
    },
    {
     "name": "stdout",
     "output_type": "stream",
     "text": [
      "[CV] END ....................................C=20, epsilon=5; total time=  23.6s\n"
     ]
    },
    {
     "name": "stderr",
     "output_type": "stream",
     "text": [
      "/anaconda3/lib/python3.7/site-packages/sklearn/svm/_base.py:986: ConvergenceWarning: Liblinear failed to converge, increase the number of iterations.\n",
      "  \"the number of iterations.\", ConvergenceWarning)\n"
     ]
    },
    {
     "name": "stdout",
     "output_type": "stream",
     "text": [
      "[CV] END ....................................C=20, epsilon=5; total time=  23.7s\n"
     ]
    },
    {
     "name": "stderr",
     "output_type": "stream",
     "text": [
      "/anaconda3/lib/python3.7/site-packages/sklearn/svm/_base.py:986: ConvergenceWarning: Liblinear failed to converge, increase the number of iterations.\n",
      "  \"the number of iterations.\", ConvergenceWarning)\n"
     ]
    },
    {
     "name": "stdout",
     "output_type": "stream",
     "text": [
      "[CV] END ....................................C=20, epsilon=5; total time=  23.9s\n"
     ]
    },
    {
     "name": "stderr",
     "output_type": "stream",
     "text": [
      "/anaconda3/lib/python3.7/site-packages/sklearn/svm/_base.py:986: ConvergenceWarning: Liblinear failed to converge, increase the number of iterations.\n",
      "  \"the number of iterations.\", ConvergenceWarning)\n"
     ]
    },
    {
     "name": "stdout",
     "output_type": "stream",
     "text": [
      "[CV] END ....................................C=20, epsilon=5; total time=  23.2s\n"
     ]
    },
    {
     "name": "stderr",
     "output_type": "stream",
     "text": [
      "/anaconda3/lib/python3.7/site-packages/sklearn/svm/_base.py:986: ConvergenceWarning: Liblinear failed to converge, increase the number of iterations.\n",
      "  \"the number of iterations.\", ConvergenceWarning)\n"
     ]
    },
    {
     "name": "stdout",
     "output_type": "stream",
     "text": [
      "[CV] END ....................................C=20, epsilon=5; total time=  23.6s\n"
     ]
    },
    {
     "name": "stderr",
     "output_type": "stream",
     "text": [
      "/anaconda3/lib/python3.7/site-packages/sklearn/svm/_base.py:986: ConvergenceWarning: Liblinear failed to converge, increase the number of iterations.\n",
      "  \"the number of iterations.\", ConvergenceWarning)\n"
     ]
    },
    {
     "name": "stdout",
     "output_type": "stream",
     "text": [
      "[CV] END ....................................C=20, epsilon=5; total time=  23.5s\n"
     ]
    },
    {
     "name": "stderr",
     "output_type": "stream",
     "text": [
      "/anaconda3/lib/python3.7/site-packages/sklearn/svm/_base.py:986: ConvergenceWarning: Liblinear failed to converge, increase the number of iterations.\n",
      "  \"the number of iterations.\", ConvergenceWarning)\n"
     ]
    },
    {
     "name": "stdout",
     "output_type": "stream",
     "text": [
      "[CV] END ....................................C=20, epsilon=5; total time=  23.5s\n"
     ]
    },
    {
     "name": "stderr",
     "output_type": "stream",
     "text": [
      "/anaconda3/lib/python3.7/site-packages/sklearn/svm/_base.py:986: ConvergenceWarning: Liblinear failed to converge, increase the number of iterations.\n",
      "  \"the number of iterations.\", ConvergenceWarning)\n"
     ]
    },
    {
     "name": "stdout",
     "output_type": "stream",
     "text": [
      "[CV] END ....................................C=20, epsilon=5; total time=  24.2s\n"
     ]
    },
    {
     "name": "stderr",
     "output_type": "stream",
     "text": [
      "/anaconda3/lib/python3.7/site-packages/sklearn/svm/_base.py:986: ConvergenceWarning: Liblinear failed to converge, increase the number of iterations.\n",
      "  \"the number of iterations.\", ConvergenceWarning)\n"
     ]
    },
    {
     "name": "stdout",
     "output_type": "stream",
     "text": [
      "[CV] END ....................................C=20, epsilon=5; total time=  23.9s\n"
     ]
    },
    {
     "name": "stderr",
     "output_type": "stream",
     "text": [
      "/anaconda3/lib/python3.7/site-packages/sklearn/svm/_base.py:986: ConvergenceWarning: Liblinear failed to converge, increase the number of iterations.\n",
      "  \"the number of iterations.\", ConvergenceWarning)\n"
     ]
    },
    {
     "name": "stdout",
     "output_type": "stream",
     "text": [
      "[CV] END ....................................C=20, epsilon=5; total time=  26.1s\n"
     ]
    },
    {
     "name": "stderr",
     "output_type": "stream",
     "text": [
      "/anaconda3/lib/python3.7/site-packages/sklearn/svm/_base.py:986: ConvergenceWarning: Liblinear failed to converge, increase the number of iterations.\n",
      "  \"the number of iterations.\", ConvergenceWarning)\n"
     ]
    },
    {
     "name": "stdout",
     "output_type": "stream",
     "text": [
      "[CV] END ....................................C=20, epsilon=5; total time=  26.3s\n",
      "[CV] END ...................................C=20, epsilon=10; total time=   2.0s\n",
      "[CV] END ...................................C=20, epsilon=10; total time=   2.0s\n",
      "[CV] END ...................................C=20, epsilon=10; total time=   2.2s\n",
      "[CV] END ...................................C=20, epsilon=10; total time=   1.6s\n",
      "[CV] END ...................................C=20, epsilon=10; total time=   1.3s\n",
      "[CV] END ...................................C=20, epsilon=10; total time=   1.5s\n",
      "[CV] END ...................................C=20, epsilon=10; total time=   1.8s\n",
      "[CV] END ...................................C=20, epsilon=10; total time=   1.4s\n",
      "[CV] END ...................................C=20, epsilon=10; total time=   1.3s\n"
     ]
    },
    {
     "name": "stderr",
     "output_type": "stream",
     "text": [
      "/anaconda3/lib/python3.7/site-packages/sklearn/svm/_base.py:986: ConvergenceWarning: Liblinear failed to converge, increase the number of iterations.\n",
      "  \"the number of iterations.\", ConvergenceWarning)\n"
     ]
    },
    {
     "name": "stdout",
     "output_type": "stream",
     "text": [
      "[CV] END ...................................C=20, epsilon=10; total time=  17.2s\n"
     ]
    },
    {
     "name": "stderr",
     "output_type": "stream",
     "text": [
      "/anaconda3/lib/python3.7/site-packages/sklearn/svm/_base.py:986: ConvergenceWarning: Liblinear failed to converge, increase the number of iterations.\n",
      "  \"the number of iterations.\", ConvergenceWarning)\n"
     ]
    },
    {
     "name": "stdout",
     "output_type": "stream",
     "text": [
      "[CV] END ...................................C=20, epsilon=10; total time=  24.4s\n"
     ]
    },
    {
     "name": "stderr",
     "output_type": "stream",
     "text": [
      "/anaconda3/lib/python3.7/site-packages/sklearn/svm/_base.py:986: ConvergenceWarning: Liblinear failed to converge, increase the number of iterations.\n",
      "  \"the number of iterations.\", ConvergenceWarning)\n"
     ]
    },
    {
     "name": "stdout",
     "output_type": "stream",
     "text": [
      "[CV] END ...................................C=20, epsilon=10; total time=  26.8s\n"
     ]
    },
    {
     "name": "stderr",
     "output_type": "stream",
     "text": [
      "/anaconda3/lib/python3.7/site-packages/sklearn/svm/_base.py:986: ConvergenceWarning: Liblinear failed to converge, increase the number of iterations.\n",
      "  \"the number of iterations.\", ConvergenceWarning)\n"
     ]
    },
    {
     "name": "stdout",
     "output_type": "stream",
     "text": [
      "[CV] END ...................................C=20, epsilon=10; total time=  26.9s\n"
     ]
    },
    {
     "name": "stderr",
     "output_type": "stream",
     "text": [
      "/anaconda3/lib/python3.7/site-packages/sklearn/svm/_base.py:986: ConvergenceWarning: Liblinear failed to converge, increase the number of iterations.\n",
      "  \"the number of iterations.\", ConvergenceWarning)\n"
     ]
    },
    {
     "name": "stdout",
     "output_type": "stream",
     "text": [
      "[CV] END ...................................C=20, epsilon=10; total time=  24.5s\n"
     ]
    },
    {
     "name": "stderr",
     "output_type": "stream",
     "text": [
      "/anaconda3/lib/python3.7/site-packages/sklearn/svm/_base.py:986: ConvergenceWarning: Liblinear failed to converge, increase the number of iterations.\n",
      "  \"the number of iterations.\", ConvergenceWarning)\n"
     ]
    },
    {
     "name": "stdout",
     "output_type": "stream",
     "text": [
      "[CV] END ...................................C=20, epsilon=10; total time=  24.4s\n"
     ]
    },
    {
     "name": "stderr",
     "output_type": "stream",
     "text": [
      "/anaconda3/lib/python3.7/site-packages/sklearn/svm/_base.py:986: ConvergenceWarning: Liblinear failed to converge, increase the number of iterations.\n",
      "  \"the number of iterations.\", ConvergenceWarning)\n"
     ]
    },
    {
     "name": "stdout",
     "output_type": "stream",
     "text": [
      "[CV] END ...................................C=20, epsilon=10; total time=  24.4s\n"
     ]
    },
    {
     "name": "stderr",
     "output_type": "stream",
     "text": [
      "/anaconda3/lib/python3.7/site-packages/sklearn/svm/_base.py:986: ConvergenceWarning: Liblinear failed to converge, increase the number of iterations.\n",
      "  \"the number of iterations.\", ConvergenceWarning)\n"
     ]
    },
    {
     "name": "stdout",
     "output_type": "stream",
     "text": [
      "[CV] END ...................................C=20, epsilon=10; total time=  24.8s\n"
     ]
    },
    {
     "name": "stderr",
     "output_type": "stream",
     "text": [
      "/anaconda3/lib/python3.7/site-packages/sklearn/svm/_base.py:986: ConvergenceWarning: Liblinear failed to converge, increase the number of iterations.\n",
      "  \"the number of iterations.\", ConvergenceWarning)\n"
     ]
    },
    {
     "name": "stdout",
     "output_type": "stream",
     "text": [
      "[CV] END ...................................C=20, epsilon=10; total time=  24.4s\n"
     ]
    },
    {
     "name": "stderr",
     "output_type": "stream",
     "text": [
      "/anaconda3/lib/python3.7/site-packages/sklearn/svm/_base.py:986: ConvergenceWarning: Liblinear failed to converge, increase the number of iterations.\n",
      "  \"the number of iterations.\", ConvergenceWarning)\n"
     ]
    },
    {
     "name": "stdout",
     "output_type": "stream",
     "text": [
      "[CV] END ...................................C=20, epsilon=10; total time=  24.1s\n"
     ]
    },
    {
     "name": "stderr",
     "output_type": "stream",
     "text": [
      "/anaconda3/lib/python3.7/site-packages/sklearn/svm/_base.py:986: ConvergenceWarning: Liblinear failed to converge, increase the number of iterations.\n",
      "  \"the number of iterations.\", ConvergenceWarning)\n"
     ]
    },
    {
     "name": "stdout",
     "output_type": "stream",
     "text": [
      "[CV] END ...................................C=20, epsilon=10; total time=  24.5s\n"
     ]
    },
    {
     "name": "stderr",
     "output_type": "stream",
     "text": [
      "/anaconda3/lib/python3.7/site-packages/sklearn/svm/_base.py:986: ConvergenceWarning: Liblinear failed to converge, increase the number of iterations.\n",
      "  \"the number of iterations.\", ConvergenceWarning)\n"
     ]
    },
    {
     "name": "stdout",
     "output_type": "stream",
     "text": [
      "[CV] END ...................................C=20, epsilon=10; total time=  24.6s\n"
     ]
    },
    {
     "name": "stderr",
     "output_type": "stream",
     "text": [
      "/anaconda3/lib/python3.7/site-packages/sklearn/svm/_base.py:986: ConvergenceWarning: Liblinear failed to converge, increase the number of iterations.\n",
      "  \"the number of iterations.\", ConvergenceWarning)\n"
     ]
    },
    {
     "name": "stdout",
     "output_type": "stream",
     "text": [
      "[CV] END ...................................C=20, epsilon=10; total time=  24.4s\n"
     ]
    },
    {
     "name": "stderr",
     "output_type": "stream",
     "text": [
      "/anaconda3/lib/python3.7/site-packages/sklearn/svm/_base.py:986: ConvergenceWarning: Liblinear failed to converge, increase the number of iterations.\n",
      "  \"the number of iterations.\", ConvergenceWarning)\n"
     ]
    },
    {
     "name": "stdout",
     "output_type": "stream",
     "text": [
      "[CV] END ...................................C=20, epsilon=10; total time=  24.0s\n"
     ]
    },
    {
     "name": "stderr",
     "output_type": "stream",
     "text": [
      "/anaconda3/lib/python3.7/site-packages/sklearn/svm/_base.py:986: ConvergenceWarning: Liblinear failed to converge, increase the number of iterations.\n",
      "  \"the number of iterations.\", ConvergenceWarning)\n"
     ]
    },
    {
     "name": "stdout",
     "output_type": "stream",
     "text": [
      "[CV] END ...................................C=20, epsilon=10; total time=  24.5s\n"
     ]
    },
    {
     "name": "stderr",
     "output_type": "stream",
     "text": [
      "/anaconda3/lib/python3.7/site-packages/sklearn/svm/_base.py:986: ConvergenceWarning: Liblinear failed to converge, increase the number of iterations.\n",
      "  \"the number of iterations.\", ConvergenceWarning)\n"
     ]
    },
    {
     "name": "stdout",
     "output_type": "stream",
     "text": [
      "[CV] END ...................................C=20, epsilon=10; total time=  23.3s\n"
     ]
    },
    {
     "name": "stderr",
     "output_type": "stream",
     "text": [
      "/anaconda3/lib/python3.7/site-packages/sklearn/svm/_base.py:986: ConvergenceWarning: Liblinear failed to converge, increase the number of iterations.\n",
      "  \"the number of iterations.\", ConvergenceWarning)\n"
     ]
    },
    {
     "name": "stdout",
     "output_type": "stream",
     "text": [
      "[CV] END ...................................C=20, epsilon=10; total time=  23.4s\n"
     ]
    },
    {
     "name": "stderr",
     "output_type": "stream",
     "text": [
      "/anaconda3/lib/python3.7/site-packages/sklearn/svm/_base.py:986: ConvergenceWarning: Liblinear failed to converge, increase the number of iterations.\n",
      "  \"the number of iterations.\", ConvergenceWarning)\n"
     ]
    },
    {
     "name": "stdout",
     "output_type": "stream",
     "text": [
      "[CV] END ...................................C=20, epsilon=10; total time=  23.5s\n"
     ]
    },
    {
     "name": "stderr",
     "output_type": "stream",
     "text": [
      "/anaconda3/lib/python3.7/site-packages/sklearn/svm/_base.py:986: ConvergenceWarning: Liblinear failed to converge, increase the number of iterations.\n",
      "  \"the number of iterations.\", ConvergenceWarning)\n"
     ]
    },
    {
     "name": "stdout",
     "output_type": "stream",
     "text": [
      "[CV] END ...................................C=20, epsilon=10; total time=  23.3s\n"
     ]
    },
    {
     "name": "stderr",
     "output_type": "stream",
     "text": [
      "/anaconda3/lib/python3.7/site-packages/sklearn/svm/_base.py:986: ConvergenceWarning: Liblinear failed to converge, increase the number of iterations.\n",
      "  \"the number of iterations.\", ConvergenceWarning)\n"
     ]
    },
    {
     "name": "stdout",
     "output_type": "stream",
     "text": [
      "[CV] END ...................................C=20, epsilon=10; total time=  23.1s\n"
     ]
    },
    {
     "name": "stderr",
     "output_type": "stream",
     "text": [
      "/anaconda3/lib/python3.7/site-packages/sklearn/svm/_base.py:986: ConvergenceWarning: Liblinear failed to converge, increase the number of iterations.\n",
      "  \"the number of iterations.\", ConvergenceWarning)\n"
     ]
    },
    {
     "name": "stdout",
     "output_type": "stream",
     "text": [
      "[CV] END ...................................C=20, epsilon=10; total time=  23.1s\n"
     ]
    },
    {
     "name": "stderr",
     "output_type": "stream",
     "text": [
      "/anaconda3/lib/python3.7/site-packages/sklearn/svm/_base.py:986: ConvergenceWarning: Liblinear failed to converge, increase the number of iterations.\n",
      "  \"the number of iterations.\", ConvergenceWarning)\n"
     ]
    },
    {
     "name": "stdout",
     "output_type": "stream",
     "text": [
      "[CV] END ...................................C=20, epsilon=10; total time=  23.4s\n"
     ]
    },
    {
     "name": "stderr",
     "output_type": "stream",
     "text": [
      "/anaconda3/lib/python3.7/site-packages/sklearn/svm/_base.py:986: ConvergenceWarning: Liblinear failed to converge, increase the number of iterations.\n",
      "  \"the number of iterations.\", ConvergenceWarning)\n"
     ]
    },
    {
     "name": "stdout",
     "output_type": "stream",
     "text": [
      "[CV] END ...................................C=20, epsilon=10; total time=  23.5s\n"
     ]
    },
    {
     "name": "stderr",
     "output_type": "stream",
     "text": [
      "/anaconda3/lib/python3.7/site-packages/sklearn/svm/_base.py:986: ConvergenceWarning: Liblinear failed to converge, increase the number of iterations.\n",
      "  \"the number of iterations.\", ConvergenceWarning)\n"
     ]
    },
    {
     "name": "stdout",
     "output_type": "stream",
     "text": [
      "[CV] END ...................................C=20, epsilon=10; total time=  23.1s\n"
     ]
    },
    {
     "name": "stderr",
     "output_type": "stream",
     "text": [
      "/anaconda3/lib/python3.7/site-packages/sklearn/svm/_base.py:986: ConvergenceWarning: Liblinear failed to converge, increase the number of iterations.\n",
      "  \"the number of iterations.\", ConvergenceWarning)\n"
     ]
    },
    {
     "name": "stdout",
     "output_type": "stream",
     "text": [
      "[CV] END ...................................C=20, epsilon=10; total time=  23.3s\n"
     ]
    },
    {
     "name": "stderr",
     "output_type": "stream",
     "text": [
      "/anaconda3/lib/python3.7/site-packages/sklearn/svm/_base.py:986: ConvergenceWarning: Liblinear failed to converge, increase the number of iterations.\n",
      "  \"the number of iterations.\", ConvergenceWarning)\n"
     ]
    },
    {
     "name": "stdout",
     "output_type": "stream",
     "text": [
      "[CV] END ...................................C=20, epsilon=10; total time=  23.6s\n"
     ]
    },
    {
     "name": "stderr",
     "output_type": "stream",
     "text": [
      "/anaconda3/lib/python3.7/site-packages/sklearn/svm/_base.py:986: ConvergenceWarning: Liblinear failed to converge, increase the number of iterations.\n",
      "  \"the number of iterations.\", ConvergenceWarning)\n"
     ]
    },
    {
     "name": "stdout",
     "output_type": "stream",
     "text": [
      "[CV] END ...................................C=20, epsilon=10; total time=  23.6s\n"
     ]
    },
    {
     "name": "stderr",
     "output_type": "stream",
     "text": [
      "/anaconda3/lib/python3.7/site-packages/sklearn/svm/_base.py:986: ConvergenceWarning: Liblinear failed to converge, increase the number of iterations.\n",
      "  \"the number of iterations.\", ConvergenceWarning)\n"
     ]
    },
    {
     "name": "stdout",
     "output_type": "stream",
     "text": [
      "[CV] END ...................................C=20, epsilon=10; total time=  23.4s\n"
     ]
    },
    {
     "name": "stderr",
     "output_type": "stream",
     "text": [
      "/anaconda3/lib/python3.7/site-packages/sklearn/svm/_base.py:986: ConvergenceWarning: Liblinear failed to converge, increase the number of iterations.\n",
      "  \"the number of iterations.\", ConvergenceWarning)\n"
     ]
    },
    {
     "name": "stdout",
     "output_type": "stream",
     "text": [
      "[CV] END ...................................C=20, epsilon=10; total time=  23.4s\n",
      "[CV] END ...................................C=20, epsilon=10; total time=  23.0s\n",
      "End:  30/05/2021 02:06:13\n"
     ]
    },
    {
     "name": "stderr",
     "output_type": "stream",
     "text": [
      "/anaconda3/lib/python3.7/site-packages/sklearn/svm/_base.py:986: ConvergenceWarning: Liblinear failed to converge, increase the number of iterations.\n",
      "  \"the number of iterations.\", ConvergenceWarning)\n"
     ]
    }
   ],
   "source": [
    "from sklearn.pipeline import make_pipeline\n",
    "\n",
    "param_grid = {\n",
    "    'C': [0.1, 0.5, 1, 5, 10, 20],\n",
    "    'epsilon': [0, 5, 10]\n",
    "}\n",
    "\n",
    "print(\"Start: \", datetime.datetime.now().strftime(\"%d/%m/%Y %H:%M:%S\"))\n",
    "\n",
    "linSVR_search = GridSearchCV(svm.LinearSVR(max_iter=100000), param_grid, cv=tscv_indices, \n",
    "                             scoring=scoring_metrics, refit = False, verbose=2)\n",
    "linSVR_search.fit(X_train.drop(columns=[\"date\"]), np.array(y_train).ravel())\n",
    "\n",
    "print(\"End: \", datetime.datetime.now().strftime(\"%d/%m/%Y %H:%M:%S\"))"
   ]
  },
  {
   "cell_type": "markdown",
   "metadata": {},
   "source": [
    "Some of the above specifications do not converge well..."
   ]
  },
  {
   "cell_type": "code",
   "execution_count": 22,
   "metadata": {},
   "outputs": [
    {
     "data": {
      "text/html": [
       "<div>\n",
       "<style scoped>\n",
       "    .dataframe tbody tr th:only-of-type {\n",
       "        vertical-align: middle;\n",
       "    }\n",
       "\n",
       "    .dataframe tbody tr th {\n",
       "        vertical-align: top;\n",
       "    }\n",
       "\n",
       "    .dataframe thead th {\n",
       "        text-align: right;\n",
       "    }\n",
       "</style>\n",
       "<table border=\"1\" class=\"dataframe\">\n",
       "  <thead>\n",
       "    <tr style=\"text-align: right;\">\n",
       "      <th></th>\n",
       "      <th>epsilon</th>\n",
       "      <th>C</th>\n",
       "      <th>neg_mean_squared_error</th>\n",
       "      <th>r2</th>\n",
       "      <th>neg_mean_absolute_error</th>\n",
       "    </tr>\n",
       "  </thead>\n",
       "  <tbody>\n",
       "    <tr>\n",
       "      <th>2</th>\n",
       "      <td>10</td>\n",
       "      <td>0.1</td>\n",
       "      <td>-2915.588096</td>\n",
       "      <td>0.904891</td>\n",
       "      <td>-9.716589</td>\n",
       "    </tr>\n",
       "    <tr>\n",
       "      <th>5</th>\n",
       "      <td>10</td>\n",
       "      <td>0.5</td>\n",
       "      <td>-4104.978040</td>\n",
       "      <td>0.889098</td>\n",
       "      <td>-9.013524</td>\n",
       "    </tr>\n",
       "    <tr>\n",
       "      <th>8</th>\n",
       "      <td>10</td>\n",
       "      <td>1.0</td>\n",
       "      <td>-3937.937377</td>\n",
       "      <td>0.889712</td>\n",
       "      <td>-8.921313</td>\n",
       "    </tr>\n",
       "    <tr>\n",
       "      <th>1</th>\n",
       "      <td>5</td>\n",
       "      <td>0.1</td>\n",
       "      <td>-2773.122051</td>\n",
       "      <td>0.910023</td>\n",
       "      <td>-8.851271</td>\n",
       "    </tr>\n",
       "    <tr>\n",
       "      <th>14</th>\n",
       "      <td>10</td>\n",
       "      <td>10.0</td>\n",
       "      <td>-4377.724809</td>\n",
       "      <td>0.874364</td>\n",
       "      <td>-8.827996</td>\n",
       "    </tr>\n",
       "    <tr>\n",
       "      <th>11</th>\n",
       "      <td>10</td>\n",
       "      <td>5.0</td>\n",
       "      <td>-4130.325085</td>\n",
       "      <td>0.882778</td>\n",
       "      <td>-8.809221</td>\n",
       "    </tr>\n",
       "    <tr>\n",
       "      <th>17</th>\n",
       "      <td>10</td>\n",
       "      <td>20.0</td>\n",
       "      <td>-4254.240960</td>\n",
       "      <td>0.876739</td>\n",
       "      <td>-8.798473</td>\n",
       "    </tr>\n",
       "    <tr>\n",
       "      <th>0</th>\n",
       "      <td>0</td>\n",
       "      <td>0.1</td>\n",
       "      <td>-2735.567145</td>\n",
       "      <td>0.910665</td>\n",
       "      <td>-8.502936</td>\n",
       "    </tr>\n",
       "    <tr>\n",
       "      <th>4</th>\n",
       "      <td>5</td>\n",
       "      <td>0.5</td>\n",
       "      <td>-4052.564126</td>\n",
       "      <td>0.891217</td>\n",
       "      <td>-8.310909</td>\n",
       "    </tr>\n",
       "    <tr>\n",
       "      <th>7</th>\n",
       "      <td>5</td>\n",
       "      <td>1.0</td>\n",
       "      <td>-3922.484399</td>\n",
       "      <td>0.892655</td>\n",
       "      <td>-8.148442</td>\n",
       "    </tr>\n",
       "    <tr>\n",
       "      <th>10</th>\n",
       "      <td>5</td>\n",
       "      <td>5.0</td>\n",
       "      <td>-4088.003508</td>\n",
       "      <td>0.882301</td>\n",
       "      <td>-8.070860</td>\n",
       "    </tr>\n",
       "    <tr>\n",
       "      <th>13</th>\n",
       "      <td>5</td>\n",
       "      <td>10.0</td>\n",
       "      <td>-4581.567314</td>\n",
       "      <td>0.875391</td>\n",
       "      <td>-8.029456</td>\n",
       "    </tr>\n",
       "    <tr>\n",
       "      <th>16</th>\n",
       "      <td>5</td>\n",
       "      <td>20.0</td>\n",
       "      <td>-3983.623427</td>\n",
       "      <td>0.880690</td>\n",
       "      <td>-7.966033</td>\n",
       "    </tr>\n",
       "    <tr>\n",
       "      <th>3</th>\n",
       "      <td>0</td>\n",
       "      <td>0.5</td>\n",
       "      <td>-4075.724730</td>\n",
       "      <td>0.891196</td>\n",
       "      <td>-7.901687</td>\n",
       "    </tr>\n",
       "    <tr>\n",
       "      <th>6</th>\n",
       "      <td>0</td>\n",
       "      <td>1.0</td>\n",
       "      <td>-3890.164023</td>\n",
       "      <td>0.891218</td>\n",
       "      <td>-7.737494</td>\n",
       "    </tr>\n",
       "    <tr>\n",
       "      <th>15</th>\n",
       "      <td>0</td>\n",
       "      <td>20.0</td>\n",
       "      <td>-4180.750183</td>\n",
       "      <td>0.880127</td>\n",
       "      <td>-7.702024</td>\n",
       "    </tr>\n",
       "    <tr>\n",
       "      <th>9</th>\n",
       "      <td>0</td>\n",
       "      <td>5.0</td>\n",
       "      <td>-4037.630917</td>\n",
       "      <td>0.884521</td>\n",
       "      <td>-7.645202</td>\n",
       "    </tr>\n",
       "    <tr>\n",
       "      <th>12</th>\n",
       "      <td>0</td>\n",
       "      <td>10.0</td>\n",
       "      <td>-4136.596882</td>\n",
       "      <td>0.881200</td>\n",
       "      <td>-7.637496</td>\n",
       "    </tr>\n",
       "  </tbody>\n",
       "</table>\n",
       "</div>"
      ],
      "text/plain": [
       "    epsilon     C  neg_mean_squared_error        r2  neg_mean_absolute_error\n",
       "2        10   0.1            -2915.588096  0.904891                -9.716589\n",
       "5        10   0.5            -4104.978040  0.889098                -9.013524\n",
       "8        10   1.0            -3937.937377  0.889712                -8.921313\n",
       "1         5   0.1            -2773.122051  0.910023                -8.851271\n",
       "14       10  10.0            -4377.724809  0.874364                -8.827996\n",
       "11       10   5.0            -4130.325085  0.882778                -8.809221\n",
       "17       10  20.0            -4254.240960  0.876739                -8.798473\n",
       "0         0   0.1            -2735.567145  0.910665                -8.502936\n",
       "4         5   0.5            -4052.564126  0.891217                -8.310909\n",
       "7         5   1.0            -3922.484399  0.892655                -8.148442\n",
       "10        5   5.0            -4088.003508  0.882301                -8.070860\n",
       "13        5  10.0            -4581.567314  0.875391                -8.029456\n",
       "16        5  20.0            -3983.623427  0.880690                -7.966033\n",
       "3         0   0.5            -4075.724730  0.891196                -7.901687\n",
       "6         0   1.0            -3890.164023  0.891218                -7.737494\n",
       "15        0  20.0            -4180.750183  0.880127                -7.702024\n",
       "9         0   5.0            -4037.630917  0.884521                -7.645202\n",
       "12        0  10.0            -4136.596882  0.881200                -7.637496"
      ]
     },
     "execution_count": 22,
     "metadata": {},
     "output_type": "execute_result"
    }
   ],
   "source": [
    "linSVR_summary = GridSearchSummary(linSVR_search, \n",
    "                  [\"epsilon\", \"C\"],\n",
    "                  scoring_metrics,\n",
    "                  \"../Data/Model Results/linSVR_search.csv\")\n",
    "\n",
    "linSVR_summary.sort_values(by=[\"neg_mean_absolute_error\"])"
   ]
  },
  {
   "cell_type": "code",
   "execution_count": null,
   "metadata": {},
   "outputs": [],
   "source": []
  }
 ],
 "metadata": {
  "kernelspec": {
   "display_name": "Python 3",
   "language": "python",
   "name": "python3"
  },
  "language_info": {
   "codemirror_mode": {
    "name": "ipython",
    "version": 3
   },
   "file_extension": ".py",
   "mimetype": "text/x-python",
   "name": "python",
   "nbconvert_exporter": "python",
   "pygments_lexer": "ipython3",
   "version": "3.7.1"
  }
 },
 "nbformat": 4,
 "nbformat_minor": 2
}
