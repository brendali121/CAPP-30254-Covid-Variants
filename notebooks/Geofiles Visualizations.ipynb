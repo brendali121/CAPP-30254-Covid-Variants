{
 "cells": [
  {
   "cell_type": "markdown",
   "metadata": {},
   "source": [
    "## Geofile Visualizations"
   ]
  },
  {
   "cell_type": "markdown",
   "metadata": {},
   "source": [
    "### Loading in shapefiles"
   ]
  },
  {
   "cell_type": "code",
   "execution_count": 49,
   "metadata": {},
   "outputs": [
    {
     "data": {
      "text/plain": [
       "'/Users/sophiamlawer/ML_project/CAPP-30254-Covid-Variants/notebooks'"
      ]
     },
     "execution_count": 49,
     "metadata": {},
     "output_type": "execute_result"
    }
   ],
   "source": [
    "import pandas as pd\n",
    "import numpy as np\n",
    "\n",
    "import os\n",
    "cwd = os.getcwd()\n",
    "cwd"
   ]
  },
  {
   "cell_type": "code",
   "execution_count": 50,
   "metadata": {},
   "outputs": [
    {
     "name": "stdout",
     "output_type": "stream",
     "text": [
      "done\n",
      "done\n"
     ]
    }
   ],
   "source": [
    "import geopandas as gpd\n",
    "\n",
    "def read_in(geo):\n",
    "    shapefile = gpd.read_file(geo)\n",
    "    return shapefile\n",
    "\n",
    "il_geo = read_in(\"../Boundaries/IL_BNDY_County/IL_BNDY_County_Py.shp\")\n",
    "print(\"done\")\n",
    "mo_geo = read_in(\"../Boundaries/MO_2018_County_Boundaries-shp/MO_2018_County_Boundaries.shp\")\n",
    "print(\"done\")\n",
    "oh_geo = read_in(\"../Boundaries/ODOT_County_Boundaries/ODOT_County_Boundaries.shp\")\n"
   ]
  },
  {
   "cell_type": "markdown",
   "metadata": {},
   "source": [
    "### Clean IL"
   ]
  },
  {
   "cell_type": "code",
   "execution_count": 51,
   "metadata": {},
   "outputs": [
    {
     "data": {
      "text/html": [
       "<div>\n",
       "<style scoped>\n",
       "    .dataframe tbody tr th:only-of-type {\n",
       "        vertical-align: middle;\n",
       "    }\n",
       "\n",
       "    .dataframe tbody tr th {\n",
       "        vertical-align: top;\n",
       "    }\n",
       "\n",
       "    .dataframe thead th {\n",
       "        text-align: right;\n",
       "    }\n",
       "</style>\n",
       "<table border=\"1\" class=\"dataframe\">\n",
       "  <thead>\n",
       "    <tr style=\"text-align: right;\">\n",
       "      <th></th>\n",
       "      <th>fips</th>\n",
       "      <th>geometry</th>\n",
       "    </tr>\n",
       "  </thead>\n",
       "  <tbody>\n",
       "    <tr>\n",
       "      <th>0</th>\n",
       "      <td>17111</td>\n",
       "      <td>POLYGON ((-88.70742 42.49351, -88.68809 42.493...</td>\n",
       "    </tr>\n",
       "    <tr>\n",
       "      <th>1</th>\n",
       "      <td>17007</td>\n",
       "      <td>POLYGON ((-88.70742 42.49351, -88.70740 42.493...</td>\n",
       "    </tr>\n",
       "    <tr>\n",
       "      <th>2</th>\n",
       "      <td>17141</td>\n",
       "      <td>POLYGON ((-89.68808 42.19949, -89.66846 42.200...</td>\n",
       "    </tr>\n",
       "    <tr>\n",
       "      <th>3</th>\n",
       "      <td>17197</td>\n",
       "      <td>POLYGON ((-88.26146 41.72439, -88.26146 41.724...</td>\n",
       "    </tr>\n",
       "    <tr>\n",
       "      <th>4</th>\n",
       "      <td>17099</td>\n",
       "      <td>POLYGON ((-88.93885 41.62836, -88.93871 41.628...</td>\n",
       "    </tr>\n",
       "    <tr>\n",
       "      <th>...</th>\n",
       "      <td>...</td>\n",
       "      <td>...</td>\n",
       "    </tr>\n",
       "    <tr>\n",
       "      <th>97</th>\n",
       "      <td>17081</td>\n",
       "      <td>POLYGON ((-89.14445 38.47386, -89.12638 38.473...</td>\n",
       "    </tr>\n",
       "    <tr>\n",
       "      <th>98</th>\n",
       "      <td>17101</td>\n",
       "      <td>POLYGON ((-87.90805 38.85012, -87.88944 38.849...</td>\n",
       "    </tr>\n",
       "    <tr>\n",
       "      <th>99</th>\n",
       "      <td>17121</td>\n",
       "      <td>POLYGON ((-89.13843 38.73632, -89.13827 38.750...</td>\n",
       "    </tr>\n",
       "    <tr>\n",
       "      <th>100</th>\n",
       "      <td>17181</td>\n",
       "      <td>POLYGON ((-89.04143 37.59649, -89.04143 37.596...</td>\n",
       "    </tr>\n",
       "    <tr>\n",
       "      <th>101</th>\n",
       "      <td>17151</td>\n",
       "      <td>POLYGON ((-88.70860 37.59925, -88.69093 37.599...</td>\n",
       "    </tr>\n",
       "  </tbody>\n",
       "</table>\n",
       "<p>102 rows × 2 columns</p>\n",
       "</div>"
      ],
      "text/plain": [
       "      fips                                           geometry\n",
       "0    17111  POLYGON ((-88.70742 42.49351, -88.68809 42.493...\n",
       "1    17007  POLYGON ((-88.70742 42.49351, -88.70740 42.493...\n",
       "2    17141  POLYGON ((-89.68808 42.19949, -89.66846 42.200...\n",
       "3    17197  POLYGON ((-88.26146 41.72439, -88.26146 41.724...\n",
       "4    17099  POLYGON ((-88.93885 41.62836, -88.93871 41.628...\n",
       "..     ...                                                ...\n",
       "97   17081  POLYGON ((-89.14445 38.47386, -89.12638 38.473...\n",
       "98   17101  POLYGON ((-87.90805 38.85012, -87.88944 38.849...\n",
       "99   17121  POLYGON ((-89.13843 38.73632, -89.13827 38.750...\n",
       "100  17181  POLYGON ((-89.04143 37.59649, -89.04143 37.596...\n",
       "101  17151  POLYGON ((-88.70860 37.59925, -88.69093 37.599...\n",
       "\n",
       "[102 rows x 2 columns]"
      ]
     },
     "execution_count": 51,
     "metadata": {},
     "output_type": "execute_result"
    }
   ],
   "source": [
    "il_geo.columns = [\"county\", \"fips\", \"geometry\"]\n",
    "il_geo[\"fips\"] = il_geo[\"fips\"].astype(str)\n",
    "il_geo[\"fips\"] = il_geo[\"fips\"].str.pad(width=3, side='left', fillchar='0')\n",
    "il_geo[\"fips\"] = \"17\" + il_geo[\"fips\"]\n",
    "il_geo.drop(\"county\", axis=1, inplace=True)\n",
    "il_geo"
   ]
  },
  {
   "cell_type": "markdown",
   "metadata": {},
   "source": [
    "### Ohio"
   ]
  },
  {
   "cell_type": "code",
   "execution_count": 52,
   "metadata": {},
   "outputs": [
    {
     "data": {
      "text/html": [
       "<div>\n",
       "<style scoped>\n",
       "    .dataframe tbody tr th:only-of-type {\n",
       "        vertical-align: middle;\n",
       "    }\n",
       "\n",
       "    .dataframe tbody tr th {\n",
       "        vertical-align: top;\n",
       "    }\n",
       "\n",
       "    .dataframe thead th {\n",
       "        text-align: right;\n",
       "    }\n",
       "</style>\n",
       "<table border=\"1\" class=\"dataframe\">\n",
       "  <thead>\n",
       "    <tr style=\"text-align: right;\">\n",
       "      <th></th>\n",
       "      <th>fips</th>\n",
       "      <th>geometry</th>\n",
       "    </tr>\n",
       "  </thead>\n",
       "  <tbody>\n",
       "    <tr>\n",
       "      <th>0</th>\n",
       "      <td>39071</td>\n",
       "      <td>POLYGON ((-83.78330 39.26382, -83.78312 39.263...</td>\n",
       "    </tr>\n",
       "    <tr>\n",
       "      <th>1</th>\n",
       "      <td>39073</td>\n",
       "      <td>POLYGON ((-82.49595 39.60265, -82.49505 39.612...</td>\n",
       "    </tr>\n",
       "    <tr>\n",
       "      <th>2</th>\n",
       "      <td>39075</td>\n",
       "      <td>POLYGON ((-81.87727 40.66713, -81.87564 40.667...</td>\n",
       "    </tr>\n",
       "    <tr>\n",
       "      <th>3</th>\n",
       "      <td>39077</td>\n",
       "      <td>POLYGON ((-82.83547 41.14407, -82.83549 41.145...</td>\n",
       "    </tr>\n",
       "    <tr>\n",
       "      <th>4</th>\n",
       "      <td>39049</td>\n",
       "      <td>POLYGON ((-83.24596 39.96574, -83.24595 39.965...</td>\n",
       "    </tr>\n",
       "    <tr>\n",
       "      <th>...</th>\n",
       "      <td>...</td>\n",
       "      <td>...</td>\n",
       "    </tr>\n",
       "    <tr>\n",
       "      <th>83</th>\n",
       "      <td>39163</td>\n",
       "      <td>POLYGON ((-82.51710 39.36942, -82.51595 39.379...</td>\n",
       "    </tr>\n",
       "    <tr>\n",
       "      <th>84</th>\n",
       "      <td>39165</td>\n",
       "      <td>POLYGON ((-83.98859 39.44441, -83.98941 39.435...</td>\n",
       "    </tr>\n",
       "    <tr>\n",
       "      <th>85</th>\n",
       "      <td>39067</td>\n",
       "      <td>POLYGON ((-81.27273 40.36923, -81.27271 40.369...</td>\n",
       "    </tr>\n",
       "    <tr>\n",
       "      <th>86</th>\n",
       "      <td>39129</td>\n",
       "      <td>POLYGON ((-82.84304 39.56150, -82.84164 39.561...</td>\n",
       "    </tr>\n",
       "    <tr>\n",
       "      <th>87</th>\n",
       "      <td>39143</td>\n",
       "      <td>POLYGON ((-83.41595 41.40644, -83.41594 41.407...</td>\n",
       "    </tr>\n",
       "  </tbody>\n",
       "</table>\n",
       "<p>88 rows × 2 columns</p>\n",
       "</div>"
      ],
      "text/plain": [
       "     fips                                           geometry\n",
       "0   39071  POLYGON ((-83.78330 39.26382, -83.78312 39.263...\n",
       "1   39073  POLYGON ((-82.49595 39.60265, -82.49505 39.612...\n",
       "2   39075  POLYGON ((-81.87727 40.66713, -81.87564 40.667...\n",
       "3   39077  POLYGON ((-82.83547 41.14407, -82.83549 41.145...\n",
       "4   39049  POLYGON ((-83.24596 39.96574, -83.24595 39.965...\n",
       "..    ...                                                ...\n",
       "83  39163  POLYGON ((-82.51710 39.36942, -82.51595 39.379...\n",
       "84  39165  POLYGON ((-83.98859 39.44441, -83.98941 39.435...\n",
       "85  39067  POLYGON ((-81.27273 40.36923, -81.27271 40.369...\n",
       "86  39129  POLYGON ((-82.84304 39.56150, -82.84164 39.561...\n",
       "87  39143  POLYGON ((-83.41595 41.40644, -83.41594 41.407...\n",
       "\n",
       "[88 rows x 2 columns]"
      ]
     },
     "execution_count": 52,
     "metadata": {},
     "output_type": "execute_result"
    }
   ],
   "source": [
    "oh_geo_clean = oh_geo[[\"FIPS_COUNT\", \"geometry\"]]\n",
    "oh_geo_clean.columns = [\"fips\", \"geometry\"]\n",
    "oh_geo_clean"
   ]
  },
  {
   "cell_type": "markdown",
   "metadata": {},
   "source": [
    "### Missouri"
   ]
  },
  {
   "cell_type": "code",
   "execution_count": 53,
   "metadata": {},
   "outputs": [
    {
     "data": {
      "text/html": [
       "<div>\n",
       "<style scoped>\n",
       "    .dataframe tbody tr th:only-of-type {\n",
       "        vertical-align: middle;\n",
       "    }\n",
       "\n",
       "    .dataframe tbody tr th {\n",
       "        vertical-align: top;\n",
       "    }\n",
       "\n",
       "    .dataframe thead th {\n",
       "        text-align: right;\n",
       "    }\n",
       "</style>\n",
       "<table border=\"1\" class=\"dataframe\">\n",
       "  <thead>\n",
       "    <tr style=\"text-align: right;\">\n",
       "      <th></th>\n",
       "      <th>fips</th>\n",
       "      <th>geometry</th>\n",
       "    </tr>\n",
       "  </thead>\n",
       "  <tbody>\n",
       "    <tr>\n",
       "      <th>0</th>\n",
       "      <td>29045</td>\n",
       "      <td>POLYGON ((-91.72917 40.61371, -91.72120 40.603...</td>\n",
       "    </tr>\n",
       "    <tr>\n",
       "      <th>1</th>\n",
       "      <td>29005</td>\n",
       "      <td>POLYGON ((-95.20235 40.57847, -95.20239 40.566...</td>\n",
       "    </tr>\n",
       "    <tr>\n",
       "      <th>2</th>\n",
       "      <td>29199</td>\n",
       "      <td>POLYGON ((-91.94509 40.47537, -91.94526 40.460...</td>\n",
       "    </tr>\n",
       "    <tr>\n",
       "      <th>3</th>\n",
       "      <td>29197</td>\n",
       "      <td>POLYGON ((-92.35069 40.59327, -92.35076 40.578...</td>\n",
       "    </tr>\n",
       "    <tr>\n",
       "      <th>4</th>\n",
       "      <td>29147</td>\n",
       "      <td>POLYGON ((-94.60088 40.31487, -94.60131 40.300...</td>\n",
       "    </tr>\n",
       "    <tr>\n",
       "      <th>...</th>\n",
       "      <td>...</td>\n",
       "      <td>...</td>\n",
       "    </tr>\n",
       "    <tr>\n",
       "      <th>110</th>\n",
       "      <td>29119</td>\n",
       "      <td>POLYGON ((-94.07704 36.50209, -94.07703 36.498...</td>\n",
       "    </tr>\n",
       "    <tr>\n",
       "      <th>111</th>\n",
       "      <td>29069</td>\n",
       "      <td>POLYGON ((-89.95952 36.62857, -89.96002 36.628...</td>\n",
       "    </tr>\n",
       "    <tr>\n",
       "      <th>112</th>\n",
       "      <td>29155</td>\n",
       "      <td>POLYGON ((-89.67368 36.40043, -89.67240 36.400...</td>\n",
       "    </tr>\n",
       "    <tr>\n",
       "      <th>113</th>\n",
       "      <td>29127</td>\n",
       "      <td>POLYGON ((-91.73454 39.65748, -91.75336 39.657...</td>\n",
       "    </tr>\n",
       "    <tr>\n",
       "      <th>114</th>\n",
       "      <td>29137</td>\n",
       "      <td>POLYGON ((-92.09097 39.66139, -92.07309 39.660...</td>\n",
       "    </tr>\n",
       "  </tbody>\n",
       "</table>\n",
       "<p>115 rows × 2 columns</p>\n",
       "</div>"
      ],
      "text/plain": [
       "      fips                                           geometry\n",
       "0    29045  POLYGON ((-91.72917 40.61371, -91.72120 40.603...\n",
       "1    29005  POLYGON ((-95.20235 40.57847, -95.20239 40.566...\n",
       "2    29199  POLYGON ((-91.94509 40.47537, -91.94526 40.460...\n",
       "3    29197  POLYGON ((-92.35069 40.59327, -92.35076 40.578...\n",
       "4    29147  POLYGON ((-94.60088 40.31487, -94.60131 40.300...\n",
       "..     ...                                                ...\n",
       "110  29119  POLYGON ((-94.07704 36.50209, -94.07703 36.498...\n",
       "111  29069  POLYGON ((-89.95952 36.62857, -89.96002 36.628...\n",
       "112  29155  POLYGON ((-89.67368 36.40043, -89.67240 36.400...\n",
       "113  29127  POLYGON ((-91.73454 39.65748, -91.75336 39.657...\n",
       "114  29137  POLYGON ((-92.09097 39.66139, -92.07309 39.660...\n",
       "\n",
       "[115 rows x 2 columns]"
      ]
     },
     "execution_count": 53,
     "metadata": {},
     "output_type": "execute_result"
    }
   ],
   "source": [
    "mo_geo = mo_geo[[\"COUNTYFIPS\", \"geometry\"]]\n",
    "mo_geo.columns = [\"fips\", \"geometry\"]\n",
    "mo_geo[\"fips\"] = \"29\" + mo_geo[\"fips\"]\n",
    "mo_geo"
   ]
  },
  {
   "cell_type": "code",
   "execution_count": 54,
   "metadata": {},
   "outputs": [
    {
     "data": {
      "text/html": [
       "<div>\n",
       "<style scoped>\n",
       "    .dataframe tbody tr th:only-of-type {\n",
       "        vertical-align: middle;\n",
       "    }\n",
       "\n",
       "    .dataframe tbody tr th {\n",
       "        vertical-align: top;\n",
       "    }\n",
       "\n",
       "    .dataframe thead th {\n",
       "        text-align: right;\n",
       "    }\n",
       "</style>\n",
       "<table border=\"1\" class=\"dataframe\">\n",
       "  <thead>\n",
       "    <tr style=\"text-align: right;\">\n",
       "      <th></th>\n",
       "      <th>fips</th>\n",
       "      <th>geometry</th>\n",
       "    </tr>\n",
       "  </thead>\n",
       "  <tbody>\n",
       "    <tr>\n",
       "      <th>0</th>\n",
       "      <td>17111</td>\n",
       "      <td>POLYGON ((-88.70742 42.49351, -88.68809 42.493...</td>\n",
       "    </tr>\n",
       "    <tr>\n",
       "      <th>1</th>\n",
       "      <td>17007</td>\n",
       "      <td>POLYGON ((-88.70742 42.49351, -88.70740 42.493...</td>\n",
       "    </tr>\n",
       "    <tr>\n",
       "      <th>2</th>\n",
       "      <td>17141</td>\n",
       "      <td>POLYGON ((-89.68808 42.19949, -89.66846 42.200...</td>\n",
       "    </tr>\n",
       "    <tr>\n",
       "      <th>3</th>\n",
       "      <td>17197</td>\n",
       "      <td>POLYGON ((-88.26146 41.72439, -88.26146 41.724...</td>\n",
       "    </tr>\n",
       "    <tr>\n",
       "      <th>4</th>\n",
       "      <td>17099</td>\n",
       "      <td>POLYGON ((-88.93885 41.62836, -88.93871 41.628...</td>\n",
       "    </tr>\n",
       "    <tr>\n",
       "      <th>...</th>\n",
       "      <td>...</td>\n",
       "      <td>...</td>\n",
       "    </tr>\n",
       "    <tr>\n",
       "      <th>83</th>\n",
       "      <td>39163</td>\n",
       "      <td>POLYGON ((-82.51710 39.36942, -82.51595 39.379...</td>\n",
       "    </tr>\n",
       "    <tr>\n",
       "      <th>84</th>\n",
       "      <td>39165</td>\n",
       "      <td>POLYGON ((-83.98859 39.44441, -83.98941 39.435...</td>\n",
       "    </tr>\n",
       "    <tr>\n",
       "      <th>85</th>\n",
       "      <td>39067</td>\n",
       "      <td>POLYGON ((-81.27273 40.36923, -81.27271 40.369...</td>\n",
       "    </tr>\n",
       "    <tr>\n",
       "      <th>86</th>\n",
       "      <td>39129</td>\n",
       "      <td>POLYGON ((-82.84304 39.56150, -82.84164 39.561...</td>\n",
       "    </tr>\n",
       "    <tr>\n",
       "      <th>87</th>\n",
       "      <td>39143</td>\n",
       "      <td>POLYGON ((-83.41595 41.40644, -83.41594 41.407...</td>\n",
       "    </tr>\n",
       "  </tbody>\n",
       "</table>\n",
       "<p>305 rows × 2 columns</p>\n",
       "</div>"
      ],
      "text/plain": [
       "     fips                                           geometry\n",
       "0   17111  POLYGON ((-88.70742 42.49351, -88.68809 42.493...\n",
       "1   17007  POLYGON ((-88.70742 42.49351, -88.70740 42.493...\n",
       "2   17141  POLYGON ((-89.68808 42.19949, -89.66846 42.200...\n",
       "3   17197  POLYGON ((-88.26146 41.72439, -88.26146 41.724...\n",
       "4   17099  POLYGON ((-88.93885 41.62836, -88.93871 41.628...\n",
       "..    ...                                                ...\n",
       "83  39163  POLYGON ((-82.51710 39.36942, -82.51595 39.379...\n",
       "84  39165  POLYGON ((-83.98859 39.44441, -83.98941 39.435...\n",
       "85  39067  POLYGON ((-81.27273 40.36923, -81.27271 40.369...\n",
       "86  39129  POLYGON ((-82.84304 39.56150, -82.84164 39.561...\n",
       "87  39143  POLYGON ((-83.41595 41.40644, -83.41594 41.407...\n",
       "\n",
       "[305 rows x 2 columns]"
      ]
     },
     "execution_count": 54,
     "metadata": {},
     "output_type": "execute_result"
    }
   ],
   "source": [
    "df = il_geo.append(mo_geo).append(oh_geo_clean)\n",
    "df"
   ]
  },
  {
   "cell_type": "code",
   "execution_count": 55,
   "metadata": {},
   "outputs": [],
   "source": [
    "df.to_csv('../Data/geofiles.csv', index = False)"
   ]
  },
  {
   "cell_type": "markdown",
   "metadata": {},
   "source": [
    "### Link with Model Results"
   ]
  },
  {
   "cell_type": "code",
   "execution_count": 65,
   "metadata": {},
   "outputs": [
    {
     "data": {
      "image/png": "[encoded data removed]",
      "text/plain": [
       "<Figure size 1080x720 with 1 Axes>"
      ]
     },
     "metadata": {
      "needs_background": "light"
     },
     "output_type": "display_data"
    }
   ],
   "source": [
    "import matplotlib.pyplot as plt\n",
    "\n",
    "fig, ax = plt.subplots(figsize=(15,10))\n",
    "df.plot(ax=ax)\n",
    "\n",
    "plt.show()"
   ]
  },
  {
   "cell_type": "code",
   "execution_count": null,
   "metadata": {},
   "outputs": [],
   "source": []
  }
 ],
 "metadata": {
  "kernelspec": {
   "display_name": "Python 3",
   "language": "python",
   "name": "python3"
  },
  "language_info": {
   "codemirror_mode": {
    "name": "ipython",
    "version": 3
   },
   "file_extension": ".py",
   "mimetype": "text/x-python",
   "name": "python",
   "nbconvert_exporter": "python",
   "pygments_lexer": "ipython3",
   "version": "3.8.5"
  }
 },
 "nbformat": 4,
 "nbformat_minor": 4
}
