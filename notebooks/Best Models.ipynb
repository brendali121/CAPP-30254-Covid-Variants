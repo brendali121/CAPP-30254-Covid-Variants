{
 "cells": [
  {
   "cell_type": "code",
   "execution_count": 11,
   "metadata": {},
   "outputs": [],
   "source": [
    "import pandas as pd\n",
    "import numpy as np\n",
    "\n",
    "from sklearn.ensemble import RandomForestRegressor\n",
    "from sklearn.linear_model import Ridge\n",
    "from sklearn.linear_model import Lasso\n",
    "from sklearn.linear_model import ElasticNet\n",
    "from sklearn import svm\n",
    "\n",
    "import pipeline as pline\n",
    "\n",
    "pd.set_option('display.max_rows', None)\n",
    "pd.set_option('display.max_columns', None)"
   ]
  },
  {
   "cell_type": "markdown",
   "metadata": {},
   "source": [
    "## Import Summary Results"
   ]
  },
  {
   "cell_type": "code",
   "execution_count": 12,
   "metadata": {},
   "outputs": [
    {
     "data": {
      "text/html": [
       "<div>\n",
       "<style scoped>\n",
       "    .dataframe tbody tr th:only-of-type {\n",
       "        vertical-align: middle;\n",
       "    }\n",
       "\n",
       "    .dataframe tbody tr th {\n",
       "        vertical-align: top;\n",
       "    }\n",
       "\n",
       "    .dataframe thead th {\n",
       "        text-align: right;\n",
       "    }\n",
       "</style>\n",
       "<table border=\"1\" class=\"dataframe\">\n",
       "  <thead>\n",
       "    <tr style=\"text-align: right;\">\n",
       "      <th></th>\n",
       "      <th>model</th>\n",
       "      <th>neg_mean_squared_error</th>\n",
       "      <th>neg_mean_absolute_error</th>\n",
       "      <th>r2</th>\n",
       "      <th>alpha</th>\n",
       "      <th>l1_ratio</th>\n",
       "      <th>degree</th>\n",
       "      <th>kernel</th>\n",
       "      <th>C</th>\n",
       "      <th>epsilon</th>\n",
       "      <th>rf__criterion</th>\n",
       "      <th>rf__max_features</th>\n",
       "      <th>rf__max_depth</th>\n",
       "      <th>rf__min_samples_split</th>\n",
       "    </tr>\n",
       "  </thead>\n",
       "  <tbody>\n",
       "    <tr>\n",
       "      <th>0</th>\n",
       "      <td>elastic net</td>\n",
       "      <td>-1201.863136</td>\n",
       "      <td>-8.908714</td>\n",
       "      <td>0.914382</td>\n",
       "      <td>0.1</td>\n",
       "      <td>0.0</td>\n",
       "      <td>NaN</td>\n",
       "      <td>NaN</td>\n",
       "      <td>NaN</td>\n",
       "      <td>NaN</td>\n",
       "      <td>NaN</td>\n",
       "      <td>NaN</td>\n",
       "      <td>NaN</td>\n",
       "      <td>NaN</td>\n",
       "    </tr>\n",
       "    <tr>\n",
       "      <th>1</th>\n",
       "      <td>elastic net</td>\n",
       "      <td>-1196.972767</td>\n",
       "      <td>-8.861287</td>\n",
       "      <td>0.915117</td>\n",
       "      <td>0.1</td>\n",
       "      <td>0.1</td>\n",
       "      <td>NaN</td>\n",
       "      <td>NaN</td>\n",
       "      <td>NaN</td>\n",
       "      <td>NaN</td>\n",
       "      <td>NaN</td>\n",
       "      <td>NaN</td>\n",
       "      <td>NaN</td>\n",
       "      <td>NaN</td>\n",
       "    </tr>\n",
       "    <tr>\n",
       "      <th>2</th>\n",
       "      <td>elastic net</td>\n",
       "      <td>-1192.719479</td>\n",
       "      <td>-8.810556</td>\n",
       "      <td>0.915888</td>\n",
       "      <td>0.1</td>\n",
       "      <td>0.2</td>\n",
       "      <td>NaN</td>\n",
       "      <td>NaN</td>\n",
       "      <td>NaN</td>\n",
       "      <td>NaN</td>\n",
       "      <td>NaN</td>\n",
       "      <td>NaN</td>\n",
       "      <td>NaN</td>\n",
       "      <td>NaN</td>\n",
       "    </tr>\n",
       "    <tr>\n",
       "      <th>3</th>\n",
       "      <td>elastic net</td>\n",
       "      <td>-1189.654017</td>\n",
       "      <td>-8.758637</td>\n",
       "      <td>0.916733</td>\n",
       "      <td>0.1</td>\n",
       "      <td>0.3</td>\n",
       "      <td>NaN</td>\n",
       "      <td>NaN</td>\n",
       "      <td>NaN</td>\n",
       "      <td>NaN</td>\n",
       "      <td>NaN</td>\n",
       "      <td>NaN</td>\n",
       "      <td>NaN</td>\n",
       "      <td>NaN</td>\n",
       "    </tr>\n",
       "    <tr>\n",
       "      <th>4</th>\n",
       "      <td>elastic net</td>\n",
       "      <td>-1189.142098</td>\n",
       "      <td>-8.706644</td>\n",
       "      <td>0.917567</td>\n",
       "      <td>0.1</td>\n",
       "      <td>0.4</td>\n",
       "      <td>NaN</td>\n",
       "      <td>NaN</td>\n",
       "      <td>NaN</td>\n",
       "      <td>NaN</td>\n",
       "      <td>NaN</td>\n",
       "      <td>NaN</td>\n",
       "      <td>NaN</td>\n",
       "      <td>NaN</td>\n",
       "    </tr>\n",
       "  </tbody>\n",
       "</table>\n",
       "</div>"
      ],
      "text/plain": [
       "         model  neg_mean_squared_error  neg_mean_absolute_error        r2  \\\n",
       "0  elastic net            -1201.863136                -8.908714  0.914382   \n",
       "1  elastic net            -1196.972767                -8.861287  0.915117   \n",
       "2  elastic net            -1192.719479                -8.810556  0.915888   \n",
       "3  elastic net            -1189.654017                -8.758637  0.916733   \n",
       "4  elastic net            -1189.142098                -8.706644  0.917567   \n",
       "\n",
       "   alpha  l1_ratio degree kernel   C  epsilon rf__criterion rf__max_features  \\\n",
       "0    0.1       0.0    NaN    NaN NaN      NaN           NaN              NaN   \n",
       "1    0.1       0.1    NaN    NaN NaN      NaN           NaN              NaN   \n",
       "2    0.1       0.2    NaN    NaN NaN      NaN           NaN              NaN   \n",
       "3    0.1       0.3    NaN    NaN NaN      NaN           NaN              NaN   \n",
       "4    0.1       0.4    NaN    NaN NaN      NaN           NaN              NaN   \n",
       "\n",
       "   rf__max_depth  rf__min_samples_split  \n",
       "0            NaN                    NaN  \n",
       "1            NaN                    NaN  \n",
       "2            NaN                    NaN  \n",
       "3            NaN                    NaN  \n",
       "4            NaN                    NaN  "
      ]
     },
     "execution_count": 12,
     "metadata": {},
     "output_type": "execute_result"
    }
   ],
   "source": [
    "# import summary results\n",
    "\n",
    "files = [\"elastic_net_fs_search.csv\",\n",
    "         \"elastic_net_fs_search_poly_2.csv\",\n",
    "         \"elastic_net_fs_search_poly_3.csv\",\n",
    "         \"lasso_fs_search.csv\",\n",
    "         \"lasso_fs_search_2.csv\",\n",
    "         \"lasso_fs_search_3.csv\",\n",
    "         \"ridge_fs_search.csv\",\n",
    "         \"ridge_fs_search_poly_2.csv\",\n",
    "         \"ridge_fs_search_poly_3.csv\",\n",
    "         \"SVR_summary_all.csv\",\n",
    "         \"rf_summary.csv\"]\n",
    "\n",
    "df = pd.DataFrame()\n",
    "\n",
    "for file in files:\n",
    "    \n",
    "    new_df = pd.read_csv(\"../model_outputs/\" + file)\n",
    "    \n",
    "    if file[0:11]==\"elastic_net\":\n",
    "        new_df[\"model\"] = \"elastic net\"\n",
    "        if file[-5].isnumeric():\n",
    "            new_df[\"degree\"] = file[-5]\n",
    "    elif file[0:5]==\"lasso\":\n",
    "        new_df[\"model\"] = \"lasso\"\n",
    "        if file[-5].isnumeric():\n",
    "            new_df[\"degree\"] = file[-5]\n",
    "    elif file[0:5]==\"ridge\":\n",
    "        new_df[\"model\"] = \"ridge\"\n",
    "        if file[-5].isnumeric():\n",
    "            new_df[\"degree\"] = file[-5]\n",
    "    elif file[0:2]==\"rf\":\n",
    "        new_df[\"model\"] = \"random forest\"\n",
    "        \n",
    "    df = pd.concat([df, new_df], axis=0)\n",
    "\n",
    "# reorder columns into a slightly more helpful order\n",
    "df = df.drop(columns = [\"Unnamed: 0\"])\n",
    "cols = df.columns.tolist()\n",
    "cols = [cols[5]] + [cols[2]] + [cols[4]] + [cols[3]] + cols[0:2] + cols[6:]\n",
    "df = df[cols]\n",
    "df.head()"
   ]
  },
  {
   "cell_type": "code",
   "execution_count": 13,
   "metadata": {},
   "outputs": [
    {
     "name": "stdout",
     "output_type": "stream",
     "text": [
      "False\n",
      "False\n",
      "True\n",
      "True\n",
      "(71992, 15) (17998, 15) (71992, 1) (17998, 1)\n"
     ]
    }
   ],
   "source": [
    "def read_data(data, date_type=False):\n",
    "    print(date_type)\n",
    "    if date_type:\n",
    "        df = pd.read_csv(data)\n",
    "    else:\n",
    "        #parser = lambda date: pd.datetime.strptime(date, '%d%b%Y')\n",
    "        df = pd.read_csv(data, parse_dates=[\"date\"], dtype={'fips': str})\n",
    "    return df\n",
    "\n",
    "X_train = read_data(\"../Data/Train-Test Set/X_train.csv\").drop(columns=\"date\")\n",
    "X_test = read_data(\"../Data/Train-Test Set/X_test.csv\").drop(columns=\"date\")\n",
    "y_train = read_data(\"../Data/Train-Test Set/y_train.csv\", True)\n",
    "y_test = read_data(\"../Data/Train-Test Set/y_test.csv\", True)\n",
    "\n",
    "print(X_train.shape, X_test.shape, y_train.shape, y_test.shape)"
   ]
  },
  {
   "cell_type": "markdown",
   "metadata": {},
   "source": [
    "## Determine Best Models"
   ]
  },
  {
   "cell_type": "code",
   "execution_count": 4,
   "metadata": {},
   "outputs": [],
   "source": [
    "best_models = []"
   ]
  },
  {
   "cell_type": "markdown",
   "metadata": {},
   "source": [
    "### Model with the best mean squared error performance"
   ]
  },
  {
   "cell_type": "code",
   "execution_count": 5,
   "metadata": {},
   "outputs": [
    {
     "data": {
      "text/html": [
       "<div>\n",
       "<style scoped>\n",
       "    .dataframe tbody tr th:only-of-type {\n",
       "        vertical-align: middle;\n",
       "    }\n",
       "\n",
       "    .dataframe tbody tr th {\n",
       "        vertical-align: top;\n",
       "    }\n",
       "\n",
       "    .dataframe thead th {\n",
       "        text-align: right;\n",
       "    }\n",
       "</style>\n",
       "<table border=\"1\" class=\"dataframe\">\n",
       "  <thead>\n",
       "    <tr style=\"text-align: right;\">\n",
       "      <th></th>\n",
       "      <th>model</th>\n",
       "      <th>neg_mean_squared_error</th>\n",
       "      <th>neg_mean_absolute_error</th>\n",
       "      <th>r2</th>\n",
       "      <th>alpha</th>\n",
       "      <th>l1_ratio</th>\n",
       "      <th>degree</th>\n",
       "      <th>kernel</th>\n",
       "      <th>C</th>\n",
       "      <th>epsilon</th>\n",
       "      <th>rf__criterion</th>\n",
       "      <th>rf__max_features</th>\n",
       "      <th>rf__max_depth</th>\n",
       "      <th>rf__min_samples_split</th>\n",
       "    </tr>\n",
       "  </thead>\n",
       "  <tbody>\n",
       "    <tr>\n",
       "      <th>36</th>\n",
       "      <td>random forest</td>\n",
       "      <td>-902.19953</td>\n",
       "      <td>-7.58276</td>\n",
       "      <td>0.949379</td>\n",
       "      <td>NaN</td>\n",
       "      <td>NaN</td>\n",
       "      <td>NaN</td>\n",
       "      <td>NaN</td>\n",
       "      <td>NaN</td>\n",
       "      <td>NaN</td>\n",
       "      <td>mae</td>\n",
       "      <td>auto</td>\n",
       "      <td>NaN</td>\n",
       "      <td>2.0</td>\n",
       "    </tr>\n",
       "  </tbody>\n",
       "</table>\n",
       "</div>"
      ],
      "text/plain": [
       "            model  neg_mean_squared_error  neg_mean_absolute_error        r2  \\\n",
       "36  random forest              -902.19953                 -7.58276  0.949379   \n",
       "\n",
       "    alpha  l1_ratio degree kernel   C  epsilon rf__criterion rf__max_features  \\\n",
       "36    NaN       NaN    NaN    NaN NaN      NaN           mae             auto   \n",
       "\n",
       "    rf__max_depth  rf__min_samples_split  \n",
       "36            NaN                    2.0  "
      ]
     },
     "execution_count": 5,
     "metadata": {},
     "output_type": "execute_result"
    }
   ],
   "source": [
    "df.sort_values(by=\"neg_mean_squared_error\", ascending=False).head(1)"
   ]
  },
  {
   "cell_type": "code",
   "execution_count": 6,
   "metadata": {},
   "outputs": [
    {
     "name": "stderr",
     "output_type": "stream",
     "text": [
      "[Parallel(n_jobs=-1)]: Using backend ThreadingBackend with 4 concurrent workers.\n"
     ]
    },
    {
     "name": "stdout",
     "output_type": "stream",
     "text": [
      "building tree 1 of 100\n",
      "building tree 2 of 100building tree 3 of 100\n",
      "building tree 4 of 100\n",
      "\n",
      "building tree 5 of 100\n",
      "building tree 6 of 100\n",
      "building tree 7 of 100\n",
      "building tree 8 of 100\n",
      "building tree 9 of 100\n",
      "building tree 10 of 100\n",
      "building tree 11 of 100\n",
      "building tree 12 of 100\n",
      "building tree 13 of 100\n",
      "building tree 14 of 100\n",
      "building tree 15 of 100\n",
      "building tree 16 of 100\n",
      "building tree 17 of 100\n",
      "building tree 18 of 100\n",
      "building tree 19 of 100\n",
      "building tree 20 of 100\n",
      "building tree 21 of 100\n",
      "building tree 22 of 100\n",
      "building tree 23 of 100\n",
      "building tree 24 of 100\n",
      "building tree 25 of 100\n",
      "building tree 26 of 100\n",
      "building tree 27 of 100\n",
      "building tree 28 of 100\n",
      "building tree 29 of 100\n",
      "building tree 30 of 100\n",
      "building tree 31 of 100\n",
      "building tree 32 of 100\n",
      "building tree 33 of 100\n",
      "building tree 34 of 100\n",
      "building tree 35 of 100\n",
      "building tree 36 of 100\n"
     ]
    },
    {
     "name": "stderr",
     "output_type": "stream",
     "text": [
      "[Parallel(n_jobs=-1)]: Done  33 tasks      | elapsed: 46.3min\n"
     ]
    },
    {
     "name": "stdout",
     "output_type": "stream",
     "text": [
      "building tree 37 of 100\n",
      "building tree 38 of 100\n",
      "building tree 39 of 100\n",
      "building tree 40 of 100\n",
      "building tree 41 of 100\n",
      "building tree 42 of 100\n",
      "building tree 43 of 100\n",
      "building tree 44 of 100\n",
      "building tree 45 of 100\n",
      "building tree 46 of 100\n",
      "building tree 47 of 100\n",
      "building tree 48 of 100\n",
      "building tree 49 of 100\n",
      "building tree 50 of 100\n",
      "building tree 51 of 100\n",
      "building tree 52 of 100\n",
      "building tree 53 of 100\n",
      "building tree 54 of 100\n",
      "building tree 55 of 100\n",
      "building tree 56 of 100\n",
      "building tree 57 of 100\n",
      "building tree 58 of 100\n",
      "building tree 59 of 100\n",
      "building tree 60 of 100\n",
      "building tree 61 of 100\n",
      "building tree 62 of 100\n",
      "building tree 63 of 100\n",
      "building tree 64 of 100\n",
      "building tree 65 of 100\n",
      "building tree 66 of 100\n",
      "building tree 67 of 100\n",
      "building tree 68 of 100\n",
      "building tree 69 of 100\n",
      "building tree 70 of 100\n",
      "building tree 71 of 100\n",
      "building tree 72 of 100\n",
      "building tree 73 of 100\n",
      "building tree 74 of 100\n",
      "building tree 75 of 100\n",
      "building tree 76 of 100\n",
      "building tree 77 of 100\n",
      "building tree 78 of 100\n",
      "building tree 79 of 100\n",
      "building tree 80 of 100\n",
      "building tree 81 of 100\n",
      "building tree 82 of 100\n",
      "building tree 83 of 100\n",
      "building tree 84 of 100\n",
      "building tree 85 of 100\n",
      "building tree 86 of 100\n",
      "building tree 87 of 100\n",
      "building tree 88 of 100\n",
      "building tree 89 of 100\n",
      "building tree 90 of 100\n",
      "building tree 91 of 100\n",
      "building tree 92 of 100\n",
      "building tree 93 of 100\n",
      "building tree 94 of 100\n",
      "building tree 95 of 100\n",
      "building tree 96 of 100\n",
      "building tree 97 of 100\n",
      "building tree 98 of 100\n",
      "building tree 99 of 100\n",
      "building tree 100 of 100\n"
     ]
    },
    {
     "name": "stderr",
     "output_type": "stream",
     "text": [
      "[Parallel(n_jobs=-1)]: Done 100 out of 100 | elapsed: 122.1min finished\n"
     ]
    }
   ],
   "source": [
    "# add model to list\n",
    "best_mse_model_overall = RandomForestRegressor(criterion = \"mae\", max_features=\"auto\", \n",
    "                                               max_depth=None, min_samples_split=2, verbose=2, n_jobs=-1)\n",
    "\n",
    "best_models.append(best_mse_model_overall.fit(X_train, np.array(y_train).ravel()))"
   ]
  },
  {
   "cell_type": "markdown",
   "metadata": {},
   "source": [
    "### Model with the best mean absolute error performance"
   ]
  },
  {
   "cell_type": "code",
   "execution_count": 7,
   "metadata": {},
   "outputs": [
    {
     "data": {
      "text/html": [
       "<div>\n",
       "<style scoped>\n",
       "    .dataframe tbody tr th:only-of-type {\n",
       "        vertical-align: middle;\n",
       "    }\n",
       "\n",
       "    .dataframe tbody tr th {\n",
       "        vertical-align: top;\n",
       "    }\n",
       "\n",
       "    .dataframe thead th {\n",
       "        text-align: right;\n",
       "    }\n",
       "</style>\n",
       "<table border=\"1\" class=\"dataframe\">\n",
       "  <thead>\n",
       "    <tr style=\"text-align: right;\">\n",
       "      <th></th>\n",
       "      <th>model</th>\n",
       "      <th>neg_mean_squared_error</th>\n",
       "      <th>neg_mean_absolute_error</th>\n",
       "      <th>r2</th>\n",
       "      <th>alpha</th>\n",
       "      <th>l1_ratio</th>\n",
       "      <th>degree</th>\n",
       "      <th>kernel</th>\n",
       "      <th>C</th>\n",
       "      <th>epsilon</th>\n",
       "      <th>rf__criterion</th>\n",
       "      <th>rf__max_features</th>\n",
       "      <th>rf__max_depth</th>\n",
       "      <th>rf__min_samples_split</th>\n",
       "    </tr>\n",
       "  </thead>\n",
       "  <tbody>\n",
       "    <tr>\n",
       "      <th>24</th>\n",
       "      <td>SVR</td>\n",
       "      <td>-1146.115604</td>\n",
       "      <td>-7.114552</td>\n",
       "      <td>0.944115</td>\n",
       "      <td>NaN</td>\n",
       "      <td>NaN</td>\n",
       "      <td>NaN</td>\n",
       "      <td>linear</td>\n",
       "      <td>20.0</td>\n",
       "      <td>0.0</td>\n",
       "      <td>NaN</td>\n",
       "      <td>NaN</td>\n",
       "      <td>NaN</td>\n",
       "      <td>NaN</td>\n",
       "    </tr>\n",
       "  </tbody>\n",
       "</table>\n",
       "</div>"
      ],
      "text/plain": [
       "   model  neg_mean_squared_error  neg_mean_absolute_error        r2  alpha  \\\n",
       "24   SVR            -1146.115604                -7.114552  0.944115    NaN   \n",
       "\n",
       "    l1_ratio degree  kernel     C  epsilon rf__criterion rf__max_features  \\\n",
       "24       NaN    NaN  linear  20.0      0.0           NaN              NaN   \n",
       "\n",
       "    rf__max_depth  rf__min_samples_split  \n",
       "24            NaN                    NaN  "
      ]
     },
     "execution_count": 7,
     "metadata": {},
     "output_type": "execute_result"
    }
   ],
   "source": [
    "# get best neg_mean_absolute_error model\n",
    "df.sort_values(by=\"neg_mean_absolute_error\", ascending=False).head(1)"
   ]
  },
  {
   "cell_type": "code",
   "execution_count": 8,
   "metadata": {},
   "outputs": [],
   "source": [
    "# add model to list\n",
    "best_mae_model_overall = svm.SVR(C=20, epsilon=0, kernel=\"linear\")\n",
    "\n",
    "best_models.append(best_mae_model_overall.fit(X_train, np.array(y_train).ravel()))"
   ]
  },
  {
   "cell_type": "markdown",
   "metadata": {},
   "source": [
    "### Model with the best r2 performance"
   ]
  },
  {
   "cell_type": "code",
   "execution_count": 9,
   "metadata": {},
   "outputs": [
    {
     "data": {
      "text/html": [
       "<div>\n",
       "<style scoped>\n",
       "    .dataframe tbody tr th:only-of-type {\n",
       "        vertical-align: middle;\n",
       "    }\n",
       "\n",
       "    .dataframe tbody tr th {\n",
       "        vertical-align: top;\n",
       "    }\n",
       "\n",
       "    .dataframe thead th {\n",
       "        text-align: right;\n",
       "    }\n",
       "</style>\n",
       "<table border=\"1\" class=\"dataframe\">\n",
       "  <thead>\n",
       "    <tr style=\"text-align: right;\">\n",
       "      <th></th>\n",
       "      <th>model</th>\n",
       "      <th>neg_mean_squared_error</th>\n",
       "      <th>neg_mean_absolute_error</th>\n",
       "      <th>r2</th>\n",
       "      <th>alpha</th>\n",
       "      <th>l1_ratio</th>\n",
       "      <th>degree</th>\n",
       "      <th>kernel</th>\n",
       "      <th>C</th>\n",
       "      <th>epsilon</th>\n",
       "      <th>rf__criterion</th>\n",
       "      <th>rf__max_features</th>\n",
       "      <th>rf__max_depth</th>\n",
       "      <th>rf__min_samples_split</th>\n",
       "    </tr>\n",
       "  </thead>\n",
       "  <tbody>\n",
       "    <tr>\n",
       "      <th>36</th>\n",
       "      <td>random forest</td>\n",
       "      <td>-902.19953</td>\n",
       "      <td>-7.58276</td>\n",
       "      <td>0.949379</td>\n",
       "      <td>NaN</td>\n",
       "      <td>NaN</td>\n",
       "      <td>NaN</td>\n",
       "      <td>NaN</td>\n",
       "      <td>NaN</td>\n",
       "      <td>NaN</td>\n",
       "      <td>mae</td>\n",
       "      <td>auto</td>\n",
       "      <td>NaN</td>\n",
       "      <td>2.0</td>\n",
       "    </tr>\n",
       "  </tbody>\n",
       "</table>\n",
       "</div>"
      ],
      "text/plain": [
       "            model  neg_mean_squared_error  neg_mean_absolute_error        r2  \\\n",
       "36  random forest              -902.19953                 -7.58276  0.949379   \n",
       "\n",
       "    alpha  l1_ratio degree kernel   C  epsilon rf__criterion rf__max_features  \\\n",
       "36    NaN       NaN    NaN    NaN NaN      NaN           mae             auto   \n",
       "\n",
       "    rf__max_depth  rf__min_samples_split  \n",
       "36            NaN                    2.0  "
      ]
     },
     "execution_count": 9,
     "metadata": {},
     "output_type": "execute_result"
    }
   ],
   "source": [
    "# get best r2 model\n",
    "df.sort_values(by=\"r2\", ascending=False).head(1)"
   ]
  },
  {
   "cell_type": "markdown",
   "metadata": {
    "scrolled": true
   },
   "source": [
    "This is the same random forest model as above so no need to retrain"
   ]
  },
  {
   "cell_type": "markdown",
   "metadata": {},
   "source": [
    "## Let's just add in some other better performers"
   ]
  },
  {
   "cell_type": "markdown",
   "metadata": {},
   "source": [
    "### Best Random Forest Model by MAE"
   ]
  },
  {
   "cell_type": "code",
   "execution_count": 40,
   "metadata": {},
   "outputs": [
    {
     "data": {
      "text/html": [
       "<div>\n",
       "<style scoped>\n",
       "    .dataframe tbody tr th:only-of-type {\n",
       "        vertical-align: middle;\n",
       "    }\n",
       "\n",
       "    .dataframe tbody tr th {\n",
       "        vertical-align: top;\n",
       "    }\n",
       "\n",
       "    .dataframe thead th {\n",
       "        text-align: right;\n",
       "    }\n",
       "</style>\n",
       "<table border=\"1\" class=\"dataframe\">\n",
       "  <thead>\n",
       "    <tr style=\"text-align: right;\">\n",
       "      <th></th>\n",
       "      <th>model</th>\n",
       "      <th>neg_mean_squared_error</th>\n",
       "      <th>neg_mean_absolute_error</th>\n",
       "      <th>r2</th>\n",
       "      <th>alpha</th>\n",
       "      <th>l1_ratio</th>\n",
       "      <th>degree</th>\n",
       "      <th>kernel</th>\n",
       "      <th>C</th>\n",
       "      <th>epsilon</th>\n",
       "      <th>rf__criterion</th>\n",
       "      <th>rf__max_features</th>\n",
       "      <th>rf__max_depth</th>\n",
       "      <th>rf__min_samples_split</th>\n",
       "    </tr>\n",
       "  </thead>\n",
       "  <tbody>\n",
       "    <tr>\n",
       "      <th>6</th>\n",
       "      <td>random forest</td>\n",
       "      <td>-974.920992</td>\n",
       "      <td>-7.521976</td>\n",
       "      <td>0.944697</td>\n",
       "      <td>NaN</td>\n",
       "      <td>NaN</td>\n",
       "      <td>NaN</td>\n",
       "      <td>NaN</td>\n",
       "      <td>NaN</td>\n",
       "      <td>NaN</td>\n",
       "      <td>mse</td>\n",
       "      <td>log2</td>\n",
       "      <td>NaN</td>\n",
       "      <td>2.0</td>\n",
       "    </tr>\n",
       "  </tbody>\n",
       "</table>\n",
       "</div>"
      ],
      "text/plain": [
       "           model  neg_mean_squared_error  neg_mean_absolute_error        r2  \\\n",
       "6  random forest             -974.920992                -7.521976  0.944697   \n",
       "\n",
       "   alpha  l1_ratio degree kernel   C  epsilon rf__criterion rf__max_features  \\\n",
       "6    NaN       NaN    NaN    NaN NaN      NaN           mse             log2   \n",
       "\n",
       "   rf__max_depth  rf__min_samples_split  \n",
       "6            NaN                    2.0  "
      ]
     },
     "execution_count": 40,
     "metadata": {},
     "output_type": "execute_result"
    }
   ],
   "source": [
    "# best rf models\n",
    "rfs = df[(df[\"model\"]==\"random forest\")]\n",
    "rfs.sort_values(by=\"neg_mean_absolute_error\", ascending=False).head(1)"
   ]
  },
  {
   "cell_type": "code",
   "execution_count": 11,
   "metadata": {},
   "outputs": [],
   "source": [
    "# add model to list\n",
    "best_models.append(RandomForestRegressor(criterion = \"mse\", max_features=\"log2\", \n",
    "                                               max_depth=None, min_samples_split=2, n_jobs=-1)\\\n",
    "                       .fit(X_train, np.array(y_train).ravel()))"
   ]
  },
  {
   "cell_type": "markdown",
   "metadata": {},
   "source": [
    "### Best Elastic Net/Ridge/Lasso Models by R2"
   ]
  },
  {
   "cell_type": "code",
   "execution_count": 12,
   "metadata": {},
   "outputs": [
    {
     "data": {
      "text/html": [
       "<div>\n",
       "<style scoped>\n",
       "    .dataframe tbody tr th:only-of-type {\n",
       "        vertical-align: middle;\n",
       "    }\n",
       "\n",
       "    .dataframe tbody tr th {\n",
       "        vertical-align: top;\n",
       "    }\n",
       "\n",
       "    .dataframe thead th {\n",
       "        text-align: right;\n",
       "    }\n",
       "</style>\n",
       "<table border=\"1\" class=\"dataframe\">\n",
       "  <thead>\n",
       "    <tr style=\"text-align: right;\">\n",
       "      <th></th>\n",
       "      <th>model</th>\n",
       "      <th>neg_mean_squared_error</th>\n",
       "      <th>neg_mean_absolute_error</th>\n",
       "      <th>r2</th>\n",
       "      <th>alpha</th>\n",
       "      <th>l1_ratio</th>\n",
       "      <th>degree</th>\n",
       "      <th>kernel</th>\n",
       "      <th>C</th>\n",
       "      <th>epsilon</th>\n",
       "      <th>rf__criterion</th>\n",
       "      <th>rf__max_features</th>\n",
       "      <th>rf__max_depth</th>\n",
       "      <th>rf__min_samples_split</th>\n",
       "    </tr>\n",
       "  </thead>\n",
       "  <tbody>\n",
       "    <tr>\n",
       "      <th>10</th>\n",
       "      <td>ridge</td>\n",
       "      <td>-1438.062773</td>\n",
       "      <td>-8.335918</td>\n",
       "      <td>0.930791</td>\n",
       "      <td>1.0</td>\n",
       "      <td>NaN</td>\n",
       "      <td>NaN</td>\n",
       "      <td>NaN</td>\n",
       "      <td>NaN</td>\n",
       "      <td>NaN</td>\n",
       "      <td>NaN</td>\n",
       "      <td>NaN</td>\n",
       "      <td>NaN</td>\n",
       "      <td>NaN</td>\n",
       "    </tr>\n",
       "  </tbody>\n",
       "</table>\n",
       "</div>"
      ],
      "text/plain": [
       "    model  neg_mean_squared_error  neg_mean_absolute_error        r2  alpha  \\\n",
       "10  ridge            -1438.062773                -8.335918  0.930791    1.0   \n",
       "\n",
       "    l1_ratio degree kernel   C  epsilon rf__criterion rf__max_features  \\\n",
       "10       NaN    NaN    NaN NaN      NaN           NaN              NaN   \n",
       "\n",
       "    rf__max_depth  rf__min_samples_split  \n",
       "10            NaN                    NaN  "
      ]
     },
     "execution_count": 12,
     "metadata": {},
     "output_type": "execute_result"
    }
   ],
   "source": [
    "# best elastic net, ridge, or lasso models\n",
    "regs = df[(df[\"model\"]==\"elastic net\") | (df[\"model\"]==\"ridge\") | (df[\"model\"]==\"lasso\")]\n",
    "regs.sort_values(by=\"r2\", ascending=False).head(1)"
   ]
  },
  {
   "cell_type": "code",
   "execution_count": 13,
   "metadata": {},
   "outputs": [],
   "source": [
    "best_models.append(Ridge(alpha=1).fit(X_train, np.array(y_train).ravel()))"
   ]
  },
  {
   "cell_type": "markdown",
   "metadata": {},
   "source": [
    "### Best Elastic Net/Ridge/Lasso Models by mean squared error"
   ]
  },
  {
   "cell_type": "code",
   "execution_count": 14,
   "metadata": {},
   "outputs": [
    {
     "data": {
      "text/html": [
       "<div>\n",
       "<style scoped>\n",
       "    .dataframe tbody tr th:only-of-type {\n",
       "        vertical-align: middle;\n",
       "    }\n",
       "\n",
       "    .dataframe tbody tr th {\n",
       "        vertical-align: top;\n",
       "    }\n",
       "\n",
       "    .dataframe thead th {\n",
       "        text-align: right;\n",
       "    }\n",
       "</style>\n",
       "<table border=\"1\" class=\"dataframe\">\n",
       "  <thead>\n",
       "    <tr style=\"text-align: right;\">\n",
       "      <th></th>\n",
       "      <th>model</th>\n",
       "      <th>neg_mean_squared_error</th>\n",
       "      <th>neg_mean_absolute_error</th>\n",
       "      <th>r2</th>\n",
       "      <th>alpha</th>\n",
       "      <th>l1_ratio</th>\n",
       "      <th>degree</th>\n",
       "      <th>kernel</th>\n",
       "      <th>C</th>\n",
       "      <th>epsilon</th>\n",
       "      <th>rf__criterion</th>\n",
       "      <th>rf__max_features</th>\n",
       "      <th>rf__max_depth</th>\n",
       "      <th>rf__min_samples_split</th>\n",
       "    </tr>\n",
       "  </thead>\n",
       "  <tbody>\n",
       "    <tr>\n",
       "      <th>5</th>\n",
       "      <td>elastic net</td>\n",
       "      <td>-1188.039293</td>\n",
       "      <td>-8.649833</td>\n",
       "      <td>0.918618</td>\n",
       "      <td>0.1</td>\n",
       "      <td>0.5</td>\n",
       "      <td>NaN</td>\n",
       "      <td>NaN</td>\n",
       "      <td>NaN</td>\n",
       "      <td>NaN</td>\n",
       "      <td>NaN</td>\n",
       "      <td>NaN</td>\n",
       "      <td>NaN</td>\n",
       "      <td>NaN</td>\n",
       "    </tr>\n",
       "  </tbody>\n",
       "</table>\n",
       "</div>"
      ],
      "text/plain": [
       "         model  neg_mean_squared_error  neg_mean_absolute_error        r2  \\\n",
       "5  elastic net            -1188.039293                -8.649833  0.918618   \n",
       "\n",
       "   alpha  l1_ratio degree kernel   C  epsilon rf__criterion rf__max_features  \\\n",
       "5    0.1       0.5    NaN    NaN NaN      NaN           NaN              NaN   \n",
       "\n",
       "   rf__max_depth  rf__min_samples_split  \n",
       "5            NaN                    NaN  "
      ]
     },
     "execution_count": 14,
     "metadata": {},
     "output_type": "execute_result"
    }
   ],
   "source": [
    "regs.sort_values(by=\"neg_mean_squared_error\", ascending=False).head(1)"
   ]
  },
  {
   "cell_type": "code",
   "execution_count": 15,
   "metadata": {},
   "outputs": [],
   "source": [
    "best_models.append(ElasticNet(alpha=0.1, l1_ratio=0.5).fit(X_train, np.array(y_train).ravel()))"
   ]
  },
  {
   "cell_type": "markdown",
   "metadata": {},
   "source": [
    "### Best Elastic Net/Ridge/Lasso Models by mean absolute error"
   ]
  },
  {
   "cell_type": "code",
   "execution_count": 16,
   "metadata": {},
   "outputs": [
    {
     "data": {
      "text/html": [
       "<div>\n",
       "<style scoped>\n",
       "    .dataframe tbody tr th:only-of-type {\n",
       "        vertical-align: middle;\n",
       "    }\n",
       "\n",
       "    .dataframe tbody tr th {\n",
       "        vertical-align: top;\n",
       "    }\n",
       "\n",
       "    .dataframe thead th {\n",
       "        text-align: right;\n",
       "    }\n",
       "</style>\n",
       "<table border=\"1\" class=\"dataframe\">\n",
       "  <thead>\n",
       "    <tr style=\"text-align: right;\">\n",
       "      <th></th>\n",
       "      <th>model</th>\n",
       "      <th>neg_mean_squared_error</th>\n",
       "      <th>neg_mean_absolute_error</th>\n",
       "      <th>r2</th>\n",
       "      <th>alpha</th>\n",
       "      <th>l1_ratio</th>\n",
       "      <th>degree</th>\n",
       "      <th>kernel</th>\n",
       "      <th>C</th>\n",
       "      <th>epsilon</th>\n",
       "      <th>rf__criterion</th>\n",
       "      <th>rf__max_features</th>\n",
       "      <th>rf__max_depth</th>\n",
       "      <th>rf__min_samples_split</th>\n",
       "    </tr>\n",
       "  </thead>\n",
       "  <tbody>\n",
       "    <tr>\n",
       "      <th>0</th>\n",
       "      <td>lasso</td>\n",
       "      <td>-3456.759656</td>\n",
       "      <td>-8.040768</td>\n",
       "      <td>0.895513</td>\n",
       "      <td>0.1</td>\n",
       "      <td>NaN</td>\n",
       "      <td>2</td>\n",
       "      <td>NaN</td>\n",
       "      <td>NaN</td>\n",
       "      <td>NaN</td>\n",
       "      <td>NaN</td>\n",
       "      <td>NaN</td>\n",
       "      <td>NaN</td>\n",
       "      <td>NaN</td>\n",
       "    </tr>\n",
       "  </tbody>\n",
       "</table>\n",
       "</div>"
      ],
      "text/plain": [
       "   model  neg_mean_squared_error  neg_mean_absolute_error        r2  alpha  \\\n",
       "0  lasso            -3456.759656                -8.040768  0.895513    0.1   \n",
       "\n",
       "   l1_ratio degree kernel   C  epsilon rf__criterion rf__max_features  \\\n",
       "0       NaN      2    NaN NaN      NaN           NaN              NaN   \n",
       "\n",
       "   rf__max_depth  rf__min_samples_split  \n",
       "0            NaN                    NaN  "
      ]
     },
     "execution_count": 16,
     "metadata": {},
     "output_type": "execute_result"
    }
   ],
   "source": [
    "regs.sort_values(by=\"neg_mean_absolute_error\", ascending=False).head(1)"
   ]
  },
  {
   "cell_type": "code",
   "execution_count": 17,
   "metadata": {},
   "outputs": [
    {
     "name": "stderr",
     "output_type": "stream",
     "text": [
      "/anaconda3/lib/python3.7/site-packages/sklearn/linear_model/_coordinate_descent.py:532: ConvergenceWarning: Objective did not converge. You might want to increase the number of iterations. Duality gap: 5988571.558489876, tolerance: 120584.43984877077\n",
      "  positive)\n"
     ]
    }
   ],
   "source": [
    "from sklearn.linear_model import Lasso\n",
    "from sklearn.preprocessing import PolynomialFeatures\n",
    "\n",
    "poly_features = PolynomialFeatures(degree=2)\n",
    "best_reg_model_mae = Lasso(alpha = 1)\n",
    "X_poly = poly_features.fit_transform(X_train)\n",
    "best_models.append(best_reg_model_mae.fit(X_poly, y_train))"
   ]
  },
  {
   "cell_type": "markdown",
   "metadata": {},
   "source": [
    "### Best SVR model by r2"
   ]
  },
  {
   "cell_type": "code",
   "execution_count": 18,
   "metadata": {},
   "outputs": [
    {
     "data": {
      "text/html": [
       "<div>\n",
       "<style scoped>\n",
       "    .dataframe tbody tr th:only-of-type {\n",
       "        vertical-align: middle;\n",
       "    }\n",
       "\n",
       "    .dataframe tbody tr th {\n",
       "        vertical-align: top;\n",
       "    }\n",
       "\n",
       "    .dataframe thead th {\n",
       "        text-align: right;\n",
       "    }\n",
       "</style>\n",
       "<table border=\"1\" class=\"dataframe\">\n",
       "  <thead>\n",
       "    <tr style=\"text-align: right;\">\n",
       "      <th></th>\n",
       "      <th>model</th>\n",
       "      <th>neg_mean_squared_error</th>\n",
       "      <th>neg_mean_absolute_error</th>\n",
       "      <th>r2</th>\n",
       "      <th>alpha</th>\n",
       "      <th>l1_ratio</th>\n",
       "      <th>degree</th>\n",
       "      <th>kernel</th>\n",
       "      <th>C</th>\n",
       "      <th>epsilon</th>\n",
       "      <th>rf__criterion</th>\n",
       "      <th>rf__max_features</th>\n",
       "      <th>rf__max_depth</th>\n",
       "      <th>rf__min_samples_split</th>\n",
       "    </tr>\n",
       "  </thead>\n",
       "  <tbody>\n",
       "    <tr>\n",
       "      <th>24</th>\n",
       "      <td>SVR</td>\n",
       "      <td>-1146.115604</td>\n",
       "      <td>-7.114552</td>\n",
       "      <td>0.944115</td>\n",
       "      <td>NaN</td>\n",
       "      <td>NaN</td>\n",
       "      <td>NaN</td>\n",
       "      <td>linear</td>\n",
       "      <td>20.0</td>\n",
       "      <td>0.0</td>\n",
       "      <td>NaN</td>\n",
       "      <td>NaN</td>\n",
       "      <td>NaN</td>\n",
       "      <td>NaN</td>\n",
       "    </tr>\n",
       "  </tbody>\n",
       "</table>\n",
       "</div>"
      ],
      "text/plain": [
       "   model  neg_mean_squared_error  neg_mean_absolute_error        r2  alpha  \\\n",
       "24   SVR            -1146.115604                -7.114552  0.944115    NaN   \n",
       "\n",
       "    l1_ratio degree  kernel     C  epsilon rf__criterion rf__max_features  \\\n",
       "24       NaN    NaN  linear  20.0      0.0           NaN              NaN   \n",
       "\n",
       "    rf__max_depth  rf__min_samples_split  \n",
       "24            NaN                    NaN  "
      ]
     },
     "execution_count": 18,
     "metadata": {},
     "output_type": "execute_result"
    }
   ],
   "source": [
    "# best svr or svrlinear models\n",
    "svrs = df[(df[\"model\"]==\"SVR\") | (df[\"model\"]==\"LinearSVR\")]\n",
    "svrs.sort_values(by=\"r2\", ascending=False).head(1)"
   ]
  },
  {
   "cell_type": "markdown",
   "metadata": {},
   "source": [
    "This is the same model as the best model by MAE so no need to run"
   ]
  },
  {
   "cell_type": "markdown",
   "metadata": {},
   "source": [
    "### Best SVR model by mse"
   ]
  },
  {
   "cell_type": "code",
   "execution_count": 19,
   "metadata": {},
   "outputs": [
    {
     "data": {
      "text/html": [
       "<div>\n",
       "<style scoped>\n",
       "    .dataframe tbody tr th:only-of-type {\n",
       "        vertical-align: middle;\n",
       "    }\n",
       "\n",
       "    .dataframe tbody tr th {\n",
       "        vertical-align: top;\n",
       "    }\n",
       "\n",
       "    .dataframe thead th {\n",
       "        text-align: right;\n",
       "    }\n",
       "</style>\n",
       "<table border=\"1\" class=\"dataframe\">\n",
       "  <thead>\n",
       "    <tr style=\"text-align: right;\">\n",
       "      <th></th>\n",
       "      <th>model</th>\n",
       "      <th>neg_mean_squared_error</th>\n",
       "      <th>neg_mean_absolute_error</th>\n",
       "      <th>r2</th>\n",
       "      <th>alpha</th>\n",
       "      <th>l1_ratio</th>\n",
       "      <th>degree</th>\n",
       "      <th>kernel</th>\n",
       "      <th>C</th>\n",
       "      <th>epsilon</th>\n",
       "      <th>rf__criterion</th>\n",
       "      <th>rf__max_features</th>\n",
       "      <th>rf__max_depth</th>\n",
       "      <th>rf__min_samples_split</th>\n",
       "    </tr>\n",
       "  </thead>\n",
       "  <tbody>\n",
       "    <tr>\n",
       "      <th>66</th>\n",
       "      <td>LinearSVR</td>\n",
       "      <td>-1078.422682</td>\n",
       "      <td>-7.239326</td>\n",
       "      <td>0.939882</td>\n",
       "      <td>NaN</td>\n",
       "      <td>NaN</td>\n",
       "      <td>NaN</td>\n",
       "      <td>NaN</td>\n",
       "      <td>1.0</td>\n",
       "      <td>0.0</td>\n",
       "      <td>NaN</td>\n",
       "      <td>NaN</td>\n",
       "      <td>NaN</td>\n",
       "      <td>NaN</td>\n",
       "    </tr>\n",
       "  </tbody>\n",
       "</table>\n",
       "</div>"
      ],
      "text/plain": [
       "        model  neg_mean_squared_error  neg_mean_absolute_error        r2  \\\n",
       "66  LinearSVR            -1078.422682                -7.239326  0.939882   \n",
       "\n",
       "    alpha  l1_ratio degree kernel    C  epsilon rf__criterion  \\\n",
       "66    NaN       NaN    NaN    NaN  1.0      0.0           NaN   \n",
       "\n",
       "   rf__max_features  rf__max_depth  rf__min_samples_split  \n",
       "66              NaN            NaN                    NaN  "
      ]
     },
     "execution_count": 19,
     "metadata": {},
     "output_type": "execute_result"
    }
   ],
   "source": [
    "svrs.sort_values(by=\"neg_mean_squared_error\", ascending=False).head(1)"
   ]
  },
  {
   "cell_type": "code",
   "execution_count": 20,
   "metadata": {},
   "outputs": [],
   "source": [
    "best_models.append(svm.LinearSVR(C=1, epsilon=0).fit(X_train, np.array(y_train).ravel()))"
   ]
  },
  {
   "cell_type": "markdown",
   "metadata": {},
   "source": [
    "## Evaluate best models on test data"
   ]
  },
  {
   "cell_type": "code",
   "execution_count": 21,
   "metadata": {},
   "outputs": [
    {
     "data": {
      "text/plain": [
       "[RandomForestRegressor(criterion='mae', n_jobs=-1, verbose=2),\n",
       " SVR(C=20, epsilon=0, kernel='linear'),\n",
       " RandomForestRegressor(max_features='log2', n_jobs=-1),\n",
       " Ridge(alpha=1),\n",
       " ElasticNet(alpha=0.1),\n",
       " Lasso(alpha=1),\n",
       " LinearSVR(C=1, epsilon=0)]"
      ]
     },
     "execution_count": 21,
     "metadata": {},
     "output_type": "execute_result"
    }
   ],
   "source": [
    "best_models"
   ]
  },
  {
   "cell_type": "code",
   "execution_count": 22,
   "metadata": {
    "scrolled": false
   },
   "outputs": [
    {
     "name": "stdout",
     "output_type": "stream",
     "text": [
      "RandomForestRegressor(criterion='mae', n_jobs=-1, verbose=2)\n"
     ]
    },
    {
     "name": "stderr",
     "output_type": "stream",
     "text": [
      "[Parallel(n_jobs=4)]: Using backend ThreadingBackend with 4 concurrent workers.\n",
      "[Parallel(n_jobs=4)]: Done  33 tasks      | elapsed:    0.3s\n",
      "[Parallel(n_jobs=4)]: Done 100 out of 100 | elapsed:    0.7s finished\n",
      "[Parallel(n_jobs=4)]: Using backend ThreadingBackend with 4 concurrent workers.\n",
      "[Parallel(n_jobs=4)]: Done  33 tasks      | elapsed:    0.1s\n",
      "[Parallel(n_jobs=4)]: Done 100 out of 100 | elapsed:    0.5s finished\n",
      "[Parallel(n_jobs=4)]: Using backend ThreadingBackend with 4 concurrent workers.\n",
      "[Parallel(n_jobs=4)]: Done  33 tasks      | elapsed:    0.7s\n",
      "[Parallel(n_jobs=4)]: Done 100 out of 100 | elapsed:    1.3s finished\n",
      "[Parallel(n_jobs=4)]: Using backend ThreadingBackend with 4 concurrent workers.\n",
      "[Parallel(n_jobs=4)]: Done  33 tasks      | elapsed:    0.3s\n",
      "[Parallel(n_jobs=4)]: Done 100 out of 100 | elapsed:    0.9s finished\n"
     ]
    },
    {
     "name": "stdout",
     "output_type": "stream",
     "text": [
      "MAE:  3.4247999777753084\n",
      "MSE:  151.20201127069674\n",
      "Bias: 26.178245003611515\n",
      "RSS: 7085530280560.022\n",
      "Variance: 0.9984370917038189\n",
      "R-squared: 0.9860748439516167\n",
      "\n",
      "\n",
      "SVR(C=20, epsilon=0, kernel='linear')\n",
      "MAE:  6.132815819685517\n",
      "MSE:  588.7384091700125\n",
      "Bias: 871.1861720572824\n",
      "RSS: 6589225156214.253\n",
      "Variance: 0.9479879535225231\n",
      "R-squared: 0.9368600481106242\n",
      "\n",
      "\n",
      "RandomForestRegressor(max_features='log2', n_jobs=-1)\n",
      "MAE:  3.2814930620598055\n",
      "MSE:  137.08728999390533\n",
      "Bias: 28.52696105961171\n",
      "RSS: 7036953198710.332\n",
      "Variance: 0.9982968673377932\n",
      "R-squared: 0.9871979570987878\n",
      "\n",
      "\n",
      "Ridge(alpha=1)\n",
      "MAE:  6.87074537029446\n",
      "MSE:  580.5369190442858\n",
      "Bias: 787.2850081891063\n",
      "RSS: 6926396948917.307\n",
      "Variance: 0.9529970679628048\n",
      "R-squared: 0.9440009082746814\n",
      "\n",
      "\n",
      "ElasticNet(alpha=0.1)\n",
      "MAE:  7.628666559816443\n",
      "MSE:  671.0196120810443\n",
      "Bias: 910.2198050063205\n",
      "RSS: 6874424930515.0205\n",
      "Variance: 0.9456575456301022\n",
      "R-squared: 0.9342551984116745\n",
      "\n",
      "\n",
      "Lasso(alpha=1)\n",
      "MAE:  6.655139470486812\n",
      "MSE:  363.33751926134255\n",
      "Bias: 438.52704913635233\n",
      "RSS: 6845687255761.122\n",
      "Variance: 0.9738188116468278\n",
      "R-squared: 0.9640891936231921\n",
      "\n",
      "\n",
      "LinearSVR(C=1, epsilon=0)\n",
      "MAE:  6.131380992936892\n",
      "MSE:  593.8966292726622\n",
      "Bias: 880.1939131519173\n",
      "RSS: 6560485364715.9\n",
      "Variance: 0.9474501683010648\n",
      "R-squared: 0.9356933894731669\n",
      "\n",
      "\n"
     ]
    },
    {
     "data": {
      "text/html": [
       "<div>\n",
       "<style scoped>\n",
       "    .dataframe tbody tr th:only-of-type {\n",
       "        vertical-align: middle;\n",
       "    }\n",
       "\n",
       "    .dataframe tbody tr th {\n",
       "        vertical-align: top;\n",
       "    }\n",
       "\n",
       "    .dataframe thead th {\n",
       "        text-align: right;\n",
       "    }\n",
       "</style>\n",
       "<table border=\"1\" class=\"dataframe\">\n",
       "  <thead>\n",
       "    <tr style=\"text-align: right;\">\n",
       "      <th></th>\n",
       "      <th>Model</th>\n",
       "      <th>MAE</th>\n",
       "      <th>MSE</th>\n",
       "      <th>R2</th>\n",
       "      <th>Bias</th>\n",
       "      <th>Variance</th>\n",
       "      <th>RSS</th>\n",
       "    </tr>\n",
       "  </thead>\n",
       "  <tbody>\n",
       "    <tr>\n",
       "      <th>0</th>\n",
       "      <td>RandomForestRegressor(criterion='mae', n_jobs=...</td>\n",
       "      <td>3.424800</td>\n",
       "      <td>151.202011</td>\n",
       "      <td>0.986075</td>\n",
       "      <td>26.178245</td>\n",
       "      <td>0.998437</td>\n",
       "      <td>7.085530e+12</td>\n",
       "    </tr>\n",
       "    <tr>\n",
       "      <th>1</th>\n",
       "      <td>SVR(C=20, epsilon=0, kernel='linear')</td>\n",
       "      <td>6.132816</td>\n",
       "      <td>588.738409</td>\n",
       "      <td>0.936860</td>\n",
       "      <td>871.186172</td>\n",
       "      <td>0.947988</td>\n",
       "      <td>6.589225e+12</td>\n",
       "    </tr>\n",
       "    <tr>\n",
       "      <th>2</th>\n",
       "      <td>RandomForestRegressor(max_features='log2', n_j...</td>\n",
       "      <td>3.281493</td>\n",
       "      <td>137.087290</td>\n",
       "      <td>0.987198</td>\n",
       "      <td>28.526961</td>\n",
       "      <td>0.998297</td>\n",
       "      <td>7.036953e+12</td>\n",
       "    </tr>\n",
       "    <tr>\n",
       "      <th>3</th>\n",
       "      <td>Ridge(alpha=1)</td>\n",
       "      <td>6.870745</td>\n",
       "      <td>580.536919</td>\n",
       "      <td>0.944001</td>\n",
       "      <td>787.285008</td>\n",
       "      <td>0.952997</td>\n",
       "      <td>6.926397e+12</td>\n",
       "    </tr>\n",
       "    <tr>\n",
       "      <th>4</th>\n",
       "      <td>ElasticNet(alpha=0.1)</td>\n",
       "      <td>7.628667</td>\n",
       "      <td>671.019612</td>\n",
       "      <td>0.934255</td>\n",
       "      <td>910.219805</td>\n",
       "      <td>0.945658</td>\n",
       "      <td>6.874425e+12</td>\n",
       "    </tr>\n",
       "    <tr>\n",
       "      <th>5</th>\n",
       "      <td>Lasso(alpha=1)</td>\n",
       "      <td>6.655139</td>\n",
       "      <td>363.337519</td>\n",
       "      <td>0.964089</td>\n",
       "      <td>438.527049</td>\n",
       "      <td>0.973819</td>\n",
       "      <td>6.845687e+12</td>\n",
       "    </tr>\n",
       "    <tr>\n",
       "      <th>6</th>\n",
       "      <td>LinearSVR(C=1, epsilon=0)</td>\n",
       "      <td>6.131381</td>\n",
       "      <td>593.896629</td>\n",
       "      <td>0.935693</td>\n",
       "      <td>880.193913</td>\n",
       "      <td>0.947450</td>\n",
       "      <td>6.560485e+12</td>\n",
       "    </tr>\n",
       "  </tbody>\n",
       "</table>\n",
       "</div>"
      ],
      "text/plain": [
       "                                               Model       MAE         MSE  \\\n",
       "0  RandomForestRegressor(criterion='mae', n_jobs=...  3.424800  151.202011   \n",
       "1              SVR(C=20, epsilon=0, kernel='linear')  6.132816  588.738409   \n",
       "2  RandomForestRegressor(max_features='log2', n_j...  3.281493  137.087290   \n",
       "3                                     Ridge(alpha=1)  6.870745  580.536919   \n",
       "4                              ElasticNet(alpha=0.1)  7.628667  671.019612   \n",
       "5                                     Lasso(alpha=1)  6.655139  363.337519   \n",
       "6                          LinearSVR(C=1, epsilon=0)  6.131381  593.896629   \n",
       "\n",
       "         R2        Bias  Variance           RSS  \n",
       "0  0.986075   26.178245  0.998437  7.085530e+12  \n",
       "1  0.936860  871.186172  0.947988  6.589225e+12  \n",
       "2  0.987198   28.526961  0.998297  7.036953e+12  \n",
       "3  0.944001  787.285008  0.952997  6.926397e+12  \n",
       "4  0.934255  910.219805  0.945658  6.874425e+12  \n",
       "5  0.964089  438.527049  0.973819  6.845687e+12  \n",
       "6  0.935693  880.193913  0.947450  6.560485e+12  "
      ]
     },
     "execution_count": 22,
     "metadata": {},
     "output_type": "execute_result"
    }
   ],
   "source": [
    "from sklearn.metrics import mean_absolute_error, mean_squared_error, mean_absolute_percentage_error, r2_score\n",
    "\n",
    "ev = pd.DataFrame(columns = [\"Model\", \"MAE\", \"MSE\", \"R2\", \"Bias\", \"Variance\", \"RSS\"])\n",
    "\n",
    "for model in best_models:\n",
    "    print(model)\n",
    "    \n",
    "    try:\n",
    "        model.predict(X_test)\n",
    "    except:\n",
    "        poly_features = PolynomialFeatures(degree=2)\n",
    "        model_test_X =  poly_features.fit_transform(X_test)\n",
    "        model_train_X = poly_features.fit_transform(X_train)\n",
    "    else:\n",
    "        model_test_X = X_test\n",
    "        model_train_X = X_train\n",
    "    \n",
    "    predictions = model.predict(model_test_X)\n",
    "        \n",
    "    mae = mean_absolute_error(y_test, predictions)\n",
    "    mse = mean_squared_error(y_test, predictions)\n",
    "    r2 = r2_score(predictions, y_test)\n",
    "    bias = mean_squared_error(model.predict(model_train_X),np.array(y_train))\n",
    "    rss = np.sum((predictions-np.array(y_test))**2)\n",
    "    variance = model.score(model_train_X, y_train)\n",
    "    \n",
    "    print(\"MAE: \", mae)\n",
    "    print(\"MSE: \", mse)\n",
    "    print(\"Bias:\", bias)\n",
    "    print(\"RSS:\", rss)\n",
    "    print(\"Variance:\", variance)\n",
    "    print(\"R-squared:\", r2)\n",
    "    \n",
    "    ev = ev.append({\"Model\": str(model), \n",
    "                        \"MAE\": mae,\n",
    "                        \"MSE\": mse,\n",
    "                        \"R2\": r2,\n",
    "                        \"Bias\": bias,\n",
    "                        \"Variance\": variance,\n",
    "                        \"RSS\": rss},\n",
    "                        ignore_index = True)\n",
    "\n",
    "    \n",
    "    print(\"\\n\")\n",
    "    \n",
    "ev"
   ]
  },
  {
   "cell_type": "code",
   "execution_count": 56,
   "metadata": {},
   "outputs": [],
   "source": [
    "ev.to_csv(\"../model_outputs/Best_Models_Scores.csv\")"
   ]
  },
  {
   "cell_type": "code",
   "execution_count": 23,
   "metadata": {},
   "outputs": [
    {
     "data": {
      "text/html": [
       "<div>\n",
       "<style scoped>\n",
       "    .dataframe tbody tr th:only-of-type {\n",
       "        vertical-align: middle;\n",
       "    }\n",
       "\n",
       "    .dataframe tbody tr th {\n",
       "        vertical-align: top;\n",
       "    }\n",
       "\n",
       "    .dataframe thead th {\n",
       "        text-align: right;\n",
       "    }\n",
       "</style>\n",
       "<table border=\"1\" class=\"dataframe\">\n",
       "  <thead>\n",
       "    <tr style=\"text-align: right;\">\n",
       "      <th></th>\n",
       "      <th>Model</th>\n",
       "      <th>MAE</th>\n",
       "      <th>MSE</th>\n",
       "      <th>R2</th>\n",
       "      <th>Bias</th>\n",
       "      <th>Variance</th>\n",
       "      <th>RSS</th>\n",
       "    </tr>\n",
       "  </thead>\n",
       "  <tbody>\n",
       "    <tr>\n",
       "      <th>2</th>\n",
       "      <td>RandomForestRegressor(max_features='log2', n_j...</td>\n",
       "      <td>3.281493</td>\n",
       "      <td>137.087290</td>\n",
       "      <td>0.987198</td>\n",
       "      <td>28.526961</td>\n",
       "      <td>0.998297</td>\n",
       "      <td>7.036953e+12</td>\n",
       "    </tr>\n",
       "    <tr>\n",
       "      <th>0</th>\n",
       "      <td>RandomForestRegressor(criterion='mae', n_jobs=...</td>\n",
       "      <td>3.424800</td>\n",
       "      <td>151.202011</td>\n",
       "      <td>0.986075</td>\n",
       "      <td>26.178245</td>\n",
       "      <td>0.998437</td>\n",
       "      <td>7.085530e+12</td>\n",
       "    </tr>\n",
       "    <tr>\n",
       "      <th>6</th>\n",
       "      <td>LinearSVR(C=1, epsilon=0)</td>\n",
       "      <td>6.131381</td>\n",
       "      <td>593.896629</td>\n",
       "      <td>0.935693</td>\n",
       "      <td>880.193913</td>\n",
       "      <td>0.947450</td>\n",
       "      <td>6.560485e+12</td>\n",
       "    </tr>\n",
       "    <tr>\n",
       "      <th>1</th>\n",
       "      <td>SVR(C=20, epsilon=0, kernel='linear')</td>\n",
       "      <td>6.132816</td>\n",
       "      <td>588.738409</td>\n",
       "      <td>0.936860</td>\n",
       "      <td>871.186172</td>\n",
       "      <td>0.947988</td>\n",
       "      <td>6.589225e+12</td>\n",
       "    </tr>\n",
       "    <tr>\n",
       "      <th>5</th>\n",
       "      <td>Lasso(alpha=1)</td>\n",
       "      <td>6.655139</td>\n",
       "      <td>363.337519</td>\n",
       "      <td>0.964089</td>\n",
       "      <td>438.527049</td>\n",
       "      <td>0.973819</td>\n",
       "      <td>6.845687e+12</td>\n",
       "    </tr>\n",
       "    <tr>\n",
       "      <th>3</th>\n",
       "      <td>Ridge(alpha=1)</td>\n",
       "      <td>6.870745</td>\n",
       "      <td>580.536919</td>\n",
       "      <td>0.944001</td>\n",
       "      <td>787.285008</td>\n",
       "      <td>0.952997</td>\n",
       "      <td>6.926397e+12</td>\n",
       "    </tr>\n",
       "    <tr>\n",
       "      <th>4</th>\n",
       "      <td>ElasticNet(alpha=0.1)</td>\n",
       "      <td>7.628667</td>\n",
       "      <td>671.019612</td>\n",
       "      <td>0.934255</td>\n",
       "      <td>910.219805</td>\n",
       "      <td>0.945658</td>\n",
       "      <td>6.874425e+12</td>\n",
       "    </tr>\n",
       "  </tbody>\n",
       "</table>\n",
       "</div>"
      ],
      "text/plain": [
       "                                               Model       MAE         MSE  \\\n",
       "2  RandomForestRegressor(max_features='log2', n_j...  3.281493  137.087290   \n",
       "0  RandomForestRegressor(criterion='mae', n_jobs=...  3.424800  151.202011   \n",
       "6                          LinearSVR(C=1, epsilon=0)  6.131381  593.896629   \n",
       "1              SVR(C=20, epsilon=0, kernel='linear')  6.132816  588.738409   \n",
       "5                                     Lasso(alpha=1)  6.655139  363.337519   \n",
       "3                                     Ridge(alpha=1)  6.870745  580.536919   \n",
       "4                              ElasticNet(alpha=0.1)  7.628667  671.019612   \n",
       "\n",
       "         R2        Bias  Variance           RSS  \n",
       "2  0.987198   28.526961  0.998297  7.036953e+12  \n",
       "0  0.986075   26.178245  0.998437  7.085530e+12  \n",
       "6  0.935693  880.193913  0.947450  6.560485e+12  \n",
       "1  0.936860  871.186172  0.947988  6.589225e+12  \n",
       "5  0.964089  438.527049  0.973819  6.845687e+12  \n",
       "3  0.944001  787.285008  0.952997  6.926397e+12  \n",
       "4  0.934255  910.219805  0.945658  6.874425e+12  "
      ]
     },
     "execution_count": 23,
     "metadata": {},
     "output_type": "execute_result"
    }
   ],
   "source": [
    "ev.sort_values(by=\"MAE\")"
   ]
  },
  {
   "cell_type": "markdown",
   "metadata": {},
   "source": [
    "The best model is the RandomForestRegressor with max_features=\"log2\"!"
   ]
  },
  {
   "cell_type": "markdown",
   "metadata": {},
   "source": [
    "## Get feature importance of best model"
   ]
  },
  {
   "cell_type": "code",
   "execution_count": 32,
   "metadata": {},
   "outputs": [],
   "source": [
    "best_model = best_models[2]"
   ]
  },
  {
   "cell_type": "code",
   "execution_count": 33,
   "metadata": {},
   "outputs": [
    {
     "data": {
      "text/html": [
       "<div>\n",
       "<style scoped>\n",
       "    .dataframe tbody tr th:only-of-type {\n",
       "        vertical-align: middle;\n",
       "    }\n",
       "\n",
       "    .dataframe tbody tr th {\n",
       "        vertical-align: top;\n",
       "    }\n",
       "\n",
       "    .dataframe thead th {\n",
       "        text-align: right;\n",
       "    }\n",
       "</style>\n",
       "<table border=\"1\" class=\"dataframe\">\n",
       "  <thead>\n",
       "    <tr style=\"text-align: right;\">\n",
       "      <th></th>\n",
       "      <th>features</th>\n",
       "      <th>importance</th>\n",
       "    </tr>\n",
       "  </thead>\n",
       "  <tbody>\n",
       "    <tr>\n",
       "      <th>0</th>\n",
       "      <td>new_cases_7avg</td>\n",
       "      <td>0.244392</td>\n",
       "    </tr>\n",
       "    <tr>\n",
       "      <th>2</th>\n",
       "      <td>new_cases</td>\n",
       "      <td>0.183286</td>\n",
       "    </tr>\n",
       "    <tr>\n",
       "      <th>9</th>\n",
       "      <td>prev_day_adult_admit_7daysum</td>\n",
       "      <td>0.162867</td>\n",
       "    </tr>\n",
       "    <tr>\n",
       "      <th>14</th>\n",
       "      <td>prev_day_adult_admit_50-59_7daysum</td>\n",
       "      <td>0.116319</td>\n",
       "    </tr>\n",
       "    <tr>\n",
       "      <th>12</th>\n",
       "      <td>prev_day_adult_admit_80+_7daysum</td>\n",
       "      <td>0.074371</td>\n",
       "    </tr>\n",
       "    <tr>\n",
       "      <th>6</th>\n",
       "      <td>cumulative_cases</td>\n",
       "      <td>0.058826</td>\n",
       "    </tr>\n",
       "    <tr>\n",
       "      <th>1</th>\n",
       "      <td>2weeksago_cases_7avg</td>\n",
       "      <td>0.054679</td>\n",
       "    </tr>\n",
       "    <tr>\n",
       "      <th>5</th>\n",
       "      <td>age_35_44</td>\n",
       "      <td>0.031427</td>\n",
       "    </tr>\n",
       "    <tr>\n",
       "      <th>4</th>\n",
       "      <td>white</td>\n",
       "      <td>0.023240</td>\n",
       "    </tr>\n",
       "    <tr>\n",
       "      <th>3</th>\n",
       "      <td>age_45_54</td>\n",
       "      <td>0.021172</td>\n",
       "    </tr>\n",
       "    <tr>\n",
       "      <th>7</th>\n",
       "      <td>asian</td>\n",
       "      <td>0.012295</td>\n",
       "    </tr>\n",
       "    <tr>\n",
       "      <th>8</th>\n",
       "      <td>other_race</td>\n",
       "      <td>0.006853</td>\n",
       "    </tr>\n",
       "    <tr>\n",
       "      <th>11</th>\n",
       "      <td>retail_rec</td>\n",
       "      <td>0.006357</td>\n",
       "    </tr>\n",
       "    <tr>\n",
       "      <th>10</th>\n",
       "      <td>p_white</td>\n",
       "      <td>0.002974</td>\n",
       "    </tr>\n",
       "    <tr>\n",
       "      <th>13</th>\n",
       "      <td>p_age_65over</td>\n",
       "      <td>0.000941</td>\n",
       "    </tr>\n",
       "  </tbody>\n",
       "</table>\n",
       "</div>"
      ],
      "text/plain": [
       "                              features  importance\n",
       "0                       new_cases_7avg    0.244392\n",
       "2                            new_cases    0.183286\n",
       "9         prev_day_adult_admit_7daysum    0.162867\n",
       "14  prev_day_adult_admit_50-59_7daysum    0.116319\n",
       "12    prev_day_adult_admit_80+_7daysum    0.074371\n",
       "6                     cumulative_cases    0.058826\n",
       "1                 2weeksago_cases_7avg    0.054679\n",
       "5                            age_35_44    0.031427\n",
       "4                                white    0.023240\n",
       "3                            age_45_54    0.021172\n",
       "7                                asian    0.012295\n",
       "8                           other_race    0.006853\n",
       "11                          retail_rec    0.006357\n",
       "10                             p_white    0.002974\n",
       "13                        p_age_65over    0.000941"
      ]
     },
     "execution_count": 33,
     "metadata": {},
     "output_type": "execute_result"
    }
   ],
   "source": [
    "feature_importance = pd.DataFrame({\"features\": X_train.columns.to_list(), \n",
    "                                   \"importance\": best_model.feature_importances_ })\n",
    "\n",
    "feature_importance.sort_values(by=\"importance\", ascending = False)"
   ]
  },
  {
   "cell_type": "markdown",
   "metadata": {},
   "source": [
    "## Plot the results"
   ]
  },
  {
   "cell_type": "code",
   "execution_count": 66,
   "metadata": {},
   "outputs": [
    {
     "data": {
      "text/html": [
       "<div>\n",
       "<style scoped>\n",
       "    .dataframe tbody tr th:only-of-type {\n",
       "        vertical-align: middle;\n",
       "    }\n",
       "\n",
       "    .dataframe tbody tr th {\n",
       "        vertical-align: top;\n",
       "    }\n",
       "\n",
       "    .dataframe thead th {\n",
       "        text-align: right;\n",
       "    }\n",
       "</style>\n",
       "<table border=\"1\" class=\"dataframe\">\n",
       "  <thead>\n",
       "    <tr style=\"text-align: right;\">\n",
       "      <th></th>\n",
       "      <th>Model</th>\n",
       "      <th>MAE</th>\n",
       "      <th>MSE</th>\n",
       "      <th>R2</th>\n",
       "      <th>Bias</th>\n",
       "      <th>Variance</th>\n",
       "      <th>RSS</th>\n",
       "      <th>Model Family</th>\n",
       "    </tr>\n",
       "  </thead>\n",
       "  <tbody>\n",
       "    <tr>\n",
       "      <th>0</th>\n",
       "      <td>RandomForestRegressor(criterion='mae', n_jobs=...</td>\n",
       "      <td>3.424800</td>\n",
       "      <td>151.202011</td>\n",
       "      <td>0.986075</td>\n",
       "      <td>26.178245</td>\n",
       "      <td>0.998437</td>\n",
       "      <td>7.085530e+12</td>\n",
       "      <td>Random Forest</td>\n",
       "    </tr>\n",
       "    <tr>\n",
       "      <th>1</th>\n",
       "      <td>SVR(C=20, epsilon=0, kernel='linear')</td>\n",
       "      <td>6.132816</td>\n",
       "      <td>588.738409</td>\n",
       "      <td>0.936860</td>\n",
       "      <td>871.186172</td>\n",
       "      <td>0.947988</td>\n",
       "      <td>6.589225e+12</td>\n",
       "      <td>SVR</td>\n",
       "    </tr>\n",
       "    <tr>\n",
       "      <th>2</th>\n",
       "      <td>RandomForestRegressor(max_features='log2', n_j...</td>\n",
       "      <td>3.281493</td>\n",
       "      <td>137.087290</td>\n",
       "      <td>0.987198</td>\n",
       "      <td>28.526961</td>\n",
       "      <td>0.998297</td>\n",
       "      <td>7.036953e+12</td>\n",
       "      <td>Random Forest</td>\n",
       "    </tr>\n",
       "    <tr>\n",
       "      <th>3</th>\n",
       "      <td>Ridge(alpha=1)</td>\n",
       "      <td>6.870745</td>\n",
       "      <td>580.536919</td>\n",
       "      <td>0.944001</td>\n",
       "      <td>787.285008</td>\n",
       "      <td>0.952997</td>\n",
       "      <td>6.926397e+12</td>\n",
       "      <td>Ridge</td>\n",
       "    </tr>\n",
       "    <tr>\n",
       "      <th>4</th>\n",
       "      <td>ElasticNet(alpha=0.1)</td>\n",
       "      <td>7.628667</td>\n",
       "      <td>671.019612</td>\n",
       "      <td>0.934255</td>\n",
       "      <td>910.219805</td>\n",
       "      <td>0.945658</td>\n",
       "      <td>6.874425e+12</td>\n",
       "      <td>Elastic Net</td>\n",
       "    </tr>\n",
       "    <tr>\n",
       "      <th>5</th>\n",
       "      <td>Lasso(alpha=1)</td>\n",
       "      <td>6.655139</td>\n",
       "      <td>363.337519</td>\n",
       "      <td>0.964089</td>\n",
       "      <td>438.527049</td>\n",
       "      <td>0.973819</td>\n",
       "      <td>6.845687e+12</td>\n",
       "      <td>Lasso</td>\n",
       "    </tr>\n",
       "    <tr>\n",
       "      <th>6</th>\n",
       "      <td>LinearSVR(C=1, epsilon=0)</td>\n",
       "      <td>6.131381</td>\n",
       "      <td>593.896629</td>\n",
       "      <td>0.935693</td>\n",
       "      <td>880.193913</td>\n",
       "      <td>0.947450</td>\n",
       "      <td>6.560485e+12</td>\n",
       "      <td>SVR</td>\n",
       "    </tr>\n",
       "  </tbody>\n",
       "</table>\n",
       "</div>"
      ],
      "text/plain": [
       "                                               Model       MAE         MSE  \\\n",
       "0  RandomForestRegressor(criterion='mae', n_jobs=...  3.424800  151.202011   \n",
       "1              SVR(C=20, epsilon=0, kernel='linear')  6.132816  588.738409   \n",
       "2  RandomForestRegressor(max_features='log2', n_j...  3.281493  137.087290   \n",
       "3                                     Ridge(alpha=1)  6.870745  580.536919   \n",
       "4                              ElasticNet(alpha=0.1)  7.628667  671.019612   \n",
       "5                                     Lasso(alpha=1)  6.655139  363.337519   \n",
       "6                          LinearSVR(C=1, epsilon=0)  6.131381  593.896629   \n",
       "\n",
       "         R2        Bias  Variance           RSS   Model Family  \n",
       "0  0.986075   26.178245  0.998437  7.085530e+12  Random Forest  \n",
       "1  0.936860  871.186172  0.947988  6.589225e+12            SVR  \n",
       "2  0.987198   28.526961  0.998297  7.036953e+12  Random Forest  \n",
       "3  0.944001  787.285008  0.952997  6.926397e+12          Ridge  \n",
       "4  0.934255  910.219805  0.945658  6.874425e+12    Elastic Net  \n",
       "5  0.964089  438.527049  0.973819  6.845687e+12          Lasso  \n",
       "6  0.935693  880.193913  0.947450  6.560485e+12            SVR  "
      ]
     },
     "execution_count": 66,
     "metadata": {},
     "output_type": "execute_result"
    }
   ],
   "source": [
    "ev[\"Model Family\"] = (ev[\"Model\"].str.split(\"(\")).map(lambda x: x[0].replace(\"LinearSVR\", \"SVR\"))\n",
    "ev.loc[ev['Model Family'] ==\"RandomForestRegressor\", \"Model Family\"] = \"Random Forest\"\n",
    "ev.loc[ev['Model Family'] ==\"ElasticNet\", \"Model Family\"] = \"Elastic Net\"\n",
    "ev"
   ]
  },
  {
   "cell_type": "code",
   "execution_count": 67,
   "metadata": {},
   "outputs": [
    {
     "data": {
      "text/plain": [
       "Text(0, 0.5, 'Variance')"
      ]
     },
     "execution_count": 67,
     "metadata": {},
     "output_type": "execute_result"
    },
    {
     "data": {
      "image/png": "[encoded data removed]",
      "text/plain": [
       "<Figure size 432x288 with 1 Axes>"
      ]
     },
     "metadata": {
      "needs_background": "light"
     },
     "output_type": "display_data"
    }
   ],
   "source": [
    "import matplotlib.pyplot as plt\n",
    "import seaborn as sns\n",
    "\n",
    "sns.scatterplot(x=\"Bias\", y=\"Variance\", data=ev, hue=\"Model Family\", s=60)\n",
    "plt.title(\"Bias vs Variance of the Best Models\")\n",
    "plt.xlabel(\"Bias\")\n",
    "plt.ylabel(\"Variance\")"
   ]
  },
  {
   "cell_type": "code",
   "execution_count": 68,
   "metadata": {},
   "outputs": [
    {
     "data": {
      "text/plain": [
       "Text(0, 0.5, 'R Squared')"
      ]
     },
     "execution_count": 68,
     "metadata": {},
     "output_type": "execute_result"
    },
    {
     "data": {
      "image/png": "[encoded data removed]",
      "text/plain": [
       "<Figure size 432x288 with 1 Axes>"
      ]
     },
     "metadata": {
      "needs_background": "light"
     },
     "output_type": "display_data"
    }
   ],
   "source": [
    "import seaborn as sns\n",
    "\n",
    "sns.scatterplot(x=\"MAE\", y=\"R2\", data=ev, hue=\"Model Family\", s=60)\n",
    "plt.title(\"Mean Absolute Error vs. R-squared of the Best Models\")\n",
    "plt.xlabel(\"MAE\")\n",
    "plt.ylabel(\"R Squared\")"
   ]
  },
  {
   "cell_type": "code",
   "execution_count": 69,
   "metadata": {},
   "outputs": [
    {
     "data": {
      "text/plain": [
       "Text(0, 0.5, 'MSE')"
      ]
     },
     "execution_count": 69,
     "metadata": {},
     "output_type": "execute_result"
    },
    {
     "data": {
      "image/png": "[encoded data removed]",
      "text/plain": [
       "<Figure size 432x288 with 1 Axes>"
      ]
     },
     "metadata": {
      "needs_background": "light"
     },
     "output_type": "display_data"
    }
   ],
   "source": [
    "import seaborn as sns\n",
    "\n",
    "sns.scatterplot(x=\"MAE\", y=\"MSE\", data=ev, hue=\"Model Family\", s=60)\n",
    "plt.title(\"Mean Absolute Error vs. Mean Squared Error of the Best Models\")\n",
    "plt.xlabel(\"MAE\")\n",
    "plt.ylabel(\"MSE\")"
   ]
  },
  {
   "cell_type": "code",
   "execution_count": 46,
   "metadata": {},
   "outputs": [],
   "source": [
    "best_predictions = best_model.predict(X_test)"
   ]
  },
  {
   "cell_type": "markdown",
   "metadata": {},
   "source": [
    "## Use Best Model to predict cases next week for the last week in our data"
   ]
  },
  {
   "cell_type": "code",
   "execution_count": 27,
   "metadata": {},
   "outputs": [],
   "source": [
    "################################################################\n",
    "# have to grab original X_train data to normalize consistently #\n",
    "################################################################\n",
    "\n",
    "from sklearn.model_selection import train_test_split\n",
    "\n",
    "df = pd.read_csv(\"../Data/merged.csv\", parse_dates=[\"date\"], dtype={'fips': str})\n",
    "\n",
    "# filter down to dates with hospital\n",
    "date_mask = (df[\"date\"]>='7-31-2020')\n",
    "df = df[date_mask]\n",
    "\n",
    "# drop grocery_pharm, parks, transit because they have too much missingness\n",
    "df.drop(columns=[\"grocery_pharm\", \"parks\", \"transit\", \"residential\"], inplace = True)\n",
    "\n",
    "# fill na's with mean for that state that date for retail_rec, workplace [TO DO: IS THIS REASONABLE?]\n",
    "for var in [\"retail_rec\", \"workplace\"]:\n",
    "    df[var] = df[[\"state\", \"date\", var]].groupby([\"state\", \"date\"]).transform(lambda x: x.fillna(x.mean()))\n",
    "\n",
    "# fill missing masks with 0 because the missings are from MO, who doesn't have a mask mandate\n",
    "df[\"mask_mandate\"] = df[\"mask_mandate\"].fillna(0)\n",
    "\n",
    "# drop na's (should just be the last week for each fips)\n",
    "df = df.dropna()\n",
    "\n",
    "# split df into features and labels\n",
    "temp_X = df.drop(columns=[\"cases_next_week\"])\n",
    "temp_y = df[\"cases_next_week\"]\n",
    "\n",
    "# split df into train and test\n",
    "temp_X_train, temp_X_test, temp_y_train, temp_y_test = train_test_split(temp_X, temp_y, random_state=0, test_size=0.2)"
   ]
  },
  {
   "cell_type": "code",
   "execution_count": 48,
   "metadata": {},
   "outputs": [
    {
     "name": "stderr",
     "output_type": "stream",
     "text": [
      "/anaconda3/lib/python3.7/site-packages/ipykernel_launcher.py:5: SettingWithCopyWarning: \n",
      "A value is trying to be set on a copy of a slice from a DataFrame.\n",
      "Try using .loc[row_indexer,col_indexer] = value instead\n",
      "\n",
      "See the caveats in the documentation: https://pandas.pydata.org/pandas-docs/stable/user_guide/indexing.html#returning-a-view-versus-a-copy\n",
      "  \"\"\"\n"
     ]
    }
   ],
   "source": [
    "# grab final week of data that doesn't have y's\n",
    "merged = pd.read_csv(\"../Data/merged.csv\", parse_dates=[\"date\"], dtype={\"fips\":str})\n",
    "final_week = merged[merged[\"cases_next_week\"].isnull()]\n",
    "final_week[\"retail_rec\"] = final_week[[\"state\", \"retail_rec\"]]\\\n",
    "                            .groupby([\"state\"]).transform(lambda x: x.fillna(x.mean()))"
   ]
  },
  {
   "cell_type": "code",
   "execution_count": 49,
   "metadata": {},
   "outputs": [],
   "source": [
    "# normalize final_week\n",
    "numerical_features = temp_X_train.columns.tolist()[4:]\n",
    "numerical_features.remove('mask_mandate')\n",
    "\n",
    "temp_X_train, final_week = pline.normalize(temp_X_train, final_week, numerical_features)"
   ]
  },
  {
   "cell_type": "code",
   "execution_count": 50,
   "metadata": {},
   "outputs": [
    {
     "name": "stderr",
     "output_type": "stream",
     "text": [
      "/anaconda3/lib/python3.7/site-packages/ipykernel_launcher.py:3: SettingWithCopyWarning: \n",
      "A value is trying to be set on a copy of a slice from a DataFrame.\n",
      "Try using .loc[row_indexer,col_indexer] = value instead\n",
      "\n",
      "See the caveats in the documentation: https://pandas.pydata.org/pandas-docs/stable/user_guide/indexing.html#returning-a-view-versus-a-copy\n",
      "  This is separate from the ipykernel package so we can avoid doing imports until\n"
     ]
    }
   ],
   "source": [
    "# make predictions using best model\n",
    "final_week_predictions = final_week[[\"state\", \"county\", \"date\", \"fips\"]]\n",
    "final_week_predictions[\"predicted\"] = best_model.predict(final_week[X_train.columns.to_list()])"
   ]
  },
  {
   "cell_type": "code",
   "execution_count": 51,
   "metadata": {},
   "outputs": [
    {
     "name": "stderr",
     "output_type": "stream",
     "text": [
      "/anaconda3/lib/python3.7/site-packages/ipykernel_launcher.py:3: SettingWithCopyWarning: \n",
      "A value is trying to be set on a copy of a slice from a DataFrame.\n",
      "Try using .loc[row_indexer,col_indexer] = value instead\n",
      "\n",
      "See the caveats in the documentation: https://pandas.pydata.org/pandas-docs/stable/user_guide/indexing.html#returning-a-view-versus-a-copy\n",
      "  This is separate from the ipykernel package so we can avoid doing imports until\n"
     ]
    }
   ],
   "source": [
    "# match with date\n",
    "from datetime import timedelta\n",
    "final_week_predictions[\"7 days from now\"] = final_week_predictions[\"date\"] + + timedelta(days=7)\n",
    "\n",
    "final_week_predictions = final_week_predictions.drop(columns=[\"date\"])\n",
    "final_week_predictions.rename(columns={\"7 days from now\": \"date\"}, inplace=True)"
   ]
  },
  {
   "cell_type": "code",
   "execution_count": 52,
   "metadata": {},
   "outputs": [],
   "source": [
    "# merge on true cases form NYT\n",
    "url = 'https://raw.githubusercontent.com/nytimes/covid-19-data/master/us-counties.csv'\n",
    "nyt = pd.read_csv(url, parse_dates=[\"date\"], dtype={\"fips\": str})\n",
    "nyt['new_cases'] = nyt.groupby([\"state\", \"fips\", \"county\"])['cases'].diff()\n",
    "\n",
    "final_week_predictions = final_week_predictions.merge(nyt.drop(columns=[\"state\", \"county\"]), \n",
    "                                                      on=[\"date\", \"fips\"], how=\"left\")\\\n",
    "                                               .drop(columns=[\"cases\", \"deaths\"])"
   ]
  },
  {
   "cell_type": "code",
   "execution_count": 53,
   "metadata": {},
   "outputs": [
    {
     "data": {
      "text/html": [
       "<div>\n",
       "<style scoped>\n",
       "    .dataframe tbody tr th:only-of-type {\n",
       "        vertical-align: middle;\n",
       "    }\n",
       "\n",
       "    .dataframe tbody tr th {\n",
       "        vertical-align: top;\n",
       "    }\n",
       "\n",
       "    .dataframe thead th {\n",
       "        text-align: right;\n",
       "    }\n",
       "</style>\n",
       "<table border=\"1\" class=\"dataframe\">\n",
       "  <thead>\n",
       "    <tr style=\"text-align: right;\">\n",
       "      <th></th>\n",
       "      <th>state</th>\n",
       "      <th>county</th>\n",
       "      <th>fips</th>\n",
       "      <th>predicted</th>\n",
       "      <th>date</th>\n",
       "      <th>new_cases</th>\n",
       "      <th>residual</th>\n",
       "    </tr>\n",
       "  </thead>\n",
       "  <tbody>\n",
       "    <tr>\n",
       "      <th>0</th>\n",
       "      <td>IL</td>\n",
       "      <td>Adams</td>\n",
       "      <td>17001</td>\n",
       "      <td>10.0</td>\n",
       "      <td>2021-05-28</td>\n",
       "      <td>4.0</td>\n",
       "      <td>-6.0</td>\n",
       "    </tr>\n",
       "    <tr>\n",
       "      <th>1</th>\n",
       "      <td>IL</td>\n",
       "      <td>Adams</td>\n",
       "      <td>17001</td>\n",
       "      <td>10.0</td>\n",
       "      <td>2021-05-29</td>\n",
       "      <td>5.0</td>\n",
       "      <td>-5.0</td>\n",
       "    </tr>\n",
       "    <tr>\n",
       "      <th>2</th>\n",
       "      <td>IL</td>\n",
       "      <td>Adams</td>\n",
       "      <td>17001</td>\n",
       "      <td>10.0</td>\n",
       "      <td>2021-05-30</td>\n",
       "      <td>5.0</td>\n",
       "      <td>-5.0</td>\n",
       "    </tr>\n",
       "    <tr>\n",
       "      <th>3</th>\n",
       "      <td>IL</td>\n",
       "      <td>Adams</td>\n",
       "      <td>17001</td>\n",
       "      <td>11.0</td>\n",
       "      <td>2021-05-31</td>\n",
       "      <td>1.0</td>\n",
       "      <td>-10.0</td>\n",
       "    </tr>\n",
       "    <tr>\n",
       "      <th>4</th>\n",
       "      <td>IL</td>\n",
       "      <td>Adams</td>\n",
       "      <td>17001</td>\n",
       "      <td>10.0</td>\n",
       "      <td>2021-06-01</td>\n",
       "      <td>4.0</td>\n",
       "      <td>-6.0</td>\n",
       "    </tr>\n",
       "  </tbody>\n",
       "</table>\n",
       "</div>"
      ],
      "text/plain": [
       "  state county   fips  predicted       date  new_cases  residual\n",
       "0    IL  Adams  17001       10.0 2021-05-28        4.0      -6.0\n",
       "1    IL  Adams  17001       10.0 2021-05-29        5.0      -5.0\n",
       "2    IL  Adams  17001       10.0 2021-05-30        5.0      -5.0\n",
       "3    IL  Adams  17001       11.0 2021-05-31        1.0     -10.0\n",
       "4    IL  Adams  17001       10.0 2021-06-01        4.0      -6.0"
      ]
     },
     "execution_count": 53,
     "metadata": {},
     "output_type": "execute_result"
    }
   ],
   "source": [
    "final_week_predictions[\"predicted\"] = round(final_week_predictions[\"predicted\"])\n",
    "final_week_predictions[\"residual\"] = final_week_predictions[\"new_cases\"] - final_week_predictions[\"predicted\"]\n",
    "final_week_predictions.head()"
   ]
  },
  {
   "cell_type": "code",
   "execution_count": 55,
   "metadata": {},
   "outputs": [],
   "source": [
    "final_week_predictions.to_csv(\"../model_outputs/Final Week Predictions.csv\")"
   ]
  },
  {
   "cell_type": "markdown",
   "metadata": {},
   "source": [
    "### Add population to final predictions"
   ]
  },
  {
   "cell_type": "code",
   "execution_count": 7,
   "metadata": {},
   "outputs": [],
   "source": [
    "final_week_predictions = pd.read_csv(\"../model_outputs/Final Week Predictions.csv\").drop(columns=[\"Unnamed: 0\"])\n",
    "merged = pd.read_csv(\"../Data/Merged.csv\")[[\"fips\", \"total_pop\"]].drop_duplicates()"
   ]
  },
  {
   "cell_type": "code",
   "execution_count": 8,
   "metadata": {
    "scrolled": true
   },
   "outputs": [
    {
     "data": {
      "text/html": [
       "<div>\n",
       "<style scoped>\n",
       "    .dataframe tbody tr th:only-of-type {\n",
       "        vertical-align: middle;\n",
       "    }\n",
       "\n",
       "    .dataframe tbody tr th {\n",
       "        vertical-align: top;\n",
       "    }\n",
       "\n",
       "    .dataframe thead th {\n",
       "        text-align: right;\n",
       "    }\n",
       "</style>\n",
       "<table border=\"1\" class=\"dataframe\">\n",
       "  <thead>\n",
       "    <tr style=\"text-align: right;\">\n",
       "      <th></th>\n",
       "      <th>fips</th>\n",
       "      <th>total_pop</th>\n",
       "    </tr>\n",
       "  </thead>\n",
       "  <tbody>\n",
       "    <tr>\n",
       "      <th>0</th>\n",
       "      <td>17001</td>\n",
       "      <td>66085</td>\n",
       "    </tr>\n",
       "    <tr>\n",
       "      <th>434</th>\n",
       "      <td>17003</td>\n",
       "      <td>6260</td>\n",
       "    </tr>\n",
       "    <tr>\n",
       "      <th>841</th>\n",
       "      <td>17005</td>\n",
       "      <td>16589</td>\n",
       "    </tr>\n",
       "    <tr>\n",
       "      <th>1266</th>\n",
       "      <td>17007</td>\n",
       "      <td>53537</td>\n",
       "    </tr>\n",
       "    <tr>\n",
       "      <th>1684</th>\n",
       "      <td>17009</td>\n",
       "      <td>6628</td>\n",
       "    </tr>\n",
       "  </tbody>\n",
       "</table>\n",
       "</div>"
      ],
      "text/plain": [
       "       fips  total_pop\n",
       "0     17001      66085\n",
       "434   17003       6260\n",
       "841   17005      16589\n",
       "1266  17007      53537\n",
       "1684  17009       6628"
      ]
     },
     "execution_count": 8,
     "metadata": {},
     "output_type": "execute_result"
    }
   ],
   "source": [
    "merged.head()"
   ]
  },
  {
   "cell_type": "code",
   "execution_count": 9,
   "metadata": {},
   "outputs": [
    {
     "data": {
      "text/html": [
       "<div>\n",
       "<style scoped>\n",
       "    .dataframe tbody tr th:only-of-type {\n",
       "        vertical-align: middle;\n",
       "    }\n",
       "\n",
       "    .dataframe tbody tr th {\n",
       "        vertical-align: top;\n",
       "    }\n",
       "\n",
       "    .dataframe thead th {\n",
       "        text-align: right;\n",
       "    }\n",
       "</style>\n",
       "<table border=\"1\" class=\"dataframe\">\n",
       "  <thead>\n",
       "    <tr style=\"text-align: right;\">\n",
       "      <th></th>\n",
       "      <th>state</th>\n",
       "      <th>county</th>\n",
       "      <th>fips</th>\n",
       "      <th>predicted</th>\n",
       "      <th>date</th>\n",
       "      <th>new_cases</th>\n",
       "      <th>residual</th>\n",
       "      <th>total_pop</th>\n",
       "    </tr>\n",
       "  </thead>\n",
       "  <tbody>\n",
       "    <tr>\n",
       "      <th>0</th>\n",
       "      <td>IL</td>\n",
       "      <td>Adams</td>\n",
       "      <td>17001</td>\n",
       "      <td>10.0</td>\n",
       "      <td>2021-05-28</td>\n",
       "      <td>4.0</td>\n",
       "      <td>-6.0</td>\n",
       "      <td>66085</td>\n",
       "    </tr>\n",
       "    <tr>\n",
       "      <th>1</th>\n",
       "      <td>IL</td>\n",
       "      <td>Adams</td>\n",
       "      <td>17001</td>\n",
       "      <td>10.0</td>\n",
       "      <td>2021-05-29</td>\n",
       "      <td>5.0</td>\n",
       "      <td>-5.0</td>\n",
       "      <td>66085</td>\n",
       "    </tr>\n",
       "    <tr>\n",
       "      <th>2</th>\n",
       "      <td>IL</td>\n",
       "      <td>Adams</td>\n",
       "      <td>17001</td>\n",
       "      <td>10.0</td>\n",
       "      <td>2021-05-30</td>\n",
       "      <td>5.0</td>\n",
       "      <td>-5.0</td>\n",
       "      <td>66085</td>\n",
       "    </tr>\n",
       "    <tr>\n",
       "      <th>3</th>\n",
       "      <td>IL</td>\n",
       "      <td>Adams</td>\n",
       "      <td>17001</td>\n",
       "      <td>11.0</td>\n",
       "      <td>2021-05-31</td>\n",
       "      <td>1.0</td>\n",
       "      <td>-10.0</td>\n",
       "      <td>66085</td>\n",
       "    </tr>\n",
       "    <tr>\n",
       "      <th>4</th>\n",
       "      <td>IL</td>\n",
       "      <td>Adams</td>\n",
       "      <td>17001</td>\n",
       "      <td>10.0</td>\n",
       "      <td>2021-06-01</td>\n",
       "      <td>4.0</td>\n",
       "      <td>-6.0</td>\n",
       "      <td>66085</td>\n",
       "    </tr>\n",
       "  </tbody>\n",
       "</table>\n",
       "</div>"
      ],
      "text/plain": [
       "  state county   fips  predicted        date  new_cases  residual  total_pop\n",
       "0    IL  Adams  17001       10.0  2021-05-28        4.0      -6.0      66085\n",
       "1    IL  Adams  17001       10.0  2021-05-29        5.0      -5.0      66085\n",
       "2    IL  Adams  17001       10.0  2021-05-30        5.0      -5.0      66085\n",
       "3    IL  Adams  17001       11.0  2021-05-31        1.0     -10.0      66085\n",
       "4    IL  Adams  17001       10.0  2021-06-01        4.0      -6.0      66085"
      ]
     },
     "execution_count": 9,
     "metadata": {},
     "output_type": "execute_result"
    }
   ],
   "source": [
    "final_week_predictions  = final_week_predictions.merge(merged, on=[\"fips\"])\n",
    "final_week_predictions.head()"
   ]
  },
  {
   "cell_type": "code",
   "execution_count": 10,
   "metadata": {},
   "outputs": [],
   "source": [
    "final_week_predictions.to_csv(\"../model_outputs/Final Week Predictions.csv\")"
   ]
  },
  {
   "cell_type": "markdown",
   "metadata": {},
   "source": [
    "## Best model predictions for peak week"
   ]
  },
  {
   "cell_type": "code",
   "execution_count": 19,
   "metadata": {},
   "outputs": [],
   "source": [
    "best_model = RandomForestRegressor(criterion = \"mse\", max_features=\"log2\", \n",
    "                                   max_depth=None, min_samples_split=2, n_jobs=-1)\\\n",
    "                       .fit(X_train, np.array(y_train).ravel())"
   ]
  },
  {
   "cell_type": "code",
   "execution_count": 28,
   "metadata": {},
   "outputs": [],
   "source": [
    "################################################################\n",
    "# have to grab original X_train data to normalize consistently #\n",
    "################################################################\n",
    "\n",
    "from sklearn.model_selection import train_test_split\n",
    "\n",
    "df = pd.read_csv(\"../Data/merged.csv\", parse_dates=[\"date\"], dtype={'fips': str})\n",
    "\n",
    "# filter down to dates with hospital\n",
    "date_mask = (df[\"date\"]>='7-31-2020')\n",
    "df = df[date_mask]\n",
    "\n",
    "# drop grocery_pharm, parks, transit because they have too much missingness\n",
    "df.drop(columns=[\"grocery_pharm\", \"parks\", \"transit\", \"residential\"], inplace = True)\n",
    "\n",
    "# fill na's with mean for that state that date for retail_rec, workplace [TO DO: IS THIS REASONABLE?]\n",
    "for var in [\"retail_rec\", \"workplace\"]:\n",
    "    df[var] = df[[\"state\", \"date\", var]].groupby([\"state\", \"date\"]).transform(lambda x: x.fillna(x.mean()))\n",
    "\n",
    "# fill missing masks with 0 because the missings are from MO, who doesn't have a mask mandate\n",
    "df[\"mask_mandate\"] = df[\"mask_mandate\"].fillna(0)\n",
    "\n",
    "# drop na's (should just be the last week for each fips)\n",
    "df = df.dropna()\n",
    "\n",
    "# split df into features and labels\n",
    "temp_X = df.drop(columns=[\"cases_next_week\"])\n",
    "temp_y = df[\"cases_next_week\"]\n",
    "\n",
    "# split df into train and test\n",
    "temp_X_train, temp_X_test, temp_y_train, temp_y_test = train_test_split(temp_X, temp_y, random_state=0, test_size=0.2)"
   ]
  },
  {
   "cell_type": "code",
   "execution_count": 29,
   "metadata": {},
   "outputs": [],
   "source": [
    "# grab final week of data that doesn't have y's\n",
    "all_weeks = pd.read_csv(\"../Data/merged.csv\", parse_dates=[\"date\"], dtype={\"fips\":str})\n",
    "all_weeks[\"retail_rec\"] = all_weeks[[\"state\", \"retail_rec\"]]\\\n",
    "                            .groupby([\"state\"]).transform(lambda x: x.fillna(x.mean()))"
   ]
  },
  {
   "cell_type": "code",
   "execution_count": 30,
   "metadata": {},
   "outputs": [],
   "source": [
    "# normalize final_week\n",
    "numerical_features = temp_X_train.columns.tolist()[4:]\n",
    "numerical_features.remove('mask_mandate')\n",
    "\n",
    "temp_X_train, all_weeks = pline.normalize(temp_X_train, all_weeks, numerical_features)"
   ]
  },
  {
   "cell_type": "code",
   "execution_count": 35,
   "metadata": {},
   "outputs": [
    {
     "name": "stderr",
     "output_type": "stream",
     "text": [
      "/anaconda3/lib/python3.7/site-packages/ipykernel_launcher.py:6: SettingWithCopyWarning: \n",
      "A value is trying to be set on a copy of a slice from a DataFrame.\n",
      "Try using .loc[row_indexer,col_indexer] = value instead\n",
      "\n",
      "See the caveats in the documentation: https://pandas.pydata.org/pandas-docs/stable/user_guide/indexing.html#returning-a-view-versus-a-copy\n",
      "  \n"
     ]
    }
   ],
   "source": [
    "# make predictions using best model\n",
    "date_mask = (all_weeks[\"date\"]>='7-31-2020')\n",
    "all_weeks = all_weeks[date_mask]\n",
    "\n",
    "all_weeks_predictions = all_weeks[[\"state\", \"county\", \"date\", \"fips\"]]\n",
    "all_weeks_predictions[\"predicted\"] = best_model.predict(all_weeks[X_train.columns.to_list()])"
   ]
  },
  {
   "cell_type": "code",
   "execution_count": 36,
   "metadata": {},
   "outputs": [
    {
     "name": "stderr",
     "output_type": "stream",
     "text": [
      "/anaconda3/lib/python3.7/site-packages/ipykernel_launcher.py:3: SettingWithCopyWarning: \n",
      "A value is trying to be set on a copy of a slice from a DataFrame.\n",
      "Try using .loc[row_indexer,col_indexer] = value instead\n",
      "\n",
      "See the caveats in the documentation: https://pandas.pydata.org/pandas-docs/stable/user_guide/indexing.html#returning-a-view-versus-a-copy\n",
      "  This is separate from the ipykernel package so we can avoid doing imports until\n"
     ]
    }
   ],
   "source": [
    "# match with date\n",
    "from datetime import timedelta\n",
    "all_weeks_predictions[\"7 days from now\"] = all_weeks_predictions[\"date\"] + + timedelta(days=7)\n",
    "\n",
    "all_weeks_predictions = all_weeks_predictions.drop(columns=[\"date\"])\n",
    "all_weeks_predictions.rename(columns={\"7 days from now\": \"date\"}, inplace=True)"
   ]
  },
  {
   "cell_type": "code",
   "execution_count": 58,
   "metadata": {},
   "outputs": [],
   "source": [
    "merged = pd.read_csv(\"../Data/merged.csv\", parse_dates=[\"date\"], dtype={\"fips\":str})\n",
    "all_weeks_predictions = all_weeks_predictions.merge(merged[[\"fips\", \"date\", \"new_cases_7avg\", \"total_pop\"]], \n",
    "                                                    on=[\"fips\", \"date\"], how=\"left\")"
   ]
  },
  {
   "cell_type": "code",
   "execution_count": 59,
   "metadata": {},
   "outputs": [],
   "source": [
    "peak_mask = (all_weeks_predictions[\"date\"]>='1-3-2021') & (all_weeks_predictions[\"date\"]<='1-9-2021')\n",
    "peak_week = all_weeks_predictions[peak_mask]"
   ]
  },
  {
   "cell_type": "code",
   "execution_count": 60,
   "metadata": {},
   "outputs": [
    {
     "data": {
      "text/html": [
       "<div>\n",
       "<style scoped>\n",
       "    .dataframe tbody tr th:only-of-type {\n",
       "        vertical-align: middle;\n",
       "    }\n",
       "\n",
       "    .dataframe tbody tr th {\n",
       "        vertical-align: top;\n",
       "    }\n",
       "\n",
       "    .dataframe thead th {\n",
       "        text-align: right;\n",
       "    }\n",
       "</style>\n",
       "<table border=\"1\" class=\"dataframe\">\n",
       "  <thead>\n",
       "    <tr style=\"text-align: right;\">\n",
       "      <th></th>\n",
       "      <th>state</th>\n",
       "      <th>county</th>\n",
       "      <th>fips</th>\n",
       "      <th>predicted</th>\n",
       "      <th>date</th>\n",
       "      <th>new_cases_7avg_x</th>\n",
       "      <th>new_cases_7avg_y</th>\n",
       "      <th>total_pop</th>\n",
       "    </tr>\n",
       "  </thead>\n",
       "  <tbody>\n",
       "    <tr>\n",
       "      <th>149</th>\n",
       "      <td>IL</td>\n",
       "      <td>Adams</td>\n",
       "      <td>17001</td>\n",
       "      <td>108.07</td>\n",
       "      <td>2021-01-03</td>\n",
       "      <td>118.0</td>\n",
       "      <td>118.0</td>\n",
       "      <td>66085.0</td>\n",
       "    </tr>\n",
       "    <tr>\n",
       "      <th>150</th>\n",
       "      <td>IL</td>\n",
       "      <td>Adams</td>\n",
       "      <td>17001</td>\n",
       "      <td>112.04</td>\n",
       "      <td>2021-01-04</td>\n",
       "      <td>137.0</td>\n",
       "      <td>137.0</td>\n",
       "      <td>66085.0</td>\n",
       "    </tr>\n",
       "    <tr>\n",
       "      <th>151</th>\n",
       "      <td>IL</td>\n",
       "      <td>Adams</td>\n",
       "      <td>17001</td>\n",
       "      <td>83.54</td>\n",
       "      <td>2021-01-05</td>\n",
       "      <td>120.0</td>\n",
       "      <td>120.0</td>\n",
       "      <td>66085.0</td>\n",
       "    </tr>\n",
       "    <tr>\n",
       "      <th>152</th>\n",
       "      <td>IL</td>\n",
       "      <td>Adams</td>\n",
       "      <td>17001</td>\n",
       "      <td>75.08</td>\n",
       "      <td>2021-01-06</td>\n",
       "      <td>104.0</td>\n",
       "      <td>104.0</td>\n",
       "      <td>66085.0</td>\n",
       "    </tr>\n",
       "    <tr>\n",
       "      <th>153</th>\n",
       "      <td>IL</td>\n",
       "      <td>Adams</td>\n",
       "      <td>17001</td>\n",
       "      <td>81.78</td>\n",
       "      <td>2021-01-07</td>\n",
       "      <td>87.0</td>\n",
       "      <td>87.0</td>\n",
       "      <td>66085.0</td>\n",
       "    </tr>\n",
       "  </tbody>\n",
       "</table>\n",
       "</div>"
      ],
      "text/plain": [
       "    state county   fips  predicted       date  new_cases_7avg_x  \\\n",
       "149    IL  Adams  17001     108.07 2021-01-03             118.0   \n",
       "150    IL  Adams  17001     112.04 2021-01-04             137.0   \n",
       "151    IL  Adams  17001      83.54 2021-01-05             120.0   \n",
       "152    IL  Adams  17001      75.08 2021-01-06             104.0   \n",
       "153    IL  Adams  17001      81.78 2021-01-07              87.0   \n",
       "\n",
       "     new_cases_7avg_y  total_pop  \n",
       "149             118.0    66085.0  \n",
       "150             137.0    66085.0  \n",
       "151             120.0    66085.0  \n",
       "152             104.0    66085.0  \n",
       "153              87.0    66085.0  "
      ]
     },
     "execution_count": 60,
     "metadata": {},
     "output_type": "execute_result"
    }
   ],
   "source": [
    "peak_week.head()"
   ]
  },
  {
   "cell_type": "code",
   "execution_count": null,
   "metadata": {},
   "outputs": [],
   "source": [
    "peak_week.to_csv(\"../model_outputs/peak_week_predictions.csv\")"
   ]
  }
 ],
 "metadata": {
  "kernelspec": {
   "display_name": "Python 3",
   "language": "python",
   "name": "python3"
  },
  "language_info": {
   "codemirror_mode": {
    "name": "ipython",
    "version": 3
   },
   "file_extension": ".py",
   "mimetype": "text/x-python",
   "name": "python",
   "nbconvert_exporter": "python",
   "pygments_lexer": "ipython3",
   "version": "3.7.1"
  }
 },
 "nbformat": 4,
 "nbformat_minor": 2
}
